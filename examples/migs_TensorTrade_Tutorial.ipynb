{
  "nbformat": 4,
  "nbformat_minor": 0,
  "metadata": {
    "file_extension": ".py",
    "kernelspec": {
      "name": "python3",
      "display_name": "Python 3"
    },
    "language_info": {
      "codemirror_mode": {
        "name": "ipython",
        "version": 3
      },
      "file_extension": ".py",
      "mimetype": "text/x-python",
      "name": "python",
      "nbconvert_exporter": "python",
      "pygments_lexer": "ipython3",
      "version": "3.7.4"
    },
    "mimetype": "text/x-python",
    "name": "python",
    "npconvert_exporter": "python",
    "pygments_lexer": "ipython3",
    "version": 3,
    "colab": {
      "name": "TensorTrade_Tutorial.ipynb",
      "provenance": [],
      "include_colab_link": true
    },
    "accelerator": "GPU"
  },
  "cells": [
    {
      "cell_type": "markdown",
      "metadata": {
        "id": "view-in-github",
        "colab_type": "text"
      },
      "source": [
        "<a href=\"https://colab.research.google.com/github/carlomigs/tensortrade/blob/master/examples/migs_TensorTrade_Tutorial.ipynb\" target=\"_parent\"><img src=\"https://colab.research.google.com/assets/colab-badge.svg\" alt=\"Open In Colab\"/></a>"
      ]
    },
    {
      "cell_type": "code",
      "metadata": {
        "id": "4WcDibe-wsDJ",
        "colab_type": "code",
        "colab": {}
      },
      "source": [
        "import os\n",
        "import sys\n",
        "import warnings\n",
        "import numpy\n",
        "\n",
        "def warn(*args, **kwargs):\n",
        "    pass\n",
        "\n",
        "warnings.warn = warn\n",
        "warnings.simplefilter(action='ignore', category=FutureWarning)\n",
        "numpy.seterr(divide = 'ignore') \n",
        "\n",
        "sys.path.append(os.path.dirname(os.path.abspath('')))"
      ],
      "execution_count": 0,
      "outputs": []
    },
    {
      "cell_type": "code",
      "metadata": {
        "id": "GwVy-9eS6uwu",
        "colab_type": "code",
        "outputId": "ece2e025-7038-494a-ce06-c37b1cffd7fa",
        "colab": {
          "base_uri": "https://localhost:8080/",
          "height": 153
        }
      },
      "source": [
        "# copy in datasets from btgym\n",
        "!git clone https://github.com/Kismuz/btgym.git"
      ],
      "execution_count": 2,
      "outputs": [
        {
          "output_type": "stream",
          "text": [
            "Cloning into 'btgym'...\n",
            "remote: Enumerating objects: 24, done.\u001b[K\n",
            "remote: Counting objects: 100% (24/24), done.\u001b[K\n",
            "remote: Compressing objects: 100% (22/22), done.\u001b[K\n",
            "remote: Total 7001 (delta 4), reused 8 (delta 2), pack-reused 6977\u001b[K\n",
            "Receiving objects: 100% (7001/7001), 126.71 MiB | 11.78 MiB/s, done.\n",
            "Resolving deltas: 100% (5172/5172), done.\n",
            "Checking out files: 100% (348/348), done.\n"
          ],
          "name": "stdout"
        }
      ]
    },
    {
      "cell_type": "code",
      "metadata": {
        "id": "HQ7haJoZoro4",
        "colab_type": "code",
        "outputId": "5753aefd-de2b-44a5-e103-11e8279a865b",
        "colab": {
          "base_uri": "https://localhost:8080/",
          "height": 119
        }
      },
      "source": [
        "!git clone https://github.com/notadamking/tensortrade.git"
      ],
      "execution_count": 3,
      "outputs": [
        {
          "output_type": "stream",
          "text": [
            "Cloning into 'tensortrade'...\n",
            "remote: Enumerating objects: 1, done.\u001b[K\n",
            "remote: Counting objects: 100% (1/1), done.\u001b[K\n",
            "remote: Total 3385 (delta 0), reused 0 (delta 0), pack-reused 3384\u001b[K\n",
            "Receiving objects: 100% (3385/3385), 31.68 MiB | 8.12 MiB/s, done.\n",
            "Resolving deltas: 100% (2028/2028), done.\n"
          ],
          "name": "stdout"
        }
      ]
    },
    {
      "cell_type": "code",
      "metadata": {
        "id": "b9Dc8wqxoyeY",
        "colab_type": "code",
        "outputId": "4157652a-2cc2-42ea-e9d7-7b43a1e26009",
        "colab": {
          "base_uri": "https://localhost:8080/",
          "height": 887
        }
      },
      "source": [
        "!pip install -e /content/tensortrade"
      ],
      "execution_count": 4,
      "outputs": [
        {
          "output_type": "stream",
          "text": [
            "Obtaining file:///content/tensortrade\n",
            "Collecting numpy==1.16.4\n",
            "\u001b[?25l  Downloading https://files.pythonhosted.org/packages/87/2d/e4656149cbadd3a8a0369fcd1a9c7d61cc7b87b3903b85389c70c989a696/numpy-1.16.4-cp36-cp36m-manylinux1_x86_64.whl (17.3MB)\n",
            "\u001b[K     |████████████████████████████████| 17.3MB 469kB/s \n",
            "\u001b[?25hCollecting pandas==0.25.0\n",
            "\u001b[?25l  Downloading https://files.pythonhosted.org/packages/1d/9a/7eb9952f4b4d73fbd75ad1d5d6112f407e695957444cb695cbb3cdab918a/pandas-0.25.0-cp36-cp36m-manylinux1_x86_64.whl (10.5MB)\n",
            "\u001b[K     |████████████████████████████████| 10.5MB 27.1MB/s \n",
            "\u001b[?25hCollecting gym==0.14.0\n",
            "\u001b[?25l  Downloading https://files.pythonhosted.org/packages/61/75/9e841bc2bc75128e0b65c3d5255d0bd16becb9d8f7120b965d41b8e70041/gym-0.14.0.tar.gz (1.6MB)\n",
            "\u001b[K     |████████████████████████████████| 1.6MB 28.1MB/s \n",
            "\u001b[?25hCollecting pyyaml==5.1.2\n",
            "\u001b[?25l  Downloading https://files.pythonhosted.org/packages/e3/e8/b3212641ee2718d556df0f23f78de8303f068fe29cdaa7a91018849582fe/PyYAML-5.1.2.tar.gz (265kB)\n",
            "\u001b[K     |████████████████████████████████| 266kB 42.1MB/s \n",
            "\u001b[?25hRequirement already satisfied: pytz>=2017.2 in /usr/local/lib/python3.6/dist-packages (from pandas==0.25.0->tensortrade==0.0.2rc0) (2018.9)\n",
            "Requirement already satisfied: python-dateutil>=2.6.1 in /usr/local/lib/python3.6/dist-packages (from pandas==0.25.0->tensortrade==0.0.2rc0) (2.6.1)\n",
            "Requirement already satisfied: scipy in /usr/local/lib/python3.6/dist-packages (from gym==0.14.0->tensortrade==0.0.2rc0) (1.3.1)\n",
            "Requirement already satisfied: six in /usr/local/lib/python3.6/dist-packages (from gym==0.14.0->tensortrade==0.0.2rc0) (1.12.0)\n",
            "Requirement already satisfied: pyglet<=1.3.2,>=1.2.0 in /usr/local/lib/python3.6/dist-packages (from gym==0.14.0->tensortrade==0.0.2rc0) (1.3.2)\n",
            "Requirement already satisfied: cloudpickle~=1.2.0 in /usr/local/lib/python3.6/dist-packages (from gym==0.14.0->tensortrade==0.0.2rc0) (1.2.2)\n",
            "Requirement already satisfied: future in /usr/local/lib/python3.6/dist-packages (from pyglet<=1.3.2,>=1.2.0->gym==0.14.0->tensortrade==0.0.2rc0) (0.16.0)\n",
            "Building wheels for collected packages: gym, pyyaml\n",
            "  Building wheel for gym (setup.py) ... \u001b[?25l\u001b[?25hdone\n",
            "  Created wheel for gym: filename=gym-0.14.0-cp36-none-any.whl size=1637526 sha256=d35d93141cd1321bdcdc1167bd637e4ec8bfdd5e8c9772458cbeb06400a213af\n",
            "  Stored in directory: /root/.cache/pip/wheels/7e/53/f6/c0cd3c9bf953f35c0aee7fa62ea209371e92f5e5cced3245ba\n",
            "  Building wheel for pyyaml (setup.py) ... \u001b[?25l\u001b[?25hdone\n",
            "  Created wheel for pyyaml: filename=PyYAML-5.1.2-cp36-cp36m-linux_x86_64.whl size=44104 sha256=38c6fb93858e2e1cc660bbf447a141fbe04db76fa3255feb52aeb9861f00a71e\n",
            "  Stored in directory: /root/.cache/pip/wheels/d9/45/dd/65f0b38450c47cf7e5312883deb97d065e030c5cca0a365030\n",
            "Successfully built gym pyyaml\n",
            "\u001b[31mERROR: datascience 0.10.6 has requirement folium==0.2.1, but you'll have folium 0.8.3 which is incompatible.\u001b[0m\n",
            "\u001b[31mERROR: albumentations 0.1.12 has requirement imgaug<0.2.7,>=0.2.5, but you'll have imgaug 0.2.9 which is incompatible.\u001b[0m\n",
            "Installing collected packages: numpy, pandas, gym, pyyaml, tensortrade\n",
            "  Found existing installation: numpy 1.17.3\n",
            "    Uninstalling numpy-1.17.3:\n",
            "      Successfully uninstalled numpy-1.17.3\n",
            "  Found existing installation: pandas 0.25.3\n",
            "    Uninstalling pandas-0.25.3:\n",
            "      Successfully uninstalled pandas-0.25.3\n",
            "  Found existing installation: gym 0.15.3\n",
            "    Uninstalling gym-0.15.3:\n",
            "      Successfully uninstalled gym-0.15.3\n",
            "  Found existing installation: PyYAML 3.13\n",
            "    Uninstalling PyYAML-3.13:\n",
            "      Successfully uninstalled PyYAML-3.13\n",
            "  Running setup.py develop for tensortrade\n",
            "Successfully installed gym-0.14.0 numpy-1.16.4 pandas-0.25.0 pyyaml-5.1.2 tensortrade\n"
          ],
          "name": "stdout"
        },
        {
          "output_type": "display_data",
          "data": {
            "application/vnd.colab-display-data+json": {
              "pip_warning": {
                "packages": [
                  "numpy",
                  "pandas"
                ]
              }
            }
          },
          "metadata": {
            "tags": []
          }
        }
      ]
    },
    {
      "cell_type": "code",
      "metadata": {
        "id": "hq9o8S21o4fB",
        "colab_type": "code",
        "outputId": "9cb35efa-d41d-4b6d-e546-c770769046de",
        "colab": {
          "base_uri": "https://localhost:8080/",
          "height": 34
        }
      },
      "source": [
        "import os\n",
        "os.getcwd()\n",
        "#%cd /content/tensortrade\n",
        "%ls"
      ],
      "execution_count": 1,
      "outputs": [
        {
          "output_type": "stream",
          "text": [
            "\u001b[0m\u001b[01;34mbtgym\u001b[0m/  \u001b[01;34msample_data\u001b[0m/  \u001b[01;34mtensortrade\u001b[0m/\n"
          ],
          "name": "stdout"
        }
      ]
    },
    {
      "cell_type": "code",
      "metadata": {
        "id": "Db9feScexsgr",
        "colab_type": "code",
        "outputId": "4548d44b-688c-43e2-db85-aab789a21917",
        "colab": {
          "base_uri": "https://localhost:8080/",
          "height": 1000
        }
      },
      "source": [
        "!pip install -e tensortrade[tf,tensorforce,baselines,ccxt,fbm] -U"
      ],
      "execution_count": 2,
      "outputs": [
        {
          "output_type": "stream",
          "text": [
            "Obtaining file:///content/tensortrade\n",
            "Requirement already satisfied, skipping upgrade: numpy==1.16.4 in /usr/local/lib/python3.6/dist-packages (from tensortrade==0.0.2rc0) (1.16.4)\n",
            "Requirement already satisfied, skipping upgrade: pandas==0.25.0 in /usr/local/lib/python3.6/dist-packages (from tensortrade==0.0.2rc0) (0.25.0)\n",
            "Requirement already satisfied, skipping upgrade: gym==0.14.0 in /usr/local/lib/python3.6/dist-packages (from tensortrade==0.0.2rc0) (0.14.0)\n",
            "Requirement already satisfied, skipping upgrade: pyyaml==5.1.2 in /usr/local/lib/python3.6/dist-packages (from tensortrade==0.0.2rc0) (5.1.2)\n",
            "Collecting stable-baselines==2.8.0\n",
            "\u001b[?25l  Downloading https://files.pythonhosted.org/packages/da/75/6f92ac720de62be8c16ec652d22c9296a90d857cd636d043de16de8128ab/stable_baselines-2.8.0-py3-none-any.whl (222kB)\n",
            "\u001b[K     |████████████████████████████████| 225kB 2.6MB/s \n",
            "\u001b[?25hRequirement already satisfied, skipping upgrade: mpi4py in /usr/local/lib/python3.6/dist-packages (from tensortrade==0.0.2rc0) (3.0.2)\n",
            "Collecting ccxt==1.18.1220\n",
            "\u001b[?25l  Downloading https://files.pythonhosted.org/packages/a6/9e/788c7a99d83fc037224b3d6decf08840d516359f7019b34bf54b475829a1/ccxt-1.18.1220-py2.py3-none-any.whl (1.4MB)\n",
            "\u001b[K     |████████████████████████████████| 1.4MB 39.2MB/s \n",
            "\u001b[?25hCollecting stochastic==0.4.0\n",
            "\u001b[?25l  Downloading https://files.pythonhosted.org/packages/62/fb/1bdf5bef80bb31369306290c308371a64aebf825029520602570135ea7f1/stochastic-0.4.0-py2.py3-none-any.whl (43kB)\n",
            "\u001b[K     |████████████████████████████████| 51kB 7.3MB/s \n",
            "\u001b[?25hCollecting tensorforce==0.5.2\n",
            "\u001b[?25l  Downloading https://files.pythonhosted.org/packages/d7/7b/cebafd140baec0f452543d01494beaae152d90d988545188798a031bde41/Tensorforce-0.5.2-py3-none-any.whl (308kB)\n",
            "\u001b[K     |████████████████████████████████| 317kB 50.6MB/s \n",
            "\u001b[?25hCollecting tensorflow==1.13.1\n",
            "\u001b[?25l  Downloading https://files.pythonhosted.org/packages/77/63/a9fa76de8dffe7455304c4ed635be4aa9c0bacef6e0633d87d5f54530c5c/tensorflow-1.13.1-cp36-cp36m-manylinux1_x86_64.whl (92.5MB)\n",
            "\u001b[K     |████████████████████████████████| 92.5MB 101kB/s \n",
            "\u001b[?25hRequirement already satisfied, skipping upgrade: python-dateutil>=2.6.1 in /usr/local/lib/python3.6/dist-packages (from pandas==0.25.0->tensortrade==0.0.2rc0) (2.6.1)\n",
            "Requirement already satisfied, skipping upgrade: pytz>=2017.2 in /usr/local/lib/python3.6/dist-packages (from pandas==0.25.0->tensortrade==0.0.2rc0) (2018.9)\n",
            "Requirement already satisfied, skipping upgrade: scipy in /usr/local/lib/python3.6/dist-packages (from gym==0.14.0->tensortrade==0.0.2rc0) (1.3.1)\n",
            "Requirement already satisfied, skipping upgrade: cloudpickle~=1.2.0 in /usr/local/lib/python3.6/dist-packages (from gym==0.14.0->tensortrade==0.0.2rc0) (1.2.2)\n",
            "Requirement already satisfied, skipping upgrade: pyglet<=1.3.2,>=1.2.0 in /usr/local/lib/python3.6/dist-packages (from gym==0.14.0->tensortrade==0.0.2rc0) (1.3.2)\n",
            "Requirement already satisfied, skipping upgrade: six in /usr/local/lib/python3.6/dist-packages (from gym==0.14.0->tensortrade==0.0.2rc0) (1.12.0)\n",
            "Requirement already satisfied, skipping upgrade: opencv-python in /usr/local/lib/python3.6/dist-packages (from stable-baselines==2.8.0->tensortrade==0.0.2rc0) (3.4.7.28)\n",
            "Requirement already satisfied, skipping upgrade: matplotlib in /usr/local/lib/python3.6/dist-packages (from stable-baselines==2.8.0->tensortrade==0.0.2rc0) (3.1.1)\n",
            "Requirement already satisfied, skipping upgrade: joblib in /usr/local/lib/python3.6/dist-packages (from stable-baselines==2.8.0->tensortrade==0.0.2rc0) (0.14.0)\n",
            "Collecting cryptography>=2.6.1\n",
            "\u001b[?25l  Downloading https://files.pythonhosted.org/packages/ca/9a/7cece52c46546e214e10811b36b2da52ce1ea7fa203203a629b8dfadad53/cryptography-2.8-cp34-abi3-manylinux2010_x86_64.whl (2.3MB)\n",
            "\u001b[K     |████████████████████████████████| 2.3MB 43.4MB/s \n",
            "\u001b[?25hRequirement already satisfied, skipping upgrade: setuptools>=38.5.1 in /usr/local/lib/python3.6/dist-packages (from ccxt==1.18.1220->tensortrade==0.0.2rc0) (41.4.0)\n",
            "Requirement already satisfied, skipping upgrade: certifi>=2018.1.18 in /usr/local/lib/python3.6/dist-packages (from ccxt==1.18.1220->tensortrade==0.0.2rc0) (2019.9.11)\n",
            "Requirement already satisfied, skipping upgrade: requests>=2.18.4 in /usr/local/lib/python3.6/dist-packages (from ccxt==1.18.1220->tensortrade==0.0.2rc0) (2.21.0)\n",
            "Collecting yarl==1.1.0; python_version >= \"3.5.2\"\n",
            "\u001b[?25l  Downloading https://files.pythonhosted.org/packages/9a/fe/1fc0d9e277f1ff0d29ac44742f769c55f12cc7e66a89ab340f5321937179/yarl-1.1.0-cp36-cp36m-manylinux1_x86_64.whl (255kB)\n",
            "\u001b[K     |████████████████████████████████| 256kB 52.9MB/s \n",
            "\u001b[?25hCollecting aiodns==1.1.1; python_version >= \"3.5.2\"\n",
            "  Downloading https://files.pythonhosted.org/packages/bd/f5/b69cb930fd5ab0569396659afe3f3c0d37d4098e5d0ba6afdf6fd9388cb0/aiodns-1.1.1-py2.py3-none-any.whl\n",
            "Collecting aiohttp>=3.0.1; python_version >= \"3.5.2\"\n",
            "\u001b[?25l  Downloading https://files.pythonhosted.org/packages/7c/39/7eb5f98d24904e0f6d3edb505d4aa60e3ef83c0a58d6fe18244a51757247/aiohttp-3.6.2-cp36-cp36m-manylinux1_x86_64.whl (1.2MB)\n",
            "\u001b[K     |████████████████████████████████| 1.2MB 41.9MB/s \n",
            "\u001b[?25hRequirement already satisfied, skipping upgrade: pytest in /usr/local/lib/python3.6/dist-packages (from tensorforce==0.5.2->tensortrade==0.0.2rc0) (3.6.4)\n",
            "Requirement already satisfied, skipping upgrade: tqdm in /usr/local/lib/python3.6/dist-packages (from tensorforce==0.5.2->tensortrade==0.0.2rc0) (4.28.1)\n",
            "Requirement already satisfied, skipping upgrade: gast>=0.2.0 in /usr/local/lib/python3.6/dist-packages (from tensorflow==1.13.1->tensortrade==0.0.2rc0) (0.2.2)\n",
            "Requirement already satisfied, skipping upgrade: wheel>=0.26 in /usr/local/lib/python3.6/dist-packages (from tensorflow==1.13.1->tensortrade==0.0.2rc0) (0.33.6)\n",
            "Requirement already satisfied, skipping upgrade: grpcio>=1.8.6 in /usr/local/lib/python3.6/dist-packages (from tensorflow==1.13.1->tensortrade==0.0.2rc0) (1.15.0)\n",
            "Collecting tensorflow-estimator<1.14.0rc0,>=1.13.0\n",
            "\u001b[?25l  Downloading https://files.pythonhosted.org/packages/bb/48/13f49fc3fa0fdf916aa1419013bb8f2ad09674c275b4046d5ee669a46873/tensorflow_estimator-1.13.0-py2.py3-none-any.whl (367kB)\n",
            "\u001b[K     |████████████████████████████████| 368kB 49.2MB/s \n",
            "\u001b[?25hCollecting tensorboard<1.14.0,>=1.13.0\n",
            "\u001b[?25l  Downloading https://files.pythonhosted.org/packages/0f/39/bdd75b08a6fba41f098b6cb091b9e8c7a80e1b4d679a581a0ccd17b10373/tensorboard-1.13.1-py3-none-any.whl (3.2MB)\n",
            "\u001b[K     |████████████████████████████████| 3.2MB 37.6MB/s \n",
            "\u001b[?25hRequirement already satisfied, skipping upgrade: absl-py>=0.1.6 in /usr/local/lib/python3.6/dist-packages (from tensorflow==1.13.1->tensortrade==0.0.2rc0) (0.8.1)\n",
            "Requirement already satisfied, skipping upgrade: keras-applications>=1.0.6 in /usr/local/lib/python3.6/dist-packages (from tensorflow==1.13.1->tensortrade==0.0.2rc0) (1.0.8)\n",
            "Requirement already satisfied, skipping upgrade: astor>=0.6.0 in /usr/local/lib/python3.6/dist-packages (from tensorflow==1.13.1->tensortrade==0.0.2rc0) (0.8.0)\n",
            "Requirement already satisfied, skipping upgrade: keras-preprocessing>=1.0.5 in /usr/local/lib/python3.6/dist-packages (from tensorflow==1.13.1->tensortrade==0.0.2rc0) (1.1.0)\n",
            "Requirement already satisfied, skipping upgrade: protobuf>=3.6.1 in /usr/local/lib/python3.6/dist-packages (from tensorflow==1.13.1->tensortrade==0.0.2rc0) (3.10.0)\n",
            "Requirement already satisfied, skipping upgrade: termcolor>=1.1.0 in /usr/local/lib/python3.6/dist-packages (from tensorflow==1.13.1->tensortrade==0.0.2rc0) (1.1.0)\n",
            "Requirement already satisfied, skipping upgrade: future in /usr/local/lib/python3.6/dist-packages (from pyglet<=1.3.2,>=1.2.0->gym==0.14.0->tensortrade==0.0.2rc0) (0.16.0)\n",
            "Requirement already satisfied, skipping upgrade: pyparsing!=2.0.4,!=2.1.2,!=2.1.6,>=2.0.1 in /usr/local/lib/python3.6/dist-packages (from matplotlib->stable-baselines==2.8.0->tensortrade==0.0.2rc0) (2.4.2)\n",
            "Requirement already satisfied, skipping upgrade: cycler>=0.10 in /usr/local/lib/python3.6/dist-packages (from matplotlib->stable-baselines==2.8.0->tensortrade==0.0.2rc0) (0.10.0)\n",
            "Requirement already satisfied, skipping upgrade: kiwisolver>=1.0.1 in /usr/local/lib/python3.6/dist-packages (from matplotlib->stable-baselines==2.8.0->tensortrade==0.0.2rc0) (1.1.0)\n",
            "Requirement already satisfied, skipping upgrade: cffi!=1.11.3,>=1.8 in /usr/local/lib/python3.6/dist-packages (from cryptography>=2.6.1->ccxt==1.18.1220->tensortrade==0.0.2rc0) (1.13.1)\n",
            "Requirement already satisfied, skipping upgrade: idna<2.9,>=2.5 in /usr/local/lib/python3.6/dist-packages (from requests>=2.18.4->ccxt==1.18.1220->tensortrade==0.0.2rc0) (2.8)\n",
            "Requirement already satisfied, skipping upgrade: urllib3<1.25,>=1.21.1 in /usr/local/lib/python3.6/dist-packages (from requests>=2.18.4->ccxt==1.18.1220->tensortrade==0.0.2rc0) (1.24.3)\n",
            "Requirement already satisfied, skipping upgrade: chardet<3.1.0,>=3.0.2 in /usr/local/lib/python3.6/dist-packages (from requests>=2.18.4->ccxt==1.18.1220->tensortrade==0.0.2rc0) (3.0.4)\n",
            "Collecting multidict>=4.0\n",
            "\u001b[?25l  Downloading https://files.pythonhosted.org/packages/71/cc/ceb5b8c76e7a23212b9e0353053cc35a9d86c763d852a76d9b941fe81fbc/multidict-4.5.2-cp36-cp36m-manylinux1_x86_64.whl (309kB)\n",
            "\u001b[K     |████████████████████████████████| 317kB 44.4MB/s \n",
            "\u001b[?25hCollecting pycares>=1.0.0\n",
            "\u001b[?25l  Downloading https://files.pythonhosted.org/packages/88/58/0cdc4e9aeaa19d91cf33cdc7590d5a08b2c78de73fde893580b4fa63b57b/pycares-3.0.0-cp36-cp36m-manylinux1_x86_64.whl (204kB)\n",
            "\u001b[K     |████████████████████████████████| 204kB 43.1MB/s \n",
            "\u001b[?25hCollecting idna-ssl>=1.0; python_version < \"3.7\"\n",
            "  Downloading https://files.pythonhosted.org/packages/46/03/07c4894aae38b0de52b52586b24bf189bb83e4ddabfe2e2c8f2419eec6f4/idna-ssl-1.1.0.tar.gz\n",
            "Requirement already satisfied, skipping upgrade: typing-extensions>=3.6.5; python_version < \"3.7\" in /usr/local/lib/python3.6/dist-packages (from aiohttp>=3.0.1; python_version >= \"3.5.2\"->ccxt==1.18.1220->tensortrade==0.0.2rc0) (3.6.6)\n",
            "Requirement already satisfied, skipping upgrade: attrs>=17.3.0 in /usr/local/lib/python3.6/dist-packages (from aiohttp>=3.0.1; python_version >= \"3.5.2\"->ccxt==1.18.1220->tensortrade==0.0.2rc0) (19.3.0)\n",
            "Collecting async-timeout<4.0,>=3.0\n",
            "  Downloading https://files.pythonhosted.org/packages/e1/1e/5a4441be21b0726c4464f3f23c8b19628372f606755a9d2e46c187e65ec4/async_timeout-3.0.1-py3-none-any.whl\n",
            "Requirement already satisfied, skipping upgrade: more-itertools>=4.0.0 in /usr/local/lib/python3.6/dist-packages (from pytest->tensorforce==0.5.2->tensortrade==0.0.2rc0) (7.2.0)\n",
            "Requirement already satisfied, skipping upgrade: atomicwrites>=1.0 in /usr/local/lib/python3.6/dist-packages (from pytest->tensorforce==0.5.2->tensortrade==0.0.2rc0) (1.3.0)\n",
            "Requirement already satisfied, skipping upgrade: py>=1.5.0 in /usr/local/lib/python3.6/dist-packages (from pytest->tensorforce==0.5.2->tensortrade==0.0.2rc0) (1.8.0)\n",
            "Requirement already satisfied, skipping upgrade: pluggy<0.8,>=0.5 in /usr/local/lib/python3.6/dist-packages (from pytest->tensorforce==0.5.2->tensortrade==0.0.2rc0) (0.7.1)\n",
            "Collecting mock>=2.0.0\n",
            "  Downloading https://files.pythonhosted.org/packages/05/d2/f94e68be6b17f46d2c353564da56e6fb89ef09faeeff3313a046cb810ca9/mock-3.0.5-py2.py3-none-any.whl\n",
            "Requirement already satisfied, skipping upgrade: markdown>=2.6.8 in /usr/local/lib/python3.6/dist-packages (from tensorboard<1.14.0,>=1.13.0->tensorflow==1.13.1->tensortrade==0.0.2rc0) (3.1.1)\n",
            "Requirement already satisfied, skipping upgrade: werkzeug>=0.11.15 in /usr/local/lib/python3.6/dist-packages (from tensorboard<1.14.0,>=1.13.0->tensorflow==1.13.1->tensortrade==0.0.2rc0) (0.16.0)\n",
            "Requirement already satisfied, skipping upgrade: h5py in /usr/local/lib/python3.6/dist-packages (from keras-applications>=1.0.6->tensorflow==1.13.1->tensortrade==0.0.2rc0) (2.8.0)\n",
            "Requirement already satisfied, skipping upgrade: pycparser in /usr/local/lib/python3.6/dist-packages (from cffi!=1.11.3,>=1.8->cryptography>=2.6.1->ccxt==1.18.1220->tensortrade==0.0.2rc0) (2.19)\n",
            "Building wheels for collected packages: idna-ssl\n",
            "  Building wheel for idna-ssl (setup.py) ... \u001b[?25l\u001b[?25hdone\n",
            "  Created wheel for idna-ssl: filename=idna_ssl-1.1.0-cp36-none-any.whl size=3163 sha256=934545a5cfd145ce9a588d305a04bf01830dca7b6313d953d3a411bc143588e8\n",
            "  Stored in directory: /root/.cache/pip/wheels/d3/00/b3/32d613e19e08a739751dd6bf998cfed277728f8b2127ad4eb7\n",
            "Successfully built idna-ssl\n",
            "Installing collected packages: stable-baselines, cryptography, multidict, yarl, pycares, aiodns, idna-ssl, async-timeout, aiohttp, ccxt, stochastic, tensorforce, mock, tensorflow-estimator, tensorboard, tensorflow, tensortrade\n",
            "  Found existing installation: stable-baselines 2.2.1\n",
            "    Uninstalling stable-baselines-2.2.1:\n",
            "      Successfully uninstalled stable-baselines-2.2.1\n",
            "  Found existing installation: tensorflow-estimator 1.15.1\n",
            "    Uninstalling tensorflow-estimator-1.15.1:\n",
            "      Successfully uninstalled tensorflow-estimator-1.15.1\n",
            "  Found existing installation: tensorboard 1.15.0\n",
            "    Uninstalling tensorboard-1.15.0:\n",
            "      Successfully uninstalled tensorboard-1.15.0\n",
            "  Found existing installation: tensorflow 1.15.0\n",
            "    Uninstalling tensorflow-1.15.0:\n",
            "      Successfully uninstalled tensorflow-1.15.0\n",
            "  Found existing installation: tensortrade 0.0.2rc0\n",
            "    Can't uninstall 'tensortrade'. No files were found to uninstall.\n",
            "  Running setup.py develop for tensortrade\n",
            "Successfully installed aiodns-1.1.1 aiohttp-3.6.2 async-timeout-3.0.1 ccxt-1.18.1220 cryptography-2.8 idna-ssl-1.1.0 mock-3.0.5 multidict-4.5.2 pycares-3.0.0 stable-baselines-2.8.0 stochastic-0.4.0 tensorboard-1.13.1 tensorflow-1.13.1 tensorflow-estimator-1.13.0 tensorforce-0.5.2 tensortrade yarl-1.1.0\n"
          ],
          "name": "stdout"
        }
      ]
    },
    {
      "cell_type": "code",
      "metadata": {
        "id": "NVEHvzpH-uwz",
        "colab_type": "code",
        "outputId": "3b4f103c-43f2-490d-80c6-5bcb3c3b6e03",
        "colab": {
          "base_uri": "https://localhost:8080/",
          "height": 139
        }
      },
      "source": [
        "!pip install talib-binary"
      ],
      "execution_count": 3,
      "outputs": [
        {
          "output_type": "stream",
          "text": [
            "Collecting talib-binary\n",
            "\u001b[?25l  Downloading https://files.pythonhosted.org/packages/82/6a/d8842b73121a35f58ce55da6f6b54ba2afebee16424b9df09a302e66ed51/talib_binary-0.4.19-cp36-cp36m-manylinux1_x86_64.whl (2.4MB)\n",
            "\u001b[K     |████████████████████████████████| 2.4MB 2.8MB/s \n",
            "\u001b[?25hRequirement already satisfied: numpy in /usr/local/lib/python3.6/dist-packages (from talib-binary) (1.16.4)\n",
            "Installing collected packages: talib-binary\n",
            "Successfully installed talib-binary-0.4.19\n"
          ],
          "name": "stdout"
        }
      ]
    },
    {
      "cell_type": "code",
      "metadata": {
        "id": "LrGPU3BxBuoR",
        "colab_type": "code",
        "outputId": "e9da9a26-e256-4367-9f77-3b64ff6efcaf",
        "colab": {
          "base_uri": "https://localhost:8080/",
          "height": 374
        }
      },
      "source": [
        "%ls /content/btgym/examples/data/"
      ],
      "execution_count": 0,
      "outputs": [
        {
          "output_type": "stream",
          "text": [
            "\u001b[0m\u001b[01;32mDAT_ASCII_EURCHF_M1_2017.csv\u001b[0m*\n",
            "\u001b[01;32mDAT_ASCII_EURGBP_M1_2017.csv\u001b[0m*\n",
            "\u001b[01;32mDAT_ASCII_EURJPY_M1_2017.csv\u001b[0m*\n",
            "\u001b[01;32mDAT_ASCII_EURUSD_M1_2010.csv\u001b[0m*\n",
            "\u001b[01;32mDAT_ASCII_EURUSD_M1_2011.csv\u001b[0m*\n",
            "\u001b[01;32mDAT_ASCII_EURUSD_M1_2012.csv\u001b[0m*\n",
            "\u001b[01;32mDAT_ASCII_EURUSD_M1_2013.csv\u001b[0m*\n",
            "\u001b[01;32mDAT_ASCII_EURUSD_M1_2014.csv\u001b[0m*\n",
            "\u001b[01;32mDAT_ASCII_EURUSD_M1_2015.csv\u001b[0m*\n",
            "DAT_ASCII_EURUSD_M1_2016.csv\n",
            "\u001b[01;32mDAT_ASCII_EURUSD_M1_201701.csv\u001b[0m*\n",
            "\u001b[01;32mDAT_ASCII_EURUSD_M1_201702.csv\u001b[0m*\n",
            "DAT_ASCII_EURUSD_M1_201703_1_10.csv\n",
            "\u001b[01;32mDAT_ASCII_EURUSD_M1_201703.csv\u001b[0m*\n",
            "\u001b[01;32mDAT_ASCII_EURUSD_M1_201704.csv\u001b[0m*\n",
            "\u001b[01;32mDAT_ASCII_EURUSD_M1_201705.csv\u001b[0m*\n",
            "\u001b[01;32mDAT_ASCII_EURUSD_M1_201706.csv\u001b[0m*\n",
            "\u001b[01;32mDAT_ASCII_EURUSD_M1_2017.csv\u001b[0m*\n",
            "test_bent_sine_1min_period1500_300_delta0002.csv\n",
            "test_bent_sine_1min_period_300_1500_delta0002.csv\n",
            "test_sine_1min_period256_delta0002.csv\n"
          ],
          "name": "stdout"
        }
      ]
    },
    {
      "cell_type": "code",
      "metadata": {
        "id": "5yYY3jN0-kXA",
        "colab_type": "code",
        "outputId": "77537ccb-1eff-49eb-ee43-798b00b68602",
        "colab": {
          "base_uri": "https://localhost:8080/",
          "height": 204
        }
      },
      "source": [
        "import numpy\n",
        "import pandas as pd\n",
        "from tensortrade.exchanges.simulated import SimulatedExchange\n",
        "\n",
        "headers=['datetime', 'open', 'high', 'low', 'close', 'volume']\n",
        "df = pd.read_csv('/content/btgym/examples/data/DAT_ASCII_EURUSD_M1_2017.csv',\n",
        "                 delimiter=';',\n",
        "                 names=headers)\n",
        "\n",
        "exchange = SimulatedExchange(data_frame=df, base_instrument='USD', pretransform=True)\n",
        "exchange.data_frame.tail()"
      ],
      "execution_count": 0,
      "outputs": [
        {
          "output_type": "execute_result",
          "data": {
            "text/html": [
              "<div>\n",
              "<style scoped>\n",
              "    .dataframe tbody tr th:only-of-type {\n",
              "        vertical-align: middle;\n",
              "    }\n",
              "\n",
              "    .dataframe tbody tr th {\n",
              "        vertical-align: top;\n",
              "    }\n",
              "\n",
              "    .dataframe thead th {\n",
              "        text-align: right;\n",
              "    }\n",
              "</style>\n",
              "<table border=\"1\" class=\"dataframe\">\n",
              "  <thead>\n",
              "    <tr style=\"text-align: right;\">\n",
              "      <th></th>\n",
              "      <th>open</th>\n",
              "      <th>high</th>\n",
              "      <th>low</th>\n",
              "      <th>close</th>\n",
              "      <th>volume</th>\n",
              "    </tr>\n",
              "  </thead>\n",
              "  <tbody>\n",
              "    <tr>\n",
              "      <th>371630</th>\n",
              "      <td>1.19972</td>\n",
              "      <td>1.19987</td>\n",
              "      <td>1.19972</td>\n",
              "      <td>1.19987</td>\n",
              "      <td>0</td>\n",
              "    </tr>\n",
              "    <tr>\n",
              "      <th>371631</th>\n",
              "      <td>1.19985</td>\n",
              "      <td>1.19985</td>\n",
              "      <td>1.19970</td>\n",
              "      <td>1.19970</td>\n",
              "      <td>0</td>\n",
              "    </tr>\n",
              "    <tr>\n",
              "      <th>371632</th>\n",
              "      <td>1.19969</td>\n",
              "      <td>1.20014</td>\n",
              "      <td>1.19961</td>\n",
              "      <td>1.20010</td>\n",
              "      <td>0</td>\n",
              "    </tr>\n",
              "    <tr>\n",
              "      <th>371633</th>\n",
              "      <td>1.20009</td>\n",
              "      <td>1.20023</td>\n",
              "      <td>1.19974</td>\n",
              "      <td>1.19983</td>\n",
              "      <td>0</td>\n",
              "    </tr>\n",
              "    <tr>\n",
              "      <th>371634</th>\n",
              "      <td>1.19982</td>\n",
              "      <td>1.20074</td>\n",
              "      <td>1.19980</td>\n",
              "      <td>1.20005</td>\n",
              "      <td>0</td>\n",
              "    </tr>\n",
              "  </tbody>\n",
              "</table>\n",
              "</div>"
            ],
            "text/plain": [
              "           open     high      low    close  volume\n",
              "371630  1.19972  1.19987  1.19972  1.19987       0\n",
              "371631  1.19985  1.19985  1.19970  1.19970       0\n",
              "371632  1.19969  1.20014  1.19961  1.20010       0\n",
              "371633  1.20009  1.20023  1.19974  1.19983       0\n",
              "371634  1.19982  1.20074  1.19980  1.20005       0"
            ]
          },
          "metadata": {
            "tags": []
          },
          "execution_count": 85
        }
      ]
    },
    {
      "cell_type": "code",
      "metadata": {
        "id": "bG7RI7BawsEZ",
        "colab_type": "code",
        "outputId": "36ef103c-585e-418f-8ee7-04be673aeccb",
        "colab": {
          "base_uri": "https://localhost:8080/",
          "height": 204
        }
      },
      "source": [
        "from tensortrade.features import FeaturePipeline\n",
        "from tensortrade.features.scalers import MinMaxNormalizer\n",
        "from tensortrade.features.stationarity import FractionalDifference\n",
        "from tensortrade.features.indicators import SimpleMovingAverage\n",
        "\n",
        "price_columns = [\"open\", \"high\", \"low\", \"close\"]\n",
        "\n",
        "normalize_price = MinMaxNormalizer(price_columns, inplace=True)\n",
        "moving_averages = SimpleMovingAverage(price_columns)\n",
        "difference_all = FractionalDifference(difference_order=1, inplace=True)\n",
        "\n",
        "feature_pipeline = FeaturePipeline(steps=[normalize_price,\n",
        "                                          moving_averages,\n",
        "                                          difference_all])\n",
        "exchange.feature_pipeline = feature_pipeline\n",
        "exchange.data_frame.tail()"
      ],
      "execution_count": 0,
      "outputs": [
        {
          "output_type": "execute_result",
          "data": {
            "text/html": [
              "<div>\n",
              "<style scoped>\n",
              "    .dataframe tbody tr th:only-of-type {\n",
              "        vertical-align: middle;\n",
              "    }\n",
              "\n",
              "    .dataframe tbody tr th {\n",
              "        vertical-align: top;\n",
              "    }\n",
              "\n",
              "    .dataframe thead th {\n",
              "        text-align: right;\n",
              "    }\n",
              "</style>\n",
              "<table border=\"1\" class=\"dataframe\">\n",
              "  <thead>\n",
              "    <tr style=\"text-align: right;\">\n",
              "      <th></th>\n",
              "      <th>open</th>\n",
              "      <th>high</th>\n",
              "      <th>low</th>\n",
              "      <th>close</th>\n",
              "      <th>volume</th>\n",
              "    </tr>\n",
              "  </thead>\n",
              "  <tbody>\n",
              "    <tr>\n",
              "      <th>371630</th>\n",
              "      <td>4.000000e-12</td>\n",
              "      <td>9.500000e-12</td>\n",
              "      <td>4.500000e-12</td>\n",
              "      <td>1.150000e-11</td>\n",
              "      <td>0.0</td>\n",
              "    </tr>\n",
              "    <tr>\n",
              "      <th>371631</th>\n",
              "      <td>1.050000e-11</td>\n",
              "      <td>4.000000e-12</td>\n",
              "      <td>3.500000e-12</td>\n",
              "      <td>-3.500000e-12</td>\n",
              "      <td>0.0</td>\n",
              "    </tr>\n",
              "    <tr>\n",
              "      <th>371632</th>\n",
              "      <td>-2.500000e-12</td>\n",
              "      <td>1.800000e-11</td>\n",
              "      <td>-6.500000e-12</td>\n",
              "      <td>1.600000e-11</td>\n",
              "      <td>0.0</td>\n",
              "    </tr>\n",
              "    <tr>\n",
              "      <th>371633</th>\n",
              "      <td>1.550000e-11</td>\n",
              "      <td>1.350000e-11</td>\n",
              "      <td>-2.000000e-12</td>\n",
              "      <td>-2.500000e-12</td>\n",
              "      <td>0.0</td>\n",
              "    </tr>\n",
              "    <tr>\n",
              "      <th>371634</th>\n",
              "      <td>-2.000000e-12</td>\n",
              "      <td>4.300000e-11</td>\n",
              "      <td>1.000000e-12</td>\n",
              "      <td>9.500000e-12</td>\n",
              "      <td>0.0</td>\n",
              "    </tr>\n",
              "  </tbody>\n",
              "</table>\n",
              "</div>"
            ],
            "text/plain": [
              "                open          high           low         close  volume\n",
              "371630  4.000000e-12  9.500000e-12  4.500000e-12  1.150000e-11     0.0\n",
              "371631  1.050000e-11  4.000000e-12  3.500000e-12 -3.500000e-12     0.0\n",
              "371632 -2.500000e-12  1.800000e-11 -6.500000e-12  1.600000e-11     0.0\n",
              "371633  1.550000e-11  1.350000e-11 -2.000000e-12 -2.500000e-12     0.0\n",
              "371634 -2.000000e-12  4.300000e-11  1.000000e-12  9.500000e-12     0.0"
            ]
          },
          "metadata": {
            "tags": []
          },
          "execution_count": 86
        }
      ]
    },
    {
      "cell_type": "code",
      "metadata": {
        "id": "o1tAnSkwwsEn",
        "colab_type": "code",
        "colab": {}
      },
      "source": [
        "from tensortrade.actions import DiscreteActionStrategy\n",
        "\n",
        "#action_strategy = DiscreteActionStrategy(n_actions=20, instrument_symbol='BTC')\n",
        "action_strategy = DiscreteActionStrategy(n_actions=20)"
      ],
      "execution_count": 0,
      "outputs": []
    },
    {
      "cell_type": "code",
      "metadata": {
        "id": "l1Y4NEz7wsEy",
        "colab_type": "code",
        "colab": {}
      },
      "source": [
        "from tensortrade.rewards import SimpleProfitStrategy\n",
        "from tensortrade.rewards import RiskAdjustedReturnStrategy\n",
        "\n",
        "reward_strategy = SimpleProfitStrategy()\n",
        "#reward_strategy = RiskAdjustedReturnStrategy()"
      ],
      "execution_count": 0,
      "outputs": []
    },
    {
      "cell_type": "code",
      "metadata": {
        "id": "dtGVBcx9wsFQ",
        "colab_type": "code",
        "colab": {}
      },
      "source": [
        "from tensortrade.environments import TradingEnvironment\n",
        "\n",
        "environment = TradingEnvironment(exchange=exchange,\n",
        "                                 feature_pipeline=feature_pipeline,\n",
        "                                 action_strategy=action_strategy,\n",
        "                                 reward_strategy=reward_strategy)"
      ],
      "execution_count": 0,
      "outputs": []
    },
    {
      "cell_type": "code",
      "metadata": {
        "id": "pN1C69DNg_nn",
        "colab_type": "code",
        "colab": {}
      },
      "source": [
        "environment.exchange.transform_data_frame()"
      ],
      "execution_count": 0,
      "outputs": []
    },
    {
      "cell_type": "code",
      "metadata": {
        "colab_type": "code",
        "id": "itFPq32mn96q",
        "colab": {}
      },
      "source": [
        "from stable_baselines.common.policies import MlpLnLstmPolicy\n",
        "from stable_baselines import PPO2\n",
        "\n",
        "model = PPO2\n",
        "policy = MlpLnLstmPolicy\n",
        "params = { \"learning_rate\": 1e-5, 'nminibatches': 1 }"
      ],
      "execution_count": 0,
      "outputs": []
    },
    {
      "cell_type": "markdown",
      "metadata": {
        "id": "kbJqeUUHwsFf",
        "colab_type": "text"
      },
      "source": [
        "## Training a Strategy\n",
        "\n",
        "Creating our trading strategy is as simple as plugging in our agent and the environment."
      ]
    },
    {
      "cell_type": "markdown",
      "metadata": {
        "id": "8ECJVJidtvSg",
        "colab_type": "text"
      },
      "source": [
        "MigsStableBaselinesTradingStrategy"
      ]
    },
    {
      "cell_type": "code",
      "metadata": {
        "id": "0i0Te1VApvov",
        "colab_type": "code",
        "cellView": "form",
        "colab": {
          "base_uri": "https://localhost:8080/",
          "height": 63
        },
        "outputId": "45f9ffbb-35ce-4532-b17e-41ca59c97589"
      },
      "source": [
        "#@title\n",
        "import os\n",
        "import gym\n",
        "import json\n",
        "\n",
        "import pandas as pd\n",
        "import numpy as np\n",
        "\n",
        "from abc import ABCMeta, abstractmethod\n",
        "from typing import Union, Callable, List, Dict\n",
        "\n",
        "from stable_baselines.common.vec_env import DummyVecEnv\n",
        "from stable_baselines.common.policies import BasePolicy\n",
        "from stable_baselines.common.base_class import BaseRLModel\n",
        "from stable_baselines import DQN\n",
        "\n",
        "from tensortrade.environments.trading_environment import TradingEnvironment\n",
        "from tensortrade.strategies import TradingStrategy\n",
        "\n",
        "\n",
        "class MigsStableBaselinesTradingStrategy(TradingStrategy):\n",
        "    \"\"\"A trading strategy capable of self tuning, training, and evaluating with stable-baselines.\"\"\"\n",
        "\n",
        "    def __init__(self,\n",
        "                 environment: TradingEnvironment,\n",
        "                 model: BaseRLModel = DQN,\n",
        "                 policy: Union[str, BasePolicy] = 'MlpPolicy',\n",
        "                 model_kwargs: any = {},\n",
        "                 **kwargs):\n",
        "        \"\"\"\n",
        "        Arguments:\n",
        "            environment: A `TradingEnvironment` instance for the agent to trade within.\n",
        "            model (optional): The RL model to create the agent with. Defaults to DQN.\n",
        "            policy (optional): The RL policy to train the agent's model with. Defaults to 'MlpPolicy'.\n",
        "            model_kwargs (optional): Any additional keyword arguments to adjust the model.\n",
        "            kwargs (optional): Optional keyword arguments to adjust the strategy.\n",
        "        \"\"\"\n",
        "        self._model = model\n",
        "        self._model_kwargs = model_kwargs\n",
        "\n",
        "        self.environment = environment\n",
        "        self._agent = self._model(policy, self._environment, **self._model_kwargs)\n",
        "\n",
        "    @property\n",
        "    def environment(self) -> 'TradingEnvironment':\n",
        "        \"\"\"A `TradingEnvironment` instance for the agent to trade within.\"\"\"\n",
        "        return self._environment\n",
        "\n",
        "    @environment.setter\n",
        "    def environment(self, environment: 'TradingEnvironment'):\n",
        "        self._environment = DummyVecEnv([lambda: environment])\n",
        "\n",
        "    def restore_agent(self, path: str):\n",
        "        \"\"\"Deserialize the strategy's learning agent from a file.\n",
        "        Arguments:\n",
        "            path: The `str` path of the file the agent specification is stored in.\n",
        "        \"\"\"\n",
        "        self._agent = self._model.load(path, self._environment, self._model_kwargs)\n",
        "\n",
        "    def save_agent(self, path: str):\n",
        "        \"\"\"Serialize the learning agent to a file for restoring later.\n",
        "        Arguments:\n",
        "            path: The `str` path of the file to store the agent specification in.\n",
        "        \"\"\"\n",
        "        self._agent.save(path)\n",
        "\n",
        "    def tune(self, steps: int = None, episodes: int = None, callback: Callable[[pd.DataFrame], bool] = None) -> pd.DataFrame:\n",
        "        raise NotImplementedError\n",
        "\n",
        "    def run(self, steps: int = None, episodes: int = None, episode_callback: Callable[[pd.DataFrame], bool] = None) -> pd.DataFrame:\n",
        "        if steps is None and episodes is None:\n",
        "            raise ValueError(\n",
        "                'You must set the number of `steps` or `episodes` to run the strategy.')\n",
        "\n",
        "        steps_completed = 0\n",
        "        episodes_completed = 0\n",
        "        average_reward = 0\n",
        "\n",
        "        obs, state, dones = self._environment.reset(), None, [False]\n",
        "\n",
        "        performance = {}\n",
        "\n",
        "        while (steps is not None and (steps == 0 or steps_completed < steps)) or (episodes is not None and episodes_completed < episodes):\n",
        "            actions, state = self._agent.predict(obs, state=state, mask=dones)\n",
        "            obs, rewards, dones, info = self._environment.step(actions)\n",
        "\n",
        "            steps_completed += 1\n",
        "            average_reward -= average_reward / steps_completed\n",
        "            average_reward += rewards[0] / (steps_completed + 1)\n",
        "\n",
        "            exchange_performance = info[0].get('exchange').performance\n",
        "            performance = exchange_performance if len(exchange_performance) > 0 else performance\n",
        "\n",
        "            if dones[0]:\n",
        "                #if episode_callback is not None and episode_callback(performance):\n",
        "                #    break\n",
        "                episodes_completed += 1\n",
        "                print(\"episode #: {}\".format(episodes_completed))\n",
        "                print(performance[-2:])\n",
        "                obs = self._environment.reset()\n",
        "\n",
        "        print(\"Finished running strategy.\")\n",
        "        print(\"Total episodes: {} ({} timesteps).\".format(episodes_completed, steps_completed))\n",
        "        print(\"Average reward: {}.\".format(average_reward))\n",
        "\n",
        "        return performance"
      ],
      "execution_count": 4,
      "outputs": [
        {
          "output_type": "display_data",
          "data": {
            "text/html": [
              "<p style=\"color: red;\">\n",
              "The default version of TensorFlow in Colab will soon switch to TensorFlow 2.x.<br>\n",
              "We recommend you <a href=\"https://www.tensorflow.org/guide/migrate\" target=\"_blank\">upgrade</a> now \n",
              "or ensure your notebook will continue to use TensorFlow 1.x via the <code>%tensorflow_version 1.x</code> magic:\n",
              "<a href=\"https://colab.research.google.com/notebooks/tensorflow_version.ipynb\" target=\"_blank\">more info</a>.</p>\n"
            ],
            "text/plain": [
              "<IPython.core.display.HTML object>"
            ]
          },
          "metadata": {
            "tags": []
          }
        }
      ]
    },
    {
      "cell_type": "code",
      "metadata": {
        "id": "by26cyWKptgg",
        "colab_type": "code",
        "colab": {}
      },
      "source": [
        "#from tensortrade.strategies import StableBaselinesTradingStrategy\n",
        "\n",
        "strategy = MigsStableBaselinesTradingStrategy(environment=environment,\n",
        "                                          model=model,\n",
        "                                          policy=policy,\n",
        "                                          model_kwargs=params)"
      ],
      "execution_count": 0,
      "outputs": []
    },
    {
      "cell_type": "markdown",
      "metadata": {
        "id": "XKFV97K4wsFt",
        "colab_type": "text"
      },
      "source": [
        "Then to train the strategy (i.e. train the agent on the current environment), all we need to do is call `strategy.run()` with the total number of steps or episodes you’d like to run.\n",
        "\n",
        "If this feedback loop is a bit slow for you, you can pass a callback function to `run`, which will be called at the end of each episode. The callback function will pass in a `data_frame` containing the agent's performance that episode, and expects a `bool` in return. If `True`, the agent will continue training, otherwise, the agent will stop and return its overall performance."
      ]
    },
    {
      "cell_type": "code",
      "metadata": {
        "id": "y-NbF06lwsFv",
        "colab_type": "code",
        "outputId": "09e079cb-d297-48c0-9a20-c7150c7d1fae",
        "colab": {
          "base_uri": "https://localhost:8080/",
          "height": 272
        }
      },
      "source": [
        "#performance = strategy.run(steps=100000)\n",
        "performance = strategy.run(episodes=3, episode_callback=True)"
      ],
      "execution_count": 0,
      "outputs": [
        {
          "output_type": "stream",
          "text": [
            "episode #: 1\n",
            "       balance  net_worth\n",
            "2365  5.930891  10.083227\n",
            "2366  7.974855  10.051718\n",
            "episode #: 2\n",
            "        balance  net_worth\n",
            "2352   9.937687  10.075105\n",
            "2353  10.006156  10.074857\n",
            "episode #: 3\n",
            "       balance  net_worth\n",
            "2347  4.385997  10.063393\n",
            "2348  8.596292  10.015410\n",
            "Finished running strategy.\n",
            "Total episodes: 3 (9759 timesteps).\n",
            "Average reward: -0.7086708115673862.\n"
          ],
          "name": "stdout"
        }
      ]
    },
    {
      "cell_type": "code",
      "metadata": {
        "id": "vbvbeK9OwsF5",
        "colab_type": "code",
        "outputId": "67b570a5-4989-4580-8670-d869a893b89b",
        "colab": {
          "base_uri": "https://localhost:8080/",
          "height": 282
        }
      },
      "source": [
        "%matplotlib inline\n",
        "performance.net_worth.plot()"
      ],
      "execution_count": 0,
      "outputs": [
        {
          "output_type": "execute_result",
          "data": {
            "text/plain": [
              "<matplotlib.axes._subplots.AxesSubplot at 0x7f2faf21cda0>"
            ]
          },
          "metadata": {
            "tags": []
          },
          "execution_count": 46
        },
        {
          "output_type": "display_data",
          "data": {
            "image/png": "[encoded data removed]",
            "text/plain": [
              "<Figure size 432x288 with 1 Axes>"
            ]
          },
          "metadata": {
            "tags": []
          }
        }
      ]
    },
    {
      "cell_type": "markdown",
      "metadata": {
        "id": "wPgEyU9UjRdB",
        "colab_type": "text"
      },
      "source": [
        "## BTC"
      ]
    },
    {
      "cell_type": "markdown",
      "metadata": {
        "id": "5-CQamP5IYw4",
        "colab_type": "text"
      },
      "source": [
        "MigsStableBaselinesTradingStrategy"
      ]
    },
    {
      "cell_type": "code",
      "metadata": {
        "id": "EBq0VA1cFvxX",
        "colab_type": "code",
        "colab": {},
        "cellView": "form"
      },
      "source": [
        "#@title\n",
        "import os\n",
        "import gym\n",
        "import json\n",
        "\n",
        "import pandas as pd\n",
        "import numpy as np\n",
        "\n",
        "from abc import ABCMeta, abstractmethod\n",
        "from typing import Union, Callable, List, Dict\n",
        "\n",
        "from stable_baselines.common.vec_env import DummyVecEnv\n",
        "from stable_baselines.common.policies import BasePolicy\n",
        "from stable_baselines.common.base_class import BaseRLModel\n",
        "from stable_baselines import DQN\n",
        "\n",
        "from tensortrade.environments.trading_environment import TradingEnvironment\n",
        "from tensortrade.strategies import TradingStrategy\n",
        "\n",
        "\n",
        "class MigsStableBaselinesTradingStrategy(TradingStrategy):\n",
        "    \"\"\"A trading strategy capable of self tuning, training, and evaluating with stable-baselines.\"\"\"\n",
        "\n",
        "    def __init__(self,\n",
        "                 environment: TradingEnvironment,\n",
        "                 model: BaseRLModel = DQN,\n",
        "                 policy: Union[str, BasePolicy] = 'MlpPolicy',\n",
        "                 model_kwargs: any = {},\n",
        "                 **kwargs):\n",
        "        \"\"\"\n",
        "        Arguments:\n",
        "            environment: A `TradingEnvironment` instance for the agent to trade within.\n",
        "            model (optional): The RL model to create the agent with. Defaults to DQN.\n",
        "            policy (optional): The RL policy to train the agent's model with. Defaults to 'MlpPolicy'.\n",
        "            model_kwargs (optional): Any additional keyword arguments to adjust the model.\n",
        "            kwargs (optional): Optional keyword arguments to adjust the strategy.\n",
        "        \"\"\"\n",
        "        self._model = model\n",
        "        self._model_kwargs = model_kwargs\n",
        "\n",
        "        self.environment = environment\n",
        "        self._agent = self._model(policy, self._environment, **self._model_kwargs)\n",
        "\n",
        "    @property\n",
        "    def environment(self) -> 'TradingEnvironment':\n",
        "        \"\"\"A `TradingEnvironment` instance for the agent to trade within.\"\"\"\n",
        "        return self._environment\n",
        "\n",
        "    @environment.setter\n",
        "    def environment(self, environment: 'TradingEnvironment'):\n",
        "        self._environment = DummyVecEnv([lambda: environment])\n",
        "\n",
        "    def restore_agent(self, path: str):\n",
        "        \"\"\"Deserialize the strategy's learning agent from a file.\n",
        "        Arguments:\n",
        "            path: The `str` path of the file the agent specification is stored in.\n",
        "        \"\"\"\n",
        "        self._agent = self._model.load(path, self._environment, self._model_kwargs)\n",
        "\n",
        "    def save_agent(self, path: str):\n",
        "        \"\"\"Serialize the learning agent to a file for restoring later.\n",
        "        Arguments:\n",
        "            path: The `str` path of the file to store the agent specification in.\n",
        "        \"\"\"\n",
        "        self._agent.save(path)\n",
        "\n",
        "    def tune(self, steps: int = None, episodes: int = None, callback: Callable[[pd.DataFrame], bool] = None) -> pd.DataFrame:\n",
        "        raise NotImplementedError\n",
        "\n",
        "    def run(self, steps: int = None, episodes: int = None, episode_callback: Callable[[pd.DataFrame], bool] = None) -> pd.DataFrame:\n",
        "        if steps is None and episodes is None:\n",
        "            raise ValueError(\n",
        "                'You must set the number of `steps` or `episodes` to run the strategy.')\n",
        "\n",
        "        steps_completed = 0\n",
        "        episodes_completed = 0\n",
        "        average_reward = 0\n",
        "\n",
        "        obs, state, dones = self._environment.reset(), None, [False]\n",
        "\n",
        "        performance = {}\n",
        "\n",
        "        while (steps is not None and (steps == 0 or steps_completed < steps)) or (episodes is not None and episodes_completed < episodes):\n",
        "            actions, state = self._agent.predict(obs, state=state, mask=dones)\n",
        "            obs, rewards, dones, info = self._environment.step(actions)\n",
        "\n",
        "            steps_completed += 1\n",
        "            average_reward -= average_reward / steps_completed\n",
        "            average_reward += rewards[0] / (steps_completed + 1)\n",
        "\n",
        "            exchange_performance = info[0].get('exchange').performance\n",
        "            performance = exchange_performance if len(exchange_performance) > 0 else performance\n",
        "\n",
        "            if dones[0]:\n",
        "                #if episode_callback is not None and episode_callback(performance):\n",
        "                #    break\n",
        "                episodes_completed += 1\n",
        "                print(\"episode #: {}\".format(episodes_completed))\n",
        "                print(performance[-2:])\n",
        "                obs = self._environment.reset()\n",
        "\n",
        "        print(\"Finished running strategy.\")\n",
        "        print(\"Total episodes: {} ({} timesteps).\".format(episodes_completed, steps_completed))\n",
        "        print(\"Average reward: {}.\".format(average_reward))\n",
        "\n",
        "        return performance"
      ],
      "execution_count": 0,
      "outputs": []
    },
    {
      "cell_type": "code",
      "metadata": {
        "id": "i_dOemstI0NQ",
        "colab_type": "code",
        "colab": {}
      },
      "source": [
        "import talib\n",
        "talib.get_functions()"
      ],
      "execution_count": 0,
      "outputs": []
    },
    {
      "cell_type": "code",
      "metadata": {
        "id": "glfBtI1pjPj3",
        "colab_type": "code",
        "colab": {}
      },
      "source": [
        "from tensortrade.environments import TradingEnvironment\n",
        "from tensortrade.exchanges.simulated import FBMExchange\n",
        "from tensortrade.features.scalers import MinMaxNormalizer\n",
        "from tensortrade.features.stationarity import FractionalDifference\n",
        "from tensortrade.features import FeaturePipeline\n",
        "from tensortrade.rewards import SimpleProfitStrategy\n",
        "from tensortrade.actions import DiscreteActionStrategy\n",
        "#from tensortrade.strategies import StableBaselinesTradingStrategy\n",
        "from tensortrade.features.indicators import TAlibIndicator\n",
        "from stable_baselines.common.policies import MlpLnLstmPolicy\n",
        "from stable_baselines import PPO2\n",
        "\n",
        "price_columns = [\"open\", \"high\", \"low\", \"close\"]\n",
        "normalize = MinMaxNormalizer(price_columns, inplace=True)\n",
        "#moving_averages = TAlibIndicator([\"RSI\", \"BBANDS\", \"STOCH\", \"MACD\", \"CCI\", \"WILLR\"])\n",
        "difference = FractionalDifference(difference_order=1,\n",
        "                                  inplace=True)\n",
        "feature_pipeline = FeaturePipeline(steps=[normalize,\n",
        "#                                          moving_averages,\n",
        "                                          difference])\n",
        "\n",
        "reward_strategy = SimpleProfitStrategy()\n",
        "action_strategy = DiscreteActionStrategy(n_actions=40)\n",
        "\n",
        "exchange = FBMExchange(base_instrument='BTC',\n",
        "                       timeframe='1h',\n",
        "                       pretransform=True)\n",
        "\n",
        "environment = TradingEnvironment(exchange=exchange,\n",
        "                                 action_strategy=action_strategy,\n",
        "                                 reward_strategy=reward_strategy,\n",
        "                                 feature_pipeline=feature_pipeline)\n",
        "\n",
        "model = PPO2\n",
        "policy = MlpLnLstmPolicy\n",
        "params = { \"learning_rate\": 1e-5, 'nminibatches': 1 }\n",
        "\n",
        "strategy = MigsStableBaselinesTradingStrategy(environment=environment,\n",
        "                                          model=model,\n",
        "                                          policy=policy,\n",
        "                                          model_kwargs=params)"
      ],
      "execution_count": 0,
      "outputs": []
    },
    {
      "cell_type": "code",
      "metadata": {
        "id": "LlwAuz14kBQE",
        "colab_type": "code",
        "outputId": "c2746054-2c69-4bbd-c4e8-962ec0804692",
        "colab": {
          "base_uri": "https://localhost:8080/",
          "height": 1000
        }
      },
      "source": [
        "performance = strategy.run(episodes=100)"
      ],
      "execution_count": 38,
      "outputs": [
        {
          "output_type": "stream",
          "text": [
            "episode #: 1\n",
            "          balance    net_worth\n",
            "1221  3331.175960  3717.966608\n",
            "1222   -18.361034  3630.873956\n",
            "episode #: 2\n",
            "           balance     net_worth\n",
            "1196  18089.149665  75160.253837\n",
            "1197   2528.799347  60893.771944\n",
            "episode #: 3\n",
            "            balance      net_worth\n",
            "1191  156723.693509  385998.408977\n",
            "1192  242940.539636  387067.942297\n",
            "episode #: 4\n",
            "          balance    net_worth\n",
            "1147    10.813978  2770.690100\n",
            "1148  1382.719491  2758.751145\n",
            "episode #: 5\n",
            "            balance      net_worth\n",
            "1213  851535.114182  860066.056246\n",
            "1214  852579.864045  859904.106513\n",
            "episode #: 6\n",
            "           balance      net_worth\n",
            "1171    349.477814  149511.812961\n",
            "1172  18639.279654  148117.725742\n",
            "episode #: 7\n",
            "           balance     net_worth\n",
            "1213  36743.381833  2.201294e+06\n",
            "1214  18681.215697  2.249550e+06\n",
            "episode #: 8\n",
            "           balance     net_worth\n",
            "1229  5.675071e+06  5.888670e+06\n",
            "1230  4.974581e+06  5.875532e+06\n",
            "episode #: 9\n",
            "          balance    net_worth\n",
            "1232  1475.080083  1603.397711\n",
            "1233   922.573362  1594.551279\n",
            "episode #: 10\n",
            "          balance    net_worth\n",
            "1258  3342.774816  8557.700871\n",
            "1259  1288.767947  8561.509430\n",
            "episode #: 11\n",
            "            balance      net_worth\n",
            "1172  211810.903902  281948.291743\n",
            "1173  237935.772341  281608.073071\n",
            "episode #: 12\n",
            "            balance      net_worth\n",
            "1184  180552.805697  319480.878423\n",
            "1185  299990.569511  317104.211529\n",
            "episode #: 13\n",
            "          balance    net_worth\n",
            "1172  1887.078457  2296.022643\n",
            "1173  1423.259706  2293.729828\n",
            "episode #: 14\n",
            "           balance     net_worth\n",
            "1249  8.526350e+06  1.135475e+07\n",
            "1250  6.410325e+06  1.136356e+07\n",
            "episode #: 15\n",
            "           balance     net_worth\n",
            "1190  7.995016e+07  4.055454e+08\n",
            "1191  7.012492e+07  4.028734e+08\n",
            "episode #: 16\n",
            "           balance     net_worth\n",
            "1135  68776.394490  83545.357389\n",
            "1136  83472.059033  83472.059033\n",
            "episode #: 17\n",
            "            balance      net_worth\n",
            "1212  405734.371420  405802.093174\n",
            "1213  156426.848646  405057.508182\n",
            "episode #: 18\n",
            "         balance    net_worth\n",
            "1194  560.234273  1646.477286\n",
            "1195  215.263042  1537.970341\n",
            "episode #: 19\n",
            "        balance     net_worth\n",
            "1200  27.360363  24453.879518\n",
            "1201   7.186149  24720.845216\n",
            "episode #: 20\n",
            "            balance     net_worth\n",
            "1178  916339.691130  1.109562e+06\n",
            "1179  128239.103338  1.145597e+06\n",
            "episode #: 21\n",
            "           balance     net_worth\n",
            "1182  1.456689e+06  1.322045e+08\n",
            "1183  1.099471e+06  1.279232e+08\n",
            "episode #: 22\n",
            "          balance    net_worth\n",
            "1217  1089.008340  1449.617174\n",
            "1218   687.516374  1434.359357\n",
            "episode #: 23\n",
            "           balance     net_worth\n",
            "1180  1.937920e+10  2.118266e+10\n",
            "1181  1.999855e+10  2.103260e+10\n",
            "episode #: 24\n",
            "        balance     net_worth\n",
            "1223  29.617539  14493.434182\n",
            "1224  25.977766  14535.673977\n",
            "episode #: 25\n",
            "           balance     net_worth\n",
            "1187  4.454765e+06  1.010116e+07\n",
            "1188  5.152445e+06  1.012673e+07\n",
            "episode #: 26\n",
            "           balance     net_worth\n",
            "1198  6.268496e+05  8.774902e+06\n",
            "1199  7.281647e+06  8.247354e+06\n",
            "episode #: 27\n",
            "           balance      net_worth\n",
            "1224    -49.092624  535245.621414\n",
            "1225  61955.878419  497295.869620\n",
            "episode #: 28\n",
            "           balance     net_worth\n",
            "1203  1.392014e+09  1.403740e+09\n",
            "1204  1.399615e+09  1.404231e+09\n",
            "episode #: 29\n",
            "          balance    net_worth\n",
            "1213  1658.647505  1768.067774\n",
            "1214    29.014477  1764.853758\n",
            "episode #: 30\n",
            "           balance     net_worth\n",
            "1198  19459.162137  22578.419688\n",
            "1199   2719.651111  22531.608942\n",
            "episode #: 31\n",
            "           balance     net_worth\n",
            "1228  10830.444766  15249.136837\n",
            "1229   2844.586601  15309.118761\n",
            "episode #: 32\n",
            "           balance     net_worth\n",
            "1210  8.963851e+06  8.963851e+06\n",
            "1211  7.862243e+06  8.960548e+06\n",
            "episode #: 33\n",
            "         balance     net_worth\n",
            "1179  347.617837  10702.302975\n",
            "1180  175.807791  10883.533273\n",
            "episode #: 34\n",
            "           balance     net_worth\n",
            "1215  41471.793318  49677.790566\n",
            "1216  42480.960296  49676.805821\n",
            "episode #: 35\n",
            "         balance    net_worth\n",
            "1195    41.01220  3087.669950\n",
            "1196  1985.53658  3155.763737\n",
            "episode #: 36\n",
            "         balance     net_worth\n",
            "1270  5185.28528  21017.736635\n",
            "1271  3258.44346  21205.032815\n",
            "episode #: 37\n",
            "           balance     net_worth\n",
            "1192  2.543741e+06  3.405582e+06\n",
            "1193  6.681068e+05  3.390337e+06\n"
          ],
          "name": "stdout"
        },
        {
          "output_type": "stream",
          "text": [
            "/content/tensortrade/tensortrade/rewards/simple_profit_strategy.py:51: RuntimeWarning: divide by zero encountered in log10\n",
            "  return profit_sign * (1 + (5 ** np.log10(abs(profit))))\n"
          ],
          "name": "stderr"
        },
        {
          "output_type": "stream",
          "text": [
            "episode #: 38\n",
            "           balance     net_worth\n",
            "1223   -177.692173  37627.889143\n",
            "1224  13428.933598  36772.741338\n",
            "episode #: 39\n",
            "         balance    net_worth\n",
            "1195  827.064124  3591.058131\n",
            "1196  318.875801  3373.086896\n",
            "episode #: 40\n",
            "           balance      net_worth\n",
            "1242  27960.571582  683787.213232\n",
            "1243  24504.794285  691064.558681\n",
            "episode #: 41\n",
            "          balance     net_worth\n",
            "1205  3230.006524  12687.791569\n",
            "1206  8936.398207  12421.948234\n",
            "episode #: 42\n",
            "           balance     net_worth\n",
            "1202  9.227943e+05  2.145336e+06\n",
            "1203  1.097065e+06  1.388939e+06\n",
            "episode #: 43\n",
            "            balance      net_worth\n",
            "1187  224682.899212  232163.191636\n",
            "1188  227474.882093  232142.180907\n",
            "episode #: 44\n",
            "           balance     net_worth\n",
            "1217  11001.632988  26432.221920\n",
            "1218   6885.944907  26360.450914\n",
            "episode #: 45\n",
            "           balance     net_worth\n",
            "1242  5.368790e+13  5.519780e+13\n",
            "1243  7.501957e+12  5.505077e+13\n",
            "episode #: 46\n",
            "          balance    net_worth\n",
            "1184  1911.968871  3595.918066\n",
            "1185  2884.980763  3210.289131\n",
            "episode #: 47\n",
            "          balance    net_worth\n",
            "1195  1350.460681  1463.281428\n",
            "1196  1430.523631  1457.291611\n",
            "episode #: 48\n",
            "          balance    net_worth\n",
            "1166  1364.181828  1396.922393\n",
            "1167  1372.079045  1396.172614\n",
            "episode #: 49\n",
            "          balance    net_worth\n",
            "1215  1249.046458  1251.152995\n",
            "1216  1250.326999  1251.118975\n",
            "episode #: 50\n",
            "           balance     net_worth\n",
            "1207  21887.913864  22198.565006\n",
            "1208  19198.089105  22187.103121\n",
            "episode #: 51\n",
            "           balance     net_worth\n",
            "1194  3.316902e+06  3.417226e+06\n",
            "1195  2.191169e+04  3.373513e+06\n",
            "episode #: 52\n",
            "           balance     net_worth\n",
            "1195  1.200310e+07  2.408155e+07\n",
            "1196  2.391233e+07  2.391233e+07\n",
            "episode #: 53\n",
            "          balance    net_worth\n",
            "1179  1570.761090  3192.385223\n",
            "1180  2593.557372  3209.082379\n",
            "episode #: 54\n",
            "          balance     net_worth\n",
            "1183  9278.287976  10578.828722\n",
            "1184  9915.108552  10570.376200\n",
            "episode #: 55\n",
            "           balance     net_worth\n",
            "1176  24436.084716  26040.486993\n",
            "1177  25443.035736  26061.737425\n",
            "episode #: 56\n",
            "          balance    net_worth\n",
            "1179   728.055160  2098.398204\n",
            "1180  1256.443083  2139.307099\n",
            "episode #: 57\n",
            "         balance    net_worth\n",
            "1201  806.374060  6454.166814\n",
            "1202  199.399422  6476.623278\n",
            "episode #: 58\n",
            "         balance    net_worth\n",
            "1199  390.944861  1509.580042\n",
            "1200  942.916962  1496.551399\n",
            "episode #: 59\n",
            "          balance    net_worth\n",
            "1178  3238.439732  4828.916405\n",
            "1179  2442.480462  4822.672464\n",
            "episode #: 60\n",
            "            balance      net_worth\n",
            "1162  145337.888066  146469.509848\n",
            "1163  127374.401797  146297.067340\n",
            "episode #: 61\n",
            "         balance    net_worth\n",
            "1175  229.175646  1606.582269\n",
            "1176  396.936250  1574.739816\n",
            "episode #: 62\n",
            "          balance     net_worth\n",
            "1201  1929.837756  15325.026065\n",
            "1202  1686.934246  15178.692958\n",
            "episode #: 63\n",
            "            balance      net_worth\n",
            "1210  513199.456420  681003.897049\n",
            "1211  575080.067999  678524.107571\n",
            "episode #: 64\n",
            "         balance    net_worth\n",
            "1225  131.547619  2004.054271\n",
            "1226  602.524859  2019.706857\n",
            "episode #: 65\n",
            "           balance    net_worth\n",
            "1199  30727.138849  45786.92230\n",
            "1200  26948.972919  46754.92707\n",
            "episode #: 66\n",
            "           balance     net_worth\n",
            "1203  18315.375426  30358.916713\n",
            "1204  21363.251811  30617.606906\n",
            "episode #: 67\n",
            "           balance     net_worth\n",
            "1224  10194.279100  27281.279936\n",
            "1225   7688.693813  27090.066504\n",
            "episode #: 68\n",
            "           balance     net_worth\n",
            "1210  1.570675e+04  4.264478e+06\n",
            "1211  4.135361e+06  4.135361e+06\n",
            "episode #: 69\n",
            "           balance      net_worth\n",
            "1212  29245.220868  102261.951625\n",
            "1213  82039.670477  100137.239588\n",
            "episode #: 70\n",
            "          balance     net_worth\n",
            "1208  6350.174677  14482.819757\n",
            "1209  7245.650188  13640.194166\n",
            "episode #: 71\n",
            "          balance    net_worth\n",
            "1182  2440.602972  5914.659510\n",
            "1183  2139.416396  5937.880171\n",
            "episode #: 72\n",
            "           balance     net_worth\n",
            "1213  4.334429e+04  6.652304e+06\n",
            "1214  4.509926e+06  7.197780e+06\n",
            "episode #: 73\n",
            "            balance     net_worth\n",
            "1200   61501.877781  1.485620e+06\n",
            "1201  571689.272153  1.443279e+06\n",
            "episode #: 74\n",
            "          balance    net_worth\n",
            "1168  3810.595435  5358.615493\n",
            "1169  2874.023317  5370.783139\n",
            "episode #: 75\n",
            "          balance    net_worth\n",
            "1192  4872.261141  5241.144003\n",
            "1193    67.975440  5216.536649\n",
            "episode #: 76\n",
            "            balance     net_worth\n",
            "1211  655821.944599  5.433842e+06\n",
            "1212  575226.527829  7.312835e+06\n",
            "episode #: 77\n",
            "           balance     net_worth\n",
            "1200  14710.694563  15481.937239\n",
            "1201  15292.600893  15487.153078\n",
            "episode #: 78\n",
            "         balance     net_worth\n",
            "1210  549.887997  68934.151198\n",
            "1211  482.310281  67973.495873\n",
            "episode #: 79\n",
            "         balance    net_worth\n",
            "1194  106.233644  3190.975733\n",
            "1195  477.020836  3132.868305\n",
            "episode #: 80\n",
            "            balance      net_worth\n",
            "1208  421531.787930  922341.868544\n",
            "1209  782837.733937  834609.240161\n",
            "episode #: 81\n",
            "          balance    net_worth\n",
            "1192  4277.335950  6980.908601\n",
            "1193  5134.557336  6570.601345\n",
            "episode #: 82\n",
            "           balance     net_worth\n",
            "1195  53820.529526  63365.120489\n",
            "1196  40592.206496  63542.540264\n",
            "episode #: 83\n",
            "           balance     net_worth\n",
            "1215  12528.243982  26551.684115\n",
            "1216  21010.649338  26235.328316\n",
            "episode #: 84\n",
            "          balance    net_worth\n",
            "1171   137.269737  3184.877359\n",
            "1172  2716.775981  3086.400776\n",
            "episode #: 85\n",
            "           balance     net_worth\n",
            "1187  26280.519958  73960.754328\n",
            "1188   6902.607554  74852.734156\n",
            "episode #: 86\n",
            "           balance     net_worth\n",
            "1230  67734.704989  93223.681998\n",
            "1231   9466.540742  93476.272267\n",
            "episode #: 87\n",
            "          balance    net_worth\n",
            "1178  1654.934411  1707.789866\n",
            "1179   414.711040  1682.900381\n",
            "episode #: 88\n",
            "           balance     net_worth\n",
            "1186   8849.775186  27097.125569\n",
            "1187  18641.252715  28461.875316\n",
            "episode #: 89\n",
            "          balance    net_worth\n",
            "1199   887.443646  3612.314887\n",
            "1200  2877.281051  3558.138990\n",
            "episode #: 90\n",
            "         balance   net_worth\n",
            "1181   44.704241  825.810732\n",
            "1182  706.778571  801.498157\n",
            "episode #: 91\n",
            "           balance     net_worth\n",
            "1190  1.095967e+06  1.258228e+06\n",
            "1191  1.218017e+06  1.258823e+06\n",
            "episode #: 92\n",
            "          balance    net_worth\n",
            "1176  6805.007063  6805.007063\n",
            "1177  5970.908972  6804.690776\n",
            "episode #: 93\n",
            "            balance      net_worth\n",
            "1205  292907.022488  933050.413614\n",
            "1206  373728.612238  941175.981005\n",
            "episode #: 94\n",
            "          balance     net_worth\n",
            "1209  5315.638474  14195.323165\n",
            "1210  1396.139142  14196.827934\n",
            "episode #: 95\n",
            "           balance     net_worth\n",
            "1189  36485.228482  42515.531593\n",
            "1190  38765.545422  42591.338762\n",
            "episode #: 96\n",
            "            balance      net_worth\n",
            "1232  329811.997538  330780.756038\n",
            "1233  330502.820762  330739.789529\n",
            "episode #: 97\n",
            "           balance     net_worth\n",
            "1192  14973.270464  17692.317737\n",
            "1193  15980.707493  17664.827124\n",
            "episode #: 98\n",
            "           balance     net_worth\n",
            "1198  1.674440e+06  1.727317e+06\n",
            "1199  8.526154e+05  1.724176e+06\n",
            "episode #: 99\n",
            "            balance      net_worth\n",
            "1174  419404.627935  419438.815382\n",
            "1175  419425.420986  419432.373114\n",
            "episode #: 100\n",
            "            balance      net_worth\n",
            "1179  641842.003399  646142.075496\n",
            "1180  643961.170450  646127.341853\n",
            "Finished running strategy.\n",
            "Total episodes: 100 (166500 timesteps).\n",
            "Average reward: -14370.530362812662.\n"
          ],
          "name": "stdout"
        }
      ]
    },
    {
      "cell_type": "code",
      "metadata": {
        "id": "TG5ZacLhNPNU",
        "colab_type": "code",
        "colab": {}
      },
      "source": [
        "strategy.save_agent(path=\"tensortrade/ppo_btc_1h\")"
      ],
      "execution_count": 0,
      "outputs": []
    },
    {
      "cell_type": "code",
      "metadata": {
        "id": "IS2GLFVHsIhL",
        "colab_type": "code",
        "outputId": "aeee357f-514b-4ce4-cbe2-36a81f25264c",
        "colab": {
          "base_uri": "https://localhost:8080/",
          "height": 293
        }
      },
      "source": [
        "%matplotlib inline\n",
        "performance.net_worth.plot()"
      ],
      "execution_count": 39,
      "outputs": [
        {
          "output_type": "execute_result",
          "data": {
            "text/plain": [
              "<matplotlib.axes._subplots.AxesSubplot at 0x7f8c55c349b0>"
            ]
          },
          "metadata": {
            "tags": []
          },
          "execution_count": 39
        },
        {
          "output_type": "display_data",
          "data": {
            "image/png": "[encoded data removed]",
            "text/plain": [
              "<Figure size 432x288 with 1 Axes>"
            ]
          },
          "metadata": {
            "tags": []
          }
        }
      ]
    },
    {
      "cell_type": "code",
      "metadata": {
        "id": "XLtMoV4kun1D",
        "colab_type": "code",
        "outputId": "c8c864e5-22c5-4907-efc3-cf981b5af07e",
        "colab": {
          "base_uri": "https://localhost:8080/",
          "height": 51
        }
      },
      "source": [
        "%ls /content/tensortrade/examples/data/"
      ],
      "execution_count": 22,
      "outputs": [
        {
          "output_type": "stream",
          "text": [
            "Coinbase_BTCUSD_1h.csv  configuration.json\n",
            "Coinbase_BTCUSD_d.csv   configuration.yaml\n"
          ],
          "name": "stdout"
        }
      ]
    },
    {
      "cell_type": "code",
      "metadata": {
        "id": "8Z8VXipesh_C",
        "colab_type": "code",
        "outputId": "7f148253-8180-4977-90bd-2ebdbb164ed1",
        "colab": {
          "base_uri": "https://localhost:8080/",
          "height": 68
        }
      },
      "source": [
        "import pandas as pd\n",
        "from tensortrade.environments import TradingEnvironment\n",
        "from tensortrade.exchanges.simulated import SimulatedExchange\n",
        "df = pd.read_csv('/content/tensortrade/examples/data/Coinbase_BTCUSD_1h.csv',skiprows=1)\n",
        "exchange = SimulatedExchange(data_frame=df, \n",
        "                             base_instrument='BTC',\n",
        "                             feature_pipeline=feature_pipeline)\n",
        "environment = TradingEnvironment(exchange=exchange,\n",
        "                                 action_strategy=action_strategy,\n",
        "                                 reward_strategy=reward_strategy)\n",
        "\n",
        "model = PPO2\n",
        "policy = MlpLnLstmPolicy\n",
        "params = { \"learning_rate\": 1e-5, 'nminibatches': 1 }\n",
        "\n",
        "new_strategy = MigsStableBaselinesTradingStrategy(environment=environment,\n",
        "                                          model=model,\n",
        "                                          policy=policy,\n",
        "                                          model_kwargs=params)\n",
        "new_strategy.restore_agent(path=\"tensortrade/ppo_btc_1h\")\n",
        "\n",
        "test_performance = new_strategy.run(steps=2000)"
      ],
      "execution_count": 35,
      "outputs": [
        {
          "output_type": "stream",
          "text": [
            "Finished running strategy.\n",
            "Total episodes: 0 (2000 timesteps).\n",
            "Average reward: -0.3523745550012309.\n"
          ],
          "name": "stdout"
        }
      ]
    },
    {
      "cell_type": "code",
      "metadata": {
        "id": "4aRNBCyfYjty",
        "colab_type": "code",
        "colab": {
          "base_uri": "https://localhost:8080/",
          "height": 282
        },
        "outputId": "794f02c6-ed63-4616-8308-f248174a94d9"
      },
      "source": [
        "test_performance.net_worth.plot()"
      ],
      "execution_count": 36,
      "outputs": [
        {
          "output_type": "execute_result",
          "data": {
            "text/plain": [
              "<matplotlib.axes._subplots.AxesSubplot at 0x7f8c0d605908>"
            ]
          },
          "metadata": {
            "tags": []
          },
          "execution_count": 36
        },
        {
          "output_type": "display_data",
          "data": {
            "image/png": "[encoded data removed]",
            "text/plain": [
              "<Figure size 432x288 with 1 Axes>"
            ]
          },
          "metadata": {
            "tags": []
          }
        }
      ]
    },
    {
      "cell_type": "markdown",
      "metadata": {
        "id": "nz89RJjpwsGA",
        "colab_type": "text"
      },
      "source": [
        "## Saving and Restoring\n",
        "\n",
        "All trading strategies are capable of saving their agent to a file, for later restoring. The environment is not saved, as it does not have state that we care about preserving. To save our `TensorflowTradingStrategy` to a file, we just need to provide the path of the file to our strategy."
      ]
    },
    {
      "cell_type": "code",
      "metadata": {
        "id": "-Oz7blaMwlUo",
        "colab_type": "code",
        "outputId": "0e8c44d2-244e-4566-a5cf-0533a221612a",
        "colab": {
          "base_uri": "https://localhost:8080/",
          "height": 51
        }
      },
      "source": [
        "print(os.getcwd())\n",
        "%ls"
      ],
      "execution_count": 23,
      "outputs": [
        {
          "output_type": "stream",
          "text": [
            "/content\n",
            "\u001b[0m\u001b[01;34mbtgym\u001b[0m/  \u001b[01;34msample_data\u001b[0m/  \u001b[01;34mtensortrade\u001b[0m/\n"
          ],
          "name": "stdout"
        }
      ]
    },
    {
      "cell_type": "code",
      "metadata": {
        "id": "kB0x0F3mwsGE",
        "colab_type": "code",
        "colab": {}
      },
      "source": [
        "strategy.save_agent(path=\"ppo_btc_1h\")"
      ],
      "execution_count": 0,
      "outputs": []
    },
    {
      "cell_type": "markdown",
      "metadata": {
        "id": "YnPRHuGBwsGY",
        "colab_type": "text"
      },
      "source": [
        "_This specific strategy saves multiple files, including a directory of models to the path provided._\n",
        "\n",
        "To restore the agent from the file, we first need to instantiate our strategy, before calling restore_agent."
      ]
    },
    {
      "cell_type": "code",
      "metadata": {
        "id": "qqr9a0IKwsGa",
        "colab_type": "code",
        "colab": {}
      },
      "source": [
        "new_strategy = StableBaselinesTradingStrategy(environment=environment,\n",
        "                                          model=model,\n",
        "                                          policy=policy,\n",
        "                                          model_kwargs=params)\n",
        "\n",
        "new_strategy.restore_agent(path=\"ppo_btc_1h\")"
      ],
      "execution_count": 0,
      "outputs": []
    },
    {
      "cell_type": "markdown",
      "metadata": {
        "id": "5BijWcGrwsGv",
        "colab_type": "text"
      },
      "source": [
        "Our strategy is now restored back to its previous state, and ready to be used again. Let's see how it does.\n",
        "\n",
        "## Tuning Your Strategy\n",
        "\n",
        "Sometimes a trading strategy will require tuning a set of hyper-parameters, or features, on an environment to achieve maximum performance. In this case, each `TradingStrategy` provides an optionally implementable tune method.\n",
        "\n",
        "Tuning a model is similar to training a model, however in addition to adjusting and saving the weights and biases of the best performing model, the strategy also adjusts and persists the hyper-parameters that produced that model. "
      ]
    },
    {
      "cell_type": "code",
      "metadata": {
        "id": "7yL8uQLYxTPg",
        "colab_type": "code",
        "outputId": "6dab6210-1188-41e6-de01-e6a5256a74ca",
        "colab": {
          "base_uri": "https://localhost:8080/",
          "height": 336
        }
      },
      "source": [
        "from tensortrade.environments import TradingEnvironment\n",
        "from tensortrade.exchanges.simulated import FBMExchange\n",
        "\n",
        "exchange = FBMExchange(timeframe='1h', base_instrument='BTC', feature_pipeline=feature_pipeline)\n",
        "environment = TradingEnvironment(exchange=exchange, \n",
        "                                 action_strategy=action_strategy, \n",
        "                                 reward_strategy=reward_strategy) \n",
        "new_strategy.environment = environment \n",
        "tuned_performance = new_strategy.tune(episodes=10)"
      ],
      "execution_count": 0,
      "outputs": [
        {
          "output_type": "error",
          "ename": "NotImplementedError",
          "evalue": "ignored",
          "traceback": [
            "\u001b[0;31m---------------------------------------------------------------------------\u001b[0m",
            "\u001b[0;31mNotImplementedError\u001b[0m                       Traceback (most recent call last)",
            "\u001b[0;32m<ipython-input-49-4e7efc10a53c>\u001b[0m in \u001b[0;36m<module>\u001b[0;34m()\u001b[0m\n\u001b[1;32m      7\u001b[0m                                  reward_strategy=reward_strategy) \n\u001b[1;32m      8\u001b[0m \u001b[0mnew_strategy\u001b[0m\u001b[0;34m.\u001b[0m\u001b[0menvironment\u001b[0m \u001b[0;34m=\u001b[0m \u001b[0menvironment\u001b[0m\u001b[0;34m\u001b[0m\u001b[0;34m\u001b[0m\u001b[0m\n\u001b[0;32m----> 9\u001b[0;31m \u001b[0mtuned_performance\u001b[0m \u001b[0;34m=\u001b[0m \u001b[0mnew_strategy\u001b[0m\u001b[0;34m.\u001b[0m\u001b[0mtune\u001b[0m\u001b[0;34m(\u001b[0m\u001b[0mepisodes\u001b[0m\u001b[0;34m=\u001b[0m\u001b[0;36m10\u001b[0m\u001b[0;34m)\u001b[0m\u001b[0;34m\u001b[0m\u001b[0;34m\u001b[0m\u001b[0m\n\u001b[0m",
            "\u001b[0;32m/content/tensortrade/tensortrade/strategies/stable_baselines_strategy.py\u001b[0m in \u001b[0;36mtune\u001b[0;34m(self, steps, episodes, callback)\u001b[0m\n\u001b[1;32m     81\u001b[0m \u001b[0;34m\u001b[0m\u001b[0m\n\u001b[1;32m     82\u001b[0m     \u001b[0;32mdef\u001b[0m \u001b[0mtune\u001b[0m\u001b[0;34m(\u001b[0m\u001b[0mself\u001b[0m\u001b[0;34m,\u001b[0m \u001b[0msteps\u001b[0m\u001b[0;34m:\u001b[0m \u001b[0mint\u001b[0m \u001b[0;34m=\u001b[0m \u001b[0;32mNone\u001b[0m\u001b[0;34m,\u001b[0m \u001b[0mepisodes\u001b[0m\u001b[0;34m:\u001b[0m \u001b[0mint\u001b[0m \u001b[0;34m=\u001b[0m \u001b[0;32mNone\u001b[0m\u001b[0;34m,\u001b[0m \u001b[0mcallback\u001b[0m\u001b[0;34m:\u001b[0m \u001b[0mCallable\u001b[0m\u001b[0;34m[\u001b[0m\u001b[0;34m[\u001b[0m\u001b[0mpd\u001b[0m\u001b[0;34m.\u001b[0m\u001b[0mDataFrame\u001b[0m\u001b[0;34m]\u001b[0m\u001b[0;34m,\u001b[0m \u001b[0mbool\u001b[0m\u001b[0;34m]\u001b[0m \u001b[0;34m=\u001b[0m \u001b[0;32mNone\u001b[0m\u001b[0;34m)\u001b[0m \u001b[0;34m->\u001b[0m \u001b[0mpd\u001b[0m\u001b[0;34m.\u001b[0m\u001b[0mDataFrame\u001b[0m\u001b[0;34m:\u001b[0m\u001b[0;34m\u001b[0m\u001b[0;34m\u001b[0m\u001b[0m\n\u001b[0;32m---> 83\u001b[0;31m         \u001b[0;32mraise\u001b[0m \u001b[0mNotImplementedError\u001b[0m\u001b[0;34m\u001b[0m\u001b[0;34m\u001b[0m\u001b[0m\n\u001b[0m\u001b[1;32m     84\u001b[0m \u001b[0;34m\u001b[0m\u001b[0m\n\u001b[1;32m     85\u001b[0m     \u001b[0;32mdef\u001b[0m \u001b[0mrun\u001b[0m\u001b[0;34m(\u001b[0m\u001b[0mself\u001b[0m\u001b[0;34m,\u001b[0m \u001b[0msteps\u001b[0m\u001b[0;34m:\u001b[0m \u001b[0mint\u001b[0m \u001b[0;34m=\u001b[0m \u001b[0;32mNone\u001b[0m\u001b[0;34m,\u001b[0m \u001b[0mepisodes\u001b[0m\u001b[0;34m:\u001b[0m \u001b[0mint\u001b[0m \u001b[0;34m=\u001b[0m \u001b[0;32mNone\u001b[0m\u001b[0;34m,\u001b[0m \u001b[0mepisode_callback\u001b[0m\u001b[0;34m:\u001b[0m \u001b[0mCallable\u001b[0m\u001b[0;34m[\u001b[0m\u001b[0;34m[\u001b[0m\u001b[0mpd\u001b[0m\u001b[0;34m.\u001b[0m\u001b[0mDataFrame\u001b[0m\u001b[0;34m]\u001b[0m\u001b[0;34m,\u001b[0m \u001b[0mbool\u001b[0m\u001b[0;34m]\u001b[0m \u001b[0;34m=\u001b[0m \u001b[0;32mNone\u001b[0m\u001b[0;34m)\u001b[0m \u001b[0;34m->\u001b[0m \u001b[0mpd\u001b[0m\u001b[0;34m.\u001b[0m\u001b[0mDataFrame\u001b[0m\u001b[0;34m:\u001b[0m\u001b[0;34m\u001b[0m\u001b[0;34m\u001b[0m\u001b[0m\n",
            "\u001b[0;31mNotImplementedError\u001b[0m: "
          ]
        }
      ]
    },
    {
      "cell_type": "markdown",
      "metadata": {
        "id": "lvBJImN1wsG0",
        "colab_type": "text"
      },
      "source": [
        "In this case, the agent will be trained for 10 episodes, with a different set of hyper-parameters each episode. The best set will be saved within the strategy, and used any time strategy.run() is called thereafter.\n",
        "\n",
        "## Strategy Evaluation\n",
        "\n",
        "Now that we've tuned and trained our agent, it's time to see how well it performs. To evaluate our strategy's performance on unseen data, we will need to run it on a new environment backed by such data."
      ]
    },
    {
      "cell_type": "code",
      "metadata": {
        "id": "wHJxmivowsG5",
        "colab_type": "code",
        "outputId": "df1f315c-76cc-4b91-aa83-f67da8f522cd",
        "colab": {
          "base_uri": "https://localhost:8080/",
          "height": 68
        }
      },
      "source": [
        "import pandas as pd\n",
        "from tensortrade.environments import TradingEnvironment\n",
        "from tensortrade.exchanges.simulated import SimulatedExchange\n",
        "\n",
        "df = pd.read_csv('/content/tensortrade/examples/data/Coinbase_BTCUSD_d.csv', skiprows=1)\n",
        "exchange = SimulatedExchange(data_frame=df,\n",
        "                             feature_pipeline=feature_pipeline,\n",
        "                             base_instrument='USD',\n",
        "                             should_pretransform_obs=True)\n",
        "\n",
        "environment = TradingEnvironment(exchange=exchange,\n",
        "                                 action_strategy=action_strategy,\n",
        "                                 reward_strategy=reward_strategy)\n",
        "\n",
        "new_strategy.environment = environment\n",
        "\n",
        "test_performance = new_strategy.run(steps=2000)"
      ],
      "execution_count": 0,
      "outputs": [
        {
          "output_type": "stream",
          "text": [
            "Finished running strategy.\n",
            "Total episodes: 1 (2000 timesteps).\n",
            "Average reward: -0.6791065948644133.\n"
          ],
          "name": "stdout"
        }
      ]
    },
    {
      "cell_type": "code",
      "metadata": {
        "id": "9_NCqq5SSyBG",
        "colab_type": "code",
        "outputId": "fb3dd991-b088-43da-c388-6171b5620290",
        "colab": {
          "base_uri": "https://localhost:8080/",
          "height": 204
        }
      },
      "source": [
        "df.tail()"
      ],
      "execution_count": 0,
      "outputs": [
        {
          "output_type": "execute_result",
          "data": {
            "text/html": [
              "<div>\n",
              "<style scoped>\n",
              "    .dataframe tbody tr th:only-of-type {\n",
              "        vertical-align: middle;\n",
              "    }\n",
              "\n",
              "    .dataframe tbody tr th {\n",
              "        vertical-align: top;\n",
              "    }\n",
              "\n",
              "    .dataframe thead th {\n",
              "        text-align: right;\n",
              "    }\n",
              "</style>\n",
              "<table border=\"1\" class=\"dataframe\">\n",
              "  <thead>\n",
              "    <tr style=\"text-align: right;\">\n",
              "      <th></th>\n",
              "      <th>date</th>\n",
              "      <th>symbol</th>\n",
              "      <th>open</th>\n",
              "      <th>high</th>\n",
              "      <th>low</th>\n",
              "      <th>close</th>\n",
              "      <th>volume_btc</th>\n",
              "      <th>volume</th>\n",
              "    </tr>\n",
              "  </thead>\n",
              "  <tbody>\n",
              "    <tr>\n",
              "      <th>1765</th>\n",
              "      <td>2014-12-05</td>\n",
              "      <td>BTCUSD</td>\n",
              "      <td>377.1</td>\n",
              "      <td>377.1</td>\n",
              "      <td>377.10</td>\n",
              "      <td>377.1</td>\n",
              "      <td>0.00000</td>\n",
              "      <td>0.00</td>\n",
              "    </tr>\n",
              "    <tr>\n",
              "      <th>1766</th>\n",
              "      <td>2014-12-04</td>\n",
              "      <td>BTCUSD</td>\n",
              "      <td>378.0</td>\n",
              "      <td>378.0</td>\n",
              "      <td>377.10</td>\n",
              "      <td>377.1</td>\n",
              "      <td>0.01000</td>\n",
              "      <td>3.77</td>\n",
              "    </tr>\n",
              "    <tr>\n",
              "      <th>1767</th>\n",
              "      <td>2014-12-03</td>\n",
              "      <td>BTCUSD</td>\n",
              "      <td>378.0</td>\n",
              "      <td>378.0</td>\n",
              "      <td>377.01</td>\n",
              "      <td>378.0</td>\n",
              "      <td>0.54660</td>\n",
              "      <td>206.52</td>\n",
              "    </tr>\n",
              "    <tr>\n",
              "      <th>1768</th>\n",
              "      <td>2014-12-02</td>\n",
              "      <td>BTCUSD</td>\n",
              "      <td>370.0</td>\n",
              "      <td>378.0</td>\n",
              "      <td>370.00</td>\n",
              "      <td>378.0</td>\n",
              "      <td>15.01000</td>\n",
              "      <td>5675.07</td>\n",
              "    </tr>\n",
              "    <tr>\n",
              "      <th>1769</th>\n",
              "      <td>2014-12-01</td>\n",
              "      <td>BTCUSD</td>\n",
              "      <td>300.0</td>\n",
              "      <td>370.0</td>\n",
              "      <td>300.00</td>\n",
              "      <td>370.0</td>\n",
              "      <td>0.05656</td>\n",
              "      <td>19.53</td>\n",
              "    </tr>\n",
              "  </tbody>\n",
              "</table>\n",
              "</div>"
            ],
            "text/plain": [
              "            date  symbol   open   high     low  close  volume_btc   volume\n",
              "1765  2014-12-05  BTCUSD  377.1  377.1  377.10  377.1     0.00000     0.00\n",
              "1766  2014-12-04  BTCUSD  378.0  378.0  377.10  377.1     0.01000     3.77\n",
              "1767  2014-12-03  BTCUSD  378.0  378.0  377.01  378.0     0.54660   206.52\n",
              "1768  2014-12-02  BTCUSD  370.0  378.0  370.00  378.0    15.01000  5675.07\n",
              "1769  2014-12-01  BTCUSD  300.0  370.0  300.00  370.0     0.05656    19.53"
            ]
          },
          "metadata": {
            "tags": []
          },
          "execution_count": 55
        }
      ]
    },
    {
      "cell_type": "code",
      "metadata": {
        "id": "w0X7OhFpwsHA",
        "colab_type": "code",
        "outputId": "74b89dc2-5687-4b48-8986-4a579f5881dd",
        "colab": {
          "base_uri": "https://localhost:8080/",
          "height": 286
        }
      },
      "source": [
        "%matplotlib inline\n",
        "\n",
        "test_performance.net_worth.plot()"
      ],
      "execution_count": 0,
      "outputs": [
        {
          "output_type": "execute_result",
          "data": {
            "text/plain": [
              "<matplotlib.axes._subplots.AxesSubplot at 0x7efc0e41f400>"
            ]
          },
          "metadata": {
            "tags": []
          },
          "execution_count": 31
        },
        {
          "output_type": "display_data",
          "data": {
            "image/png": "[encoded data removed]",
            "text/plain": [
              "<Figure size 432x288 with 1 Axes>"
            ]
          },
          "metadata": {
            "tags": []
          }
        }
      ]
    },
    {
      "cell_type": "markdown",
      "metadata": {
        "id": "yIivIOxCwsHK",
        "colab_type": "text"
      },
      "source": [
        "When complete, strategy.run returns a `Pandas.data_frame` of the agent's performance, including the net worth and balance of the agent at each time step.\n",
        "\n",
        "## Live Trading\n",
        "\n",
        "Once you've built a profitable trading strategy, trained an agent to trade it properly, and ensured its \"generalize-ability\" to new data sets, all there is left to do is profit. Using a live exchange such as `CCXTExchange`, you can plug your strategy in and let it run!\n",
        "\n",
        "While the gambler in you may enjoy starting a strategy and letting it run without bounds, the more risk averse of you can use a `trade_callback`, which will be called each time the strategy makes a trade. This callback function, similar to the episode callback, will pass in a data frame containing the agent's overall performance, and expects a `bool` in return. If `True`, the agent will continue trading, otherwise, the agent will stop and return its performance over the session."
      ]
    },
    {
      "cell_type": "code",
      "metadata": {
        "id": "bdf8H0tuwsHO",
        "colab_type": "code",
        "outputId": "566d72d8-8767-40a3-bf4b-814cce16261d",
        "colab": {
          "base_uri": "https://localhost:8080/",
          "height": 445
        }
      },
      "source": [
        "import ccxt\n",
        "from tensortrade.environments import TradingEnvironment\n",
        "from tensortrade.exchanges.live import CCXTExchange\n",
        "\n",
        "binance = ccxt.binance({\n",
        "    'apiKey': 'HfPX38sJ2aKewYDUJx6TaWrDhuT7rq426elO5Gbc55Dvg4klASEfm0aqcdl4Mpz6',\n",
        "    'secret': 'aGdMMaaol3GkyzDcrSEoc4aFlWG78qCxnGl3o22ub24u2scrZRcsIe2qn0kI82GQ',\n",
        "    'enableRateLimit': True,\n",
        "})\n",
        "\n",
        "exchange = CCXTExchange(exchange=binance,\n",
        "                        base_instrument='BNB',\n",
        "                        observation_type='ohlcv',\n",
        "                        timeframe='1h')\n",
        "\n",
        "btcusd_actions = DiscreteActionStrategy(n_actions=20, instrument_symbol='BNB/BTC')\n",
        "\n",
        "environment = TradingEnvironment(exchange=exchange,\n",
        "                                 feature_pipeline=feature_pipeline,\n",
        "                                 action_strategy=btcusd_actions,\n",
        "                                 reward_strategy=reward_strategy)\n",
        "\n",
        "strategy.environment = environment\n",
        "\n",
        "live_performance = strategy.run(steps=1)"
      ],
      "execution_count": 0,
      "outputs": [
        {
          "output_type": "error",
          "ename": "InvalidOrder",
          "evalue": "ignored",
          "traceback": [
            "\u001b[0;31m---------------------------------------------------------------------------\u001b[0m",
            "\u001b[0;31mHTTPError\u001b[0m                                 Traceback (most recent call last)",
            "\u001b[0;32m/usr/local/lib/python3.6/dist-packages/ccxt/base/exchange.py\u001b[0m in \u001b[0;36mfetch\u001b[0;34m(self, url, method, headers, body)\u001b[0m\n\u001b[1;32m    539\u001b[0m             \u001b[0mself\u001b[0m\u001b[0;34m.\u001b[0m\u001b[0mlogger\u001b[0m\u001b[0;34m.\u001b[0m\u001b[0mdebug\u001b[0m\u001b[0;34m(\u001b[0m\u001b[0;34m\"%s %s, Response: %s %s %s\"\u001b[0m\u001b[0;34m,\u001b[0m \u001b[0mmethod\u001b[0m\u001b[0;34m,\u001b[0m \u001b[0murl\u001b[0m\u001b[0;34m,\u001b[0m \u001b[0mhttp_status_code\u001b[0m\u001b[0;34m,\u001b[0m \u001b[0mheaders\u001b[0m\u001b[0;34m,\u001b[0m \u001b[0mhttp_response\u001b[0m\u001b[0;34m)\u001b[0m\u001b[0;34m\u001b[0m\u001b[0;34m\u001b[0m\u001b[0m\n\u001b[0;32m--> 540\u001b[0;31m             \u001b[0mresponse\u001b[0m\u001b[0;34m.\u001b[0m\u001b[0mraise_for_status\u001b[0m\u001b[0;34m(\u001b[0m\u001b[0;34m)\u001b[0m\u001b[0;34m\u001b[0m\u001b[0;34m\u001b[0m\u001b[0m\n\u001b[0m\u001b[1;32m    541\u001b[0m \u001b[0;34m\u001b[0m\u001b[0m\n",
            "\u001b[0;32m/usr/local/lib/python3.6/dist-packages/requests/models.py\u001b[0m in \u001b[0;36mraise_for_status\u001b[0;34m(self)\u001b[0m\n\u001b[1;32m    939\u001b[0m         \u001b[0;32mif\u001b[0m \u001b[0mhttp_error_msg\u001b[0m\u001b[0;34m:\u001b[0m\u001b[0;34m\u001b[0m\u001b[0;34m\u001b[0m\u001b[0m\n\u001b[0;32m--> 940\u001b[0;31m             \u001b[0;32mraise\u001b[0m \u001b[0mHTTPError\u001b[0m\u001b[0;34m(\u001b[0m\u001b[0mhttp_error_msg\u001b[0m\u001b[0;34m,\u001b[0m \u001b[0mresponse\u001b[0m\u001b[0;34m=\u001b[0m\u001b[0mself\u001b[0m\u001b[0;34m)\u001b[0m\u001b[0;34m\u001b[0m\u001b[0;34m\u001b[0m\u001b[0m\n\u001b[0m\u001b[1;32m    941\u001b[0m \u001b[0;34m\u001b[0m\u001b[0m\n",
            "\u001b[0;31mHTTPError\u001b[0m: 400 Client Error: Bad Request for url: https://api.binance.com/api/v3/order",
            "\nDuring handling of the above exception, another exception occurred:\n",
            "\u001b[0;31mInvalidOrder\u001b[0m                              Traceback (most recent call last)",
            "\u001b[0;32m<ipython-input-28-3d904bc48c58>\u001b[0m in \u001b[0;36m<module>\u001b[0;34m()\u001b[0m\n\u001b[1;32m     23\u001b[0m \u001b[0mstrategy\u001b[0m\u001b[0;34m.\u001b[0m\u001b[0menvironment\u001b[0m \u001b[0;34m=\u001b[0m \u001b[0menvironment\u001b[0m\u001b[0;34m\u001b[0m\u001b[0;34m\u001b[0m\u001b[0m\n\u001b[1;32m     24\u001b[0m \u001b[0;34m\u001b[0m\u001b[0m\n\u001b[0;32m---> 25\u001b[0;31m \u001b[0mlive_performance\u001b[0m \u001b[0;34m=\u001b[0m \u001b[0mstrategy\u001b[0m\u001b[0;34m.\u001b[0m\u001b[0mrun\u001b[0m\u001b[0;34m(\u001b[0m\u001b[0msteps\u001b[0m\u001b[0;34m=\u001b[0m\u001b[0;36m1\u001b[0m\u001b[0;34m)\u001b[0m\u001b[0;34m\u001b[0m\u001b[0;34m\u001b[0m\u001b[0m\n\u001b[0m",
            "\u001b[0;32m/content/tensortrade/tensortrade/strategies/stable_baselines_strategy.py\u001b[0m in \u001b[0;36mrun\u001b[0;34m(self, steps, episodes, episode_callback)\u001b[0m\n\u001b[1;32m     98\u001b[0m         \u001b[0;32mwhile\u001b[0m \u001b[0;34m(\u001b[0m\u001b[0msteps\u001b[0m \u001b[0;32mis\u001b[0m \u001b[0;32mnot\u001b[0m \u001b[0;32mNone\u001b[0m \u001b[0;32mand\u001b[0m \u001b[0;34m(\u001b[0m\u001b[0msteps\u001b[0m \u001b[0;34m==\u001b[0m \u001b[0;36m0\u001b[0m \u001b[0;32mor\u001b[0m \u001b[0msteps_completed\u001b[0m \u001b[0;34m<\u001b[0m \u001b[0msteps\u001b[0m\u001b[0;34m)\u001b[0m\u001b[0;34m)\u001b[0m \u001b[0;32mor\u001b[0m \u001b[0;34m(\u001b[0m\u001b[0mepisodes\u001b[0m \u001b[0;32mis\u001b[0m \u001b[0;32mnot\u001b[0m \u001b[0;32mNone\u001b[0m \u001b[0;32mand\u001b[0m \u001b[0mepisodes_completed\u001b[0m \u001b[0;34m<\u001b[0m \u001b[0mepisodes\u001b[0m\u001b[0;34m)\u001b[0m\u001b[0;34m:\u001b[0m\u001b[0;34m\u001b[0m\u001b[0;34m\u001b[0m\u001b[0m\n\u001b[1;32m     99\u001b[0m             \u001b[0mactions\u001b[0m\u001b[0;34m,\u001b[0m \u001b[0mstate\u001b[0m \u001b[0;34m=\u001b[0m \u001b[0mself\u001b[0m\u001b[0;34m.\u001b[0m\u001b[0m_agent\u001b[0m\u001b[0;34m.\u001b[0m\u001b[0mpredict\u001b[0m\u001b[0;34m(\u001b[0m\u001b[0mobs\u001b[0m\u001b[0;34m,\u001b[0m \u001b[0mstate\u001b[0m\u001b[0;34m=\u001b[0m\u001b[0mstate\u001b[0m\u001b[0;34m,\u001b[0m \u001b[0mmask\u001b[0m\u001b[0;34m=\u001b[0m\u001b[0mdones\u001b[0m\u001b[0;34m)\u001b[0m\u001b[0;34m\u001b[0m\u001b[0;34m\u001b[0m\u001b[0m\n\u001b[0;32m--> 100\u001b[0;31m             \u001b[0mobs\u001b[0m\u001b[0;34m,\u001b[0m \u001b[0mrewards\u001b[0m\u001b[0;34m,\u001b[0m \u001b[0mdones\u001b[0m\u001b[0;34m,\u001b[0m \u001b[0minfo\u001b[0m \u001b[0;34m=\u001b[0m \u001b[0mself\u001b[0m\u001b[0;34m.\u001b[0m\u001b[0m_environment\u001b[0m\u001b[0;34m.\u001b[0m\u001b[0mstep\u001b[0m\u001b[0;34m(\u001b[0m\u001b[0mactions\u001b[0m\u001b[0;34m)\u001b[0m\u001b[0;34m\u001b[0m\u001b[0;34m\u001b[0m\u001b[0m\n\u001b[0m\u001b[1;32m    101\u001b[0m \u001b[0;34m\u001b[0m\u001b[0m\n\u001b[1;32m    102\u001b[0m             \u001b[0msteps_completed\u001b[0m \u001b[0;34m+=\u001b[0m \u001b[0;36m1\u001b[0m\u001b[0;34m\u001b[0m\u001b[0;34m\u001b[0m\u001b[0m\n",
            "\u001b[0;32m/usr/local/lib/python3.6/dist-packages/stable_baselines/common/vec_env/base_vec_env.py\u001b[0m in \u001b[0;36mstep\u001b[0;34m(self, actions)\u001b[0m\n\u001b[1;32m    132\u001b[0m         \"\"\"\n\u001b[1;32m    133\u001b[0m         \u001b[0mself\u001b[0m\u001b[0;34m.\u001b[0m\u001b[0mstep_async\u001b[0m\u001b[0;34m(\u001b[0m\u001b[0mactions\u001b[0m\u001b[0;34m)\u001b[0m\u001b[0;34m\u001b[0m\u001b[0;34m\u001b[0m\u001b[0m\n\u001b[0;32m--> 134\u001b[0;31m         \u001b[0;32mreturn\u001b[0m \u001b[0mself\u001b[0m\u001b[0;34m.\u001b[0m\u001b[0mstep_wait\u001b[0m\u001b[0;34m(\u001b[0m\u001b[0;34m)\u001b[0m\u001b[0;34m\u001b[0m\u001b[0;34m\u001b[0m\u001b[0m\n\u001b[0m\u001b[1;32m    135\u001b[0m \u001b[0;34m\u001b[0m\u001b[0m\n\u001b[1;32m    136\u001b[0m     \u001b[0;32mdef\u001b[0m \u001b[0mget_images\u001b[0m\u001b[0;34m(\u001b[0m\u001b[0mself\u001b[0m\u001b[0;34m)\u001b[0m\u001b[0;34m:\u001b[0m\u001b[0;34m\u001b[0m\u001b[0;34m\u001b[0m\u001b[0m\n",
            "\u001b[0;32m/usr/local/lib/python3.6/dist-packages/stable_baselines/common/vec_env/dummy_vec_env.py\u001b[0m in \u001b[0;36mstep_wait\u001b[0;34m(self)\u001b[0m\n\u001b[1;32m     38\u001b[0m         \u001b[0;32mfor\u001b[0m \u001b[0menv_idx\u001b[0m \u001b[0;32min\u001b[0m \u001b[0mrange\u001b[0m\u001b[0;34m(\u001b[0m\u001b[0mself\u001b[0m\u001b[0;34m.\u001b[0m\u001b[0mnum_envs\u001b[0m\u001b[0;34m)\u001b[0m\u001b[0;34m:\u001b[0m\u001b[0;34m\u001b[0m\u001b[0;34m\u001b[0m\u001b[0m\n\u001b[1;32m     39\u001b[0m             \u001b[0mobs\u001b[0m\u001b[0;34m,\u001b[0m \u001b[0mself\u001b[0m\u001b[0;34m.\u001b[0m\u001b[0mbuf_rews\u001b[0m\u001b[0;34m[\u001b[0m\u001b[0menv_idx\u001b[0m\u001b[0;34m]\u001b[0m\u001b[0;34m,\u001b[0m \u001b[0mself\u001b[0m\u001b[0;34m.\u001b[0m\u001b[0mbuf_dones\u001b[0m\u001b[0;34m[\u001b[0m\u001b[0menv_idx\u001b[0m\u001b[0;34m]\u001b[0m\u001b[0;34m,\u001b[0m \u001b[0mself\u001b[0m\u001b[0;34m.\u001b[0m\u001b[0mbuf_infos\u001b[0m\u001b[0;34m[\u001b[0m\u001b[0menv_idx\u001b[0m\u001b[0;34m]\u001b[0m \u001b[0;34m=\u001b[0m\u001b[0;31m\\\u001b[0m\u001b[0;34m\u001b[0m\u001b[0;34m\u001b[0m\u001b[0m\n\u001b[0;32m---> 40\u001b[0;31m                 \u001b[0mself\u001b[0m\u001b[0;34m.\u001b[0m\u001b[0menvs\u001b[0m\u001b[0;34m[\u001b[0m\u001b[0menv_idx\u001b[0m\u001b[0;34m]\u001b[0m\u001b[0;34m.\u001b[0m\u001b[0mstep\u001b[0m\u001b[0;34m(\u001b[0m\u001b[0mself\u001b[0m\u001b[0;34m.\u001b[0m\u001b[0mactions\u001b[0m\u001b[0;34m[\u001b[0m\u001b[0menv_idx\u001b[0m\u001b[0;34m]\u001b[0m\u001b[0;34m)\u001b[0m\u001b[0;34m\u001b[0m\u001b[0;34m\u001b[0m\u001b[0m\n\u001b[0m\u001b[1;32m     41\u001b[0m             \u001b[0;32mif\u001b[0m \u001b[0mself\u001b[0m\u001b[0;34m.\u001b[0m\u001b[0mbuf_dones\u001b[0m\u001b[0;34m[\u001b[0m\u001b[0menv_idx\u001b[0m\u001b[0;34m]\u001b[0m\u001b[0;34m:\u001b[0m\u001b[0;34m\u001b[0m\u001b[0;34m\u001b[0m\u001b[0m\n\u001b[1;32m     42\u001b[0m                 \u001b[0;31m# save final observation where user can get it, then reset\u001b[0m\u001b[0;34m\u001b[0m\u001b[0;34m\u001b[0m\u001b[0;34m\u001b[0m\u001b[0m\n",
            "\u001b[0;32m/content/tensortrade/tensortrade/environments/trading_environment.py\u001b[0m in \u001b[0;36mstep\u001b[0;34m(self, action)\u001b[0m\n\u001b[1;32m    187\u001b[0m             \u001b[0minfo\u001b[0m \u001b[0;34m(\u001b[0m\u001b[0mdict\u001b[0m\u001b[0;34m)\u001b[0m\u001b[0;34m:\u001b[0m \u001b[0mAny\u001b[0m \u001b[0mauxiliary\u001b[0m\u001b[0;34m,\u001b[0m \u001b[0mdiagnostic\u001b[0m\u001b[0;34m,\u001b[0m \u001b[0;32mor\u001b[0m \u001b[0mdebugging\u001b[0m \u001b[0minformation\u001b[0m \u001b[0mto\u001b[0m \u001b[0moutput\u001b[0m\u001b[0;34m.\u001b[0m\u001b[0;34m\u001b[0m\u001b[0;34m\u001b[0m\u001b[0m\n\u001b[1;32m    188\u001b[0m         \"\"\"\n\u001b[0;32m--> 189\u001b[0;31m         \u001b[0mexecuted_trade\u001b[0m\u001b[0;34m,\u001b[0m \u001b[0mfilled_trade\u001b[0m \u001b[0;34m=\u001b[0m \u001b[0mself\u001b[0m\u001b[0;34m.\u001b[0m\u001b[0m_take_action\u001b[0m\u001b[0;34m(\u001b[0m\u001b[0maction\u001b[0m\u001b[0;34m)\u001b[0m\u001b[0;34m\u001b[0m\u001b[0;34m\u001b[0m\u001b[0m\n\u001b[0m\u001b[1;32m    190\u001b[0m \u001b[0;34m\u001b[0m\u001b[0m\n\u001b[1;32m    191\u001b[0m         \u001b[0mobservation\u001b[0m \u001b[0;34m=\u001b[0m \u001b[0mself\u001b[0m\u001b[0;34m.\u001b[0m\u001b[0m_next_observation\u001b[0m\u001b[0;34m(\u001b[0m\u001b[0mfilled_trade\u001b[0m\u001b[0;34m)\u001b[0m\u001b[0;34m\u001b[0m\u001b[0;34m\u001b[0m\u001b[0m\n",
            "\u001b[0;32m/content/tensortrade/tensortrade/environments/trading_environment.py\u001b[0m in \u001b[0;36m_take_action\u001b[0;34m(self, action)\u001b[0m\n\u001b[1;32m    122\u001b[0m         \u001b[0mexecuted_trade\u001b[0m \u001b[0;34m=\u001b[0m \u001b[0mself\u001b[0m\u001b[0;34m.\u001b[0m\u001b[0m_action_strategy\u001b[0m\u001b[0;34m.\u001b[0m\u001b[0mget_trade\u001b[0m\u001b[0;34m(\u001b[0m\u001b[0maction\u001b[0m\u001b[0;34m=\u001b[0m\u001b[0maction\u001b[0m\u001b[0;34m)\u001b[0m\u001b[0;34m\u001b[0m\u001b[0;34m\u001b[0m\u001b[0m\n\u001b[1;32m    123\u001b[0m \u001b[0;34m\u001b[0m\u001b[0m\n\u001b[0;32m--> 124\u001b[0;31m         \u001b[0mfilled_trade\u001b[0m \u001b[0;34m=\u001b[0m \u001b[0mself\u001b[0m\u001b[0;34m.\u001b[0m\u001b[0m_exchange\u001b[0m\u001b[0;34m.\u001b[0m\u001b[0mexecute_trade\u001b[0m\u001b[0;34m(\u001b[0m\u001b[0mexecuted_trade\u001b[0m\u001b[0;34m)\u001b[0m\u001b[0;34m\u001b[0m\u001b[0;34m\u001b[0m\u001b[0m\n\u001b[0m\u001b[1;32m    125\u001b[0m \u001b[0;34m\u001b[0m\u001b[0m\n\u001b[1;32m    126\u001b[0m         \u001b[0;32mreturn\u001b[0m \u001b[0mexecuted_trade\u001b[0m\u001b[0;34m,\u001b[0m \u001b[0mfilled_trade\u001b[0m\u001b[0;34m\u001b[0m\u001b[0;34m\u001b[0m\u001b[0m\n",
            "\u001b[0;32m/content/tensortrade/tensortrade/exchanges/live/ccxt_exchange.py\u001b[0m in \u001b[0;36mexecute_trade\u001b[0;34m(self, trade)\u001b[0m\n\u001b[1;32m    159\u001b[0m             \u001b[0morder\u001b[0m \u001b[0;34m=\u001b[0m \u001b[0mself\u001b[0m\u001b[0;34m.\u001b[0m\u001b[0m_exchange\u001b[0m\u001b[0;34m.\u001b[0m\u001b[0mcreate_limit_buy_order\u001b[0m\u001b[0;34m(\u001b[0m\u001b[0mtrade\u001b[0m\u001b[0;34m.\u001b[0m\u001b[0msymbol\u001b[0m\u001b[0;34m,\u001b[0m \u001b[0mtrade\u001b[0m\u001b[0;34m.\u001b[0m\u001b[0mamount\u001b[0m\u001b[0;34m,\u001b[0m \u001b[0mtrade\u001b[0m\u001b[0;34m.\u001b[0m\u001b[0mprice\u001b[0m\u001b[0;34m)\u001b[0m\u001b[0;34m\u001b[0m\u001b[0;34m\u001b[0m\u001b[0m\n\u001b[1;32m    160\u001b[0m         \u001b[0;32melif\u001b[0m \u001b[0mtrade\u001b[0m\u001b[0;34m.\u001b[0m\u001b[0mtrade_type\u001b[0m \u001b[0;34m==\u001b[0m \u001b[0mTradeType\u001b[0m\u001b[0;34m.\u001b[0m\u001b[0mMARKET_BUY\u001b[0m\u001b[0;34m:\u001b[0m\u001b[0;34m\u001b[0m\u001b[0;34m\u001b[0m\u001b[0m\n\u001b[0;32m--> 161\u001b[0;31m             \u001b[0morder\u001b[0m \u001b[0;34m=\u001b[0m \u001b[0mself\u001b[0m\u001b[0;34m.\u001b[0m\u001b[0m_exchange\u001b[0m\u001b[0;34m.\u001b[0m\u001b[0mcreate_market_buy_order\u001b[0m\u001b[0;34m(\u001b[0m\u001b[0mtrade\u001b[0m\u001b[0;34m.\u001b[0m\u001b[0msymbol\u001b[0m\u001b[0;34m,\u001b[0m \u001b[0mtrade\u001b[0m\u001b[0;34m.\u001b[0m\u001b[0mamount\u001b[0m\u001b[0;34m)\u001b[0m\u001b[0;34m\u001b[0m\u001b[0;34m\u001b[0m\u001b[0m\n\u001b[0m\u001b[1;32m    162\u001b[0m         \u001b[0;32melif\u001b[0m \u001b[0mtrade\u001b[0m\u001b[0;34m.\u001b[0m\u001b[0mtrade_type\u001b[0m \u001b[0;34m==\u001b[0m \u001b[0mTradeType\u001b[0m\u001b[0;34m.\u001b[0m\u001b[0mLIMIT_SELL\u001b[0m\u001b[0;34m:\u001b[0m\u001b[0;34m\u001b[0m\u001b[0;34m\u001b[0m\u001b[0m\n\u001b[1;32m    163\u001b[0m             \u001b[0morder\u001b[0m \u001b[0;34m=\u001b[0m \u001b[0mself\u001b[0m\u001b[0;34m.\u001b[0m\u001b[0m_exchange\u001b[0m\u001b[0;34m.\u001b[0m\u001b[0mcreate_limit_sell_order\u001b[0m\u001b[0;34m(\u001b[0m\u001b[0mtrade\u001b[0m\u001b[0;34m.\u001b[0m\u001b[0msymbol\u001b[0m\u001b[0;34m,\u001b[0m \u001b[0mtrade\u001b[0m\u001b[0;34m.\u001b[0m\u001b[0mamount\u001b[0m\u001b[0;34m,\u001b[0m \u001b[0mtrade\u001b[0m\u001b[0;34m.\u001b[0m\u001b[0mprice\u001b[0m\u001b[0;34m)\u001b[0m\u001b[0;34m\u001b[0m\u001b[0;34m\u001b[0m\u001b[0m\n",
            "\u001b[0;32m/usr/local/lib/python3.6/dist-packages/ccxt/base/exchange.py\u001b[0m in \u001b[0;36mcreate_market_buy_order\u001b[0;34m(self, symbol, amount, params)\u001b[0m\n\u001b[1;32m   1723\u001b[0m \u001b[0;34m\u001b[0m\u001b[0m\n\u001b[1;32m   1724\u001b[0m     \u001b[0;32mdef\u001b[0m \u001b[0mcreate_market_buy_order\u001b[0m\u001b[0;34m(\u001b[0m\u001b[0mself\u001b[0m\u001b[0;34m,\u001b[0m \u001b[0msymbol\u001b[0m\u001b[0;34m,\u001b[0m \u001b[0mamount\u001b[0m\u001b[0;34m,\u001b[0m \u001b[0mparams\u001b[0m\u001b[0;34m=\u001b[0m\u001b[0;34m{\u001b[0m\u001b[0;34m}\u001b[0m\u001b[0;34m)\u001b[0m\u001b[0;34m:\u001b[0m\u001b[0;34m\u001b[0m\u001b[0;34m\u001b[0m\u001b[0m\n\u001b[0;32m-> 1725\u001b[0;31m         \u001b[0;32mreturn\u001b[0m \u001b[0mself\u001b[0m\u001b[0;34m.\u001b[0m\u001b[0mcreate_order\u001b[0m\u001b[0;34m(\u001b[0m\u001b[0msymbol\u001b[0m\u001b[0;34m,\u001b[0m \u001b[0;34m'market'\u001b[0m\u001b[0;34m,\u001b[0m \u001b[0;34m'buy'\u001b[0m\u001b[0;34m,\u001b[0m \u001b[0mamount\u001b[0m\u001b[0;34m,\u001b[0m \u001b[0;32mNone\u001b[0m\u001b[0;34m,\u001b[0m \u001b[0mparams\u001b[0m\u001b[0;34m)\u001b[0m\u001b[0;34m\u001b[0m\u001b[0;34m\u001b[0m\u001b[0m\n\u001b[0m\u001b[1;32m   1726\u001b[0m \u001b[0;34m\u001b[0m\u001b[0m\n\u001b[1;32m   1727\u001b[0m     \u001b[0;32mdef\u001b[0m \u001b[0mcreate_market_sell_order\u001b[0m\u001b[0;34m(\u001b[0m\u001b[0mself\u001b[0m\u001b[0;34m,\u001b[0m \u001b[0msymbol\u001b[0m\u001b[0;34m,\u001b[0m \u001b[0mamount\u001b[0m\u001b[0;34m,\u001b[0m \u001b[0mparams\u001b[0m\u001b[0;34m=\u001b[0m\u001b[0;34m{\u001b[0m\u001b[0;34m}\u001b[0m\u001b[0;34m)\u001b[0m\u001b[0;34m:\u001b[0m\u001b[0;34m\u001b[0m\u001b[0;34m\u001b[0m\u001b[0m\n",
            "\u001b[0;32m/usr/local/lib/python3.6/dist-packages/ccxt/binance.py\u001b[0m in \u001b[0;36mcreate_order\u001b[0;34m(self, symbol, type, side, amount, price, params)\u001b[0m\n\u001b[1;32m    771\u001b[0m                 \u001b[0mparams\u001b[0m \u001b[0;34m=\u001b[0m \u001b[0mself\u001b[0m\u001b[0;34m.\u001b[0m\u001b[0momit\u001b[0m\u001b[0;34m(\u001b[0m\u001b[0mparams\u001b[0m\u001b[0;34m,\u001b[0m \u001b[0;34m'stopPrice'\u001b[0m\u001b[0;34m)\u001b[0m\u001b[0;34m\u001b[0m\u001b[0;34m\u001b[0m\u001b[0m\n\u001b[1;32m    772\u001b[0m                 \u001b[0mrequest\u001b[0m\u001b[0;34m[\u001b[0m\u001b[0;34m'stopPrice'\u001b[0m\u001b[0;34m]\u001b[0m \u001b[0;34m=\u001b[0m \u001b[0mself\u001b[0m\u001b[0;34m.\u001b[0m\u001b[0mprice_to_precision\u001b[0m\u001b[0;34m(\u001b[0m\u001b[0msymbol\u001b[0m\u001b[0;34m,\u001b[0m \u001b[0mstopPrice\u001b[0m\u001b[0;34m)\u001b[0m\u001b[0;34m\u001b[0m\u001b[0;34m\u001b[0m\u001b[0m\n\u001b[0;32m--> 773\u001b[0;31m         \u001b[0mresponse\u001b[0m \u001b[0;34m=\u001b[0m \u001b[0mgetattr\u001b[0m\u001b[0;34m(\u001b[0m\u001b[0mself\u001b[0m\u001b[0;34m,\u001b[0m \u001b[0mmethod\u001b[0m\u001b[0;34m)\u001b[0m\u001b[0;34m(\u001b[0m\u001b[0mself\u001b[0m\u001b[0;34m.\u001b[0m\u001b[0mextend\u001b[0m\u001b[0;34m(\u001b[0m\u001b[0mrequest\u001b[0m\u001b[0;34m,\u001b[0m \u001b[0mparams\u001b[0m\u001b[0;34m)\u001b[0m\u001b[0;34m)\u001b[0m\u001b[0;34m\u001b[0m\u001b[0;34m\u001b[0m\u001b[0m\n\u001b[0m\u001b[1;32m    774\u001b[0m         \u001b[0;32mreturn\u001b[0m \u001b[0mself\u001b[0m\u001b[0;34m.\u001b[0m\u001b[0mparse_order\u001b[0m\u001b[0;34m(\u001b[0m\u001b[0mresponse\u001b[0m\u001b[0;34m,\u001b[0m \u001b[0mmarket\u001b[0m\u001b[0;34m)\u001b[0m\u001b[0;34m\u001b[0m\u001b[0;34m\u001b[0m\u001b[0m\n\u001b[1;32m    775\u001b[0m \u001b[0;34m\u001b[0m\u001b[0m\n",
            "\u001b[0;32m/usr/local/lib/python3.6/dist-packages/ccxt/base/exchange.py\u001b[0m in \u001b[0;36minner\u001b[0;34m(_self, params)\u001b[0m\n\u001b[1;32m    434\u001b[0m                             \u001b[0;32mif\u001b[0m \u001b[0mparams\u001b[0m \u001b[0;32mis\u001b[0m \u001b[0;32mnot\u001b[0m \u001b[0;32mNone\u001b[0m\u001b[0;34m:\u001b[0m\u001b[0;34m\u001b[0m\u001b[0;34m\u001b[0m\u001b[0m\n\u001b[1;32m    435\u001b[0m                                 \u001b[0minner_kwargs\u001b[0m\u001b[0;34m[\u001b[0m\u001b[0;34m'params'\u001b[0m\u001b[0;34m]\u001b[0m \u001b[0;34m=\u001b[0m \u001b[0mparams\u001b[0m\u001b[0;34m\u001b[0m\u001b[0;34m\u001b[0m\u001b[0m\n\u001b[0;32m--> 436\u001b[0;31m                             \u001b[0;32mreturn\u001b[0m \u001b[0mentry\u001b[0m\u001b[0;34m(\u001b[0m\u001b[0m_self\u001b[0m\u001b[0;34m,\u001b[0m \u001b[0;34m**\u001b[0m\u001b[0minner_kwargs\u001b[0m\u001b[0;34m)\u001b[0m\u001b[0;34m\u001b[0m\u001b[0;34m\u001b[0m\u001b[0m\n\u001b[0m\u001b[1;32m    437\u001b[0m                         \u001b[0;32mreturn\u001b[0m \u001b[0minner\u001b[0m\u001b[0;34m\u001b[0m\u001b[0;34m\u001b[0m\u001b[0m\n\u001b[1;32m    438\u001b[0m                     \u001b[0mto_bind\u001b[0m \u001b[0;34m=\u001b[0m \u001b[0mpartialer\u001b[0m\u001b[0;34m(\u001b[0m\u001b[0;34m)\u001b[0m\u001b[0;34m\u001b[0m\u001b[0;34m\u001b[0m\u001b[0m\n",
            "\u001b[0;32m/usr/local/lib/python3.6/dist-packages/ccxt/binance.py\u001b[0m in \u001b[0;36mrequest\u001b[0;34m(self, path, api, method, params, headers, body)\u001b[0m\n\u001b[1;32m   1288\u001b[0m \u001b[0;34m\u001b[0m\u001b[0m\n\u001b[1;32m   1289\u001b[0m     \u001b[0;32mdef\u001b[0m \u001b[0mrequest\u001b[0m\u001b[0;34m(\u001b[0m\u001b[0mself\u001b[0m\u001b[0;34m,\u001b[0m \u001b[0mpath\u001b[0m\u001b[0;34m,\u001b[0m \u001b[0mapi\u001b[0m\u001b[0;34m=\u001b[0m\u001b[0;34m'public'\u001b[0m\u001b[0;34m,\u001b[0m \u001b[0mmethod\u001b[0m\u001b[0;34m=\u001b[0m\u001b[0;34m'GET'\u001b[0m\u001b[0;34m,\u001b[0m \u001b[0mparams\u001b[0m\u001b[0;34m=\u001b[0m\u001b[0;34m{\u001b[0m\u001b[0;34m}\u001b[0m\u001b[0;34m,\u001b[0m \u001b[0mheaders\u001b[0m\u001b[0;34m=\u001b[0m\u001b[0;32mNone\u001b[0m\u001b[0;34m,\u001b[0m \u001b[0mbody\u001b[0m\u001b[0;34m=\u001b[0m\u001b[0;32mNone\u001b[0m\u001b[0;34m)\u001b[0m\u001b[0;34m:\u001b[0m\u001b[0;34m\u001b[0m\u001b[0;34m\u001b[0m\u001b[0m\n\u001b[0;32m-> 1290\u001b[0;31m         \u001b[0mresponse\u001b[0m \u001b[0;34m=\u001b[0m \u001b[0mself\u001b[0m\u001b[0;34m.\u001b[0m\u001b[0mfetch2\u001b[0m\u001b[0;34m(\u001b[0m\u001b[0mpath\u001b[0m\u001b[0;34m,\u001b[0m \u001b[0mapi\u001b[0m\u001b[0;34m,\u001b[0m \u001b[0mmethod\u001b[0m\u001b[0;34m,\u001b[0m \u001b[0mparams\u001b[0m\u001b[0;34m,\u001b[0m \u001b[0mheaders\u001b[0m\u001b[0;34m,\u001b[0m \u001b[0mbody\u001b[0m\u001b[0;34m)\u001b[0m\u001b[0;34m\u001b[0m\u001b[0;34m\u001b[0m\u001b[0m\n\u001b[0m\u001b[1;32m   1291\u001b[0m         \u001b[0;31m# a workaround for {\"code\":-2015,\"msg\":\"Invalid API-key, IP, or permissions for action.\"}\u001b[0m\u001b[0;34m\u001b[0m\u001b[0;34m\u001b[0m\u001b[0;34m\u001b[0m\u001b[0m\n\u001b[1;32m   1292\u001b[0m         \u001b[0;32mif\u001b[0m \u001b[0;34m(\u001b[0m\u001b[0mapi\u001b[0m \u001b[0;34m==\u001b[0m \u001b[0;34m'private'\u001b[0m\u001b[0;34m)\u001b[0m \u001b[0;32mor\u001b[0m \u001b[0;34m(\u001b[0m\u001b[0mapi\u001b[0m \u001b[0;34m==\u001b[0m \u001b[0;34m'wapi'\u001b[0m\u001b[0;34m)\u001b[0m\u001b[0;34m:\u001b[0m\u001b[0;34m\u001b[0m\u001b[0;34m\u001b[0m\u001b[0m\n",
            "\u001b[0;32m/usr/local/lib/python3.6/dist-packages/ccxt/base/exchange.py\u001b[0m in \u001b[0;36mfetch2\u001b[0;34m(self, path, api, method, params, headers, body)\u001b[0m\n\u001b[1;32m    453\u001b[0m         \u001b[0mself\u001b[0m\u001b[0;34m.\u001b[0m\u001b[0mlastRestRequestTimestamp\u001b[0m \u001b[0;34m=\u001b[0m \u001b[0mself\u001b[0m\u001b[0;34m.\u001b[0m\u001b[0mmilliseconds\u001b[0m\u001b[0;34m(\u001b[0m\u001b[0;34m)\u001b[0m\u001b[0;34m\u001b[0m\u001b[0;34m\u001b[0m\u001b[0m\n\u001b[1;32m    454\u001b[0m         \u001b[0mrequest\u001b[0m \u001b[0;34m=\u001b[0m \u001b[0mself\u001b[0m\u001b[0;34m.\u001b[0m\u001b[0msign\u001b[0m\u001b[0;34m(\u001b[0m\u001b[0mpath\u001b[0m\u001b[0;34m,\u001b[0m \u001b[0mapi\u001b[0m\u001b[0;34m,\u001b[0m \u001b[0mmethod\u001b[0m\u001b[0;34m,\u001b[0m \u001b[0mparams\u001b[0m\u001b[0;34m,\u001b[0m \u001b[0mheaders\u001b[0m\u001b[0;34m,\u001b[0m \u001b[0mbody\u001b[0m\u001b[0;34m)\u001b[0m\u001b[0;34m\u001b[0m\u001b[0;34m\u001b[0m\u001b[0m\n\u001b[0;32m--> 455\u001b[0;31m         \u001b[0;32mreturn\u001b[0m \u001b[0mself\u001b[0m\u001b[0;34m.\u001b[0m\u001b[0mfetch\u001b[0m\u001b[0;34m(\u001b[0m\u001b[0mrequest\u001b[0m\u001b[0;34m[\u001b[0m\u001b[0;34m'url'\u001b[0m\u001b[0;34m]\u001b[0m\u001b[0;34m,\u001b[0m \u001b[0mrequest\u001b[0m\u001b[0;34m[\u001b[0m\u001b[0;34m'method'\u001b[0m\u001b[0;34m]\u001b[0m\u001b[0;34m,\u001b[0m \u001b[0mrequest\u001b[0m\u001b[0;34m[\u001b[0m\u001b[0;34m'headers'\u001b[0m\u001b[0;34m]\u001b[0m\u001b[0;34m,\u001b[0m \u001b[0mrequest\u001b[0m\u001b[0;34m[\u001b[0m\u001b[0;34m'body'\u001b[0m\u001b[0;34m]\u001b[0m\u001b[0;34m)\u001b[0m\u001b[0;34m\u001b[0m\u001b[0;34m\u001b[0m\u001b[0m\n\u001b[0m\u001b[1;32m    456\u001b[0m \u001b[0;34m\u001b[0m\u001b[0m\n\u001b[1;32m    457\u001b[0m     \u001b[0;32mdef\u001b[0m \u001b[0mrequest\u001b[0m\u001b[0;34m(\u001b[0m\u001b[0mself\u001b[0m\u001b[0;34m,\u001b[0m \u001b[0mpath\u001b[0m\u001b[0;34m,\u001b[0m \u001b[0mapi\u001b[0m\u001b[0;34m=\u001b[0m\u001b[0;34m'public'\u001b[0m\u001b[0;34m,\u001b[0m \u001b[0mmethod\u001b[0m\u001b[0;34m=\u001b[0m\u001b[0;34m'GET'\u001b[0m\u001b[0;34m,\u001b[0m \u001b[0mparams\u001b[0m\u001b[0;34m=\u001b[0m\u001b[0;34m{\u001b[0m\u001b[0;34m}\u001b[0m\u001b[0;34m,\u001b[0m \u001b[0mheaders\u001b[0m\u001b[0;34m=\u001b[0m\u001b[0;32mNone\u001b[0m\u001b[0;34m,\u001b[0m \u001b[0mbody\u001b[0m\u001b[0;34m=\u001b[0m\u001b[0;32mNone\u001b[0m\u001b[0;34m)\u001b[0m\u001b[0;34m:\u001b[0m\u001b[0;34m\u001b[0m\u001b[0;34m\u001b[0m\u001b[0m\n",
            "\u001b[0;32m/usr/local/lib/python3.6/dist-packages/ccxt/base/exchange.py\u001b[0m in \u001b[0;36mfetch\u001b[0;34m(self, url, method, headers, body)\u001b[0m\n\u001b[1;32m    550\u001b[0m \u001b[0;34m\u001b[0m\u001b[0m\n\u001b[1;32m    551\u001b[0m         \u001b[0;32mexcept\u001b[0m \u001b[0mHTTPError\u001b[0m \u001b[0;32mas\u001b[0m \u001b[0me\u001b[0m\u001b[0;34m:\u001b[0m\u001b[0;34m\u001b[0m\u001b[0;34m\u001b[0m\u001b[0m\n\u001b[0;32m--> 552\u001b[0;31m             \u001b[0mself\u001b[0m\u001b[0;34m.\u001b[0m\u001b[0mhandle_errors\u001b[0m\u001b[0;34m(\u001b[0m\u001b[0mhttp_status_code\u001b[0m\u001b[0;34m,\u001b[0m \u001b[0mhttp_status_text\u001b[0m\u001b[0;34m,\u001b[0m \u001b[0murl\u001b[0m\u001b[0;34m,\u001b[0m \u001b[0mmethod\u001b[0m\u001b[0;34m,\u001b[0m \u001b[0mheaders\u001b[0m\u001b[0;34m,\u001b[0m \u001b[0mhttp_response\u001b[0m\u001b[0;34m,\u001b[0m \u001b[0mjson_response\u001b[0m\u001b[0;34m,\u001b[0m \u001b[0mrequest_headers\u001b[0m\u001b[0;34m,\u001b[0m \u001b[0mrequest_body\u001b[0m\u001b[0;34m)\u001b[0m\u001b[0;34m\u001b[0m\u001b[0;34m\u001b[0m\u001b[0m\n\u001b[0m\u001b[1;32m    553\u001b[0m             \u001b[0mself\u001b[0m\u001b[0;34m.\u001b[0m\u001b[0mhandle_rest_errors\u001b[0m\u001b[0;34m(\u001b[0m\u001b[0mhttp_status_code\u001b[0m\u001b[0;34m,\u001b[0m \u001b[0mhttp_status_text\u001b[0m\u001b[0;34m,\u001b[0m \u001b[0mhttp_response\u001b[0m\u001b[0;34m,\u001b[0m \u001b[0murl\u001b[0m\u001b[0;34m,\u001b[0m \u001b[0mmethod\u001b[0m\u001b[0;34m)\u001b[0m\u001b[0;34m\u001b[0m\u001b[0;34m\u001b[0m\u001b[0m\n\u001b[1;32m    554\u001b[0m             \u001b[0;32mraise\u001b[0m \u001b[0mExchangeError\u001b[0m\u001b[0;34m(\u001b[0m\u001b[0mmethod\u001b[0m \u001b[0;34m+\u001b[0m \u001b[0;34m' '\u001b[0m \u001b[0;34m+\u001b[0m \u001b[0murl\u001b[0m\u001b[0;34m)\u001b[0m\u001b[0;34m\u001b[0m\u001b[0;34m\u001b[0m\u001b[0m\n",
            "\u001b[0;32m/usr/local/lib/python3.6/dist-packages/ccxt/binance.py\u001b[0m in \u001b[0;36mhandle_errors\u001b[0;34m(self, code, reason, url, method, headers, body, response, requestHeaders, requestBody)\u001b[0m\n\u001b[1;32m   1281\u001b[0m                         \u001b[0;32mif\u001b[0m \u001b[0;34m(\u001b[0m\u001b[0merror\u001b[0m \u001b[0;34m==\u001b[0m \u001b[0;34m'-2015'\u001b[0m\u001b[0;34m)\u001b[0m \u001b[0;32mand\u001b[0m \u001b[0mself\u001b[0m\u001b[0;34m.\u001b[0m\u001b[0moptions\u001b[0m\u001b[0;34m[\u001b[0m\u001b[0;34m'hasAlreadyAuthenticatedSuccessfully'\u001b[0m\u001b[0;34m]\u001b[0m\u001b[0;34m:\u001b[0m\u001b[0;34m\u001b[0m\u001b[0;34m\u001b[0m\u001b[0m\n\u001b[1;32m   1282\u001b[0m                             \u001b[0;32mraise\u001b[0m \u001b[0mDDoSProtection\u001b[0m\u001b[0;34m(\u001b[0m\u001b[0mself\u001b[0m\u001b[0;34m.\u001b[0m\u001b[0mid\u001b[0m \u001b[0;34m+\u001b[0m \u001b[0;34m' temporary banned: '\u001b[0m \u001b[0;34m+\u001b[0m \u001b[0mbody\u001b[0m\u001b[0;34m)\u001b[0m\u001b[0;34m\u001b[0m\u001b[0;34m\u001b[0m\u001b[0m\n\u001b[0;32m-> 1283\u001b[0;31m                         \u001b[0;32mraise\u001b[0m \u001b[0mexceptions\u001b[0m\u001b[0;34m[\u001b[0m\u001b[0merror\u001b[0m\u001b[0;34m]\u001b[0m\u001b[0;34m(\u001b[0m\u001b[0mself\u001b[0m\u001b[0;34m.\u001b[0m\u001b[0mid\u001b[0m \u001b[0;34m+\u001b[0m \u001b[0;34m' '\u001b[0m \u001b[0;34m+\u001b[0m \u001b[0mbody\u001b[0m\u001b[0;34m)\u001b[0m\u001b[0;34m\u001b[0m\u001b[0;34m\u001b[0m\u001b[0m\n\u001b[0m\u001b[1;32m   1284\u001b[0m                     \u001b[0;32melse\u001b[0m\u001b[0;34m:\u001b[0m\u001b[0;34m\u001b[0m\u001b[0;34m\u001b[0m\u001b[0m\n\u001b[1;32m   1285\u001b[0m                         \u001b[0;32mraise\u001b[0m \u001b[0mExchangeError\u001b[0m\u001b[0;34m(\u001b[0m\u001b[0mself\u001b[0m\u001b[0;34m.\u001b[0m\u001b[0mid\u001b[0m \u001b[0;34m+\u001b[0m \u001b[0;34m' '\u001b[0m \u001b[0;34m+\u001b[0m \u001b[0mbody\u001b[0m\u001b[0;34m)\u001b[0m\u001b[0;34m\u001b[0m\u001b[0;34m\u001b[0m\u001b[0m\n",
            "\u001b[0;31mInvalidOrder\u001b[0m: binance {\"code\":-1013,\"msg\":\"Invalid quantity.\"}"
          ]
        }
      ]
    },
    {
      "cell_type": "code",
      "metadata": {
        "id": "tw0BSsThwsHV",
        "colab_type": "code",
        "outputId": "4fa7ad51-ae1f-4627-d5e2-35a298bed736",
        "colab": {}
      },
      "source": [
        "live_performance"
      ],
      "execution_count": 0,
      "outputs": [
        {
          "output_type": "execute_result",
          "data": {
            "text/plain": [
              "{}"
            ]
          },
          "metadata": {
            "tags": []
          },
          "execution_count": 21
        }
      ]
    },
    {
      "cell_type": "markdown",
      "metadata": {
        "id": "iH55AobjwsHa",
        "colab_type": "text"
      },
      "source": [
        "_Passing `steps=0` instructs the strategy to run until otherwise stopped._"
      ]
    },
    {
      "cell_type": "code",
      "metadata": {
        "id": "PdL45iQYwsHc",
        "colab_type": "code",
        "colab": {}
      },
      "source": [
        ""
      ],
      "execution_count": 0,
      "outputs": []
    },
    {
      "cell_type": "markdown",
      "metadata": {
        "id": "8M7PuiAFx07s",
        "colab_type": "text"
      },
      "source": [
        "https://colab.research.google.com/drive/1r9I-DJjrT-0JHbrB10NLFudZ7hQdOcdq"
      ]
    }
  ]
}