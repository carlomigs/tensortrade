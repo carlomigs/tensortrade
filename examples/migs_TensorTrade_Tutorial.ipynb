{
  "nbformat": 4,
  "nbformat_minor": 0,
  "metadata": {
    "file_extension": ".py",
    "kernelspec": {
      "name": "python3",
      "display_name": "Python 3"
    },
    "language_info": {
      "codemirror_mode": {
        "name": "ipython",
        "version": 3
      },
      "file_extension": ".py",
      "mimetype": "text/x-python",
      "name": "python",
      "nbconvert_exporter": "python",
      "pygments_lexer": "ipython3",
      "version": "3.7.4"
    },
    "mimetype": "text/x-python",
    "name": "python",
    "npconvert_exporter": "python",
    "pygments_lexer": "ipython3",
    "version": 3,
    "colab": {
      "name": "TensorTrade_Tutorial.ipynb",
      "provenance": [],
      "include_colab_link": true
    },
    "accelerator": "GPU"
  },
  "cells": [
    {
      "cell_type": "markdown",
      "metadata": {
        "id": "view-in-github",
        "colab_type": "text"
      },
      "source": [
        "<a href=\"https://colab.research.google.com/github/carlomigs/tensortrade/blob/master/examples/migs_TensorTrade_Tutorial.ipynb\" target=\"_parent\"><img src=\"https://colab.research.google.com/assets/colab-badge.svg\" alt=\"Open In Colab\"/></a>"
      ]
    },
    {
      "cell_type": "code",
      "metadata": {
        "id": "4WcDibe-wsDJ",
        "colab_type": "code",
        "colab": {}
      },
      "source": [
        "import os\n",
        "import sys\n",
        "import warnings\n",
        "import numpy\n",
        "\n",
        "def warn(*args, **kwargs):\n",
        "    pass\n",
        "\n",
        "warnings.warn = warn\n",
        "warnings.simplefilter(action='ignore', category=FutureWarning)\n",
        "numpy.seterr(divide = 'ignore') \n",
        "\n",
        "sys.path.append(os.path.dirname(os.path.abspath('')))"
      ],
      "execution_count": 0,
      "outputs": []
    },
    {
      "cell_type": "code",
      "metadata": {
        "id": "GwVy-9eS6uwu",
        "colab_type": "code",
        "outputId": "187d2866-f824-4c9b-a548-6b8c88b2531c",
        "colab": {
          "base_uri": "https://localhost:8080/",
          "height": 153
        }
      },
      "source": [
        "# copy in datasets from btgym\n",
        "!git clone https://github.com/Kismuz/btgym.git"
      ],
      "execution_count": 2,
      "outputs": [
        {
          "output_type": "stream",
          "text": [
            "Cloning into 'btgym'...\n",
            "remote: Enumerating objects: 24, done.\u001b[K\n",
            "remote: Counting objects: 100% (24/24), done.\u001b[K\n",
            "remote: Compressing objects: 100% (22/22), done.\u001b[K\n",
            "remote: Total 7001 (delta 4), reused 8 (delta 2), pack-reused 6977\u001b[K\n",
            "Receiving objects: 100% (7001/7001), 126.71 MiB | 24.17 MiB/s, done.\n",
            "Resolving deltas: 100% (5172/5172), done.\n",
            "Checking out files: 100% (348/348), done.\n"
          ],
          "name": "stdout"
        }
      ]
    },
    {
      "cell_type": "code",
      "metadata": {
        "id": "HQ7haJoZoro4",
        "colab_type": "code",
        "outputId": "9ee8f167-b061-475b-ade1-dc8472925a0e",
        "colab": {
          "base_uri": "https://localhost:8080/",
          "height": 136
        }
      },
      "source": [
        "!git clone https://github.com/notadamking/tensortrade.git"
      ],
      "execution_count": 3,
      "outputs": [
        {
          "output_type": "stream",
          "text": [
            "Cloning into 'tensortrade'...\n",
            "remote: Enumerating objects: 265, done.\u001b[K\n",
            "remote: Counting objects:   0% (1/265)\u001b[K\rremote: Counting objects:   1% (3/265)\u001b[K\rremote: Counting objects:   2% (6/265)\u001b[K\rremote: Counting objects:   3% (8/265)\u001b[K\rremote: Counting objects:   4% (11/265)\u001b[K\rremote: Counting objects:   5% (14/265)\u001b[K\rremote: Counting objects:   6% (16/265)\u001b[K\rremote: Counting objects:   7% (19/265)\u001b[K\rremote: Counting objects:   8% (22/265)\u001b[K\rremote: Counting objects:   9% (24/265)\u001b[K\rremote: Counting objects:  10% (27/265)\u001b[K\rremote: Counting objects:  11% (30/265)\u001b[K\rremote: Counting objects:  12% (32/265)\u001b[K\rremote: Counting objects:  13% (35/265)\u001b[K\rremote: Counting objects:  14% (38/265)\u001b[K\rremote: Counting objects:  15% (40/265)\u001b[K\rremote: Counting objects:  16% (43/265)\u001b[K\rremote: Counting objects:  17% (46/265)\u001b[K\rremote: Counting objects:  18% (48/265)\u001b[K\rremote: Counting objects:  19% (51/265)\u001b[K\rremote: Counting objects:  20% (53/265)\u001b[K\rremote: Counting objects:  21% (56/265)\u001b[K\rremote: Counting objects:  22% (59/265)\u001b[K\rremote: Counting objects:  23% (61/265)\u001b[K\rremote: Counting objects:  24% (64/265)\u001b[K\rremote: Counting objects:  25% (67/265)\u001b[K\rremote: Counting objects:  26% (69/265)\u001b[K\rremote: Counting objects:  27% (72/265)\u001b[K\rremote: Counting objects:  28% (75/265)\u001b[K\rremote: Counting objects:  29% (77/265)\u001b[K\rremote: Counting objects:  30% (80/265)\u001b[K\rremote: Counting objects:  31% (83/265)\u001b[K\rremote: Counting objects:  32% (85/265)\u001b[K\rremote: Counting objects:  33% (88/265)\u001b[K\rremote: Counting objects:  34% (91/265)\u001b[K\rremote: Counting objects:  35% (93/265)\u001b[K\rremote: Counting objects:  36% (96/265)\u001b[K\rremote: Counting objects:  37% (99/265)\u001b[K\rremote: Counting objects:  38% (101/265)\u001b[K\rremote: Counting objects:  39% (104/265)\u001b[K\rremote: Counting objects:  40% (106/265)\u001b[K\rremote: Counting objects:  41% (109/265)\u001b[K\rremote: Counting objects:  42% (112/265)\u001b[K\rremote: Counting objects:  43% (114/265)\u001b[K\rremote: Counting objects:  44% (117/265)\u001b[K\rremote: Counting objects:  45% (120/265)\u001b[K\rremote: Counting objects:  46% (122/265)\u001b[K\rremote: Counting objects:  47% (125/265)\u001b[K\rremote: Counting objects:  48% (128/265)\u001b[K\rremote: Counting objects:  49% (130/265)\u001b[K\rremote: Counting objects:  50% (133/265)\u001b[K\rremote: Counting objects:  51% (136/265)\u001b[K\rremote: Counting objects:  52% (138/265)\u001b[K\rremote: Counting objects:  53% (141/265)\u001b[K\rremote: Counting objects:  54% (144/265)\u001b[K\rremote: Counting objects:  55% (146/265)\u001b[K\rremote: Counting objects:  56% (149/265)\u001b[K\rremote: Counting objects:  57% (152/265)\u001b[K\rremote: Counting objects:  58% (154/265)\u001b[K\rremote: Counting objects:  59% (157/265)\u001b[K\rremote: Counting objects:  60% (159/265)\u001b[K\rremote: Counting objects:  61% (162/265)\u001b[K\rremote: Counting objects:  62% (165/265)\u001b[K\rremote: Counting objects:  63% (167/265)\u001b[K\rremote: Counting objects:  64% (170/265)\u001b[K\rremote: Counting objects:  65% (173/265)\u001b[K\rremote: Counting objects:  66% (175/265)\u001b[K\rremote: Counting objects:  67% (178/265)\u001b[K\rremote: Counting objects:  68% (181/265)\u001b[K\rremote: Counting objects:  69% (183/265)\u001b[K\rremote: Counting objects:  70% (186/265)\u001b[K\rremote: Counting objects:  71% (189/265)\u001b[K\rremote: Counting objects:  72% (191/265)\u001b[K\rremote: Counting objects:  73% (194/265)\u001b[K\rremote: Counting objects:  74% (197/265)\u001b[K\rremote: Counting objects:  75% (199/265)\u001b[K\rremote: Counting objects:  76% (202/265)\u001b[K\rremote: Counting objects:  77% (205/265)\u001b[K\rremote: Counting objects:  78% (207/265)\u001b[K\rremote: Counting objects:  79% (210/265)\u001b[K\rremote: Counting objects:  80% (212/265)\u001b[K\rremote: Counting objects:  81% (215/265)\u001b[K\rremote: Counting objects:  82% (218/265)\u001b[K\rremote: Counting objects:  83% (220/265)\u001b[K\rremote: Counting objects:  84% (223/265)\u001b[K\rremote: Counting objects:  85% (226/265)\u001b[K\rremote: Counting objects:  86% (228/265)\u001b[K\rremote: Counting objects:  87% (231/265)\u001b[K\rremote: Counting objects:  88% (234/265)\u001b[K\rremote: Counting objects:  89% (236/265)\u001b[K\rremote: Counting objects:  90% (239/265)\u001b[K\rremote: Counting objects:  91% (242/265)\u001b[K\rremote: Counting objects:  92% (244/265)\u001b[K\rremote: Counting objects:  93% (247/265)\u001b[K\rremote: Counting objects:  94% (250/265)\u001b[K\rremote: Counting objects:  95% (252/265)\u001b[K\rremote: Counting objects:  96% (255/265)\u001b[K\rremote: Counting objects:  97% (258/265)\u001b[K\rremote: Counting objects:  98% (260/265)\u001b[K\rremote: Counting objects:  99% (263/265)\u001b[K\rremote: Counting objects: 100% (265/265)\u001b[K\rremote: Counting objects: 100% (265/265), done.\u001b[K\n",
            "remote: Compressing objects: 100% (160/160), done.\u001b[K\n",
            "remote: Total 3146 (delta 146), reused 180 (delta 104), pack-reused 2881\u001b[K\n",
            "Receiving objects: 100% (3146/3146), 30.08 MiB | 27.35 MiB/s, done.\n",
            "Resolving deltas: 100% (1840/1840), done.\n"
          ],
          "name": "stdout"
        }
      ]
    },
    {
      "cell_type": "code",
      "metadata": {
        "id": "b9Dc8wqxoyeY",
        "colab_type": "code",
        "outputId": "e43e2699-8df4-4176-cf46-5fcf17d27889",
        "colab": {
          "base_uri": "https://localhost:8080/",
          "height": 887
        }
      },
      "source": [
        "!pip install -e /content/tensortrade"
      ],
      "execution_count": 4,
      "outputs": [
        {
          "output_type": "stream",
          "text": [
            "Obtaining file:///content/tensortrade\n",
            "Collecting numpy==1.16.4\n",
            "\u001b[?25l  Downloading https://files.pythonhosted.org/packages/87/2d/e4656149cbadd3a8a0369fcd1a9c7d61cc7b87b3903b85389c70c989a696/numpy-1.16.4-cp36-cp36m-manylinux1_x86_64.whl (17.3MB)\n",
            "\u001b[K     |████████████████████████████████| 17.3MB 2.9MB/s \n",
            "\u001b[?25hCollecting pandas==0.25.0\n",
            "\u001b[?25l  Downloading https://files.pythonhosted.org/packages/1d/9a/7eb9952f4b4d73fbd75ad1d5d6112f407e695957444cb695cbb3cdab918a/pandas-0.25.0-cp36-cp36m-manylinux1_x86_64.whl (10.5MB)\n",
            "\u001b[K     |████████████████████████████████| 10.5MB 31.5MB/s \n",
            "\u001b[?25hCollecting gym==0.14.0\n",
            "\u001b[?25l  Downloading https://files.pythonhosted.org/packages/61/75/9e841bc2bc75128e0b65c3d5255d0bd16becb9d8f7120b965d41b8e70041/gym-0.14.0.tar.gz (1.6MB)\n",
            "\u001b[K     |████████████████████████████████| 1.6MB 37.0MB/s \n",
            "\u001b[?25hCollecting pyyaml==5.1.2\n",
            "\u001b[?25l  Downloading https://files.pythonhosted.org/packages/e3/e8/b3212641ee2718d556df0f23f78de8303f068fe29cdaa7a91018849582fe/PyYAML-5.1.2.tar.gz (265kB)\n",
            "\u001b[K     |████████████████████████████████| 266kB 47.5MB/s \n",
            "\u001b[?25hRequirement already satisfied: python-dateutil>=2.6.1 in /usr/local/lib/python3.6/dist-packages (from pandas==0.25.0->tensortrade==0.0.2rc0) (2.6.1)\n",
            "Requirement already satisfied: pytz>=2017.2 in /usr/local/lib/python3.6/dist-packages (from pandas==0.25.0->tensortrade==0.0.2rc0) (2018.9)\n",
            "Requirement already satisfied: scipy in /usr/local/lib/python3.6/dist-packages (from gym==0.14.0->tensortrade==0.0.2rc0) (1.3.1)\n",
            "Requirement already satisfied: six in /usr/local/lib/python3.6/dist-packages (from gym==0.14.0->tensortrade==0.0.2rc0) (1.12.0)\n",
            "Requirement already satisfied: pyglet<=1.3.2,>=1.2.0 in /usr/local/lib/python3.6/dist-packages (from gym==0.14.0->tensortrade==0.0.2rc0) (1.3.2)\n",
            "Requirement already satisfied: cloudpickle~=1.2.0 in /usr/local/lib/python3.6/dist-packages (from gym==0.14.0->tensortrade==0.0.2rc0) (1.2.2)\n",
            "Requirement already satisfied: future in /usr/local/lib/python3.6/dist-packages (from pyglet<=1.3.2,>=1.2.0->gym==0.14.0->tensortrade==0.0.2rc0) (0.16.0)\n",
            "Building wheels for collected packages: gym, pyyaml\n",
            "  Building wheel for gym (setup.py) ... \u001b[?25l\u001b[?25hdone\n",
            "  Created wheel for gym: filename=gym-0.14.0-cp36-none-any.whl size=1637526 sha256=34a5f443658a91b13c052bc6bd8d53b320b69571eb482037386a0a5056ab8de5\n",
            "  Stored in directory: /root/.cache/pip/wheels/7e/53/f6/c0cd3c9bf953f35c0aee7fa62ea209371e92f5e5cced3245ba\n",
            "  Building wheel for pyyaml (setup.py) ... \u001b[?25l\u001b[?25hdone\n",
            "  Created wheel for pyyaml: filename=PyYAML-5.1.2-cp36-cp36m-linux_x86_64.whl size=44104 sha256=17f81b7ae9b3fa272b8be0bc2d4e8dfb64734ae0bbe77a37fd4564a111cda948\n",
            "  Stored in directory: /root/.cache/pip/wheels/d9/45/dd/65f0b38450c47cf7e5312883deb97d065e030c5cca0a365030\n",
            "Successfully built gym pyyaml\n",
            "\u001b[31mERROR: datascience 0.10.6 has requirement folium==0.2.1, but you'll have folium 0.8.3 which is incompatible.\u001b[0m\n",
            "\u001b[31mERROR: albumentations 0.1.12 has requirement imgaug<0.2.7,>=0.2.5, but you'll have imgaug 0.2.9 which is incompatible.\u001b[0m\n",
            "Installing collected packages: numpy, pandas, gym, pyyaml, tensortrade\n",
            "  Found existing installation: numpy 1.17.3\n",
            "    Uninstalling numpy-1.17.3:\n",
            "      Successfully uninstalled numpy-1.17.3\n",
            "  Found existing installation: pandas 0.25.2\n",
            "    Uninstalling pandas-0.25.2:\n",
            "      Successfully uninstalled pandas-0.25.2\n",
            "  Found existing installation: gym 0.15.3\n",
            "    Uninstalling gym-0.15.3:\n",
            "      Successfully uninstalled gym-0.15.3\n",
            "  Found existing installation: PyYAML 3.13\n",
            "    Uninstalling PyYAML-3.13:\n",
            "      Successfully uninstalled PyYAML-3.13\n",
            "  Running setup.py develop for tensortrade\n",
            "Successfully installed gym-0.14.0 numpy-1.16.4 pandas-0.25.0 pyyaml-5.1.2 tensortrade\n"
          ],
          "name": "stdout"
        },
        {
          "output_type": "display_data",
          "data": {
            "application/vnd.colab-display-data+json": {
              "pip_warning": {
                "packages": [
                  "numpy",
                  "pandas"
                ]
              }
            }
          },
          "metadata": {
            "tags": []
          }
        }
      ]
    },
    {
      "cell_type": "code",
      "metadata": {
        "id": "hq9o8S21o4fB",
        "colab_type": "code",
        "outputId": "c1177eae-1e19-4c5d-8fc0-78328efe3765",
        "colab": {
          "base_uri": "https://localhost:8080/",
          "height": 34
        }
      },
      "source": [
        "import os\n",
        "os.getcwd()\n",
        "#%cd /content/tensortrade\n",
        "%ls"
      ],
      "execution_count": 1,
      "outputs": [
        {
          "output_type": "stream",
          "text": [
            "\u001b[0m\u001b[01;34mbtgym\u001b[0m/  \u001b[01;34msample_data\u001b[0m/  \u001b[01;34mtensortrade\u001b[0m/\n"
          ],
          "name": "stdout"
        }
      ]
    },
    {
      "cell_type": "code",
      "metadata": {
        "id": "Db9feScexsgr",
        "colab_type": "code",
        "outputId": "be5782c4-9a00-4125-a86a-d8179c147e5b",
        "colab": {
          "base_uri": "https://localhost:8080/",
          "height": 1000
        }
      },
      "source": [
        "!pip install -e tensortrade[tf,tensorforce,baselines,ccxt,fbm] -U"
      ],
      "execution_count": 2,
      "outputs": [
        {
          "output_type": "stream",
          "text": [
            "Obtaining file:///content/tensortrade\n",
            "Requirement already satisfied, skipping upgrade: numpy==1.16.4 in /usr/local/lib/python3.6/dist-packages (from tensortrade==0.0.2rc0) (1.16.4)\n",
            "Requirement already satisfied, skipping upgrade: pandas==0.25.0 in /usr/local/lib/python3.6/dist-packages (from tensortrade==0.0.2rc0) (0.25.0)\n",
            "Requirement already satisfied, skipping upgrade: gym==0.14.0 in /usr/local/lib/python3.6/dist-packages (from tensortrade==0.0.2rc0) (0.14.0)\n",
            "Requirement already satisfied, skipping upgrade: pyyaml==5.1.2 in /usr/local/lib/python3.6/dist-packages (from tensortrade==0.0.2rc0) (5.1.2)\n",
            "Collecting stable-baselines==2.8.0\n",
            "\u001b[?25l  Downloading https://files.pythonhosted.org/packages/da/75/6f92ac720de62be8c16ec652d22c9296a90d857cd636d043de16de8128ab/stable_baselines-2.8.0-py3-none-any.whl (222kB)\n",
            "\u001b[K     |████████████████████████████████| 225kB 2.8MB/s \n",
            "\u001b[?25hRequirement already satisfied, skipping upgrade: mpi4py in /usr/local/lib/python3.6/dist-packages (from tensortrade==0.0.2rc0) (3.0.2)\n",
            "Collecting ccxt==1.18.1220\n",
            "\u001b[?25l  Downloading https://files.pythonhosted.org/packages/a6/9e/788c7a99d83fc037224b3d6decf08840d516359f7019b34bf54b475829a1/ccxt-1.18.1220-py2.py3-none-any.whl (1.4MB)\n",
            "\u001b[K     |████████████████████████████████| 1.4MB 43.1MB/s \n",
            "\u001b[?25hCollecting stochastic==0.4.0\n",
            "\u001b[?25l  Downloading https://files.pythonhosted.org/packages/62/fb/1bdf5bef80bb31369306290c308371a64aebf825029520602570135ea7f1/stochastic-0.4.0-py2.py3-none-any.whl (43kB)\n",
            "\u001b[K     |████████████████████████████████| 51kB 7.0MB/s \n",
            "\u001b[?25hCollecting tensorforce==0.5.2\n",
            "\u001b[?25l  Downloading https://files.pythonhosted.org/packages/d7/7b/cebafd140baec0f452543d01494beaae152d90d988545188798a031bde41/Tensorforce-0.5.2-py3-none-any.whl (308kB)\n",
            "\u001b[K     |████████████████████████████████| 317kB 51.8MB/s \n",
            "\u001b[?25hCollecting tensorflow==1.13.1\n",
            "\u001b[?25l  Downloading https://files.pythonhosted.org/packages/77/63/a9fa76de8dffe7455304c4ed635be4aa9c0bacef6e0633d87d5f54530c5c/tensorflow-1.13.1-cp36-cp36m-manylinux1_x86_64.whl (92.5MB)\n",
            "\u001b[K     |████████████████████████████████| 92.5MB 109kB/s \n",
            "\u001b[?25hRequirement already satisfied, skipping upgrade: pytz>=2017.2 in /usr/local/lib/python3.6/dist-packages (from pandas==0.25.0->tensortrade==0.0.2rc0) (2018.9)\n",
            "Requirement already satisfied, skipping upgrade: python-dateutil>=2.6.1 in /usr/local/lib/python3.6/dist-packages (from pandas==0.25.0->tensortrade==0.0.2rc0) (2.6.1)\n",
            "Requirement already satisfied, skipping upgrade: cloudpickle~=1.2.0 in /usr/local/lib/python3.6/dist-packages (from gym==0.14.0->tensortrade==0.0.2rc0) (1.2.2)\n",
            "Requirement already satisfied, skipping upgrade: scipy in /usr/local/lib/python3.6/dist-packages (from gym==0.14.0->tensortrade==0.0.2rc0) (1.3.1)\n",
            "Requirement already satisfied, skipping upgrade: six in /usr/local/lib/python3.6/dist-packages (from gym==0.14.0->tensortrade==0.0.2rc0) (1.12.0)\n",
            "Requirement already satisfied, skipping upgrade: pyglet<=1.3.2,>=1.2.0 in /usr/local/lib/python3.6/dist-packages (from gym==0.14.0->tensortrade==0.0.2rc0) (1.3.2)\n",
            "Requirement already satisfied, skipping upgrade: opencv-python in /usr/local/lib/python3.6/dist-packages (from stable-baselines==2.8.0->tensortrade==0.0.2rc0) (3.4.7.28)\n",
            "Requirement already satisfied, skipping upgrade: joblib in /usr/local/lib/python3.6/dist-packages (from stable-baselines==2.8.0->tensortrade==0.0.2rc0) (0.14.0)\n",
            "Requirement already satisfied, skipping upgrade: matplotlib in /usr/local/lib/python3.6/dist-packages (from stable-baselines==2.8.0->tensortrade==0.0.2rc0) (3.1.1)\n",
            "Requirement already satisfied, skipping upgrade: certifi>=2018.1.18 in /usr/local/lib/python3.6/dist-packages (from ccxt==1.18.1220->tensortrade==0.0.2rc0) (2019.9.11)\n",
            "Collecting aiohttp>=3.0.1; python_version >= \"3.5.2\"\n",
            "\u001b[?25l  Downloading https://files.pythonhosted.org/packages/7c/39/7eb5f98d24904e0f6d3edb505d4aa60e3ef83c0a58d6fe18244a51757247/aiohttp-3.6.2-cp36-cp36m-manylinux1_x86_64.whl (1.2MB)\n",
            "\u001b[K     |████████████████████████████████| 1.2MB 39.1MB/s \n",
            "\u001b[?25hRequirement already satisfied, skipping upgrade: setuptools>=38.5.1 in /usr/local/lib/python3.6/dist-packages (from ccxt==1.18.1220->tensortrade==0.0.2rc0) (41.4.0)\n",
            "Collecting aiodns==1.1.1; python_version >= \"3.5.2\"\n",
            "  Downloading https://files.pythonhosted.org/packages/bd/f5/b69cb930fd5ab0569396659afe3f3c0d37d4098e5d0ba6afdf6fd9388cb0/aiodns-1.1.1-py2.py3-none-any.whl\n",
            "Requirement already satisfied, skipping upgrade: requests>=2.18.4 in /usr/local/lib/python3.6/dist-packages (from ccxt==1.18.1220->tensortrade==0.0.2rc0) (2.21.0)\n",
            "Collecting yarl==1.1.0; python_version >= \"3.5.2\"\n",
            "\u001b[?25l  Downloading https://files.pythonhosted.org/packages/9a/fe/1fc0d9e277f1ff0d29ac44742f769c55f12cc7e66a89ab340f5321937179/yarl-1.1.0-cp36-cp36m-manylinux1_x86_64.whl (255kB)\n",
            "\u001b[K     |████████████████████████████████| 256kB 43.5MB/s \n",
            "\u001b[?25hCollecting cryptography>=2.6.1\n",
            "\u001b[?25l  Downloading https://files.pythonhosted.org/packages/ca/9a/7cece52c46546e214e10811b36b2da52ce1ea7fa203203a629b8dfadad53/cryptography-2.8-cp34-abi3-manylinux2010_x86_64.whl (2.3MB)\n",
            "\u001b[K     |████████████████████████████████| 2.3MB 37.0MB/s \n",
            "\u001b[?25hRequirement already satisfied, skipping upgrade: pytest in /usr/local/lib/python3.6/dist-packages (from tensorforce==0.5.2->tensortrade==0.0.2rc0) (3.6.4)\n",
            "Requirement already satisfied, skipping upgrade: tqdm in /usr/local/lib/python3.6/dist-packages (from tensorforce==0.5.2->tensortrade==0.0.2rc0) (4.28.1)\n",
            "Requirement already satisfied, skipping upgrade: wheel>=0.26 in /usr/local/lib/python3.6/dist-packages (from tensorflow==1.13.1->tensortrade==0.0.2rc0) (0.33.6)\n",
            "Requirement already satisfied, skipping upgrade: gast>=0.2.0 in /usr/local/lib/python3.6/dist-packages (from tensorflow==1.13.1->tensortrade==0.0.2rc0) (0.2.2)\n",
            "Requirement already satisfied, skipping upgrade: absl-py>=0.1.6 in /usr/local/lib/python3.6/dist-packages (from tensorflow==1.13.1->tensortrade==0.0.2rc0) (0.8.1)\n",
            "Requirement already satisfied, skipping upgrade: keras-applications>=1.0.6 in /usr/local/lib/python3.6/dist-packages (from tensorflow==1.13.1->tensortrade==0.0.2rc0) (1.0.8)\n",
            "Requirement already satisfied, skipping upgrade: protobuf>=3.6.1 in /usr/local/lib/python3.6/dist-packages (from tensorflow==1.13.1->tensortrade==0.0.2rc0) (3.10.0)\n",
            "Collecting tensorflow-estimator<1.14.0rc0,>=1.13.0\n",
            "\u001b[?25l  Downloading https://files.pythonhosted.org/packages/bb/48/13f49fc3fa0fdf916aa1419013bb8f2ad09674c275b4046d5ee669a46873/tensorflow_estimator-1.13.0-py2.py3-none-any.whl (367kB)\n",
            "\u001b[K     |████████████████████████████████| 368kB 44.1MB/s \n",
            "\u001b[?25hRequirement already satisfied, skipping upgrade: termcolor>=1.1.0 in /usr/local/lib/python3.6/dist-packages (from tensorflow==1.13.1->tensortrade==0.0.2rc0) (1.1.0)\n",
            "Collecting tensorboard<1.14.0,>=1.13.0\n",
            "\u001b[?25l  Downloading https://files.pythonhosted.org/packages/0f/39/bdd75b08a6fba41f098b6cb091b9e8c7a80e1b4d679a581a0ccd17b10373/tensorboard-1.13.1-py3-none-any.whl (3.2MB)\n",
            "\u001b[K     |████████████████████████████████| 3.2MB 27.1MB/s \n",
            "\u001b[?25hRequirement already satisfied, skipping upgrade: grpcio>=1.8.6 in /usr/local/lib/python3.6/dist-packages (from tensorflow==1.13.1->tensortrade==0.0.2rc0) (1.15.0)\n",
            "Requirement already satisfied, skipping upgrade: keras-preprocessing>=1.0.5 in /usr/local/lib/python3.6/dist-packages (from tensorflow==1.13.1->tensortrade==0.0.2rc0) (1.1.0)\n",
            "Requirement already satisfied, skipping upgrade: astor>=0.6.0 in /usr/local/lib/python3.6/dist-packages (from tensorflow==1.13.1->tensortrade==0.0.2rc0) (0.8.0)\n",
            "Requirement already satisfied, skipping upgrade: future in /usr/local/lib/python3.6/dist-packages (from pyglet<=1.3.2,>=1.2.0->gym==0.14.0->tensortrade==0.0.2rc0) (0.16.0)\n",
            "Requirement already satisfied, skipping upgrade: cycler>=0.10 in /usr/local/lib/python3.6/dist-packages (from matplotlib->stable-baselines==2.8.0->tensortrade==0.0.2rc0) (0.10.0)\n",
            "Requirement already satisfied, skipping upgrade: kiwisolver>=1.0.1 in /usr/local/lib/python3.6/dist-packages (from matplotlib->stable-baselines==2.8.0->tensortrade==0.0.2rc0) (1.1.0)\n",
            "Requirement already satisfied, skipping upgrade: pyparsing!=2.0.4,!=2.1.2,!=2.1.6,>=2.0.1 in /usr/local/lib/python3.6/dist-packages (from matplotlib->stable-baselines==2.8.0->tensortrade==0.0.2rc0) (2.4.2)\n",
            "Requirement already satisfied, skipping upgrade: attrs>=17.3.0 in /usr/local/lib/python3.6/dist-packages (from aiohttp>=3.0.1; python_version >= \"3.5.2\"->ccxt==1.18.1220->tensortrade==0.0.2rc0) (19.3.0)\n",
            "Requirement already satisfied, skipping upgrade: chardet<4.0,>=2.0 in /usr/local/lib/python3.6/dist-packages (from aiohttp>=3.0.1; python_version >= \"3.5.2\"->ccxt==1.18.1220->tensortrade==0.0.2rc0) (3.0.4)\n",
            "Collecting multidict<5.0,>=4.5\n",
            "\u001b[?25l  Downloading https://files.pythonhosted.org/packages/71/cc/ceb5b8c76e7a23212b9e0353053cc35a9d86c763d852a76d9b941fe81fbc/multidict-4.5.2-cp36-cp36m-manylinux1_x86_64.whl (309kB)\n",
            "\u001b[K     |████████████████████████████████| 317kB 38.5MB/s \n",
            "\u001b[?25hCollecting idna-ssl>=1.0; python_version < \"3.7\"\n",
            "  Downloading https://files.pythonhosted.org/packages/46/03/07c4894aae38b0de52b52586b24bf189bb83e4ddabfe2e2c8f2419eec6f4/idna-ssl-1.1.0.tar.gz\n",
            "Requirement already satisfied, skipping upgrade: typing-extensions>=3.6.5; python_version < \"3.7\" in /usr/local/lib/python3.6/dist-packages (from aiohttp>=3.0.1; python_version >= \"3.5.2\"->ccxt==1.18.1220->tensortrade==0.0.2rc0) (3.6.6)\n",
            "Collecting async-timeout<4.0,>=3.0\n",
            "  Downloading https://files.pythonhosted.org/packages/e1/1e/5a4441be21b0726c4464f3f23c8b19628372f606755a9d2e46c187e65ec4/async_timeout-3.0.1-py3-none-any.whl\n",
            "Collecting pycares>=1.0.0\n",
            "\u001b[?25l  Downloading https://files.pythonhosted.org/packages/88/58/0cdc4e9aeaa19d91cf33cdc7590d5a08b2c78de73fde893580b4fa63b57b/pycares-3.0.0-cp36-cp36m-manylinux1_x86_64.whl (204kB)\n",
            "\u001b[K     |████████████████████████████████| 204kB 47.8MB/s \n",
            "\u001b[?25hRequirement already satisfied, skipping upgrade: urllib3<1.25,>=1.21.1 in /usr/local/lib/python3.6/dist-packages (from requests>=2.18.4->ccxt==1.18.1220->tensortrade==0.0.2rc0) (1.24.3)\n",
            "Requirement already satisfied, skipping upgrade: idna<2.9,>=2.5 in /usr/local/lib/python3.6/dist-packages (from requests>=2.18.4->ccxt==1.18.1220->tensortrade==0.0.2rc0) (2.8)\n",
            "Requirement already satisfied, skipping upgrade: cffi!=1.11.3,>=1.8 in /usr/local/lib/python3.6/dist-packages (from cryptography>=2.6.1->ccxt==1.18.1220->tensortrade==0.0.2rc0) (1.13.1)\n",
            "Requirement already satisfied, skipping upgrade: atomicwrites>=1.0 in /usr/local/lib/python3.6/dist-packages (from pytest->tensorforce==0.5.2->tensortrade==0.0.2rc0) (1.3.0)\n",
            "Requirement already satisfied, skipping upgrade: pluggy<0.8,>=0.5 in /usr/local/lib/python3.6/dist-packages (from pytest->tensorforce==0.5.2->tensortrade==0.0.2rc0) (0.7.1)\n",
            "Requirement already satisfied, skipping upgrade: more-itertools>=4.0.0 in /usr/local/lib/python3.6/dist-packages (from pytest->tensorforce==0.5.2->tensortrade==0.0.2rc0) (7.2.0)\n",
            "Requirement already satisfied, skipping upgrade: py>=1.5.0 in /usr/local/lib/python3.6/dist-packages (from pytest->tensorforce==0.5.2->tensortrade==0.0.2rc0) (1.8.0)\n",
            "Requirement already satisfied, skipping upgrade: h5py in /usr/local/lib/python3.6/dist-packages (from keras-applications>=1.0.6->tensorflow==1.13.1->tensortrade==0.0.2rc0) (2.8.0)\n",
            "Collecting mock>=2.0.0\n",
            "  Downloading https://files.pythonhosted.org/packages/05/d2/f94e68be6b17f46d2c353564da56e6fb89ef09faeeff3313a046cb810ca9/mock-3.0.5-py2.py3-none-any.whl\n",
            "Requirement already satisfied, skipping upgrade: werkzeug>=0.11.15 in /usr/local/lib/python3.6/dist-packages (from tensorboard<1.14.0,>=1.13.0->tensorflow==1.13.1->tensortrade==0.0.2rc0) (0.16.0)\n",
            "Requirement already satisfied, skipping upgrade: markdown>=2.6.8 in /usr/local/lib/python3.6/dist-packages (from tensorboard<1.14.0,>=1.13.0->tensorflow==1.13.1->tensortrade==0.0.2rc0) (3.1.1)\n",
            "Requirement already satisfied, skipping upgrade: pycparser in /usr/local/lib/python3.6/dist-packages (from cffi!=1.11.3,>=1.8->cryptography>=2.6.1->ccxt==1.18.1220->tensortrade==0.0.2rc0) (2.19)\n",
            "Building wheels for collected packages: idna-ssl\n",
            "  Building wheel for idna-ssl (setup.py) ... \u001b[?25l\u001b[?25hdone\n",
            "  Created wheel for idna-ssl: filename=idna_ssl-1.1.0-cp36-none-any.whl size=3163 sha256=198ea7bfb831a923fef9ba81be8105ceeadbe56dff07d860834b4899c7003542\n",
            "  Stored in directory: /root/.cache/pip/wheels/d3/00/b3/32d613e19e08a739751dd6bf998cfed277728f8b2127ad4eb7\n",
            "Successfully built idna-ssl\n",
            "Installing collected packages: stable-baselines, multidict, idna-ssl, yarl, async-timeout, aiohttp, pycares, aiodns, cryptography, ccxt, stochastic, tensorforce, mock, tensorflow-estimator, tensorboard, tensorflow, tensortrade\n",
            "  Found existing installation: stable-baselines 2.2.1\n",
            "    Uninstalling stable-baselines-2.2.1:\n",
            "      Successfully uninstalled stable-baselines-2.2.1\n",
            "  Found existing installation: tensorflow-estimator 1.15.1\n",
            "    Uninstalling tensorflow-estimator-1.15.1:\n",
            "      Successfully uninstalled tensorflow-estimator-1.15.1\n",
            "  Found existing installation: tensorboard 1.15.0\n",
            "    Uninstalling tensorboard-1.15.0:\n",
            "      Successfully uninstalled tensorboard-1.15.0\n",
            "  Found existing installation: tensorflow 1.15.0\n",
            "    Uninstalling tensorflow-1.15.0:\n",
            "      Successfully uninstalled tensorflow-1.15.0\n",
            "  Found existing installation: tensortrade 0.0.2rc0\n",
            "    Can't uninstall 'tensortrade'. No files were found to uninstall.\n",
            "  Running setup.py develop for tensortrade\n",
            "Successfully installed aiodns-1.1.1 aiohttp-3.6.2 async-timeout-3.0.1 ccxt-1.18.1220 cryptography-2.8 idna-ssl-1.1.0 mock-3.0.5 multidict-4.5.2 pycares-3.0.0 stable-baselines-2.8.0 stochastic-0.4.0 tensorboard-1.13.1 tensorflow-1.13.1 tensorflow-estimator-1.13.0 tensorforce-0.5.2 tensortrade yarl-1.1.0\n"
          ],
          "name": "stdout"
        }
      ]
    },
    {
      "cell_type": "code",
      "metadata": {
        "id": "NVEHvzpH-uwz",
        "colab_type": "code",
        "outputId": "e9e7d5e6-cd55-48e5-aabb-46f3c36f758f",
        "colab": {
          "base_uri": "https://localhost:8080/",
          "height": 139
        }
      },
      "source": [
        "!pip install talib-binary"
      ],
      "execution_count": 3,
      "outputs": [
        {
          "output_type": "stream",
          "text": [
            "Collecting talib-binary\n",
            "\u001b[?25l  Downloading https://files.pythonhosted.org/packages/82/6a/d8842b73121a35f58ce55da6f6b54ba2afebee16424b9df09a302e66ed51/talib_binary-0.4.19-cp36-cp36m-manylinux1_x86_64.whl (2.4MB)\n",
            "\u001b[K     |████████████████████████████████| 2.4MB 2.9MB/s \n",
            "\u001b[?25hRequirement already satisfied: numpy in /usr/local/lib/python3.6/dist-packages (from talib-binary) (1.16.4)\n",
            "Installing collected packages: talib-binary\n",
            "Successfully installed talib-binary-0.4.19\n"
          ],
          "name": "stdout"
        }
      ]
    },
    {
      "cell_type": "code",
      "metadata": {
        "id": "LrGPU3BxBuoR",
        "colab_type": "code",
        "outputId": "e9da9a26-e256-4367-9f77-3b64ff6efcaf",
        "colab": {
          "base_uri": "https://localhost:8080/",
          "height": 374
        }
      },
      "source": [
        "%ls /content/btgym/examples/data/"
      ],
      "execution_count": 4,
      "outputs": [
        {
          "output_type": "stream",
          "text": [
            "\u001b[0m\u001b[01;32mDAT_ASCII_EURCHF_M1_2017.csv\u001b[0m*\n",
            "\u001b[01;32mDAT_ASCII_EURGBP_M1_2017.csv\u001b[0m*\n",
            "\u001b[01;32mDAT_ASCII_EURJPY_M1_2017.csv\u001b[0m*\n",
            "\u001b[01;32mDAT_ASCII_EURUSD_M1_2010.csv\u001b[0m*\n",
            "\u001b[01;32mDAT_ASCII_EURUSD_M1_2011.csv\u001b[0m*\n",
            "\u001b[01;32mDAT_ASCII_EURUSD_M1_2012.csv\u001b[0m*\n",
            "\u001b[01;32mDAT_ASCII_EURUSD_M1_2013.csv\u001b[0m*\n",
            "\u001b[01;32mDAT_ASCII_EURUSD_M1_2014.csv\u001b[0m*\n",
            "\u001b[01;32mDAT_ASCII_EURUSD_M1_2015.csv\u001b[0m*\n",
            "DAT_ASCII_EURUSD_M1_2016.csv\n",
            "\u001b[01;32mDAT_ASCII_EURUSD_M1_201701.csv\u001b[0m*\n",
            "\u001b[01;32mDAT_ASCII_EURUSD_M1_201702.csv\u001b[0m*\n",
            "DAT_ASCII_EURUSD_M1_201703_1_10.csv\n",
            "\u001b[01;32mDAT_ASCII_EURUSD_M1_201703.csv\u001b[0m*\n",
            "\u001b[01;32mDAT_ASCII_EURUSD_M1_201704.csv\u001b[0m*\n",
            "\u001b[01;32mDAT_ASCII_EURUSD_M1_201705.csv\u001b[0m*\n",
            "\u001b[01;32mDAT_ASCII_EURUSD_M1_201706.csv\u001b[0m*\n",
            "\u001b[01;32mDAT_ASCII_EURUSD_M1_2017.csv\u001b[0m*\n",
            "test_bent_sine_1min_period1500_300_delta0002.csv\n",
            "test_bent_sine_1min_period_300_1500_delta0002.csv\n",
            "test_sine_1min_period256_delta0002.csv\n"
          ],
          "name": "stdout"
        }
      ]
    },
    {
      "cell_type": "code",
      "metadata": {
        "id": "5yYY3jN0-kXA",
        "colab_type": "code",
        "outputId": "cf024215-1ac8-4557-8e0a-48790cdce550",
        "colab": {
          "base_uri": "https://localhost:8080/",
          "height": 204
        }
      },
      "source": [
        "import numpy\n",
        "import pandas as pd\n",
        "from tensortrade.exchanges.simulated import SimulatedExchange\n",
        "\n",
        "headers=['datetime', 'open', 'high', 'low', 'close', 'volume']\n",
        "df = pd.read_csv('/content/btgym/examples/data/DAT_ASCII_EURUSD_M1_2017.csv',\n",
        "                 delimiter=';',\n",
        "                 names=headers)\n",
        "\n",
        "exchange = SimulatedExchange(data_frame=df, base_instrument='USD', pretransform=False)\n",
        "exchange.data_frame.tail()"
      ],
      "execution_count": 11,
      "outputs": [
        {
          "output_type": "execute_result",
          "data": {
            "text/html": [
              "<div>\n",
              "<style scoped>\n",
              "    .dataframe tbody tr th:only-of-type {\n",
              "        vertical-align: middle;\n",
              "    }\n",
              "\n",
              "    .dataframe tbody tr th {\n",
              "        vertical-align: top;\n",
              "    }\n",
              "\n",
              "    .dataframe thead th {\n",
              "        text-align: right;\n",
              "    }\n",
              "</style>\n",
              "<table border=\"1\" class=\"dataframe\">\n",
              "  <thead>\n",
              "    <tr style=\"text-align: right;\">\n",
              "      <th></th>\n",
              "      <th>open</th>\n",
              "      <th>high</th>\n",
              "      <th>low</th>\n",
              "      <th>close</th>\n",
              "      <th>volume</th>\n",
              "    </tr>\n",
              "  </thead>\n",
              "  <tbody>\n",
              "    <tr>\n",
              "      <th>371630</th>\n",
              "      <td>1.19972</td>\n",
              "      <td>1.19987</td>\n",
              "      <td>1.19972</td>\n",
              "      <td>1.19987</td>\n",
              "      <td>0</td>\n",
              "    </tr>\n",
              "    <tr>\n",
              "      <th>371631</th>\n",
              "      <td>1.19985</td>\n",
              "      <td>1.19985</td>\n",
              "      <td>1.19970</td>\n",
              "      <td>1.19970</td>\n",
              "      <td>0</td>\n",
              "    </tr>\n",
              "    <tr>\n",
              "      <th>371632</th>\n",
              "      <td>1.19969</td>\n",
              "      <td>1.20014</td>\n",
              "      <td>1.19961</td>\n",
              "      <td>1.20010</td>\n",
              "      <td>0</td>\n",
              "    </tr>\n",
              "    <tr>\n",
              "      <th>371633</th>\n",
              "      <td>1.20009</td>\n",
              "      <td>1.20023</td>\n",
              "      <td>1.19974</td>\n",
              "      <td>1.19983</td>\n",
              "      <td>0</td>\n",
              "    </tr>\n",
              "    <tr>\n",
              "      <th>371634</th>\n",
              "      <td>1.19982</td>\n",
              "      <td>1.20074</td>\n",
              "      <td>1.19980</td>\n",
              "      <td>1.20005</td>\n",
              "      <td>0</td>\n",
              "    </tr>\n",
              "  </tbody>\n",
              "</table>\n",
              "</div>"
            ],
            "text/plain": [
              "           open     high      low    close  volume\n",
              "371630  1.19972  1.19987  1.19972  1.19987       0\n",
              "371631  1.19985  1.19985  1.19970  1.19970       0\n",
              "371632  1.19969  1.20014  1.19961  1.20010       0\n",
              "371633  1.20009  1.20023  1.19974  1.19983       0\n",
              "371634  1.19982  1.20074  1.19980  1.20005       0"
            ]
          },
          "metadata": {
            "tags": []
          },
          "execution_count": 11
        }
      ]
    },
    {
      "cell_type": "code",
      "metadata": {
        "id": "bG7RI7BawsEZ",
        "colab_type": "code",
        "colab": {}
      },
      "source": [
        "from tensortrade.features import FeaturePipeline\n",
        "from tensortrade.features.scalers import MinMaxNormalizer\n",
        "from tensortrade.features.stationarity import FractionalDifference\n",
        "\n",
        "normalize_price = MinMaxNormalizer([\"open\", \"high\", \"low\", \"close\"], inplace=True)\n",
        "difference_all = FractionalDifference(difference_order=1, inplace=True)\n",
        "\n",
        "feature_pipeline = FeaturePipeline(steps=[normalize_price, difference_all])\n",
        "exchange.feature_pipeline = feature_pipeline\n",
        "exchange.data_frame.tail()"
      ],
      "execution_count": 0,
      "outputs": []
    },
    {
      "cell_type": "code",
      "metadata": {
        "id": "o1tAnSkwwsEn",
        "colab_type": "code",
        "colab": {}
      },
      "source": [
        "from tensortrade.actions import DiscreteActionStrategy\n",
        "\n",
        "#action_strategy = DiscreteActionStrategy(n_actions=20, instrument_symbol='BTC')\n",
        "action_strategy = DiscreteActionStrategy(n_actions=100)"
      ],
      "execution_count": 0,
      "outputs": []
    },
    {
      "cell_type": "code",
      "metadata": {
        "id": "l1Y4NEz7wsEy",
        "colab_type": "code",
        "colab": {}
      },
      "source": [
        "#from tensortrade.rewards import SimpleProfitStrategy\n",
        "from tensortrade.rewards import RiskAdjustedReturnStrategy\n",
        "\n",
        "#reward_strategy = SimpleProfitStrategy()\n",
        "reward_strategy = RiskAdjustedReturnStrategy()"
      ],
      "execution_count": 0,
      "outputs": []
    },
    {
      "cell_type": "code",
      "metadata": {
        "id": "dtGVBcx9wsFQ",
        "colab_type": "code",
        "colab": {}
      },
      "source": [
        "from tensortrade.environments import TradingEnvironment\n",
        "\n",
        "environment = TradingEnvironment(exchange=exchange,\n",
        "                                 #feature_pipeline=feature_pipeline,\n",
        "                                 action_strategy=action_strategy,\n",
        "                                 reward_strategy=reward_strategy)"
      ],
      "execution_count": 0,
      "outputs": []
    },
    {
      "cell_type": "code",
      "metadata": {
        "colab_type": "code",
        "id": "itFPq32mn96q",
        "colab": {}
      },
      "source": [
        "from stable_baselines.common.policies import MlpPolicy\n",
        "from stable_baselines import PPO2\n",
        "\n",
        "model = PPO2\n",
        "policy = MlpPolicy\n",
        "params = { \"learning_rate\": 1e-4, 'nminibatches': 1 }"
      ],
      "execution_count": 0,
      "outputs": []
    },
    {
      "cell_type": "markdown",
      "metadata": {
        "id": "kbJqeUUHwsFf",
        "colab_type": "text"
      },
      "source": [
        "## Training a Strategy\n",
        "\n",
        "Creating our trading strategy is as simple as plugging in our agent and the environment."
      ]
    },
    {
      "cell_type": "markdown",
      "metadata": {
        "id": "8ECJVJidtvSg",
        "colab_type": "text"
      },
      "source": [
        "MigsStableBaselinesTradingStrategy"
      ]
    },
    {
      "cell_type": "code",
      "metadata": {
        "id": "0i0Te1VApvov",
        "colab_type": "code",
        "colab": {},
        "cellView": "both"
      },
      "source": [
        "import os\n",
        "import gym\n",
        "import json\n",
        "\n",
        "import pandas as pd\n",
        "import numpy as np\n",
        "\n",
        "from abc import ABCMeta, abstractmethod\n",
        "from typing import Union, Callable, List, Dict\n",
        "\n",
        "from stable_baselines.common.vec_env import DummyVecEnv\n",
        "from stable_baselines.common.policies import BasePolicy\n",
        "from stable_baselines.common.base_class import BaseRLModel\n",
        "from stable_baselines import DQN\n",
        "\n",
        "from tensortrade.environments.trading_environment import TradingEnvironment\n",
        "from tensortrade.strategies import TradingStrategy\n",
        "\n",
        "\n",
        "class MigsStableBaselinesTradingStrategy(TradingStrategy):\n",
        "    \"\"\"A trading strategy capable of self tuning, training, and evaluating with stable-baselines.\"\"\"\n",
        "\n",
        "    def __init__(self,\n",
        "                 environment: TradingEnvironment,\n",
        "                 model: BaseRLModel = DQN,\n",
        "                 policy: Union[str, BasePolicy] = 'MlpPolicy',\n",
        "                 model_kwargs: any = {},\n",
        "                 **kwargs):\n",
        "        \"\"\"\n",
        "        Arguments:\n",
        "            environment: A `TradingEnvironment` instance for the agent to trade within.\n",
        "            model (optional): The RL model to create the agent with. Defaults to DQN.\n",
        "            policy (optional): The RL policy to train the agent's model with. Defaults to 'MlpPolicy'.\n",
        "            model_kwargs (optional): Any additional keyword arguments to adjust the model.\n",
        "            kwargs (optional): Optional keyword arguments to adjust the strategy.\n",
        "        \"\"\"\n",
        "        self._model = model\n",
        "        self._model_kwargs = model_kwargs\n",
        "\n",
        "        self.environment = environment\n",
        "        self._agent = self._model(policy, self._environment, **self._model_kwargs)\n",
        "\n",
        "    @property\n",
        "    def environment(self) -> 'TradingEnvironment':\n",
        "        \"\"\"A `TradingEnvironment` instance for the agent to trade within.\"\"\"\n",
        "        return self._environment\n",
        "\n",
        "    @environment.setter\n",
        "    def environment(self, environment: 'TradingEnvironment'):\n",
        "        self._environment = DummyVecEnv([lambda: environment])\n",
        "\n",
        "    def restore_agent(self, path: str):\n",
        "        \"\"\"Deserialize the strategy's learning agent from a file.\n",
        "        Arguments:\n",
        "            path: The `str` path of the file the agent specification is stored in.\n",
        "        \"\"\"\n",
        "        self._agent = self._model.load(path, self._environment, self._model_kwargs)\n",
        "\n",
        "    def save_agent(self, path: str):\n",
        "        \"\"\"Serialize the learning agent to a file for restoring later.\n",
        "        Arguments:\n",
        "            path: The `str` path of the file to store the agent specification in.\n",
        "        \"\"\"\n",
        "        self._agent.save(path)\n",
        "\n",
        "    def tune(self, steps: int = None, episodes: int = None, callback: Callable[[pd.DataFrame], bool] = None) -> pd.DataFrame:\n",
        "        raise NotImplementedError\n",
        "\n",
        "    def run(self, steps: int = None, episodes: int = None, episode_callback: Callable[[pd.DataFrame], bool] = None) -> pd.DataFrame:\n",
        "        if steps is None and episodes is None:\n",
        "            raise ValueError(\n",
        "                'You must set the number of `steps` or `episodes` to run the strategy.')\n",
        "\n",
        "        steps_completed = 0\n",
        "        episodes_completed = 0\n",
        "        average_reward = 0\n",
        "\n",
        "        obs, state, dones = self._environment.reset(), None, [False]\n",
        "\n",
        "        performance = {}\n",
        "\n",
        "        while (steps is not None and (steps == 0 or steps_completed < steps)) or (episodes is not None and episodes_completed < episodes):\n",
        "            actions, state = self._agent.predict(obs, state=state, mask=dones)\n",
        "            obs, rewards, dones, info = self._environment.step(actions)\n",
        "\n",
        "            steps_completed += 1\n",
        "            average_reward -= average_reward / steps_completed\n",
        "            average_reward += rewards[0] / (steps_completed + 1)\n",
        "\n",
        "            exchange_performance = info[0].get('exchange').performance\n",
        "            performance = exchange_performance if len(exchange_performance) > 0 else performance\n",
        "\n",
        "            if dones[0]:\n",
        "                #if episode_callback is not None and episode_callback(performance):\n",
        "                #    break\n",
        "                episodes_completed += 1\n",
        "                print(\"episode #: {}\".format(episodes_completed))\n",
        "                print(performance[-2:])\n",
        "                obs = self._environment.reset()\n",
        "\n",
        "        print(\"Finished running strategy.\")\n",
        "        print(\"Total episodes: {} ({} timesteps).\".format(episodes_completed, steps_completed))\n",
        "        print(\"Average reward: {}.\".format(average_reward))\n",
        "\n",
        "        return performance"
      ],
      "execution_count": 0,
      "outputs": []
    },
    {
      "cell_type": "code",
      "metadata": {
        "id": "by26cyWKptgg",
        "colab_type": "code",
        "colab": {}
      },
      "source": [
        "strategy = MigsStableBaselinesTradingStrategy(environment=environment,\n",
        "                                          model=model,\n",
        "                                          policy=policy,\n",
        "                                          model_kwargs=params)"
      ],
      "execution_count": 0,
      "outputs": []
    },
    {
      "cell_type": "markdown",
      "metadata": {
        "id": "XKFV97K4wsFt",
        "colab_type": "text"
      },
      "source": [
        "Then to train the strategy (i.e. train the agent on the current environment), all we need to do is call `strategy.run()` with the total number of steps or episodes you’d like to run.\n",
        "\n",
        "If this feedback loop is a bit slow for you, you can pass a callback function to `run`, which will be called at the end of each episode. The callback function will pass in a `data_frame` containing the agent's performance that episode, and expects a `bool` in return. If `True`, the agent will continue training, otherwise, the agent will stop and return its overall performance."
      ]
    },
    {
      "cell_type": "code",
      "metadata": {
        "id": "y-NbF06lwsFv",
        "colab_type": "code",
        "outputId": "8189a162-378b-4770-c4a1-481e24829121",
        "colab": {
          "base_uri": "https://localhost:8080/",
          "height": 272
        }
      },
      "source": [
        "#performance = strategy.run(steps=100000)\n",
        "performance = strategy.run(episodes=3, episode_callback=True)"
      ],
      "execution_count": 19,
      "outputs": [
        {
          "output_type": "stream",
          "text": [
            "episode #: 1\n",
            "       balance  net_worth\n",
            "3192  6.172882  10.052455\n",
            "3193  7.319850  10.035628\n",
            "episode #: 2\n",
            "       balance  net_worth\n",
            "3097  5.419855  10.050485\n",
            "3098  5.136853  10.049694\n",
            "episode #: 3\n",
            "       balance  net_worth\n",
            "3333  6.653591  10.033404\n",
            "3334  9.509189  10.016027\n",
            "Finished running strategy.\n",
            "Total episodes: 3 (12407 timesteps).\n",
            "Average reward: -0.5296450674549534.\n"
          ],
          "name": "stdout"
        }
      ]
    },
    {
      "cell_type": "code",
      "metadata": {
        "id": "vbvbeK9OwsF5",
        "colab_type": "code",
        "outputId": "d20d22dd-c308-4eef-e1eb-762117f17e05",
        "colab": {
          "base_uri": "https://localhost:8080/",
          "height": 282
        }
      },
      "source": [
        "%matplotlib inline\n",
        "performance.net_worth.plot()"
      ],
      "execution_count": 20,
      "outputs": [
        {
          "output_type": "execute_result",
          "data": {
            "text/plain": [
              "<matplotlib.axes._subplots.AxesSubplot at 0x7f2fe77bc6d8>"
            ]
          },
          "metadata": {
            "tags": []
          },
          "execution_count": 20
        },
        {
          "output_type": "display_data",
          "data": {
            "image/png": "[encoded data removed]",
            "text/plain": [
              "<Figure size 432x288 with 1 Axes>"
            ]
          },
          "metadata": {
            "tags": []
          }
        }
      ]
    },
    {
      "cell_type": "markdown",
      "metadata": {
        "id": "nz89RJjpwsGA",
        "colab_type": "text"
      },
      "source": [
        "## Saving and Restoring\n",
        "\n",
        "All trading strategies are capable of saving their agent to a file, for later restoring. The environment is not saved, as it does not have state that we care about preserving. To save our `TensorflowTradingStrategy` to a file, we just need to provide the path of the file to our strategy."
      ]
    },
    {
      "cell_type": "code",
      "metadata": {
        "id": "-Oz7blaMwlUo",
        "colab_type": "code",
        "outputId": "310abe19-2cf1-4299-c7b1-21d01b2ac2fa",
        "colab": {
          "base_uri": "https://localhost:8080/",
          "height": 102
        }
      },
      "source": [
        "print(os.getcwd())\n",
        "%ls"
      ],
      "execution_count": 0,
      "outputs": [
        {
          "output_type": "stream",
          "text": [
            "/content/tensortrade\n",
            "CODE_OF_CONDUCT.md  \u001b[0m\u001b[01;34mexamples\u001b[0m/    README.md         \u001b[01;34mtensortrade\u001b[0m/\n",
            "CONTRIBUTING.md     LICENSE      requirements.txt  \u001b[01;34mtensortrade.egg-info\u001b[0m/\n",
            "Dockerfile          Makefile     setup.cfg         \u001b[01;34mtests\u001b[0m/\n",
            "\u001b[01;34mdocs\u001b[0m/               MANIFEST.in  setup.py\n"
          ],
          "name": "stdout"
        }
      ]
    },
    {
      "cell_type": "code",
      "metadata": {
        "id": "kB0x0F3mwsGE",
        "colab_type": "code",
        "colab": {}
      },
      "source": [
        "strategy.save_agent(path=\"ppo_btc_1h\")"
      ],
      "execution_count": 0,
      "outputs": []
    },
    {
      "cell_type": "markdown",
      "metadata": {
        "id": "YnPRHuGBwsGY",
        "colab_type": "text"
      },
      "source": [
        "_This specific strategy saves multiple files, including a directory of models to the path provided._\n",
        "\n",
        "To restore the agent from the file, we first need to instantiate our strategy, before calling restore_agent."
      ]
    },
    {
      "cell_type": "code",
      "metadata": {
        "id": "qqr9a0IKwsGa",
        "colab_type": "code",
        "colab": {}
      },
      "source": [
        "new_strategy = StableBaselinesTradingStrategy(environment=environment,\n",
        "                                          model=model,\n",
        "                                          policy=policy,\n",
        "                                          model_kwargs=params)\n",
        "\n",
        "new_strategy.restore_agent(path=\"ppo_btc_1h\")"
      ],
      "execution_count": 0,
      "outputs": []
    },
    {
      "cell_type": "markdown",
      "metadata": {
        "id": "5BijWcGrwsGv",
        "colab_type": "text"
      },
      "source": [
        "Our strategy is now restored back to its previous state, and ready to be used again. Let's see how it does.\n",
        "\n",
        "## Tuning Your Strategy\n",
        "\n",
        "Sometimes a trading strategy will require tuning a set of hyper-parameters, or features, on an environment to achieve maximum performance. In this case, each `TradingStrategy` provides an optionally implementable tune method.\n",
        "\n",
        "Tuning a model is similar to training a model, however in addition to adjusting and saving the weights and biases of the best performing model, the strategy also adjusts and persists the hyper-parameters that produced that model. "
      ]
    },
    {
      "cell_type": "code",
      "metadata": {
        "id": "7yL8uQLYxTPg",
        "colab_type": "code",
        "outputId": "6dab6210-1188-41e6-de01-e6a5256a74ca",
        "colab": {
          "base_uri": "https://localhost:8080/",
          "height": 336
        }
      },
      "source": [
        "from tensortrade.environments import TradingEnvironment\n",
        "from tensortrade.exchanges.simulated import FBMExchange\n",
        "\n",
        "exchange = FBMExchange(timeframe='1h', base_instrument='BTC', feature_pipeline=feature_pipeline)\n",
        "environment = TradingEnvironment(exchange=exchange, \n",
        "                                 action_strategy=action_strategy, \n",
        "                                 reward_strategy=reward_strategy) \n",
        "new_strategy.environment = environment \n",
        "tuned_performance = new_strategy.tune(episodes=10)"
      ],
      "execution_count": 0,
      "outputs": [
        {
          "output_type": "error",
          "ename": "NotImplementedError",
          "evalue": "ignored",
          "traceback": [
            "\u001b[0;31m---------------------------------------------------------------------------\u001b[0m",
            "\u001b[0;31mNotImplementedError\u001b[0m                       Traceback (most recent call last)",
            "\u001b[0;32m<ipython-input-49-4e7efc10a53c>\u001b[0m in \u001b[0;36m<module>\u001b[0;34m()\u001b[0m\n\u001b[1;32m      7\u001b[0m                                  reward_strategy=reward_strategy) \n\u001b[1;32m      8\u001b[0m \u001b[0mnew_strategy\u001b[0m\u001b[0;34m.\u001b[0m\u001b[0menvironment\u001b[0m \u001b[0;34m=\u001b[0m \u001b[0menvironment\u001b[0m\u001b[0;34m\u001b[0m\u001b[0;34m\u001b[0m\u001b[0m\n\u001b[0;32m----> 9\u001b[0;31m \u001b[0mtuned_performance\u001b[0m \u001b[0;34m=\u001b[0m \u001b[0mnew_strategy\u001b[0m\u001b[0;34m.\u001b[0m\u001b[0mtune\u001b[0m\u001b[0;34m(\u001b[0m\u001b[0mepisodes\u001b[0m\u001b[0;34m=\u001b[0m\u001b[0;36m10\u001b[0m\u001b[0;34m)\u001b[0m\u001b[0;34m\u001b[0m\u001b[0;34m\u001b[0m\u001b[0m\n\u001b[0m",
            "\u001b[0;32m/content/tensortrade/tensortrade/strategies/stable_baselines_strategy.py\u001b[0m in \u001b[0;36mtune\u001b[0;34m(self, steps, episodes, callback)\u001b[0m\n\u001b[1;32m     81\u001b[0m \u001b[0;34m\u001b[0m\u001b[0m\n\u001b[1;32m     82\u001b[0m     \u001b[0;32mdef\u001b[0m \u001b[0mtune\u001b[0m\u001b[0;34m(\u001b[0m\u001b[0mself\u001b[0m\u001b[0;34m,\u001b[0m \u001b[0msteps\u001b[0m\u001b[0;34m:\u001b[0m \u001b[0mint\u001b[0m \u001b[0;34m=\u001b[0m \u001b[0;32mNone\u001b[0m\u001b[0;34m,\u001b[0m \u001b[0mepisodes\u001b[0m\u001b[0;34m:\u001b[0m \u001b[0mint\u001b[0m \u001b[0;34m=\u001b[0m \u001b[0;32mNone\u001b[0m\u001b[0;34m,\u001b[0m \u001b[0mcallback\u001b[0m\u001b[0;34m:\u001b[0m \u001b[0mCallable\u001b[0m\u001b[0;34m[\u001b[0m\u001b[0;34m[\u001b[0m\u001b[0mpd\u001b[0m\u001b[0;34m.\u001b[0m\u001b[0mDataFrame\u001b[0m\u001b[0;34m]\u001b[0m\u001b[0;34m,\u001b[0m \u001b[0mbool\u001b[0m\u001b[0;34m]\u001b[0m \u001b[0;34m=\u001b[0m \u001b[0;32mNone\u001b[0m\u001b[0;34m)\u001b[0m \u001b[0;34m->\u001b[0m \u001b[0mpd\u001b[0m\u001b[0;34m.\u001b[0m\u001b[0mDataFrame\u001b[0m\u001b[0;34m:\u001b[0m\u001b[0;34m\u001b[0m\u001b[0;34m\u001b[0m\u001b[0m\n\u001b[0;32m---> 83\u001b[0;31m         \u001b[0;32mraise\u001b[0m \u001b[0mNotImplementedError\u001b[0m\u001b[0;34m\u001b[0m\u001b[0;34m\u001b[0m\u001b[0m\n\u001b[0m\u001b[1;32m     84\u001b[0m \u001b[0;34m\u001b[0m\u001b[0m\n\u001b[1;32m     85\u001b[0m     \u001b[0;32mdef\u001b[0m \u001b[0mrun\u001b[0m\u001b[0;34m(\u001b[0m\u001b[0mself\u001b[0m\u001b[0;34m,\u001b[0m \u001b[0msteps\u001b[0m\u001b[0;34m:\u001b[0m \u001b[0mint\u001b[0m \u001b[0;34m=\u001b[0m \u001b[0;32mNone\u001b[0m\u001b[0;34m,\u001b[0m \u001b[0mepisodes\u001b[0m\u001b[0;34m:\u001b[0m \u001b[0mint\u001b[0m \u001b[0;34m=\u001b[0m \u001b[0;32mNone\u001b[0m\u001b[0;34m,\u001b[0m \u001b[0mepisode_callback\u001b[0m\u001b[0;34m:\u001b[0m \u001b[0mCallable\u001b[0m\u001b[0;34m[\u001b[0m\u001b[0;34m[\u001b[0m\u001b[0mpd\u001b[0m\u001b[0;34m.\u001b[0m\u001b[0mDataFrame\u001b[0m\u001b[0;34m]\u001b[0m\u001b[0;34m,\u001b[0m \u001b[0mbool\u001b[0m\u001b[0;34m]\u001b[0m \u001b[0;34m=\u001b[0m \u001b[0;32mNone\u001b[0m\u001b[0;34m)\u001b[0m \u001b[0;34m->\u001b[0m \u001b[0mpd\u001b[0m\u001b[0;34m.\u001b[0m\u001b[0mDataFrame\u001b[0m\u001b[0;34m:\u001b[0m\u001b[0;34m\u001b[0m\u001b[0;34m\u001b[0m\u001b[0m\n",
            "\u001b[0;31mNotImplementedError\u001b[0m: "
          ]
        }
      ]
    },
    {
      "cell_type": "markdown",
      "metadata": {
        "id": "lvBJImN1wsG0",
        "colab_type": "text"
      },
      "source": [
        "In this case, the agent will be trained for 10 episodes, with a different set of hyper-parameters each episode. The best set will be saved within the strategy, and used any time strategy.run() is called thereafter.\n",
        "\n",
        "## Strategy Evaluation\n",
        "\n",
        "Now that we've tuned and trained our agent, it's time to see how well it performs. To evaluate our strategy's performance on unseen data, we will need to run it on a new environment backed by such data."
      ]
    },
    {
      "cell_type": "code",
      "metadata": {
        "id": "wHJxmivowsG5",
        "colab_type": "code",
        "outputId": "df1f315c-76cc-4b91-aa83-f67da8f522cd",
        "colab": {
          "base_uri": "https://localhost:8080/",
          "height": 68
        }
      },
      "source": [
        "import pandas as pd\n",
        "from tensortrade.environments import TradingEnvironment\n",
        "from tensortrade.exchanges.simulated import SimulatedExchange\n",
        "\n",
        "df = pd.read_csv('/content/tensortrade/examples/data/Coinbase_BTCUSD_d.csv', skiprows=1)\n",
        "exchange = SimulatedExchange(data_frame=df,\n",
        "                             feature_pipeline=feature_pipeline,\n",
        "                             base_instrument='USD',\n",
        "                             should_pretransform_obs=True)\n",
        "\n",
        "environment = TradingEnvironment(exchange=exchange,\n",
        "                                 action_strategy=action_strategy,\n",
        "                                 reward_strategy=reward_strategy)\n",
        "\n",
        "new_strategy.environment = environment\n",
        "\n",
        "test_performance = new_strategy.run(steps=2000)"
      ],
      "execution_count": 0,
      "outputs": [
        {
          "output_type": "stream",
          "text": [
            "Finished running strategy.\n",
            "Total episodes: 1 (2000 timesteps).\n",
            "Average reward: -0.6791065948644133.\n"
          ],
          "name": "stdout"
        }
      ]
    },
    {
      "cell_type": "code",
      "metadata": {
        "id": "9_NCqq5SSyBG",
        "colab_type": "code",
        "outputId": "fb3dd991-b088-43da-c388-6171b5620290",
        "colab": {
          "base_uri": "https://localhost:8080/",
          "height": 204
        }
      },
      "source": [
        "df.tail()"
      ],
      "execution_count": 0,
      "outputs": [
        {
          "output_type": "execute_result",
          "data": {
            "text/html": [
              "<div>\n",
              "<style scoped>\n",
              "    .dataframe tbody tr th:only-of-type {\n",
              "        vertical-align: middle;\n",
              "    }\n",
              "\n",
              "    .dataframe tbody tr th {\n",
              "        vertical-align: top;\n",
              "    }\n",
              "\n",
              "    .dataframe thead th {\n",
              "        text-align: right;\n",
              "    }\n",
              "</style>\n",
              "<table border=\"1\" class=\"dataframe\">\n",
              "  <thead>\n",
              "    <tr style=\"text-align: right;\">\n",
              "      <th></th>\n",
              "      <th>date</th>\n",
              "      <th>symbol</th>\n",
              "      <th>open</th>\n",
              "      <th>high</th>\n",
              "      <th>low</th>\n",
              "      <th>close</th>\n",
              "      <th>volume_btc</th>\n",
              "      <th>volume</th>\n",
              "    </tr>\n",
              "  </thead>\n",
              "  <tbody>\n",
              "    <tr>\n",
              "      <th>1765</th>\n",
              "      <td>2014-12-05</td>\n",
              "      <td>BTCUSD</td>\n",
              "      <td>377.1</td>\n",
              "      <td>377.1</td>\n",
              "      <td>377.10</td>\n",
              "      <td>377.1</td>\n",
              "      <td>0.00000</td>\n",
              "      <td>0.00</td>\n",
              "    </tr>\n",
              "    <tr>\n",
              "      <th>1766</th>\n",
              "      <td>2014-12-04</td>\n",
              "      <td>BTCUSD</td>\n",
              "      <td>378.0</td>\n",
              "      <td>378.0</td>\n",
              "      <td>377.10</td>\n",
              "      <td>377.1</td>\n",
              "      <td>0.01000</td>\n",
              "      <td>3.77</td>\n",
              "    </tr>\n",
              "    <tr>\n",
              "      <th>1767</th>\n",
              "      <td>2014-12-03</td>\n",
              "      <td>BTCUSD</td>\n",
              "      <td>378.0</td>\n",
              "      <td>378.0</td>\n",
              "      <td>377.01</td>\n",
              "      <td>378.0</td>\n",
              "      <td>0.54660</td>\n",
              "      <td>206.52</td>\n",
              "    </tr>\n",
              "    <tr>\n",
              "      <th>1768</th>\n",
              "      <td>2014-12-02</td>\n",
              "      <td>BTCUSD</td>\n",
              "      <td>370.0</td>\n",
              "      <td>378.0</td>\n",
              "      <td>370.00</td>\n",
              "      <td>378.0</td>\n",
              "      <td>15.01000</td>\n",
              "      <td>5675.07</td>\n",
              "    </tr>\n",
              "    <tr>\n",
              "      <th>1769</th>\n",
              "      <td>2014-12-01</td>\n",
              "      <td>BTCUSD</td>\n",
              "      <td>300.0</td>\n",
              "      <td>370.0</td>\n",
              "      <td>300.00</td>\n",
              "      <td>370.0</td>\n",
              "      <td>0.05656</td>\n",
              "      <td>19.53</td>\n",
              "    </tr>\n",
              "  </tbody>\n",
              "</table>\n",
              "</div>"
            ],
            "text/plain": [
              "            date  symbol   open   high     low  close  volume_btc   volume\n",
              "1765  2014-12-05  BTCUSD  377.1  377.1  377.10  377.1     0.00000     0.00\n",
              "1766  2014-12-04  BTCUSD  378.0  378.0  377.10  377.1     0.01000     3.77\n",
              "1767  2014-12-03  BTCUSD  378.0  378.0  377.01  378.0     0.54660   206.52\n",
              "1768  2014-12-02  BTCUSD  370.0  378.0  370.00  378.0    15.01000  5675.07\n",
              "1769  2014-12-01  BTCUSD  300.0  370.0  300.00  370.0     0.05656    19.53"
            ]
          },
          "metadata": {
            "tags": []
          },
          "execution_count": 55
        }
      ]
    },
    {
      "cell_type": "code",
      "metadata": {
        "id": "w0X7OhFpwsHA",
        "colab_type": "code",
        "outputId": "74b89dc2-5687-4b48-8986-4a579f5881dd",
        "colab": {
          "base_uri": "https://localhost:8080/",
          "height": 286
        }
      },
      "source": [
        "%matplotlib inline\n",
        "\n",
        "test_performance.net_worth.plot()"
      ],
      "execution_count": 0,
      "outputs": [
        {
          "output_type": "execute_result",
          "data": {
            "text/plain": [
              "<matplotlib.axes._subplots.AxesSubplot at 0x7efc0e41f400>"
            ]
          },
          "metadata": {
            "tags": []
          },
          "execution_count": 31
        },
        {
          "output_type": "display_data",
          "data": {
            "image/png": "[encoded data removed]",
            "text/plain": [
              "<Figure size 432x288 with 1 Axes>"
            ]
          },
          "metadata": {
            "tags": []
          }
        }
      ]
    },
    {
      "cell_type": "markdown",
      "metadata": {
        "id": "yIivIOxCwsHK",
        "colab_type": "text"
      },
      "source": [
        "When complete, strategy.run returns a `Pandas.data_frame` of the agent's performance, including the net worth and balance of the agent at each time step.\n",
        "\n",
        "## Live Trading\n",
        "\n",
        "Once you've built a profitable trading strategy, trained an agent to trade it properly, and ensured its \"generalize-ability\" to new data sets, all there is left to do is profit. Using a live exchange such as `CCXTExchange`, you can plug your strategy in and let it run!\n",
        "\n",
        "While the gambler in you may enjoy starting a strategy and letting it run without bounds, the more risk averse of you can use a `trade_callback`, which will be called each time the strategy makes a trade. This callback function, similar to the episode callback, will pass in a data frame containing the agent's overall performance, and expects a `bool` in return. If `True`, the agent will continue trading, otherwise, the agent will stop and return its performance over the session."
      ]
    },
    {
      "cell_type": "code",
      "metadata": {
        "id": "bdf8H0tuwsHO",
        "colab_type": "code",
        "outputId": "566d72d8-8767-40a3-bf4b-814cce16261d",
        "colab": {
          "base_uri": "https://localhost:8080/",
          "height": 445
        }
      },
      "source": [
        "import ccxt\n",
        "from tensortrade.environments import TradingEnvironment\n",
        "from tensortrade.exchanges.live import CCXTExchange\n",
        "\n",
        "binance = ccxt.binance({\n",
        "    'apiKey': 'HfPX38sJ2aKewYDUJx6TaWrDhuT7rq426elO5Gbc55Dvg4klASEfm0aqcdl4Mpz6',\n",
        "    'secret': 'aGdMMaaol3GkyzDcrSEoc4aFlWG78qCxnGl3o22ub24u2scrZRcsIe2qn0kI82GQ',\n",
        "    'enableRateLimit': True,\n",
        "})\n",
        "\n",
        "exchange = CCXTExchange(exchange=binance,\n",
        "                        base_instrument='BNB',\n",
        "                        observation_type='ohlcv',\n",
        "                        timeframe='1h')\n",
        "\n",
        "btcusd_actions = DiscreteActionStrategy(n_actions=20, instrument_symbol='BNB/BTC')\n",
        "\n",
        "environment = TradingEnvironment(exchange=exchange,\n",
        "                                 feature_pipeline=feature_pipeline,\n",
        "                                 action_strategy=btcusd_actions,\n",
        "                                 reward_strategy=reward_strategy)\n",
        "\n",
        "strategy.environment = environment\n",
        "\n",
        "live_performance = strategy.run(steps=1)"
      ],
      "execution_count": 0,
      "outputs": [
        {
          "output_type": "error",
          "ename": "InvalidOrder",
          "evalue": "ignored",
          "traceback": [
            "\u001b[0;31m---------------------------------------------------------------------------\u001b[0m",
            "\u001b[0;31mHTTPError\u001b[0m                                 Traceback (most recent call last)",
            "\u001b[0;32m/usr/local/lib/python3.6/dist-packages/ccxt/base/exchange.py\u001b[0m in \u001b[0;36mfetch\u001b[0;34m(self, url, method, headers, body)\u001b[0m\n\u001b[1;32m    539\u001b[0m             \u001b[0mself\u001b[0m\u001b[0;34m.\u001b[0m\u001b[0mlogger\u001b[0m\u001b[0;34m.\u001b[0m\u001b[0mdebug\u001b[0m\u001b[0;34m(\u001b[0m\u001b[0;34m\"%s %s, Response: %s %s %s\"\u001b[0m\u001b[0;34m,\u001b[0m \u001b[0mmethod\u001b[0m\u001b[0;34m,\u001b[0m \u001b[0murl\u001b[0m\u001b[0;34m,\u001b[0m \u001b[0mhttp_status_code\u001b[0m\u001b[0;34m,\u001b[0m \u001b[0mheaders\u001b[0m\u001b[0;34m,\u001b[0m \u001b[0mhttp_response\u001b[0m\u001b[0;34m)\u001b[0m\u001b[0;34m\u001b[0m\u001b[0;34m\u001b[0m\u001b[0m\n\u001b[0;32m--> 540\u001b[0;31m             \u001b[0mresponse\u001b[0m\u001b[0;34m.\u001b[0m\u001b[0mraise_for_status\u001b[0m\u001b[0;34m(\u001b[0m\u001b[0;34m)\u001b[0m\u001b[0;34m\u001b[0m\u001b[0;34m\u001b[0m\u001b[0m\n\u001b[0m\u001b[1;32m    541\u001b[0m \u001b[0;34m\u001b[0m\u001b[0m\n",
            "\u001b[0;32m/usr/local/lib/python3.6/dist-packages/requests/models.py\u001b[0m in \u001b[0;36mraise_for_status\u001b[0;34m(self)\u001b[0m\n\u001b[1;32m    939\u001b[0m         \u001b[0;32mif\u001b[0m \u001b[0mhttp_error_msg\u001b[0m\u001b[0;34m:\u001b[0m\u001b[0;34m\u001b[0m\u001b[0;34m\u001b[0m\u001b[0m\n\u001b[0;32m--> 940\u001b[0;31m             \u001b[0;32mraise\u001b[0m \u001b[0mHTTPError\u001b[0m\u001b[0;34m(\u001b[0m\u001b[0mhttp_error_msg\u001b[0m\u001b[0;34m,\u001b[0m \u001b[0mresponse\u001b[0m\u001b[0;34m=\u001b[0m\u001b[0mself\u001b[0m\u001b[0;34m)\u001b[0m\u001b[0;34m\u001b[0m\u001b[0;34m\u001b[0m\u001b[0m\n\u001b[0m\u001b[1;32m    941\u001b[0m \u001b[0;34m\u001b[0m\u001b[0m\n",
            "\u001b[0;31mHTTPError\u001b[0m: 400 Client Error: Bad Request for url: https://api.binance.com/api/v3/order",
            "\nDuring handling of the above exception, another exception occurred:\n",
            "\u001b[0;31mInvalidOrder\u001b[0m                              Traceback (most recent call last)",
            "\u001b[0;32m<ipython-input-28-3d904bc48c58>\u001b[0m in \u001b[0;36m<module>\u001b[0;34m()\u001b[0m\n\u001b[1;32m     23\u001b[0m \u001b[0mstrategy\u001b[0m\u001b[0;34m.\u001b[0m\u001b[0menvironment\u001b[0m \u001b[0;34m=\u001b[0m \u001b[0menvironment\u001b[0m\u001b[0;34m\u001b[0m\u001b[0;34m\u001b[0m\u001b[0m\n\u001b[1;32m     24\u001b[0m \u001b[0;34m\u001b[0m\u001b[0m\n\u001b[0;32m---> 25\u001b[0;31m \u001b[0mlive_performance\u001b[0m \u001b[0;34m=\u001b[0m \u001b[0mstrategy\u001b[0m\u001b[0;34m.\u001b[0m\u001b[0mrun\u001b[0m\u001b[0;34m(\u001b[0m\u001b[0msteps\u001b[0m\u001b[0;34m=\u001b[0m\u001b[0;36m1\u001b[0m\u001b[0;34m)\u001b[0m\u001b[0;34m\u001b[0m\u001b[0;34m\u001b[0m\u001b[0m\n\u001b[0m",
            "\u001b[0;32m/content/tensortrade/tensortrade/strategies/stable_baselines_strategy.py\u001b[0m in \u001b[0;36mrun\u001b[0;34m(self, steps, episodes, episode_callback)\u001b[0m\n\u001b[1;32m     98\u001b[0m         \u001b[0;32mwhile\u001b[0m \u001b[0;34m(\u001b[0m\u001b[0msteps\u001b[0m \u001b[0;32mis\u001b[0m \u001b[0;32mnot\u001b[0m \u001b[0;32mNone\u001b[0m \u001b[0;32mand\u001b[0m \u001b[0;34m(\u001b[0m\u001b[0msteps\u001b[0m \u001b[0;34m==\u001b[0m \u001b[0;36m0\u001b[0m \u001b[0;32mor\u001b[0m \u001b[0msteps_completed\u001b[0m \u001b[0;34m<\u001b[0m \u001b[0msteps\u001b[0m\u001b[0;34m)\u001b[0m\u001b[0;34m)\u001b[0m \u001b[0;32mor\u001b[0m \u001b[0;34m(\u001b[0m\u001b[0mepisodes\u001b[0m \u001b[0;32mis\u001b[0m \u001b[0;32mnot\u001b[0m \u001b[0;32mNone\u001b[0m \u001b[0;32mand\u001b[0m \u001b[0mepisodes_completed\u001b[0m \u001b[0;34m<\u001b[0m \u001b[0mepisodes\u001b[0m\u001b[0;34m)\u001b[0m\u001b[0;34m:\u001b[0m\u001b[0;34m\u001b[0m\u001b[0;34m\u001b[0m\u001b[0m\n\u001b[1;32m     99\u001b[0m             \u001b[0mactions\u001b[0m\u001b[0;34m,\u001b[0m \u001b[0mstate\u001b[0m \u001b[0;34m=\u001b[0m \u001b[0mself\u001b[0m\u001b[0;34m.\u001b[0m\u001b[0m_agent\u001b[0m\u001b[0;34m.\u001b[0m\u001b[0mpredict\u001b[0m\u001b[0;34m(\u001b[0m\u001b[0mobs\u001b[0m\u001b[0;34m,\u001b[0m \u001b[0mstate\u001b[0m\u001b[0;34m=\u001b[0m\u001b[0mstate\u001b[0m\u001b[0;34m,\u001b[0m \u001b[0mmask\u001b[0m\u001b[0;34m=\u001b[0m\u001b[0mdones\u001b[0m\u001b[0;34m)\u001b[0m\u001b[0;34m\u001b[0m\u001b[0;34m\u001b[0m\u001b[0m\n\u001b[0;32m--> 100\u001b[0;31m             \u001b[0mobs\u001b[0m\u001b[0;34m,\u001b[0m \u001b[0mrewards\u001b[0m\u001b[0;34m,\u001b[0m \u001b[0mdones\u001b[0m\u001b[0;34m,\u001b[0m \u001b[0minfo\u001b[0m \u001b[0;34m=\u001b[0m \u001b[0mself\u001b[0m\u001b[0;34m.\u001b[0m\u001b[0m_environment\u001b[0m\u001b[0;34m.\u001b[0m\u001b[0mstep\u001b[0m\u001b[0;34m(\u001b[0m\u001b[0mactions\u001b[0m\u001b[0;34m)\u001b[0m\u001b[0;34m\u001b[0m\u001b[0;34m\u001b[0m\u001b[0m\n\u001b[0m\u001b[1;32m    101\u001b[0m \u001b[0;34m\u001b[0m\u001b[0m\n\u001b[1;32m    102\u001b[0m             \u001b[0msteps_completed\u001b[0m \u001b[0;34m+=\u001b[0m \u001b[0;36m1\u001b[0m\u001b[0;34m\u001b[0m\u001b[0;34m\u001b[0m\u001b[0m\n",
            "\u001b[0;32m/usr/local/lib/python3.6/dist-packages/stable_baselines/common/vec_env/base_vec_env.py\u001b[0m in \u001b[0;36mstep\u001b[0;34m(self, actions)\u001b[0m\n\u001b[1;32m    132\u001b[0m         \"\"\"\n\u001b[1;32m    133\u001b[0m         \u001b[0mself\u001b[0m\u001b[0;34m.\u001b[0m\u001b[0mstep_async\u001b[0m\u001b[0;34m(\u001b[0m\u001b[0mactions\u001b[0m\u001b[0;34m)\u001b[0m\u001b[0;34m\u001b[0m\u001b[0;34m\u001b[0m\u001b[0m\n\u001b[0;32m--> 134\u001b[0;31m         \u001b[0;32mreturn\u001b[0m \u001b[0mself\u001b[0m\u001b[0;34m.\u001b[0m\u001b[0mstep_wait\u001b[0m\u001b[0;34m(\u001b[0m\u001b[0;34m)\u001b[0m\u001b[0;34m\u001b[0m\u001b[0;34m\u001b[0m\u001b[0m\n\u001b[0m\u001b[1;32m    135\u001b[0m \u001b[0;34m\u001b[0m\u001b[0m\n\u001b[1;32m    136\u001b[0m     \u001b[0;32mdef\u001b[0m \u001b[0mget_images\u001b[0m\u001b[0;34m(\u001b[0m\u001b[0mself\u001b[0m\u001b[0;34m)\u001b[0m\u001b[0;34m:\u001b[0m\u001b[0;34m\u001b[0m\u001b[0;34m\u001b[0m\u001b[0m\n",
            "\u001b[0;32m/usr/local/lib/python3.6/dist-packages/stable_baselines/common/vec_env/dummy_vec_env.py\u001b[0m in \u001b[0;36mstep_wait\u001b[0;34m(self)\u001b[0m\n\u001b[1;32m     38\u001b[0m         \u001b[0;32mfor\u001b[0m \u001b[0menv_idx\u001b[0m \u001b[0;32min\u001b[0m \u001b[0mrange\u001b[0m\u001b[0;34m(\u001b[0m\u001b[0mself\u001b[0m\u001b[0;34m.\u001b[0m\u001b[0mnum_envs\u001b[0m\u001b[0;34m)\u001b[0m\u001b[0;34m:\u001b[0m\u001b[0;34m\u001b[0m\u001b[0;34m\u001b[0m\u001b[0m\n\u001b[1;32m     39\u001b[0m             \u001b[0mobs\u001b[0m\u001b[0;34m,\u001b[0m \u001b[0mself\u001b[0m\u001b[0;34m.\u001b[0m\u001b[0mbuf_rews\u001b[0m\u001b[0;34m[\u001b[0m\u001b[0menv_idx\u001b[0m\u001b[0;34m]\u001b[0m\u001b[0;34m,\u001b[0m \u001b[0mself\u001b[0m\u001b[0;34m.\u001b[0m\u001b[0mbuf_dones\u001b[0m\u001b[0;34m[\u001b[0m\u001b[0menv_idx\u001b[0m\u001b[0;34m]\u001b[0m\u001b[0;34m,\u001b[0m \u001b[0mself\u001b[0m\u001b[0;34m.\u001b[0m\u001b[0mbuf_infos\u001b[0m\u001b[0;34m[\u001b[0m\u001b[0menv_idx\u001b[0m\u001b[0;34m]\u001b[0m \u001b[0;34m=\u001b[0m\u001b[0;31m\\\u001b[0m\u001b[0;34m\u001b[0m\u001b[0;34m\u001b[0m\u001b[0m\n\u001b[0;32m---> 40\u001b[0;31m                 \u001b[0mself\u001b[0m\u001b[0;34m.\u001b[0m\u001b[0menvs\u001b[0m\u001b[0;34m[\u001b[0m\u001b[0menv_idx\u001b[0m\u001b[0;34m]\u001b[0m\u001b[0;34m.\u001b[0m\u001b[0mstep\u001b[0m\u001b[0;34m(\u001b[0m\u001b[0mself\u001b[0m\u001b[0;34m.\u001b[0m\u001b[0mactions\u001b[0m\u001b[0;34m[\u001b[0m\u001b[0menv_idx\u001b[0m\u001b[0;34m]\u001b[0m\u001b[0;34m)\u001b[0m\u001b[0;34m\u001b[0m\u001b[0;34m\u001b[0m\u001b[0m\n\u001b[0m\u001b[1;32m     41\u001b[0m             \u001b[0;32mif\u001b[0m \u001b[0mself\u001b[0m\u001b[0;34m.\u001b[0m\u001b[0mbuf_dones\u001b[0m\u001b[0;34m[\u001b[0m\u001b[0menv_idx\u001b[0m\u001b[0;34m]\u001b[0m\u001b[0;34m:\u001b[0m\u001b[0;34m\u001b[0m\u001b[0;34m\u001b[0m\u001b[0m\n\u001b[1;32m     42\u001b[0m                 \u001b[0;31m# save final observation where user can get it, then reset\u001b[0m\u001b[0;34m\u001b[0m\u001b[0;34m\u001b[0m\u001b[0;34m\u001b[0m\u001b[0m\n",
            "\u001b[0;32m/content/tensortrade/tensortrade/environments/trading_environment.py\u001b[0m in \u001b[0;36mstep\u001b[0;34m(self, action)\u001b[0m\n\u001b[1;32m    187\u001b[0m             \u001b[0minfo\u001b[0m \u001b[0;34m(\u001b[0m\u001b[0mdict\u001b[0m\u001b[0;34m)\u001b[0m\u001b[0;34m:\u001b[0m \u001b[0mAny\u001b[0m \u001b[0mauxiliary\u001b[0m\u001b[0;34m,\u001b[0m \u001b[0mdiagnostic\u001b[0m\u001b[0;34m,\u001b[0m \u001b[0;32mor\u001b[0m \u001b[0mdebugging\u001b[0m \u001b[0minformation\u001b[0m \u001b[0mto\u001b[0m \u001b[0moutput\u001b[0m\u001b[0;34m.\u001b[0m\u001b[0;34m\u001b[0m\u001b[0;34m\u001b[0m\u001b[0m\n\u001b[1;32m    188\u001b[0m         \"\"\"\n\u001b[0;32m--> 189\u001b[0;31m         \u001b[0mexecuted_trade\u001b[0m\u001b[0;34m,\u001b[0m \u001b[0mfilled_trade\u001b[0m \u001b[0;34m=\u001b[0m \u001b[0mself\u001b[0m\u001b[0;34m.\u001b[0m\u001b[0m_take_action\u001b[0m\u001b[0;34m(\u001b[0m\u001b[0maction\u001b[0m\u001b[0;34m)\u001b[0m\u001b[0;34m\u001b[0m\u001b[0;34m\u001b[0m\u001b[0m\n\u001b[0m\u001b[1;32m    190\u001b[0m \u001b[0;34m\u001b[0m\u001b[0m\n\u001b[1;32m    191\u001b[0m         \u001b[0mobservation\u001b[0m \u001b[0;34m=\u001b[0m \u001b[0mself\u001b[0m\u001b[0;34m.\u001b[0m\u001b[0m_next_observation\u001b[0m\u001b[0;34m(\u001b[0m\u001b[0mfilled_trade\u001b[0m\u001b[0;34m)\u001b[0m\u001b[0;34m\u001b[0m\u001b[0;34m\u001b[0m\u001b[0m\n",
            "\u001b[0;32m/content/tensortrade/tensortrade/environments/trading_environment.py\u001b[0m in \u001b[0;36m_take_action\u001b[0;34m(self, action)\u001b[0m\n\u001b[1;32m    122\u001b[0m         \u001b[0mexecuted_trade\u001b[0m \u001b[0;34m=\u001b[0m \u001b[0mself\u001b[0m\u001b[0;34m.\u001b[0m\u001b[0m_action_strategy\u001b[0m\u001b[0;34m.\u001b[0m\u001b[0mget_trade\u001b[0m\u001b[0;34m(\u001b[0m\u001b[0maction\u001b[0m\u001b[0;34m=\u001b[0m\u001b[0maction\u001b[0m\u001b[0;34m)\u001b[0m\u001b[0;34m\u001b[0m\u001b[0;34m\u001b[0m\u001b[0m\n\u001b[1;32m    123\u001b[0m \u001b[0;34m\u001b[0m\u001b[0m\n\u001b[0;32m--> 124\u001b[0;31m         \u001b[0mfilled_trade\u001b[0m \u001b[0;34m=\u001b[0m \u001b[0mself\u001b[0m\u001b[0;34m.\u001b[0m\u001b[0m_exchange\u001b[0m\u001b[0;34m.\u001b[0m\u001b[0mexecute_trade\u001b[0m\u001b[0;34m(\u001b[0m\u001b[0mexecuted_trade\u001b[0m\u001b[0;34m)\u001b[0m\u001b[0;34m\u001b[0m\u001b[0;34m\u001b[0m\u001b[0m\n\u001b[0m\u001b[1;32m    125\u001b[0m \u001b[0;34m\u001b[0m\u001b[0m\n\u001b[1;32m    126\u001b[0m         \u001b[0;32mreturn\u001b[0m \u001b[0mexecuted_trade\u001b[0m\u001b[0;34m,\u001b[0m \u001b[0mfilled_trade\u001b[0m\u001b[0;34m\u001b[0m\u001b[0;34m\u001b[0m\u001b[0m\n",
            "\u001b[0;32m/content/tensortrade/tensortrade/exchanges/live/ccxt_exchange.py\u001b[0m in \u001b[0;36mexecute_trade\u001b[0;34m(self, trade)\u001b[0m\n\u001b[1;32m    159\u001b[0m             \u001b[0morder\u001b[0m \u001b[0;34m=\u001b[0m \u001b[0mself\u001b[0m\u001b[0;34m.\u001b[0m\u001b[0m_exchange\u001b[0m\u001b[0;34m.\u001b[0m\u001b[0mcreate_limit_buy_order\u001b[0m\u001b[0;34m(\u001b[0m\u001b[0mtrade\u001b[0m\u001b[0;34m.\u001b[0m\u001b[0msymbol\u001b[0m\u001b[0;34m,\u001b[0m \u001b[0mtrade\u001b[0m\u001b[0;34m.\u001b[0m\u001b[0mamount\u001b[0m\u001b[0;34m,\u001b[0m \u001b[0mtrade\u001b[0m\u001b[0;34m.\u001b[0m\u001b[0mprice\u001b[0m\u001b[0;34m)\u001b[0m\u001b[0;34m\u001b[0m\u001b[0;34m\u001b[0m\u001b[0m\n\u001b[1;32m    160\u001b[0m         \u001b[0;32melif\u001b[0m \u001b[0mtrade\u001b[0m\u001b[0;34m.\u001b[0m\u001b[0mtrade_type\u001b[0m \u001b[0;34m==\u001b[0m \u001b[0mTradeType\u001b[0m\u001b[0;34m.\u001b[0m\u001b[0mMARKET_BUY\u001b[0m\u001b[0;34m:\u001b[0m\u001b[0;34m\u001b[0m\u001b[0;34m\u001b[0m\u001b[0m\n\u001b[0;32m--> 161\u001b[0;31m             \u001b[0morder\u001b[0m \u001b[0;34m=\u001b[0m \u001b[0mself\u001b[0m\u001b[0;34m.\u001b[0m\u001b[0m_exchange\u001b[0m\u001b[0;34m.\u001b[0m\u001b[0mcreate_market_buy_order\u001b[0m\u001b[0;34m(\u001b[0m\u001b[0mtrade\u001b[0m\u001b[0;34m.\u001b[0m\u001b[0msymbol\u001b[0m\u001b[0;34m,\u001b[0m \u001b[0mtrade\u001b[0m\u001b[0;34m.\u001b[0m\u001b[0mamount\u001b[0m\u001b[0;34m)\u001b[0m\u001b[0;34m\u001b[0m\u001b[0;34m\u001b[0m\u001b[0m\n\u001b[0m\u001b[1;32m    162\u001b[0m         \u001b[0;32melif\u001b[0m \u001b[0mtrade\u001b[0m\u001b[0;34m.\u001b[0m\u001b[0mtrade_type\u001b[0m \u001b[0;34m==\u001b[0m \u001b[0mTradeType\u001b[0m\u001b[0;34m.\u001b[0m\u001b[0mLIMIT_SELL\u001b[0m\u001b[0;34m:\u001b[0m\u001b[0;34m\u001b[0m\u001b[0;34m\u001b[0m\u001b[0m\n\u001b[1;32m    163\u001b[0m             \u001b[0morder\u001b[0m \u001b[0;34m=\u001b[0m \u001b[0mself\u001b[0m\u001b[0;34m.\u001b[0m\u001b[0m_exchange\u001b[0m\u001b[0;34m.\u001b[0m\u001b[0mcreate_limit_sell_order\u001b[0m\u001b[0;34m(\u001b[0m\u001b[0mtrade\u001b[0m\u001b[0;34m.\u001b[0m\u001b[0msymbol\u001b[0m\u001b[0;34m,\u001b[0m \u001b[0mtrade\u001b[0m\u001b[0;34m.\u001b[0m\u001b[0mamount\u001b[0m\u001b[0;34m,\u001b[0m \u001b[0mtrade\u001b[0m\u001b[0;34m.\u001b[0m\u001b[0mprice\u001b[0m\u001b[0;34m)\u001b[0m\u001b[0;34m\u001b[0m\u001b[0;34m\u001b[0m\u001b[0m\n",
            "\u001b[0;32m/usr/local/lib/python3.6/dist-packages/ccxt/base/exchange.py\u001b[0m in \u001b[0;36mcreate_market_buy_order\u001b[0;34m(self, symbol, amount, params)\u001b[0m\n\u001b[1;32m   1723\u001b[0m \u001b[0;34m\u001b[0m\u001b[0m\n\u001b[1;32m   1724\u001b[0m     \u001b[0;32mdef\u001b[0m \u001b[0mcreate_market_buy_order\u001b[0m\u001b[0;34m(\u001b[0m\u001b[0mself\u001b[0m\u001b[0;34m,\u001b[0m \u001b[0msymbol\u001b[0m\u001b[0;34m,\u001b[0m \u001b[0mamount\u001b[0m\u001b[0;34m,\u001b[0m \u001b[0mparams\u001b[0m\u001b[0;34m=\u001b[0m\u001b[0;34m{\u001b[0m\u001b[0;34m}\u001b[0m\u001b[0;34m)\u001b[0m\u001b[0;34m:\u001b[0m\u001b[0;34m\u001b[0m\u001b[0;34m\u001b[0m\u001b[0m\n\u001b[0;32m-> 1725\u001b[0;31m         \u001b[0;32mreturn\u001b[0m \u001b[0mself\u001b[0m\u001b[0;34m.\u001b[0m\u001b[0mcreate_order\u001b[0m\u001b[0;34m(\u001b[0m\u001b[0msymbol\u001b[0m\u001b[0;34m,\u001b[0m \u001b[0;34m'market'\u001b[0m\u001b[0;34m,\u001b[0m \u001b[0;34m'buy'\u001b[0m\u001b[0;34m,\u001b[0m \u001b[0mamount\u001b[0m\u001b[0;34m,\u001b[0m \u001b[0;32mNone\u001b[0m\u001b[0;34m,\u001b[0m \u001b[0mparams\u001b[0m\u001b[0;34m)\u001b[0m\u001b[0;34m\u001b[0m\u001b[0;34m\u001b[0m\u001b[0m\n\u001b[0m\u001b[1;32m   1726\u001b[0m \u001b[0;34m\u001b[0m\u001b[0m\n\u001b[1;32m   1727\u001b[0m     \u001b[0;32mdef\u001b[0m \u001b[0mcreate_market_sell_order\u001b[0m\u001b[0;34m(\u001b[0m\u001b[0mself\u001b[0m\u001b[0;34m,\u001b[0m \u001b[0msymbol\u001b[0m\u001b[0;34m,\u001b[0m \u001b[0mamount\u001b[0m\u001b[0;34m,\u001b[0m \u001b[0mparams\u001b[0m\u001b[0;34m=\u001b[0m\u001b[0;34m{\u001b[0m\u001b[0;34m}\u001b[0m\u001b[0;34m)\u001b[0m\u001b[0;34m:\u001b[0m\u001b[0;34m\u001b[0m\u001b[0;34m\u001b[0m\u001b[0m\n",
            "\u001b[0;32m/usr/local/lib/python3.6/dist-packages/ccxt/binance.py\u001b[0m in \u001b[0;36mcreate_order\u001b[0;34m(self, symbol, type, side, amount, price, params)\u001b[0m\n\u001b[1;32m    771\u001b[0m                 \u001b[0mparams\u001b[0m \u001b[0;34m=\u001b[0m \u001b[0mself\u001b[0m\u001b[0;34m.\u001b[0m\u001b[0momit\u001b[0m\u001b[0;34m(\u001b[0m\u001b[0mparams\u001b[0m\u001b[0;34m,\u001b[0m \u001b[0;34m'stopPrice'\u001b[0m\u001b[0;34m)\u001b[0m\u001b[0;34m\u001b[0m\u001b[0;34m\u001b[0m\u001b[0m\n\u001b[1;32m    772\u001b[0m                 \u001b[0mrequest\u001b[0m\u001b[0;34m[\u001b[0m\u001b[0;34m'stopPrice'\u001b[0m\u001b[0;34m]\u001b[0m \u001b[0;34m=\u001b[0m \u001b[0mself\u001b[0m\u001b[0;34m.\u001b[0m\u001b[0mprice_to_precision\u001b[0m\u001b[0;34m(\u001b[0m\u001b[0msymbol\u001b[0m\u001b[0;34m,\u001b[0m \u001b[0mstopPrice\u001b[0m\u001b[0;34m)\u001b[0m\u001b[0;34m\u001b[0m\u001b[0;34m\u001b[0m\u001b[0m\n\u001b[0;32m--> 773\u001b[0;31m         \u001b[0mresponse\u001b[0m \u001b[0;34m=\u001b[0m \u001b[0mgetattr\u001b[0m\u001b[0;34m(\u001b[0m\u001b[0mself\u001b[0m\u001b[0;34m,\u001b[0m \u001b[0mmethod\u001b[0m\u001b[0;34m)\u001b[0m\u001b[0;34m(\u001b[0m\u001b[0mself\u001b[0m\u001b[0;34m.\u001b[0m\u001b[0mextend\u001b[0m\u001b[0;34m(\u001b[0m\u001b[0mrequest\u001b[0m\u001b[0;34m,\u001b[0m \u001b[0mparams\u001b[0m\u001b[0;34m)\u001b[0m\u001b[0;34m)\u001b[0m\u001b[0;34m\u001b[0m\u001b[0;34m\u001b[0m\u001b[0m\n\u001b[0m\u001b[1;32m    774\u001b[0m         \u001b[0;32mreturn\u001b[0m \u001b[0mself\u001b[0m\u001b[0;34m.\u001b[0m\u001b[0mparse_order\u001b[0m\u001b[0;34m(\u001b[0m\u001b[0mresponse\u001b[0m\u001b[0;34m,\u001b[0m \u001b[0mmarket\u001b[0m\u001b[0;34m)\u001b[0m\u001b[0;34m\u001b[0m\u001b[0;34m\u001b[0m\u001b[0m\n\u001b[1;32m    775\u001b[0m \u001b[0;34m\u001b[0m\u001b[0m\n",
            "\u001b[0;32m/usr/local/lib/python3.6/dist-packages/ccxt/base/exchange.py\u001b[0m in \u001b[0;36minner\u001b[0;34m(_self, params)\u001b[0m\n\u001b[1;32m    434\u001b[0m                             \u001b[0;32mif\u001b[0m \u001b[0mparams\u001b[0m \u001b[0;32mis\u001b[0m \u001b[0;32mnot\u001b[0m \u001b[0;32mNone\u001b[0m\u001b[0;34m:\u001b[0m\u001b[0;34m\u001b[0m\u001b[0;34m\u001b[0m\u001b[0m\n\u001b[1;32m    435\u001b[0m                                 \u001b[0minner_kwargs\u001b[0m\u001b[0;34m[\u001b[0m\u001b[0;34m'params'\u001b[0m\u001b[0;34m]\u001b[0m \u001b[0;34m=\u001b[0m \u001b[0mparams\u001b[0m\u001b[0;34m\u001b[0m\u001b[0;34m\u001b[0m\u001b[0m\n\u001b[0;32m--> 436\u001b[0;31m                             \u001b[0;32mreturn\u001b[0m \u001b[0mentry\u001b[0m\u001b[0;34m(\u001b[0m\u001b[0m_self\u001b[0m\u001b[0;34m,\u001b[0m \u001b[0;34m**\u001b[0m\u001b[0minner_kwargs\u001b[0m\u001b[0;34m)\u001b[0m\u001b[0;34m\u001b[0m\u001b[0;34m\u001b[0m\u001b[0m\n\u001b[0m\u001b[1;32m    437\u001b[0m                         \u001b[0;32mreturn\u001b[0m \u001b[0minner\u001b[0m\u001b[0;34m\u001b[0m\u001b[0;34m\u001b[0m\u001b[0m\n\u001b[1;32m    438\u001b[0m                     \u001b[0mto_bind\u001b[0m \u001b[0;34m=\u001b[0m \u001b[0mpartialer\u001b[0m\u001b[0;34m(\u001b[0m\u001b[0;34m)\u001b[0m\u001b[0;34m\u001b[0m\u001b[0;34m\u001b[0m\u001b[0m\n",
            "\u001b[0;32m/usr/local/lib/python3.6/dist-packages/ccxt/binance.py\u001b[0m in \u001b[0;36mrequest\u001b[0;34m(self, path, api, method, params, headers, body)\u001b[0m\n\u001b[1;32m   1288\u001b[0m \u001b[0;34m\u001b[0m\u001b[0m\n\u001b[1;32m   1289\u001b[0m     \u001b[0;32mdef\u001b[0m \u001b[0mrequest\u001b[0m\u001b[0;34m(\u001b[0m\u001b[0mself\u001b[0m\u001b[0;34m,\u001b[0m \u001b[0mpath\u001b[0m\u001b[0;34m,\u001b[0m \u001b[0mapi\u001b[0m\u001b[0;34m=\u001b[0m\u001b[0;34m'public'\u001b[0m\u001b[0;34m,\u001b[0m \u001b[0mmethod\u001b[0m\u001b[0;34m=\u001b[0m\u001b[0;34m'GET'\u001b[0m\u001b[0;34m,\u001b[0m \u001b[0mparams\u001b[0m\u001b[0;34m=\u001b[0m\u001b[0;34m{\u001b[0m\u001b[0;34m}\u001b[0m\u001b[0;34m,\u001b[0m \u001b[0mheaders\u001b[0m\u001b[0;34m=\u001b[0m\u001b[0;32mNone\u001b[0m\u001b[0;34m,\u001b[0m \u001b[0mbody\u001b[0m\u001b[0;34m=\u001b[0m\u001b[0;32mNone\u001b[0m\u001b[0;34m)\u001b[0m\u001b[0;34m:\u001b[0m\u001b[0;34m\u001b[0m\u001b[0;34m\u001b[0m\u001b[0m\n\u001b[0;32m-> 1290\u001b[0;31m         \u001b[0mresponse\u001b[0m \u001b[0;34m=\u001b[0m \u001b[0mself\u001b[0m\u001b[0;34m.\u001b[0m\u001b[0mfetch2\u001b[0m\u001b[0;34m(\u001b[0m\u001b[0mpath\u001b[0m\u001b[0;34m,\u001b[0m \u001b[0mapi\u001b[0m\u001b[0;34m,\u001b[0m \u001b[0mmethod\u001b[0m\u001b[0;34m,\u001b[0m \u001b[0mparams\u001b[0m\u001b[0;34m,\u001b[0m \u001b[0mheaders\u001b[0m\u001b[0;34m,\u001b[0m \u001b[0mbody\u001b[0m\u001b[0;34m)\u001b[0m\u001b[0;34m\u001b[0m\u001b[0;34m\u001b[0m\u001b[0m\n\u001b[0m\u001b[1;32m   1291\u001b[0m         \u001b[0;31m# a workaround for {\"code\":-2015,\"msg\":\"Invalid API-key, IP, or permissions for action.\"}\u001b[0m\u001b[0;34m\u001b[0m\u001b[0;34m\u001b[0m\u001b[0;34m\u001b[0m\u001b[0m\n\u001b[1;32m   1292\u001b[0m         \u001b[0;32mif\u001b[0m \u001b[0;34m(\u001b[0m\u001b[0mapi\u001b[0m \u001b[0;34m==\u001b[0m \u001b[0;34m'private'\u001b[0m\u001b[0;34m)\u001b[0m \u001b[0;32mor\u001b[0m \u001b[0;34m(\u001b[0m\u001b[0mapi\u001b[0m \u001b[0;34m==\u001b[0m \u001b[0;34m'wapi'\u001b[0m\u001b[0;34m)\u001b[0m\u001b[0;34m:\u001b[0m\u001b[0;34m\u001b[0m\u001b[0;34m\u001b[0m\u001b[0m\n",
            "\u001b[0;32m/usr/local/lib/python3.6/dist-packages/ccxt/base/exchange.py\u001b[0m in \u001b[0;36mfetch2\u001b[0;34m(self, path, api, method, params, headers, body)\u001b[0m\n\u001b[1;32m    453\u001b[0m         \u001b[0mself\u001b[0m\u001b[0;34m.\u001b[0m\u001b[0mlastRestRequestTimestamp\u001b[0m \u001b[0;34m=\u001b[0m \u001b[0mself\u001b[0m\u001b[0;34m.\u001b[0m\u001b[0mmilliseconds\u001b[0m\u001b[0;34m(\u001b[0m\u001b[0;34m)\u001b[0m\u001b[0;34m\u001b[0m\u001b[0;34m\u001b[0m\u001b[0m\n\u001b[1;32m    454\u001b[0m         \u001b[0mrequest\u001b[0m \u001b[0;34m=\u001b[0m \u001b[0mself\u001b[0m\u001b[0;34m.\u001b[0m\u001b[0msign\u001b[0m\u001b[0;34m(\u001b[0m\u001b[0mpath\u001b[0m\u001b[0;34m,\u001b[0m \u001b[0mapi\u001b[0m\u001b[0;34m,\u001b[0m \u001b[0mmethod\u001b[0m\u001b[0;34m,\u001b[0m \u001b[0mparams\u001b[0m\u001b[0;34m,\u001b[0m \u001b[0mheaders\u001b[0m\u001b[0;34m,\u001b[0m \u001b[0mbody\u001b[0m\u001b[0;34m)\u001b[0m\u001b[0;34m\u001b[0m\u001b[0;34m\u001b[0m\u001b[0m\n\u001b[0;32m--> 455\u001b[0;31m         \u001b[0;32mreturn\u001b[0m \u001b[0mself\u001b[0m\u001b[0;34m.\u001b[0m\u001b[0mfetch\u001b[0m\u001b[0;34m(\u001b[0m\u001b[0mrequest\u001b[0m\u001b[0;34m[\u001b[0m\u001b[0;34m'url'\u001b[0m\u001b[0;34m]\u001b[0m\u001b[0;34m,\u001b[0m \u001b[0mrequest\u001b[0m\u001b[0;34m[\u001b[0m\u001b[0;34m'method'\u001b[0m\u001b[0;34m]\u001b[0m\u001b[0;34m,\u001b[0m \u001b[0mrequest\u001b[0m\u001b[0;34m[\u001b[0m\u001b[0;34m'headers'\u001b[0m\u001b[0;34m]\u001b[0m\u001b[0;34m,\u001b[0m \u001b[0mrequest\u001b[0m\u001b[0;34m[\u001b[0m\u001b[0;34m'body'\u001b[0m\u001b[0;34m]\u001b[0m\u001b[0;34m)\u001b[0m\u001b[0;34m\u001b[0m\u001b[0;34m\u001b[0m\u001b[0m\n\u001b[0m\u001b[1;32m    456\u001b[0m \u001b[0;34m\u001b[0m\u001b[0m\n\u001b[1;32m    457\u001b[0m     \u001b[0;32mdef\u001b[0m \u001b[0mrequest\u001b[0m\u001b[0;34m(\u001b[0m\u001b[0mself\u001b[0m\u001b[0;34m,\u001b[0m \u001b[0mpath\u001b[0m\u001b[0;34m,\u001b[0m \u001b[0mapi\u001b[0m\u001b[0;34m=\u001b[0m\u001b[0;34m'public'\u001b[0m\u001b[0;34m,\u001b[0m \u001b[0mmethod\u001b[0m\u001b[0;34m=\u001b[0m\u001b[0;34m'GET'\u001b[0m\u001b[0;34m,\u001b[0m \u001b[0mparams\u001b[0m\u001b[0;34m=\u001b[0m\u001b[0;34m{\u001b[0m\u001b[0;34m}\u001b[0m\u001b[0;34m,\u001b[0m \u001b[0mheaders\u001b[0m\u001b[0;34m=\u001b[0m\u001b[0;32mNone\u001b[0m\u001b[0;34m,\u001b[0m \u001b[0mbody\u001b[0m\u001b[0;34m=\u001b[0m\u001b[0;32mNone\u001b[0m\u001b[0;34m)\u001b[0m\u001b[0;34m:\u001b[0m\u001b[0;34m\u001b[0m\u001b[0;34m\u001b[0m\u001b[0m\n",
            "\u001b[0;32m/usr/local/lib/python3.6/dist-packages/ccxt/base/exchange.py\u001b[0m in \u001b[0;36mfetch\u001b[0;34m(self, url, method, headers, body)\u001b[0m\n\u001b[1;32m    550\u001b[0m \u001b[0;34m\u001b[0m\u001b[0m\n\u001b[1;32m    551\u001b[0m         \u001b[0;32mexcept\u001b[0m \u001b[0mHTTPError\u001b[0m \u001b[0;32mas\u001b[0m \u001b[0me\u001b[0m\u001b[0;34m:\u001b[0m\u001b[0;34m\u001b[0m\u001b[0;34m\u001b[0m\u001b[0m\n\u001b[0;32m--> 552\u001b[0;31m             \u001b[0mself\u001b[0m\u001b[0;34m.\u001b[0m\u001b[0mhandle_errors\u001b[0m\u001b[0;34m(\u001b[0m\u001b[0mhttp_status_code\u001b[0m\u001b[0;34m,\u001b[0m \u001b[0mhttp_status_text\u001b[0m\u001b[0;34m,\u001b[0m \u001b[0murl\u001b[0m\u001b[0;34m,\u001b[0m \u001b[0mmethod\u001b[0m\u001b[0;34m,\u001b[0m \u001b[0mheaders\u001b[0m\u001b[0;34m,\u001b[0m \u001b[0mhttp_response\u001b[0m\u001b[0;34m,\u001b[0m \u001b[0mjson_response\u001b[0m\u001b[0;34m,\u001b[0m \u001b[0mrequest_headers\u001b[0m\u001b[0;34m,\u001b[0m \u001b[0mrequest_body\u001b[0m\u001b[0;34m)\u001b[0m\u001b[0;34m\u001b[0m\u001b[0;34m\u001b[0m\u001b[0m\n\u001b[0m\u001b[1;32m    553\u001b[0m             \u001b[0mself\u001b[0m\u001b[0;34m.\u001b[0m\u001b[0mhandle_rest_errors\u001b[0m\u001b[0;34m(\u001b[0m\u001b[0mhttp_status_code\u001b[0m\u001b[0;34m,\u001b[0m \u001b[0mhttp_status_text\u001b[0m\u001b[0;34m,\u001b[0m \u001b[0mhttp_response\u001b[0m\u001b[0;34m,\u001b[0m \u001b[0murl\u001b[0m\u001b[0;34m,\u001b[0m \u001b[0mmethod\u001b[0m\u001b[0;34m)\u001b[0m\u001b[0;34m\u001b[0m\u001b[0;34m\u001b[0m\u001b[0m\n\u001b[1;32m    554\u001b[0m             \u001b[0;32mraise\u001b[0m \u001b[0mExchangeError\u001b[0m\u001b[0;34m(\u001b[0m\u001b[0mmethod\u001b[0m \u001b[0;34m+\u001b[0m \u001b[0;34m' '\u001b[0m \u001b[0;34m+\u001b[0m \u001b[0murl\u001b[0m\u001b[0;34m)\u001b[0m\u001b[0;34m\u001b[0m\u001b[0;34m\u001b[0m\u001b[0m\n",
            "\u001b[0;32m/usr/local/lib/python3.6/dist-packages/ccxt/binance.py\u001b[0m in \u001b[0;36mhandle_errors\u001b[0;34m(self, code, reason, url, method, headers, body, response, requestHeaders, requestBody)\u001b[0m\n\u001b[1;32m   1281\u001b[0m                         \u001b[0;32mif\u001b[0m \u001b[0;34m(\u001b[0m\u001b[0merror\u001b[0m \u001b[0;34m==\u001b[0m \u001b[0;34m'-2015'\u001b[0m\u001b[0;34m)\u001b[0m \u001b[0;32mand\u001b[0m \u001b[0mself\u001b[0m\u001b[0;34m.\u001b[0m\u001b[0moptions\u001b[0m\u001b[0;34m[\u001b[0m\u001b[0;34m'hasAlreadyAuthenticatedSuccessfully'\u001b[0m\u001b[0;34m]\u001b[0m\u001b[0;34m:\u001b[0m\u001b[0;34m\u001b[0m\u001b[0;34m\u001b[0m\u001b[0m\n\u001b[1;32m   1282\u001b[0m                             \u001b[0;32mraise\u001b[0m \u001b[0mDDoSProtection\u001b[0m\u001b[0;34m(\u001b[0m\u001b[0mself\u001b[0m\u001b[0;34m.\u001b[0m\u001b[0mid\u001b[0m \u001b[0;34m+\u001b[0m \u001b[0;34m' temporary banned: '\u001b[0m \u001b[0;34m+\u001b[0m \u001b[0mbody\u001b[0m\u001b[0;34m)\u001b[0m\u001b[0;34m\u001b[0m\u001b[0;34m\u001b[0m\u001b[0m\n\u001b[0;32m-> 1283\u001b[0;31m                         \u001b[0;32mraise\u001b[0m \u001b[0mexceptions\u001b[0m\u001b[0;34m[\u001b[0m\u001b[0merror\u001b[0m\u001b[0;34m]\u001b[0m\u001b[0;34m(\u001b[0m\u001b[0mself\u001b[0m\u001b[0;34m.\u001b[0m\u001b[0mid\u001b[0m \u001b[0;34m+\u001b[0m \u001b[0;34m' '\u001b[0m \u001b[0;34m+\u001b[0m \u001b[0mbody\u001b[0m\u001b[0;34m)\u001b[0m\u001b[0;34m\u001b[0m\u001b[0;34m\u001b[0m\u001b[0m\n\u001b[0m\u001b[1;32m   1284\u001b[0m                     \u001b[0;32melse\u001b[0m\u001b[0;34m:\u001b[0m\u001b[0;34m\u001b[0m\u001b[0;34m\u001b[0m\u001b[0m\n\u001b[1;32m   1285\u001b[0m                         \u001b[0;32mraise\u001b[0m \u001b[0mExchangeError\u001b[0m\u001b[0;34m(\u001b[0m\u001b[0mself\u001b[0m\u001b[0;34m.\u001b[0m\u001b[0mid\u001b[0m \u001b[0;34m+\u001b[0m \u001b[0;34m' '\u001b[0m \u001b[0;34m+\u001b[0m \u001b[0mbody\u001b[0m\u001b[0;34m)\u001b[0m\u001b[0;34m\u001b[0m\u001b[0;34m\u001b[0m\u001b[0m\n",
            "\u001b[0;31mInvalidOrder\u001b[0m: binance {\"code\":-1013,\"msg\":\"Invalid quantity.\"}"
          ]
        }
      ]
    },
    {
      "cell_type": "code",
      "metadata": {
        "id": "tw0BSsThwsHV",
        "colab_type": "code",
        "outputId": "4fa7ad51-ae1f-4627-d5e2-35a298bed736",
        "colab": {}
      },
      "source": [
        "live_performance"
      ],
      "execution_count": 0,
      "outputs": [
        {
          "output_type": "execute_result",
          "data": {
            "text/plain": [
              "{}"
            ]
          },
          "metadata": {
            "tags": []
          },
          "execution_count": 21
        }
      ]
    },
    {
      "cell_type": "markdown",
      "metadata": {
        "id": "iH55AobjwsHa",
        "colab_type": "text"
      },
      "source": [
        "_Passing `steps=0` instructs the strategy to run until otherwise stopped._"
      ]
    },
    {
      "cell_type": "code",
      "metadata": {
        "id": "PdL45iQYwsHc",
        "colab_type": "code",
        "colab": {}
      },
      "source": [
        ""
      ],
      "execution_count": 0,
      "outputs": []
    },
    {
      "cell_type": "markdown",
      "metadata": {
        "id": "8M7PuiAFx07s",
        "colab_type": "text"
      },
      "source": [
        "https://colab.research.google.com/drive/1r9I-DJjrT-0JHbrB10NLFudZ7hQdOcdq"
      ]
    }
  ]
}