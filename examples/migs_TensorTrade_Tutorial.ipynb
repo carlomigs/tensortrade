{
  "nbformat": 4,
  "nbformat_minor": 0,
  "metadata": {
    "file_extension": ".py",
    "kernelspec": {
      "name": "python3",
      "display_name": "Python 3"
    },
    "language_info": {
      "codemirror_mode": {
        "name": "ipython",
        "version": 3
      },
      "file_extension": ".py",
      "mimetype": "text/x-python",
      "name": "python",
      "nbconvert_exporter": "python",
      "pygments_lexer": "ipython3",
      "version": "3.7.4"
    },
    "mimetype": "text/x-python",
    "name": "python",
    "npconvert_exporter": "python",
    "pygments_lexer": "ipython3",
    "version": 3,
    "colab": {
      "name": "TensorTrade_Tutorial.ipynb",
      "provenance": [],
      "include_colab_link": true
    },
    "accelerator": "GPU"
  },
  "cells": [
    {
      "cell_type": "markdown",
      "metadata": {
        "id": "view-in-github",
        "colab_type": "text"
      },
      "source": [
        "<a href=\"https://colab.research.google.com/github/carlomigs/tensortrade/blob/master/examples/migs_TensorTrade_Tutorial.ipynb\" target=\"_parent\"><img src=\"https://colab.research.google.com/assets/colab-badge.svg\" alt=\"Open In Colab\"/></a>"
      ]
    },
    {
      "cell_type": "code",
      "metadata": {
        "id": "4WcDibe-wsDJ",
        "colab_type": "code",
        "colab": {}
      },
      "source": [
        "import os\n",
        "import sys\n",
        "import warnings\n",
        "import numpy\n",
        "\n",
        "def warn(*args, **kwargs):\n",
        "    pass\n",
        "\n",
        "warnings.warn = warn\n",
        "warnings.simplefilter(action='ignore', category=FutureWarning)\n",
        "numpy.seterr(divide = 'ignore') \n",
        "\n",
        "sys.path.append(os.path.dirname(os.path.abspath('')))"
      ],
      "execution_count": 0,
      "outputs": []
    },
    {
      "cell_type": "code",
      "metadata": {
        "id": "HQ7haJoZoro4",
        "colab_type": "code",
        "colab": {}
      },
      "source": [
        "!git clone https://github.com/notadamking/tensortrade.git"
      ],
      "execution_count": 0,
      "outputs": []
    },
    {
      "cell_type": "code",
      "metadata": {
        "id": "b9Dc8wqxoyeY",
        "colab_type": "code",
        "colab": {}
      },
      "source": [
        "!pip install -e /content/tensortrade"
      ],
      "execution_count": 0,
      "outputs": []
    },
    {
      "cell_type": "code",
      "metadata": {
        "id": "hq9o8S21o4fB",
        "colab_type": "code",
        "colab": {}
      },
      "source": [
        "%cd tensortrade\n",
        "import os\n",
        "print(os.getcwd())\n",
        "%ls"
      ],
      "execution_count": 0,
      "outputs": []
    },
    {
      "cell_type": "code",
      "metadata": {
        "id": "Db9feScexsgr",
        "colab_type": "code",
        "outputId": "27ac0bce-3cb9-4be7-83c8-76c0f8ee30c6",
        "colab": {
          "base_uri": "https://localhost:8080/",
          "height": 1000
        }
      },
      "source": [
        "!pip install -e .[tf,tensorforce,baselines,ccxt,fbm] -U"
      ],
      "execution_count": 7,
      "outputs": [
        {
          "output_type": "stream",
          "text": [
            "Obtaining file:///content/tensortrade\n",
            "\u001b[33m  WARNING: tensortrade 0.0.1a18 does not provide the extra 'talib'\u001b[0m\n",
            "Requirement already satisfied, skipping upgrade: numpy==1.16.4 in /usr/local/lib/python3.6/dist-packages (from tensortrade==0.0.1a18) (1.16.4)\n",
            "Requirement already satisfied, skipping upgrade: pandas==0.25.0 in /usr/local/lib/python3.6/dist-packages (from tensortrade==0.0.1a18) (0.25.0)\n",
            "Requirement already satisfied, skipping upgrade: gym==0.14.0 in /usr/local/lib/python3.6/dist-packages (from tensortrade==0.0.1a18) (0.14.0)\n",
            "Requirement already satisfied, skipping upgrade: stable-baselines==2.8.0 in /usr/local/lib/python3.6/dist-packages (from tensortrade==0.0.1a18) (2.8.0)\n",
            "Requirement already satisfied, skipping upgrade: mpi4py in /usr/local/lib/python3.6/dist-packages (from tensortrade==0.0.1a18) (3.0.2)\n",
            "Requirement already satisfied, skipping upgrade: ccxt==1.18.1220 in /usr/local/lib/python3.6/dist-packages (from tensortrade==0.0.1a18) (1.18.1220)\n",
            "Requirement already satisfied, skipping upgrade: stochastic==0.4.0 in /usr/local/lib/python3.6/dist-packages (from tensortrade==0.0.1a18) (0.4.0)\n",
            "Requirement already satisfied, skipping upgrade: tensorforce==0.5.2 in /usr/local/lib/python3.6/dist-packages (from tensortrade==0.0.1a18) (0.5.2)\n",
            "Requirement already satisfied, skipping upgrade: tensorflow==1.13.1 in /usr/local/lib/python3.6/dist-packages (from tensortrade==0.0.1a18) (1.13.1)\n",
            "Requirement already satisfied, skipping upgrade: pytz>=2017.2 in /usr/local/lib/python3.6/dist-packages (from pandas==0.25.0->tensortrade==0.0.1a18) (2018.9)\n",
            "Requirement already satisfied, skipping upgrade: python-dateutil>=2.6.1 in /usr/local/lib/python3.6/dist-packages (from pandas==0.25.0->tensortrade==0.0.1a18) (2.6.1)\n",
            "Requirement already satisfied, skipping upgrade: pyglet<=1.3.2,>=1.2.0 in /usr/local/lib/python3.6/dist-packages (from gym==0.14.0->tensortrade==0.0.1a18) (1.3.2)\n",
            "Requirement already satisfied, skipping upgrade: cloudpickle~=1.2.0 in /usr/local/lib/python3.6/dist-packages (from gym==0.14.0->tensortrade==0.0.1a18) (1.2.2)\n",
            "Requirement already satisfied, skipping upgrade: scipy in /usr/local/lib/python3.6/dist-packages (from gym==0.14.0->tensortrade==0.0.1a18) (1.3.1)\n",
            "Requirement already satisfied, skipping upgrade: six in /usr/local/lib/python3.6/dist-packages (from gym==0.14.0->tensortrade==0.0.1a18) (1.12.0)\n",
            "Requirement already satisfied, skipping upgrade: joblib in /usr/local/lib/python3.6/dist-packages (from stable-baselines==2.8.0->tensortrade==0.0.1a18) (0.14.0)\n",
            "Requirement already satisfied, skipping upgrade: opencv-python in /usr/local/lib/python3.6/dist-packages (from stable-baselines==2.8.0->tensortrade==0.0.1a18) (3.4.7.28)\n",
            "Requirement already satisfied, skipping upgrade: matplotlib in /usr/local/lib/python3.6/dist-packages (from stable-baselines==2.8.0->tensortrade==0.0.1a18) (3.1.1)\n",
            "Requirement already satisfied, skipping upgrade: yarl==1.1.0; python_version >= \"3.5.2\" in /usr/local/lib/python3.6/dist-packages (from ccxt==1.18.1220->tensortrade==0.0.1a18) (1.1.0)\n",
            "Requirement already satisfied, skipping upgrade: setuptools>=38.5.1 in /usr/local/lib/python3.6/dist-packages (from ccxt==1.18.1220->tensortrade==0.0.1a18) (41.4.0)\n",
            "Requirement already satisfied, skipping upgrade: certifi>=2018.1.18 in /usr/local/lib/python3.6/dist-packages (from ccxt==1.18.1220->tensortrade==0.0.1a18) (2019.9.11)\n",
            "Requirement already satisfied, skipping upgrade: requests>=2.18.4 in /usr/local/lib/python3.6/dist-packages (from ccxt==1.18.1220->tensortrade==0.0.1a18) (2.21.0)\n",
            "Requirement already satisfied, skipping upgrade: aiodns==1.1.1; python_version >= \"3.5.2\" in /usr/local/lib/python3.6/dist-packages (from ccxt==1.18.1220->tensortrade==0.0.1a18) (1.1.1)\n",
            "Requirement already satisfied, skipping upgrade: aiohttp>=3.0.1; python_version >= \"3.5.2\" in /usr/local/lib/python3.6/dist-packages (from ccxt==1.18.1220->tensortrade==0.0.1a18) (3.6.2)\n",
            "Requirement already satisfied, skipping upgrade: cryptography>=2.6.1 in /usr/local/lib/python3.6/dist-packages (from ccxt==1.18.1220->tensortrade==0.0.1a18) (2.8)\n",
            "Requirement already satisfied, skipping upgrade: pytest in /usr/local/lib/python3.6/dist-packages (from tensorforce==0.5.2->tensortrade==0.0.1a18) (3.6.4)\n",
            "Requirement already satisfied, skipping upgrade: tqdm in /usr/local/lib/python3.6/dist-packages (from tensorforce==0.5.2->tensortrade==0.0.1a18) (4.28.1)\n",
            "Requirement already satisfied, skipping upgrade: tensorboard<1.14.0,>=1.13.0 in /usr/local/lib/python3.6/dist-packages (from tensorflow==1.13.1->tensortrade==0.0.1a18) (1.13.1)\n",
            "Requirement already satisfied, skipping upgrade: wheel>=0.26 in /usr/local/lib/python3.6/dist-packages (from tensorflow==1.13.1->tensortrade==0.0.1a18) (0.33.6)\n",
            "Requirement already satisfied, skipping upgrade: keras-applications>=1.0.6 in /usr/local/lib/python3.6/dist-packages (from tensorflow==1.13.1->tensortrade==0.0.1a18) (1.0.8)\n",
            "Requirement already satisfied, skipping upgrade: absl-py>=0.1.6 in /usr/local/lib/python3.6/dist-packages (from tensorflow==1.13.1->tensortrade==0.0.1a18) (0.8.1)\n",
            "Requirement already satisfied, skipping upgrade: gast>=0.2.0 in /usr/local/lib/python3.6/dist-packages (from tensorflow==1.13.1->tensortrade==0.0.1a18) (0.2.2)\n",
            "Requirement already satisfied, skipping upgrade: protobuf>=3.6.1 in /usr/local/lib/python3.6/dist-packages (from tensorflow==1.13.1->tensortrade==0.0.1a18) (3.10.0)\n",
            "Requirement already satisfied, skipping upgrade: grpcio>=1.8.6 in /usr/local/lib/python3.6/dist-packages (from tensorflow==1.13.1->tensortrade==0.0.1a18) (1.15.0)\n",
            "Requirement already satisfied, skipping upgrade: astor>=0.6.0 in /usr/local/lib/python3.6/dist-packages (from tensorflow==1.13.1->tensortrade==0.0.1a18) (0.8.0)\n",
            "Requirement already satisfied, skipping upgrade: keras-preprocessing>=1.0.5 in /usr/local/lib/python3.6/dist-packages (from tensorflow==1.13.1->tensortrade==0.0.1a18) (1.1.0)\n",
            "Requirement already satisfied, skipping upgrade: tensorflow-estimator<1.14.0rc0,>=1.13.0 in /usr/local/lib/python3.6/dist-packages (from tensorflow==1.13.1->tensortrade==0.0.1a18) (1.13.0)\n",
            "Requirement already satisfied, skipping upgrade: termcolor>=1.1.0 in /usr/local/lib/python3.6/dist-packages (from tensorflow==1.13.1->tensortrade==0.0.1a18) (1.1.0)\n",
            "Requirement already satisfied, skipping upgrade: future in /usr/local/lib/python3.6/dist-packages (from pyglet<=1.3.2,>=1.2.0->gym==0.14.0->tensortrade==0.0.1a18) (0.16.0)\n",
            "Requirement already satisfied, skipping upgrade: cycler>=0.10 in /usr/local/lib/python3.6/dist-packages (from matplotlib->stable-baselines==2.8.0->tensortrade==0.0.1a18) (0.10.0)\n",
            "Requirement already satisfied, skipping upgrade: pyparsing!=2.0.4,!=2.1.2,!=2.1.6,>=2.0.1 in /usr/local/lib/python3.6/dist-packages (from matplotlib->stable-baselines==2.8.0->tensortrade==0.0.1a18) (2.4.2)\n",
            "Requirement already satisfied, skipping upgrade: kiwisolver>=1.0.1 in /usr/local/lib/python3.6/dist-packages (from matplotlib->stable-baselines==2.8.0->tensortrade==0.0.1a18) (1.1.0)\n",
            "Requirement already satisfied, skipping upgrade: idna>=2.0 in /usr/local/lib/python3.6/dist-packages (from yarl==1.1.0; python_version >= \"3.5.2\"->ccxt==1.18.1220->tensortrade==0.0.1a18) (2.8)\n",
            "Requirement already satisfied, skipping upgrade: multidict>=4.0 in /usr/local/lib/python3.6/dist-packages (from yarl==1.1.0; python_version >= \"3.5.2\"->ccxt==1.18.1220->tensortrade==0.0.1a18) (4.5.2)\n",
            "Requirement already satisfied, skipping upgrade: urllib3<1.25,>=1.21.1 in /usr/local/lib/python3.6/dist-packages (from requests>=2.18.4->ccxt==1.18.1220->tensortrade==0.0.1a18) (1.24.3)\n",
            "Requirement already satisfied, skipping upgrade: chardet<3.1.0,>=3.0.2 in /usr/local/lib/python3.6/dist-packages (from requests>=2.18.4->ccxt==1.18.1220->tensortrade==0.0.1a18) (3.0.4)\n",
            "Requirement already satisfied, skipping upgrade: pycares>=1.0.0 in /usr/local/lib/python3.6/dist-packages (from aiodns==1.1.1; python_version >= \"3.5.2\"->ccxt==1.18.1220->tensortrade==0.0.1a18) (3.0.0)\n",
            "Requirement already satisfied, skipping upgrade: typing-extensions>=3.6.5; python_version < \"3.7\" in /usr/local/lib/python3.6/dist-packages (from aiohttp>=3.0.1; python_version >= \"3.5.2\"->ccxt==1.18.1220->tensortrade==0.0.1a18) (3.7.4.1)\n",
            "Requirement already satisfied, skipping upgrade: idna-ssl>=1.0; python_version < \"3.7\" in /usr/local/lib/python3.6/dist-packages (from aiohttp>=3.0.1; python_version >= \"3.5.2\"->ccxt==1.18.1220->tensortrade==0.0.1a18) (1.1.0)\n",
            "Requirement already satisfied, skipping upgrade: async-timeout<4.0,>=3.0 in /usr/local/lib/python3.6/dist-packages (from aiohttp>=3.0.1; python_version >= \"3.5.2\"->ccxt==1.18.1220->tensortrade==0.0.1a18) (3.0.1)\n",
            "Requirement already satisfied, skipping upgrade: attrs>=17.3.0 in /usr/local/lib/python3.6/dist-packages (from aiohttp>=3.0.1; python_version >= \"3.5.2\"->ccxt==1.18.1220->tensortrade==0.0.1a18) (19.3.0)\n",
            "Requirement already satisfied, skipping upgrade: cffi!=1.11.3,>=1.8 in /usr/local/lib/python3.6/dist-packages (from cryptography>=2.6.1->ccxt==1.18.1220->tensortrade==0.0.1a18) (1.13.1)\n",
            "Requirement already satisfied, skipping upgrade: pluggy<0.8,>=0.5 in /usr/local/lib/python3.6/dist-packages (from pytest->tensorforce==0.5.2->tensortrade==0.0.1a18) (0.7.1)\n",
            "Requirement already satisfied, skipping upgrade: atomicwrites>=1.0 in /usr/local/lib/python3.6/dist-packages (from pytest->tensorforce==0.5.2->tensortrade==0.0.1a18) (1.3.0)\n",
            "Requirement already satisfied, skipping upgrade: more-itertools>=4.0.0 in /usr/local/lib/python3.6/dist-packages (from pytest->tensorforce==0.5.2->tensortrade==0.0.1a18) (7.2.0)\n",
            "Requirement already satisfied, skipping upgrade: py>=1.5.0 in /usr/local/lib/python3.6/dist-packages (from pytest->tensorforce==0.5.2->tensortrade==0.0.1a18) (1.8.0)\n",
            "Requirement already satisfied, skipping upgrade: markdown>=2.6.8 in /usr/local/lib/python3.6/dist-packages (from tensorboard<1.14.0,>=1.13.0->tensorflow==1.13.1->tensortrade==0.0.1a18) (3.1.1)\n",
            "Requirement already satisfied, skipping upgrade: werkzeug>=0.11.15 in /usr/local/lib/python3.6/dist-packages (from tensorboard<1.14.0,>=1.13.0->tensorflow==1.13.1->tensortrade==0.0.1a18) (0.16.0)\n",
            "Requirement already satisfied, skipping upgrade: h5py in /usr/local/lib/python3.6/dist-packages (from keras-applications>=1.0.6->tensorflow==1.13.1->tensortrade==0.0.1a18) (2.8.0)\n",
            "Requirement already satisfied, skipping upgrade: mock>=2.0.0 in /usr/local/lib/python3.6/dist-packages (from tensorflow-estimator<1.14.0rc0,>=1.13.0->tensorflow==1.13.1->tensortrade==0.0.1a18) (3.0.5)\n",
            "Requirement already satisfied, skipping upgrade: pycparser in /usr/local/lib/python3.6/dist-packages (from cffi!=1.11.3,>=1.8->cryptography>=2.6.1->ccxt==1.18.1220->tensortrade==0.0.1a18) (2.19)\n",
            "Installing collected packages: tensortrade\n",
            "  Found existing installation: tensortrade 0.0.1a18\n",
            "    Can't uninstall 'tensortrade'. No files were found to uninstall.\n",
            "  Running setup.py develop for tensortrade\n",
            "Successfully installed tensortrade\n"
          ],
          "name": "stdout"
        }
      ]
    },
    {
      "cell_type": "code",
      "metadata": {
        "id": "NVEHvzpH-uwz",
        "colab_type": "code",
        "outputId": "2550cb4d-db6d-4da7-c6c8-a7926e5fed98",
        "colab": {
          "base_uri": "https://localhost:8080/",
          "height": 139
        }
      },
      "source": [
        "!pip install talib-binary"
      ],
      "execution_count": 8,
      "outputs": [
        {
          "output_type": "stream",
          "text": [
            "Collecting talib-binary\n",
            "\u001b[?25l  Downloading https://files.pythonhosted.org/packages/82/6a/d8842b73121a35f58ce55da6f6b54ba2afebee16424b9df09a302e66ed51/talib_binary-0.4.19-cp36-cp36m-manylinux1_x86_64.whl (2.4MB)\n",
            "\u001b[K     |████████████████████████████████| 2.4MB 2.7MB/s \n",
            "\u001b[?25hRequirement already satisfied: numpy in /usr/local/lib/python3.6/dist-packages (from talib-binary) (1.16.4)\n",
            "Installing collected packages: talib-binary\n",
            "Successfully installed talib-binary-0.4.19\n"
          ],
          "name": "stdout"
        }
      ]
    },
    {
      "cell_type": "code",
      "metadata": {
        "id": "mXN4FWKANJWp",
        "colab_type": "code",
        "outputId": "cfdf03c2-e13d-4e09-d0a6-d9bfa0d7d858",
        "colab": {
          "base_uri": "https://localhost:8080/",
          "height": 34
        }
      },
      "source": [
        "#%ls /content/RLTrader/data/input\n",
        "%ls /content/tensortrade/examples/data/"
      ],
      "execution_count": 10,
      "outputs": [
        {
          "output_type": "stream",
          "text": [
            "Coinbase_BTCUSD_1h.csv  Coinbase_BTCUSD_d.csv\n"
          ],
          "name": "stdout"
        }
      ]
    },
    {
      "cell_type": "markdown",
      "metadata": {
        "id": "0ro8ViLewsEC",
        "colab_type": "text"
      },
      "source": [
        "Simulated exchanges, on the other hand, are implementations of `InstrumentExchange` backed by simulated pricing data and trade execution. For example, `FBMExchange` is a simulated exchange, which generates pricing and volume data using fractional brownian motion (FBM). Since its price is simulated, the trades it executes must be simulated as well. The exchange uses a simple slippage model to simulate price and volume slippage on trades, though like almost everything in TensorTrade, this slippage model can easily be swapped out for something more complex.\n",
        "\n",
        "Though the `FBMExchange` generates fake price and volume data using a stochastic model, it is simply an implementation of `SimulatedExchange`. Under the hood, `SimulatedExchange` only requires a `data_frame` of price history to generate its simulations. This data_frame can either be provided by a coded implementation such as `FBMExchange`, or at runtime such as in the following example."
      ]
    },
    {
      "cell_type": "code",
      "metadata": {
        "id": "YiB2EGa3wsED",
        "colab_type": "code",
        "outputId": "fc8cc61d-5c6a-46bc-af8a-75b512d348bb",
        "colab": {
          "base_uri": "https://localhost:8080/",
          "height": 1000
        }
      },
      "source": [
        "import numpy\n",
        "import pandas as pd\n",
        "from tensortrade.exchanges.simulated import SimulatedExchange\n",
        "\n",
        "df = pd.read_csv('/content/tensortrade/examples/data/Coinbase_BTCUSD_1h.csv', skiprows=1)\n",
        "#df = pd.read_csv('/content/RLTrader/data/input/coinbase-1h-btc-usd.csv')\n",
        "exchange = SimulatedExchange(data_frame=df, base_instrument='USD', should_pretransform_obs=True)\n",
        "\n",
        "exchange.data_frame"
      ],
      "execution_count": 11,
      "outputs": [
        {
          "output_type": "display_data",
          "data": {
            "text/html": [
              "<p style=\"color: red;\">\n",
              "The default version of TensorFlow in Colab will soon switch to TensorFlow 2.x.<br>\n",
              "We recommend you <a href=\"https://www.tensorflow.org/guide/migrate\" target=\"_blank\">upgrade</a> now \n",
              "or ensure your notebook will continue to use TensorFlow 1.x via the <code>%tensorflow_version 1.x</code> magic:\n",
              "<a href=\"https://colab.research.google.com/notebooks/tensorflow_version.ipynb\" target=\"_blank\">more info</a>.</p>\n"
            ],
            "text/plain": [
              "<IPython.core.display.HTML object>"
            ]
          },
          "metadata": {
            "tags": []
          }
        },
        {
          "output_type": "execute_result",
          "data": {
            "text/html": [
              "<div>\n",
              "<style scoped>\n",
              "    .dataframe tbody tr th:only-of-type {\n",
              "        vertical-align: middle;\n",
              "    }\n",
              "\n",
              "    .dataframe tbody tr th {\n",
              "        vertical-align: top;\n",
              "    }\n",
              "\n",
              "    .dataframe thead th {\n",
              "        text-align: right;\n",
              "    }\n",
              "</style>\n",
              "<table border=\"1\" class=\"dataframe\">\n",
              "  <thead>\n",
              "    <tr style=\"text-align: right;\">\n",
              "      <th></th>\n",
              "      <th>open</th>\n",
              "      <th>high</th>\n",
              "      <th>low</th>\n",
              "      <th>close</th>\n",
              "      <th>volume</th>\n",
              "    </tr>\n",
              "  </thead>\n",
              "  <tbody>\n",
              "    <tr>\n",
              "      <th>0</th>\n",
              "      <td>8051.00</td>\n",
              "      <td>8056.83</td>\n",
              "      <td>8021.23</td>\n",
              "      <td>8035.88</td>\n",
              "      <td>492394.56</td>\n",
              "    </tr>\n",
              "    <tr>\n",
              "      <th>1</th>\n",
              "      <td>7975.89</td>\n",
              "      <td>8070.00</td>\n",
              "      <td>7975.89</td>\n",
              "      <td>8051.00</td>\n",
              "      <td>2971610.86</td>\n",
              "    </tr>\n",
              "    <tr>\n",
              "      <th>2</th>\n",
              "      <td>7964.62</td>\n",
              "      <td>7987.82</td>\n",
              "      <td>7964.61</td>\n",
              "      <td>7975.89</td>\n",
              "      <td>970521.83</td>\n",
              "    </tr>\n",
              "    <tr>\n",
              "      <th>3</th>\n",
              "      <td>7984.02</td>\n",
              "      <td>7993.97</td>\n",
              "      <td>7958.29</td>\n",
              "      <td>7964.62</td>\n",
              "      <td>1692336.84</td>\n",
              "    </tr>\n",
              "    <tr>\n",
              "      <th>4</th>\n",
              "      <td>7941.71</td>\n",
              "      <td>7986.99</td>\n",
              "      <td>7937.01</td>\n",
              "      <td>7984.02</td>\n",
              "      <td>774064.91</td>\n",
              "    </tr>\n",
              "    <tr>\n",
              "      <th>5</th>\n",
              "      <td>7970.19</td>\n",
              "      <td>7973.23</td>\n",
              "      <td>7937.50</td>\n",
              "      <td>7941.71</td>\n",
              "      <td>1177321.50</td>\n",
              "    </tr>\n",
              "    <tr>\n",
              "      <th>6</th>\n",
              "      <td>7986.62</td>\n",
              "      <td>7988.54</td>\n",
              "      <td>7965.61</td>\n",
              "      <td>7970.19</td>\n",
              "      <td>805106.70</td>\n",
              "    </tr>\n",
              "    <tr>\n",
              "      <th>7</th>\n",
              "      <td>7960.00</td>\n",
              "      <td>7989.62</td>\n",
              "      <td>7959.74</td>\n",
              "      <td>7986.62</td>\n",
              "      <td>743583.37</td>\n",
              "    </tr>\n",
              "    <tr>\n",
              "      <th>8</th>\n",
              "      <td>7966.43</td>\n",
              "      <td>7977.48</td>\n",
              "      <td>7959.74</td>\n",
              "      <td>7960.00</td>\n",
              "      <td>1325771.25</td>\n",
              "    </tr>\n",
              "    <tr>\n",
              "      <th>9</th>\n",
              "      <td>7993.54</td>\n",
              "      <td>7995.81</td>\n",
              "      <td>7957.55</td>\n",
              "      <td>7966.43</td>\n",
              "      <td>1584534.00</td>\n",
              "    </tr>\n",
              "    <tr>\n",
              "      <th>10</th>\n",
              "      <td>8003.24</td>\n",
              "      <td>8024.17</td>\n",
              "      <td>7989.91</td>\n",
              "      <td>7993.54</td>\n",
              "      <td>3599024.34</td>\n",
              "    </tr>\n",
              "    <tr>\n",
              "      <th>11</th>\n",
              "      <td>7980.46</td>\n",
              "      <td>8012.40</td>\n",
              "      <td>7977.42</td>\n",
              "      <td>8003.24</td>\n",
              "      <td>1950972.68</td>\n",
              "    </tr>\n",
              "    <tr>\n",
              "      <th>12</th>\n",
              "      <td>7985.00</td>\n",
              "      <td>7987.84</td>\n",
              "      <td>7975.01</td>\n",
              "      <td>7980.46</td>\n",
              "      <td>1445760.32</td>\n",
              "    </tr>\n",
              "    <tr>\n",
              "      <th>13</th>\n",
              "      <td>7954.00</td>\n",
              "      <td>7985.00</td>\n",
              "      <td>7953.99</td>\n",
              "      <td>7985.00</td>\n",
              "      <td>1426508.50</td>\n",
              "    </tr>\n",
              "    <tr>\n",
              "      <th>14</th>\n",
              "      <td>7965.97</td>\n",
              "      <td>7965.98</td>\n",
              "      <td>7908.86</td>\n",
              "      <td>7954.00</td>\n",
              "      <td>3134085.75</td>\n",
              "    </tr>\n",
              "    <tr>\n",
              "      <th>15</th>\n",
              "      <td>7973.14</td>\n",
              "      <td>7979.59</td>\n",
              "      <td>7962.71</td>\n",
              "      <td>7965.97</td>\n",
              "      <td>1587499.67</td>\n",
              "    </tr>\n",
              "    <tr>\n",
              "      <th>16</th>\n",
              "      <td>7965.94</td>\n",
              "      <td>7982.70</td>\n",
              "      <td>7942.85</td>\n",
              "      <td>7973.14</td>\n",
              "      <td>2061613.22</td>\n",
              "    </tr>\n",
              "    <tr>\n",
              "      <th>17</th>\n",
              "      <td>7950.80</td>\n",
              "      <td>8021.65</td>\n",
              "      <td>7912.00</td>\n",
              "      <td>7965.94</td>\n",
              "      <td>5857032.41</td>\n",
              "    </tr>\n",
              "    <tr>\n",
              "      <th>18</th>\n",
              "      <td>7962.03</td>\n",
              "      <td>7981.51</td>\n",
              "      <td>7947.71</td>\n",
              "      <td>7950.80</td>\n",
              "      <td>4153864.12</td>\n",
              "    </tr>\n",
              "    <tr>\n",
              "      <th>19</th>\n",
              "      <td>7998.01</td>\n",
              "      <td>7998.01</td>\n",
              "      <td>7936.64</td>\n",
              "      <td>7962.03</td>\n",
              "      <td>5627369.04</td>\n",
              "    </tr>\n",
              "    <tr>\n",
              "      <th>20</th>\n",
              "      <td>7987.02</td>\n",
              "      <td>8001.94</td>\n",
              "      <td>7962.91</td>\n",
              "      <td>7998.01</td>\n",
              "      <td>7655783.64</td>\n",
              "    </tr>\n",
              "    <tr>\n",
              "      <th>21</th>\n",
              "      <td>8049.38</td>\n",
              "      <td>8049.38</td>\n",
              "      <td>7928.01</td>\n",
              "      <td>7987.02</td>\n",
              "      <td>8198615.08</td>\n",
              "    </tr>\n",
              "    <tr>\n",
              "      <th>22</th>\n",
              "      <td>8149.99</td>\n",
              "      <td>8150.00</td>\n",
              "      <td>8000.00</td>\n",
              "      <td>8049.38</td>\n",
              "      <td>5975029.99</td>\n",
              "    </tr>\n",
              "    <tr>\n",
              "      <th>23</th>\n",
              "      <td>8142.00</td>\n",
              "      <td>8159.69</td>\n",
              "      <td>8141.40</td>\n",
              "      <td>8149.99</td>\n",
              "      <td>1226757.56</td>\n",
              "    </tr>\n",
              "    <tr>\n",
              "      <th>24</th>\n",
              "      <td>8132.87</td>\n",
              "      <td>8142.76</td>\n",
              "      <td>8102.31</td>\n",
              "      <td>8142.00</td>\n",
              "      <td>831534.34</td>\n",
              "    </tr>\n",
              "    <tr>\n",
              "      <th>25</th>\n",
              "      <td>8138.47</td>\n",
              "      <td>8140.04</td>\n",
              "      <td>8097.52</td>\n",
              "      <td>8132.87</td>\n",
              "      <td>1221900.55</td>\n",
              "    </tr>\n",
              "    <tr>\n",
              "      <th>26</th>\n",
              "      <td>8158.88</td>\n",
              "      <td>8158.88</td>\n",
              "      <td>8125.00</td>\n",
              "      <td>8138.47</td>\n",
              "      <td>1049904.84</td>\n",
              "    </tr>\n",
              "    <tr>\n",
              "      <th>27</th>\n",
              "      <td>8170.55</td>\n",
              "      <td>8171.50</td>\n",
              "      <td>8151.03</td>\n",
              "      <td>8158.88</td>\n",
              "      <td>911201.41</td>\n",
              "    </tr>\n",
              "    <tr>\n",
              "      <th>28</th>\n",
              "      <td>8165.23</td>\n",
              "      <td>8170.78</td>\n",
              "      <td>8159.52</td>\n",
              "      <td>8170.55</td>\n",
              "      <td>717773.02</td>\n",
              "    </tr>\n",
              "    <tr>\n",
              "      <th>29</th>\n",
              "      <td>8166.38</td>\n",
              "      <td>8171.00</td>\n",
              "      <td>8160.00</td>\n",
              "      <td>8165.23</td>\n",
              "      <td>774938.22</td>\n",
              "    </tr>\n",
              "    <tr>\n",
              "      <th>...</th>\n",
              "      <td>...</td>\n",
              "      <td>...</td>\n",
              "      <td>...</td>\n",
              "      <td>...</td>\n",
              "      <td>...</td>\n",
              "    </tr>\n",
              "    <tr>\n",
              "      <th>20081</th>\n",
              "      <td>2463.86</td>\n",
              "      <td>2479.25</td>\n",
              "      <td>2462.17</td>\n",
              "      <td>2476.41</td>\n",
              "      <td>1075573.75</td>\n",
              "    </tr>\n",
              "    <tr>\n",
              "      <th>20082</th>\n",
              "      <td>2442.99</td>\n",
              "      <td>2463.86</td>\n",
              "      <td>2442.99</td>\n",
              "      <td>2463.86</td>\n",
              "      <td>964758.40</td>\n",
              "    </tr>\n",
              "    <tr>\n",
              "      <th>20083</th>\n",
              "      <td>2435.62</td>\n",
              "      <td>2444.29</td>\n",
              "      <td>2425.43</td>\n",
              "      <td>2442.99</td>\n",
              "      <td>538656.77</td>\n",
              "    </tr>\n",
              "    <tr>\n",
              "      <th>20084</th>\n",
              "      <td>2440.87</td>\n",
              "      <td>2450.35</td>\n",
              "      <td>2429.90</td>\n",
              "      <td>2435.62</td>\n",
              "      <td>657791.96</td>\n",
              "    </tr>\n",
              "    <tr>\n",
              "      <th>20085</th>\n",
              "      <td>2449.60</td>\n",
              "      <td>2450.03</td>\n",
              "      <td>2431.65</td>\n",
              "      <td>2440.87</td>\n",
              "      <td>246605.42</td>\n",
              "    </tr>\n",
              "    <tr>\n",
              "      <th>20086</th>\n",
              "      <td>2436.07</td>\n",
              "      <td>2450.00</td>\n",
              "      <td>2427.76</td>\n",
              "      <td>2449.60</td>\n",
              "      <td>274674.35</td>\n",
              "    </tr>\n",
              "    <tr>\n",
              "      <th>20087</th>\n",
              "      <td>2457.54</td>\n",
              "      <td>2457.54</td>\n",
              "      <td>2427.87</td>\n",
              "      <td>2436.07</td>\n",
              "      <td>239436.21</td>\n",
              "    </tr>\n",
              "    <tr>\n",
              "      <th>20088</th>\n",
              "      <td>2461.99</td>\n",
              "      <td>2461.99</td>\n",
              "      <td>2450.00</td>\n",
              "      <td>2457.54</td>\n",
              "      <td>526054.35</td>\n",
              "    </tr>\n",
              "    <tr>\n",
              "      <th>20089</th>\n",
              "      <td>2431.95</td>\n",
              "      <td>2461.99</td>\n",
              "      <td>2428.98</td>\n",
              "      <td>2461.99</td>\n",
              "      <td>754201.39</td>\n",
              "    </tr>\n",
              "    <tr>\n",
              "      <th>20090</th>\n",
              "      <td>2421.55</td>\n",
              "      <td>2439.97</td>\n",
              "      <td>2418.33</td>\n",
              "      <td>2431.95</td>\n",
              "      <td>534770.54</td>\n",
              "    </tr>\n",
              "    <tr>\n",
              "      <th>20091</th>\n",
              "      <td>2439.97</td>\n",
              "      <td>2439.99</td>\n",
              "      <td>2415.19</td>\n",
              "      <td>2421.55</td>\n",
              "      <td>337239.24</td>\n",
              "    </tr>\n",
              "    <tr>\n",
              "      <th>20092</th>\n",
              "      <td>2412.00</td>\n",
              "      <td>2439.99</td>\n",
              "      <td>2411.99</td>\n",
              "      <td>2439.97</td>\n",
              "      <td>861781.42</td>\n",
              "    </tr>\n",
              "    <tr>\n",
              "      <th>20093</th>\n",
              "      <td>2404.99</td>\n",
              "      <td>2412.00</td>\n",
              "      <td>2398.36</td>\n",
              "      <td>2412.00</td>\n",
              "      <td>486296.90</td>\n",
              "    </tr>\n",
              "    <tr>\n",
              "      <th>20094</th>\n",
              "      <td>2407.81</td>\n",
              "      <td>2410.00</td>\n",
              "      <td>2397.63</td>\n",
              "      <td>2404.99</td>\n",
              "      <td>482431.83</td>\n",
              "    </tr>\n",
              "    <tr>\n",
              "      <th>20095</th>\n",
              "      <td>2409.90</td>\n",
              "      <td>2411.00</td>\n",
              "      <td>2385.52</td>\n",
              "      <td>2407.81</td>\n",
              "      <td>929614.06</td>\n",
              "    </tr>\n",
              "    <tr>\n",
              "      <th>20096</th>\n",
              "      <td>2391.87</td>\n",
              "      <td>2419.90</td>\n",
              "      <td>2385.00</td>\n",
              "      <td>2409.90</td>\n",
              "      <td>891186.20</td>\n",
              "    </tr>\n",
              "    <tr>\n",
              "      <th>20097</th>\n",
              "      <td>2423.63</td>\n",
              "      <td>2426.00</td>\n",
              "      <td>2389.99</td>\n",
              "      <td>2391.87</td>\n",
              "      <td>1362475.58</td>\n",
              "    </tr>\n",
              "    <tr>\n",
              "      <th>20098</th>\n",
              "      <td>2424.99</td>\n",
              "      <td>2431.94</td>\n",
              "      <td>2414.80</td>\n",
              "      <td>2423.63</td>\n",
              "      <td>860453.28</td>\n",
              "    </tr>\n",
              "    <tr>\n",
              "      <th>20099</th>\n",
              "      <td>2416.62</td>\n",
              "      <td>2425.00</td>\n",
              "      <td>2400.00</td>\n",
              "      <td>2424.99</td>\n",
              "      <td>832381.61</td>\n",
              "    </tr>\n",
              "    <tr>\n",
              "      <th>20100</th>\n",
              "      <td>2408.25</td>\n",
              "      <td>2420.00</td>\n",
              "      <td>2401.00</td>\n",
              "      <td>2416.62</td>\n",
              "      <td>1525686.34</td>\n",
              "    </tr>\n",
              "    <tr>\n",
              "      <th>20101</th>\n",
              "      <td>2435.99</td>\n",
              "      <td>2438.95</td>\n",
              "      <td>2404.61</td>\n",
              "      <td>2408.25</td>\n",
              "      <td>1623098.44</td>\n",
              "    </tr>\n",
              "    <tr>\n",
              "      <th>20102</th>\n",
              "      <td>2425.94</td>\n",
              "      <td>2437.86</td>\n",
              "      <td>2406.44</td>\n",
              "      <td>2435.99</td>\n",
              "      <td>1118954.38</td>\n",
              "    </tr>\n",
              "    <tr>\n",
              "      <th>20103</th>\n",
              "      <td>2445.99</td>\n",
              "      <td>2455.86</td>\n",
              "      <td>2414.00</td>\n",
              "      <td>2425.94</td>\n",
              "      <td>1303397.79</td>\n",
              "    </tr>\n",
              "    <tr>\n",
              "      <th>20104</th>\n",
              "      <td>2460.01</td>\n",
              "      <td>2460.68</td>\n",
              "      <td>2428.03</td>\n",
              "      <td>2445.99</td>\n",
              "      <td>904722.49</td>\n",
              "    </tr>\n",
              "    <tr>\n",
              "      <th>20105</th>\n",
              "      <td>2467.83</td>\n",
              "      <td>2469.99</td>\n",
              "      <td>2450.00</td>\n",
              "      <td>2460.01</td>\n",
              "      <td>811494.29</td>\n",
              "    </tr>\n",
              "    <tr>\n",
              "      <th>20106</th>\n",
              "      <td>2459.35</td>\n",
              "      <td>2475.00</td>\n",
              "      <td>2450.00</td>\n",
              "      <td>2467.83</td>\n",
              "      <td>682105.41</td>\n",
              "    </tr>\n",
              "    <tr>\n",
              "      <th>20107</th>\n",
              "      <td>2454.43</td>\n",
              "      <td>2473.93</td>\n",
              "      <td>2450.83</td>\n",
              "      <td>2459.35</td>\n",
              "      <td>712864.80</td>\n",
              "    </tr>\n",
              "    <tr>\n",
              "      <th>20108</th>\n",
              "      <td>2488.43</td>\n",
              "      <td>2488.43</td>\n",
              "      <td>2454.40</td>\n",
              "      <td>2454.43</td>\n",
              "      <td>693254.01</td>\n",
              "    </tr>\n",
              "    <tr>\n",
              "      <th>20109</th>\n",
              "      <td>2509.17</td>\n",
              "      <td>2512.87</td>\n",
              "      <td>2484.99</td>\n",
              "      <td>2488.43</td>\n",
              "      <td>393142.50</td>\n",
              "    </tr>\n",
              "    <tr>\n",
              "      <th>20110</th>\n",
              "      <td>2505.56</td>\n",
              "      <td>2513.38</td>\n",
              "      <td>2495.12</td>\n",
              "      <td>2509.17</td>\n",
              "      <td>287000.32</td>\n",
              "    </tr>\n",
              "  </tbody>\n",
              "</table>\n",
              "<p>20111 rows × 5 columns</p>\n",
              "</div>"
            ],
            "text/plain": [
              "          open     high      low    close      volume\n",
              "0      8051.00  8056.83  8021.23  8035.88   492394.56\n",
              "1      7975.89  8070.00  7975.89  8051.00  2971610.86\n",
              "2      7964.62  7987.82  7964.61  7975.89   970521.83\n",
              "3      7984.02  7993.97  7958.29  7964.62  1692336.84\n",
              "4      7941.71  7986.99  7937.01  7984.02   774064.91\n",
              "...        ...      ...      ...      ...         ...\n",
              "20106  2459.35  2475.00  2450.00  2467.83   682105.41\n",
              "20107  2454.43  2473.93  2450.83  2459.35   712864.80\n",
              "20108  2488.43  2488.43  2454.40  2454.43   693254.01\n",
              "20109  2509.17  2512.87  2484.99  2488.43   393142.50\n",
              "20110  2505.56  2513.38  2495.12  2509.17   287000.32\n",
              "\n",
              "[20111 rows x 5 columns]"
            ]
          },
          "metadata": {
            "tags": []
          },
          "execution_count": 11
        }
      ]
    },
    {
      "cell_type": "code",
      "metadata": {
        "id": "U5AKr3XpODJg",
        "colab_type": "code",
        "outputId": "27caca9d-9a32-4a10-e91f-97d25f4b96ce",
        "colab": {
          "base_uri": "https://localhost:8080/",
          "height": 170
        }
      },
      "source": [
        "#df.head()\n",
        "df.dtypes"
      ],
      "execution_count": 12,
      "outputs": [
        {
          "output_type": "execute_result",
          "data": {
            "text/plain": [
              "date           object\n",
              "symbol         object\n",
              "open          float64\n",
              "high          float64\n",
              "low           float64\n",
              "close         float64\n",
              "volume_btc    float64\n",
              "volume        float64\n",
              "dtype: object"
            ]
          },
          "metadata": {
            "tags": []
          },
          "execution_count": 12
        }
      ]
    },
    {
      "cell_type": "markdown",
      "metadata": {
        "id": "LPEId_kFwsEX",
        "colab_type": "text"
      },
      "source": [
        "## Feature Pipelines\n",
        "\n",
        "Feature pipelines are meant for transforming observations from the environment into meaningful features for an agent to learn from. If a pipeline has been added to a particular exchange, then observations will be passed through the `FeaturePipeline` before being output to the environment. For example, a feature pipeline could normalize all price values, make a time series stationary, add a moving average column, and remove an unnecessary column, all before the observation is returned to the agent.\n",
        "\n",
        "Feature pipelines can be initialized with an arbitrary number of comma-separated transformers. Each `FeatureTransformer` needs to be initialized with the set of columns to transform, or if nothing is passed, all input columns will be transformed.\n",
        "\n",
        "Each feature transformer has a transform method, which will transform a single observation (a `pandas.DataFrame`) from a larger data set, keeping any necessary state in memory to transform the next frame. For this reason, it is often necessary to reset the `FeatureTransformer` periodically. This is done automatically each time the parent `FeaturePipeline` or `InstrumentExchange` is reset.\n",
        "\n",
        "Let's create an example pipeline and add it to our existing exchange."
      ]
    },
    {
      "cell_type": "code",
      "metadata": {
        "id": "bG7RI7BawsEZ",
        "colab_type": "code",
        "outputId": "45844808-58cf-4780-cddb-2d71528320a5",
        "colab": {
          "base_uri": "https://localhost:8080/",
          "height": 1000
        }
      },
      "source": [
        "from tensortrade.features import FeaturePipeline\n",
        "from tensortrade.features.scalers import MinMaxNormalizer\n",
        "from tensortrade.features.stationarity import FractionalDifference\n",
        "\n",
        "normalize_price = MinMaxNormalizer([\"open\", \"high\", \"low\", \"close\"])\n",
        "difference_all = FractionalDifference(difference_order=0.6)\n",
        "\n",
        "feature_pipeline = FeaturePipeline(steps=[normalize_price, difference_all])\n",
        "\n",
        "exchange.feature_pipeline = feature_pipeline\n",
        "\n",
        "exchange.data_frame"
      ],
      "execution_count": 13,
      "outputs": [
        {
          "output_type": "stream",
          "text": [
            "/content/tensortrade/tensortrade/features/scalers/min_max_normalizer.py:75: SettingWithCopyWarning: \n",
            "A value is trying to be set on a copy of a slice from a DataFrame.\n",
            "Try using .loc[row_indexer,col_indexer] = value instead\n",
            "\n",
            "See the caveats in the documentation: http://pandas.pydata.org/pandas-docs/stable/user_guide/indexing.html#returning-a-view-versus-a-copy\n",
            "  X[column] = normalized_column\n",
            "/content/tensortrade/tensortrade/features/stationarity/fractional_difference.py:127: SettingWithCopyWarning: \n",
            "A value is trying to be set on a copy of a slice from a DataFrame.\n",
            "Try using .loc[row_indexer,col_indexer] = value instead\n",
            "\n",
            "See the caveats in the documentation: http://pandas.pydata.org/pandas-docs/stable/user_guide/indexing.html#returning-a-view-versus-a-copy\n",
            "  X[column] = diffed_series.fillna(method='bfill')\n"
          ],
          "name": "stderr"
        },
        {
          "output_type": "execute_result",
          "data": {
            "text/html": [
              "<div>\n",
              "<style scoped>\n",
              "    .dataframe tbody tr th:only-of-type {\n",
              "        vertical-align: middle;\n",
              "    }\n",
              "\n",
              "    .dataframe tbody tr th {\n",
              "        vertical-align: top;\n",
              "    }\n",
              "\n",
              "    .dataframe thead th {\n",
              "        text-align: right;\n",
              "    }\n",
              "</style>\n",
              "<table border=\"1\" class=\"dataframe\">\n",
              "  <thead>\n",
              "    <tr style=\"text-align: right;\">\n",
              "      <th></th>\n",
              "      <th>open</th>\n",
              "      <th>high</th>\n",
              "      <th>low</th>\n",
              "      <th>close</th>\n",
              "      <th>volume</th>\n",
              "    </tr>\n",
              "  </thead>\n",
              "  <tbody>\n",
              "    <tr>\n",
              "      <th>0</th>\n",
              "      <td>0.001349</td>\n",
              "      <td>0.001319</td>\n",
              "      <td>0.001323</td>\n",
              "      <td>0.001295</td>\n",
              "      <td>3.443566e+05</td>\n",
              "    </tr>\n",
              "    <tr>\n",
              "      <th>1</th>\n",
              "      <td>0.001349</td>\n",
              "      <td>0.001319</td>\n",
              "      <td>0.001323</td>\n",
              "      <td>0.001295</td>\n",
              "      <td>3.443566e+05</td>\n",
              "    </tr>\n",
              "    <tr>\n",
              "      <th>2</th>\n",
              "      <td>0.001349</td>\n",
              "      <td>0.001319</td>\n",
              "      <td>0.001323</td>\n",
              "      <td>0.001295</td>\n",
              "      <td>3.443566e+05</td>\n",
              "    </tr>\n",
              "    <tr>\n",
              "      <th>3</th>\n",
              "      <td>0.001349</td>\n",
              "      <td>0.001319</td>\n",
              "      <td>0.001323</td>\n",
              "      <td>0.001295</td>\n",
              "      <td>3.443566e+05</td>\n",
              "    </tr>\n",
              "    <tr>\n",
              "      <th>4</th>\n",
              "      <td>0.001349</td>\n",
              "      <td>0.001319</td>\n",
              "      <td>0.001323</td>\n",
              "      <td>0.001295</td>\n",
              "      <td>3.443566e+05</td>\n",
              "    </tr>\n",
              "    <tr>\n",
              "      <th>5</th>\n",
              "      <td>0.001349</td>\n",
              "      <td>0.001319</td>\n",
              "      <td>0.001323</td>\n",
              "      <td>0.001295</td>\n",
              "      <td>3.443566e+05</td>\n",
              "    </tr>\n",
              "    <tr>\n",
              "      <th>6</th>\n",
              "      <td>0.001220</td>\n",
              "      <td>0.001211</td>\n",
              "      <td>0.001221</td>\n",
              "      <td>0.001214</td>\n",
              "      <td>-1.976999e+05</td>\n",
              "    </tr>\n",
              "    <tr>\n",
              "      <th>7</th>\n",
              "      <td>0.001079</td>\n",
              "      <td>0.001102</td>\n",
              "      <td>0.001097</td>\n",
              "      <td>0.001116</td>\n",
              "      <td>-5.929822e+04</td>\n",
              "    </tr>\n",
              "    <tr>\n",
              "      <th>8</th>\n",
              "      <td>0.001017</td>\n",
              "      <td>0.001006</td>\n",
              "      <td>0.001016</td>\n",
              "      <td>0.000996</td>\n",
              "      <td>5.926411e+05</td>\n",
              "    </tr>\n",
              "    <tr>\n",
              "      <th>9</th>\n",
              "      <td>0.000974</td>\n",
              "      <td>0.000964</td>\n",
              "      <td>0.000945</td>\n",
              "      <td>0.000948</td>\n",
              "      <td>5.216977e+05</td>\n",
              "    </tr>\n",
              "    <tr>\n",
              "      <th>10</th>\n",
              "      <td>0.000911</td>\n",
              "      <td>0.000925</td>\n",
              "      <td>0.000922</td>\n",
              "      <td>0.000917</td>\n",
              "      <td>2.319959e+06</td>\n",
              "    </tr>\n",
              "    <tr>\n",
              "      <th>11</th>\n",
              "      <td>0.000831</td>\n",
              "      <td>0.000846</td>\n",
              "      <td>0.000842</td>\n",
              "      <td>0.000862</td>\n",
              "      <td>-5.959184e+05</td>\n",
              "    </tr>\n",
              "    <tr>\n",
              "      <th>12</th>\n",
              "      <td>0.000804</td>\n",
              "      <td>0.000783</td>\n",
              "      <td>0.000801</td>\n",
              "      <td>0.000788</td>\n",
              "      <td>-3.857462e+05</td>\n",
              "    </tr>\n",
              "    <tr>\n",
              "      <th>13</th>\n",
              "      <td>0.000735</td>\n",
              "      <td>0.000757</td>\n",
              "      <td>0.000744</td>\n",
              "      <td>0.000767</td>\n",
              "      <td>-3.777224e+04</td>\n",
              "    </tr>\n",
              "    <tr>\n",
              "      <th>14</th>\n",
              "      <td>0.000733</td>\n",
              "      <td>0.000710</td>\n",
              "      <td>0.000679</td>\n",
              "      <td>0.000702</td>\n",
              "      <td>1.751349e+06</td>\n",
              "    </tr>\n",
              "    <tr>\n",
              "      <th>15</th>\n",
              "      <td>0.000707</td>\n",
              "      <td>0.000707</td>\n",
              "      <td>0.000733</td>\n",
              "      <td>0.000703</td>\n",
              "      <td>-7.916976e+05</td>\n",
              "    </tr>\n",
              "    <tr>\n",
              "      <th>16</th>\n",
              "      <td>0.000669</td>\n",
              "      <td>0.000678</td>\n",
              "      <td>0.000661</td>\n",
              "      <td>0.000680</td>\n",
              "      <td>4.177735e+05</td>\n",
              "    </tr>\n",
              "    <tr>\n",
              "      <th>17</th>\n",
              "      <td>0.000634</td>\n",
              "      <td>0.000691</td>\n",
              "      <td>0.000615</td>\n",
              "      <td>0.000645</td>\n",
              "      <td>4.024384e+06</td>\n",
              "    </tr>\n",
              "    <tr>\n",
              "      <th>18</th>\n",
              "      <td>0.000633</td>\n",
              "      <td>0.000606</td>\n",
              "      <td>0.000649</td>\n",
              "      <td>0.000612</td>\n",
              "      <td>1.876937e+04</td>\n",
              "    </tr>\n",
              "    <tr>\n",
              "      <th>19</th>\n",
              "      <td>0.000645</td>\n",
              "      <td>0.000622</td>\n",
              "      <td>0.000601</td>\n",
              "      <td>0.000613</td>\n",
              "      <td>2.045871e+06</td>\n",
              "    </tr>\n",
              "    <tr>\n",
              "      <th>20</th>\n",
              "      <td>0.000594</td>\n",
              "      <td>0.000600</td>\n",
              "      <td>0.000613</td>\n",
              "      <td>0.000626</td>\n",
              "      <td>3.172597e+06</td>\n",
              "    </tr>\n",
              "    <tr>\n",
              "      <th>21</th>\n",
              "      <td>0.000641</td>\n",
              "      <td>0.000627</td>\n",
              "      <td>0.000546</td>\n",
              "      <td>0.000577</td>\n",
              "      <td>2.281644e+06</td>\n",
              "    </tr>\n",
              "    <tr>\n",
              "      <th>22</th>\n",
              "      <td>0.000688</td>\n",
              "      <td>0.000683</td>\n",
              "      <td>0.000621</td>\n",
              "      <td>0.000626</td>\n",
              "      <td>-6.297678e+05</td>\n",
              "    </tr>\n",
              "    <tr>\n",
              "      <th>23</th>\n",
              "      <td>0.000597</td>\n",
              "      <td>0.000611</td>\n",
              "      <td>0.000707</td>\n",
              "      <td>0.000674</td>\n",
              "      <td>-4.302749e+06</td>\n",
              "    </tr>\n",
              "    <tr>\n",
              "      <th>24</th>\n",
              "      <td>0.000564</td>\n",
              "      <td>0.000560</td>\n",
              "      <td>0.000562</td>\n",
              "      <td>0.000584</td>\n",
              "      <td>-1.740256e+06</td>\n",
              "    </tr>\n",
              "    <tr>\n",
              "      <th>25</th>\n",
              "      <td>0.000555</td>\n",
              "      <td>0.000546</td>\n",
              "      <td>0.000548</td>\n",
              "      <td>0.000551</td>\n",
              "      <td>-5.297893e+05</td>\n",
              "    </tr>\n",
              "    <tr>\n",
              "      <th>26</th>\n",
              "      <td>0.000556</td>\n",
              "      <td>0.000551</td>\n",
              "      <td>0.000561</td>\n",
              "      <td>0.000543</td>\n",
              "      <td>-6.324823e+05</td>\n",
              "    </tr>\n",
              "    <tr>\n",
              "      <th>27</th>\n",
              "      <td>0.000541</td>\n",
              "      <td>0.000539</td>\n",
              "      <td>0.000556</td>\n",
              "      <td>0.000545</td>\n",
              "      <td>-5.496024e+05</td>\n",
              "    </tr>\n",
              "    <tr>\n",
              "      <th>28</th>\n",
              "      <td>0.000513</td>\n",
              "      <td>0.000516</td>\n",
              "      <td>0.000533</td>\n",
              "      <td>0.000531</td>\n",
              "      <td>-5.572905e+05</td>\n",
              "    </tr>\n",
              "    <tr>\n",
              "      <th>29</th>\n",
              "      <td>0.000503</td>\n",
              "      <td>0.000503</td>\n",
              "      <td>0.000511</td>\n",
              "      <td>0.000503</td>\n",
              "      <td>-3.001406e+05</td>\n",
              "    </tr>\n",
              "    <tr>\n",
              "      <th>...</th>\n",
              "      <td>...</td>\n",
              "      <td>...</td>\n",
              "      <td>...</td>\n",
              "      <td>...</td>\n",
              "      <td>...</td>\n",
              "    </tr>\n",
              "    <tr>\n",
              "      <th>20081</th>\n",
              "      <td>-0.000046</td>\n",
              "      <td>-0.000056</td>\n",
              "      <td>-0.000042</td>\n",
              "      <td>-0.000045</td>\n",
              "      <td>-1.342294e+06</td>\n",
              "    </tr>\n",
              "    <tr>\n",
              "      <th>20082</th>\n",
              "      <td>-0.000056</td>\n",
              "      <td>-0.000053</td>\n",
              "      <td>-0.000052</td>\n",
              "      <td>-0.000046</td>\n",
              "      <td>-4.433407e+05</td>\n",
              "    </tr>\n",
              "    <tr>\n",
              "      <th>20083</th>\n",
              "      <td>-0.000048</td>\n",
              "      <td>-0.000059</td>\n",
              "      <td>-0.000056</td>\n",
              "      <td>-0.000056</td>\n",
              "      <td>-6.511484e+05</td>\n",
              "    </tr>\n",
              "    <tr>\n",
              "      <th>20084</th>\n",
              "      <td>-0.000035</td>\n",
              "      <td>-0.000038</td>\n",
              "      <td>-0.000037</td>\n",
              "      <td>-0.000048</td>\n",
              "      <td>-2.058442e+05</td>\n",
              "    </tr>\n",
              "    <tr>\n",
              "      <th>20085</th>\n",
              "      <td>-0.000026</td>\n",
              "      <td>-0.000037</td>\n",
              "      <td>-0.000034</td>\n",
              "      <td>-0.000035</td>\n",
              "      <td>-6.022800e+05</td>\n",
              "    </tr>\n",
              "    <tr>\n",
              "      <th>20086</th>\n",
              "      <td>-0.000043</td>\n",
              "      <td>-0.000035</td>\n",
              "      <td>-0.000037</td>\n",
              "      <td>-0.000026</td>\n",
              "      <td>-2.972115e+05</td>\n",
              "    </tr>\n",
              "    <tr>\n",
              "      <th>20087</th>\n",
              "      <td>-0.000014</td>\n",
              "      <td>-0.000026</td>\n",
              "      <td>-0.000034</td>\n",
              "      <td>-0.000043</td>\n",
              "      <td>-2.787716e+05</td>\n",
              "    </tr>\n",
              "    <tr>\n",
              "      <th>20088</th>\n",
              "      <td>-0.000020</td>\n",
              "      <td>-0.000025</td>\n",
              "      <td>-0.000010</td>\n",
              "      <td>-0.000014</td>\n",
              "      <td>6.383715e+04</td>\n",
              "    </tr>\n",
              "    <tr>\n",
              "      <th>20089</th>\n",
              "      <td>-0.000054</td>\n",
              "      <td>-0.000028</td>\n",
              "      <td>-0.000044</td>\n",
              "      <td>-0.000020</td>\n",
              "      <td>1.478461e+05</td>\n",
              "    </tr>\n",
              "    <tr>\n",
              "      <th>20090</th>\n",
              "      <td>-0.000048</td>\n",
              "      <td>-0.000050</td>\n",
              "      <td>-0.000044</td>\n",
              "      <td>-0.000054</td>\n",
              "      <td>-2.236390e+05</td>\n",
              "    </tr>\n",
              "    <tr>\n",
              "      <th>20091</th>\n",
              "      <td>-0.000020</td>\n",
              "      <td>-0.000037</td>\n",
              "      <td>-0.000038</td>\n",
              "      <td>-0.000048</td>\n",
              "      <td>-3.184873e+05</td>\n",
              "    </tr>\n",
              "    <tr>\n",
              "      <th>20092</th>\n",
              "      <td>-0.000056</td>\n",
              "      <td>-0.000034</td>\n",
              "      <td>-0.000038</td>\n",
              "      <td>-0.000020</td>\n",
              "      <td>3.398797e+05</td>\n",
              "    </tr>\n",
              "    <tr>\n",
              "      <th>20093</th>\n",
              "      <td>-0.000047</td>\n",
              "      <td>-0.000061</td>\n",
              "      <td>-0.000048</td>\n",
              "      <td>-0.000056</td>\n",
              "      <td>-3.193030e+05</td>\n",
              "    </tr>\n",
              "    <tr>\n",
              "      <th>20094</th>\n",
              "      <td>-0.000036</td>\n",
              "      <td>-0.000045</td>\n",
              "      <td>-0.000039</td>\n",
              "      <td>-0.000047</td>\n",
              "      <td>-1.447067e+05</td>\n",
              "    </tr>\n",
              "    <tr>\n",
              "      <th>20095</th>\n",
              "      <td>-0.000033</td>\n",
              "      <td>-0.000039</td>\n",
              "      <td>-0.000048</td>\n",
              "      <td>-0.000036</td>\n",
              "      <td>3.311241e+05</td>\n",
              "    </tr>\n",
              "    <tr>\n",
              "      <th>20096</th>\n",
              "      <td>-0.000051</td>\n",
              "      <td>-0.000028</td>\n",
              "      <td>-0.000040</td>\n",
              "      <td>-0.000033</td>\n",
              "      <td>3.614130e+04</td>\n",
              "    </tr>\n",
              "    <tr>\n",
              "      <th>20097</th>\n",
              "      <td>-0.000008</td>\n",
              "      <td>-0.000026</td>\n",
              "      <td>-0.000032</td>\n",
              "      <td>-0.000051</td>\n",
              "      <td>4.839105e+05</td>\n",
              "    </tr>\n",
              "    <tr>\n",
              "      <th>20098</th>\n",
              "      <td>-0.000023</td>\n",
              "      <td>-0.000023</td>\n",
              "      <td>-0.000008</td>\n",
              "      <td>-0.000008</td>\n",
              "      <td>-3.162592e+05</td>\n",
              "    </tr>\n",
              "    <tr>\n",
              "      <th>20099</th>\n",
              "      <td>-0.000034</td>\n",
              "      <td>-0.000034</td>\n",
              "      <td>-0.000038</td>\n",
              "      <td>-0.000023</td>\n",
              "      <td>-1.085959e+05</td>\n",
              "    </tr>\n",
              "    <tr>\n",
              "      <th>20100</th>\n",
              "      <td>-0.000039</td>\n",
              "      <td>-0.000036</td>\n",
              "      <td>-0.000030</td>\n",
              "      <td>-0.000034</td>\n",
              "      <td>6.297284e+05</td>\n",
              "    </tr>\n",
              "    <tr>\n",
              "      <th>20101</th>\n",
              "      <td>-0.000005</td>\n",
              "      <td>-0.000013</td>\n",
              "      <td>-0.000026</td>\n",
              "      <td>-0.000039</td>\n",
              "      <td>3.229587e+05</td>\n",
              "    </tr>\n",
              "    <tr>\n",
              "      <th>20102</th>\n",
              "      <td>-0.000030</td>\n",
              "      <td>-0.000025</td>\n",
              "      <td>-0.000026</td>\n",
              "      <td>-0.000005</td>\n",
              "      <td>-3.178813e+05</td>\n",
              "    </tr>\n",
              "    <tr>\n",
              "      <th>20103</th>\n",
              "      <td>-0.000007</td>\n",
              "      <td>-0.000008</td>\n",
              "      <td>-0.000020</td>\n",
              "      <td>-0.000030</td>\n",
              "      <td>1.210591e+05</td>\n",
              "    </tr>\n",
              "    <tr>\n",
              "      <th>20104</th>\n",
              "      <td>-0.000005</td>\n",
              "      <td>-0.000014</td>\n",
              "      <td>-0.000010</td>\n",
              "      <td>-0.000007</td>\n",
              "      <td>-3.550646e+05</td>\n",
              "    </tr>\n",
              "    <tr>\n",
              "      <th>20105</th>\n",
              "      <td>-0.000008</td>\n",
              "      <td>-0.000010</td>\n",
              "      <td>0.000002</td>\n",
              "      <td>-0.000005</td>\n",
              "      <td>-2.211518e+05</td>\n",
              "    </tr>\n",
              "    <tr>\n",
              "      <th>20106</th>\n",
              "      <td>-0.000024</td>\n",
              "      <td>-0.000012</td>\n",
              "      <td>-0.000013</td>\n",
              "      <td>-0.000008</td>\n",
              "      <td>-2.533233e+05</td>\n",
              "    </tr>\n",
              "    <tr>\n",
              "      <th>20107</th>\n",
              "      <td>-0.000026</td>\n",
              "      <td>-0.000018</td>\n",
              "      <td>-0.000016</td>\n",
              "      <td>-0.000024</td>\n",
              "      <td>-1.161787e+05</td>\n",
              "    </tr>\n",
              "    <tr>\n",
              "      <th>20108</th>\n",
              "      <td>0.000011</td>\n",
              "      <td>-0.000005</td>\n",
              "      <td>-0.000014</td>\n",
              "      <td>-0.000026</td>\n",
              "      <td>-1.238842e+05</td>\n",
              "    </tr>\n",
              "    <tr>\n",
              "      <th>20109</th>\n",
              "      <td>0.000012</td>\n",
              "      <td>0.000010</td>\n",
              "      <td>0.000013</td>\n",
              "      <td>0.000011</td>\n",
              "      <td>-3.995577e+05</td>\n",
              "    </tr>\n",
              "    <tr>\n",
              "      <th>20110</th>\n",
              "      <td>-0.000009</td>\n",
              "      <td>-0.000006</td>\n",
              "      <td>0.000004</td>\n",
              "      <td>0.000012</td>\n",
              "      <td>-3.144854e+05</td>\n",
              "    </tr>\n",
              "  </tbody>\n",
              "</table>\n",
              "<p>20111 rows × 5 columns</p>\n",
              "</div>"
            ],
            "text/plain": [
              "           open      high       low     close         volume\n",
              "0      0.001349  0.001319  0.001323  0.001295  344356.554917\n",
              "1      0.001349  0.001319  0.001323  0.001295  344356.554917\n",
              "2      0.001349  0.001319  0.001323  0.001295  344356.554917\n",
              "3      0.001349  0.001319  0.001323  0.001295  344356.554917\n",
              "4      0.001349  0.001319  0.001323  0.001295  344356.554917\n",
              "...         ...       ...       ...       ...            ...\n",
              "20106 -0.000024 -0.000012 -0.000013 -0.000008 -253323.301085\n",
              "20107 -0.000026 -0.000018 -0.000016 -0.000024 -116178.743729\n",
              "20108  0.000011 -0.000005 -0.000014 -0.000026 -123884.156009\n",
              "20109  0.000012  0.000010  0.000013  0.000011 -399557.736653\n",
              "20110 -0.000009 -0.000006  0.000004  0.000012 -314485.424202\n",
              "\n",
              "[20111 rows x 5 columns]"
            ]
          },
          "metadata": {
            "tags": []
          },
          "execution_count": 13
        }
      ]
    },
    {
      "cell_type": "markdown",
      "metadata": {
        "id": "6APRFibSwsEj",
        "colab_type": "text"
      },
      "source": [
        "_This feature pipeline normalizes the price values between 0 and 1, before making the entire time series stationary by fractionally differencing consecutive values._\n",
        "\n",
        "## Action Strategies\n",
        "\n",
        "Action strategies define the action space of the environment and convert an agent's actions into executable trades. For example, if we were using a discrete action space of 3 actions (0 = `hold`, 1 = `buy 100%`, 2 = `sell 100%`), our learning agent does not need to know that returning an action of 1 is equivalent to buying an instrument. Rather, our agent needs to know the reward for returning an action of 1 in specific circumstances, and can leave the implementation details of converting actions to trades to the `ActionStrategy`.\n",
        "\n",
        "Each action strategy has a get_trade method, which will transform the agent's specified action into an executable `Trade`. It is often necessary to store additional state within the strategy, for example to keep track of the currently traded position. This state should be reset each time the action strategy's reset method is called, which is done automatically when the parent `TradingEnvironment` is reset."
      ]
    },
    {
      "cell_type": "code",
      "metadata": {
        "id": "o1tAnSkwwsEn",
        "colab_type": "code",
        "colab": {}
      },
      "source": [
        "from tensortrade.actions import DiscreteActionStrategy\n",
        "\n",
        "action_strategy = DiscreteActionStrategy(n_actions=20, instrument_symbol='BTC')"
      ],
      "execution_count": 0,
      "outputs": []
    },
    {
      "cell_type": "markdown",
      "metadata": {
        "id": "g1C721rhwsEw",
        "colab_type": "text"
      },
      "source": [
        "_This discrete action strategy uses 20 discrete actions, which equates to 4 discrete amounts for each of the 5 trade types (market buy/sell, limit buy/sell, and hold). E.g. [0,5,10,15]=hold, 1=market buy 25%, 2=market sell 25%, 3=limit buy 25%, 4=limit sell 25%, 6=market buy 50%, 7=market sell 50%, etc…_\n",
        "\n",
        "## Reward Strategies\n",
        "\n",
        "Reward strategies receive the trade taken at each time step and return a float, corresponding to the benefit of that specific action. For example, if the action taken this step was a sell that resulted in positive profits, our `RewardStrategy` could return a positive number to encourage more trades like this. On the other hand, if the action was a sell that resulted in a loss, the strategy could return a negative reward to teach the agent not to make similar actions in the future.\n",
        "\n",
        "A version of this example algorithm is implemented in `SimpleProfitStrategy`, however more complex strategies can obviously be used instead.\n",
        "\n",
        "Each reward strategy has a get_reward method, which takes in the trade executed at each time step and returns a float corresponding to the value of that action. As with action strategies, it is often necessary to store additional state within a reward strategy for various reasons. This state should be reset each time the reward strategy's reset method is called, which is done automatically when the parent `TradingEnvironment` is reset."
      ]
    },
    {
      "cell_type": "code",
      "metadata": {
        "id": "l1Y4NEz7wsEy",
        "colab_type": "code",
        "colab": {}
      },
      "source": [
        "from tensortrade.rewards import SimpleProfitStrategy\n",
        "\n",
        "reward_strategy = SimpleProfitStrategy()"
      ],
      "execution_count": 0,
      "outputs": []
    },
    {
      "cell_type": "markdown",
      "metadata": {
        "id": "BfNtqxLIwsFL",
        "colab_type": "text"
      },
      "source": [
        "## Trading Strategy\n",
        "\n",
        "A `TradingStrategy` consists of a learning agent and one or more trading environments to tune, train, and evaluate on. If only one environment is provided, it will be used for tuning, training, and evaluating. Otherwise, a separate environment may be provided at each step."
      ]
    },
    {
      "cell_type": "markdown",
      "metadata": {
        "id": "3O2frL5LwsFO",
        "colab_type": "text"
      },
      "source": [
        "_Don't worry if you don't understand the strategy initialization just yet, it will be explained in more detail later._\n",
        "\n",
        "# Putting it All Together\n",
        "\n",
        "Now that we know about each component that makes up a `TradingStrategy`, let's build and evaluate one.\n",
        "\n",
        "For a quick recap, a `TradingStrategy` is made up of a `TradingEnvironment` and a learning agent. A `TradingEnvironment` is a gym environment that takes an `InstrumentExchange`, an `ActionStrategy`, a `RewardStrategy`, and an optional `FeaturePipeline`, and returns observations and rewards that the learning agent can be trained and evaluated on.\n",
        "\n",
        "## Creating an Environment\n",
        "\n",
        "The first step is to create a `TradingEnvironment` using the components outlined above."
      ]
    },
    {
      "cell_type": "code",
      "metadata": {
        "id": "dtGVBcx9wsFQ",
        "colab_type": "code",
        "colab": {}
      },
      "source": [
        "from tensortrade.environments import TradingEnvironment\n",
        "\n",
        "environment = TradingEnvironment(exchange=exchange,\n",
        "                                 feature_pipeline=feature_pipeline,\n",
        "                                 action_strategy=action_strategy,\n",
        "                                 reward_strategy=reward_strategy)"
      ],
      "execution_count": 0,
      "outputs": []
    },
    {
      "cell_type": "markdown",
      "metadata": {
        "id": "XoF8Qm77wsFX",
        "colab_type": "text"
      },
      "source": [
        "Simple enough, now `environment` is a `gym` environment that can be used by any compatible trading strategy or learning agent.\n",
        "\n",
        "## Defining the Agent\n",
        "\n",
        "Now that the environment is set up, it’s time to create our learning agent. Again, we will be using Stable Baselines for this, but feel free to drop in any other reinforcement learning agent here.\n",
        "\n",
        "Since we are using `StableBaselinesTradingStrategy`, all we need to do is provide a model type and a policy type for the underlying neural network to be trained. For this example, we will be using a simple proximal policy optimization (PPO) model and a layer-normalized LSTM policy network.\n",
        "\n",
        "For more examples of model and policy specifications, see the [Stable Baselines Documentation](http://stable-baselines.readthedocs.io/en/master/)."
      ]
    },
    {
      "cell_type": "code",
      "metadata": {
        "id": "fAg-aFY4wsFZ",
        "colab_type": "code",
        "colab": {}
      },
      "source": [
        "from stable_baselines.common.policies import MlpLnLstmPolicy\n",
        "from stable_baselines import PPO2\n",
        "\n",
        "model = PPO2\n",
        "policy = MlpLnLstmPolicy\n",
        "params = { \"learning_rate\": 1e-5, 'nminibatches': 1 }"
      ],
      "execution_count": 0,
      "outputs": []
    },
    {
      "cell_type": "markdown",
      "metadata": {
        "id": "kbJqeUUHwsFf",
        "colab_type": "text"
      },
      "source": [
        "## Training a Strategy\n",
        "\n",
        "Creating our trading strategy is as simple as plugging in our agent and the environment."
      ]
    },
    {
      "cell_type": "code",
      "metadata": {
        "id": "Ul7FLvD1wsFj",
        "colab_type": "code",
        "colab": {}
      },
      "source": [
        "from tensortrade.strategies import StableBaselinesTradingStrategy\n",
        "\n",
        "strategy = StableBaselinesTradingStrategy(environment=environment,\n",
        "                                          model=model,\n",
        "                                          policy=policy,\n",
        "                                          model_kwargs=params)"
      ],
      "execution_count": 0,
      "outputs": []
    },
    {
      "cell_type": "markdown",
      "metadata": {
        "id": "XKFV97K4wsFt",
        "colab_type": "text"
      },
      "source": [
        "Then to train the strategy (i.e. train the agent on the current environment), all we need to do is call `strategy.run()` with the total number of steps or episodes you’d like to run."
      ]
    },
    {
      "cell_type": "code",
      "metadata": {
        "id": "y-NbF06lwsFv",
        "colab_type": "code",
        "outputId": "7bc0ba05-d78f-489e-95dd-5cc922983745",
        "colab": {
          "base_uri": "https://localhost:8080/",
          "height": 68
        }
      },
      "source": [
        "performance = strategy.run(steps=10000)"
      ],
      "execution_count": 19,
      "outputs": [
        {
          "output_type": "stream",
          "text": [
            "Finished running strategy.\n",
            "Total episodes: 0 (10000 timesteps).\n",
            "Average reward: -0.342161492029289.\n"
          ],
          "name": "stdout"
        }
      ]
    },
    {
      "cell_type": "code",
      "metadata": {
        "id": "vbvbeK9OwsF5",
        "colab_type": "code",
        "outputId": "fd0557e7-ca9c-43a8-9472-261f13a99c9f",
        "colab": {
          "base_uri": "https://localhost:8080/",
          "height": 282
        }
      },
      "source": [
        "%matplotlib inline\n",
        "\n",
        "performance.net_worth.plot()"
      ],
      "execution_count": 20,
      "outputs": [
        {
          "output_type": "execute_result",
          "data": {
            "text/plain": [
              "<matplotlib.axes._subplots.AxesSubplot at 0x7efc4145d1d0>"
            ]
          },
          "metadata": {
            "tags": []
          },
          "execution_count": 20
        },
        {
          "output_type": "display_data",
          "data": {
            "image/png": "[encoded data removed]",
            "text/plain": [
              "<Figure size 432x288 with 1 Axes>"
            ]
          },
          "metadata": {
            "tags": []
          }
        }
      ]
    },
    {
      "cell_type": "markdown",
      "metadata": {
        "id": "nz89RJjpwsGA",
        "colab_type": "text"
      },
      "source": [
        "If this feedback loop is a bit slow for you, you can pass a callback function to `run`, which will be called at the end of each episode. The callback function will pass in a `data_frame` containing the agent's performance that episode, and expects a `bool` in return. If `True`, the agent will continue training, otherwise, the agent will stop and return its overall performance.\n",
        "\n",
        "## Saving and Restoring\n",
        "\n",
        "All trading strategies are capable of saving their agent to a file, for later restoring. The environment is not saved, as it does not have state that we care about preserving. To save our `TensorflowTradingStrategy` to a file, we just need to provide the path of the file to our strategy."
      ]
    },
    {
      "cell_type": "code",
      "metadata": {
        "id": "-Oz7blaMwlUo",
        "colab_type": "code",
        "colab": {
          "base_uri": "https://localhost:8080/",
          "height": 102
        },
        "outputId": "3fdef402-74c8-426a-d6ed-8fba12fa2647"
      },
      "source": [
        "print(os.getcwd())\n",
        "%ls"
      ],
      "execution_count": 25,
      "outputs": [
        {
          "output_type": "stream",
          "text": [
            "/content/tensortrade\n",
            "CODE_OF_CONDUCT.md  \u001b[0m\u001b[01;34mexamples\u001b[0m/    ppo_btc_1h.zip    setup.py\n",
            "CONTRIBUTING.md     LICENSE      README.md         \u001b[01;34mtensortrade\u001b[0m/\n",
            "Dockerfile          Makefile     requirements.txt  \u001b[01;34mtensortrade.egg-info\u001b[0m/\n",
            "\u001b[01;34mdocs\u001b[0m/               MANIFEST.in  setup.cfg         \u001b[01;34mtests\u001b[0m/\n"
          ],
          "name": "stdout"
        }
      ]
    },
    {
      "cell_type": "code",
      "metadata": {
        "id": "kB0x0F3mwsGE",
        "colab_type": "code",
        "colab": {}
      },
      "source": [
        "strategy.save_agent(path=\"ppo_btc_1h\")"
      ],
      "execution_count": 0,
      "outputs": []
    },
    {
      "cell_type": "markdown",
      "metadata": {
        "id": "YnPRHuGBwsGY",
        "colab_type": "text"
      },
      "source": [
        "_This specific strategy saves multiple files, including a directory of models to the path provided._\n",
        "\n",
        "To restore the agent from the file, we first need to instantiate our strategy, before calling restore_agent."
      ]
    },
    {
      "cell_type": "code",
      "metadata": {
        "id": "qqr9a0IKwsGa",
        "colab_type": "code",
        "colab": {}
      },
      "source": [
        "new_strategy = StableBaselinesTradingStrategy(environment=environment,\n",
        "                                          model=model,\n",
        "                                          policy=policy,\n",
        "                                          model_kwargs=params)\n",
        "\n",
        "new_strategy.restore_agent(path=\"ppo_btc_1h\")"
      ],
      "execution_count": 0,
      "outputs": []
    },
    {
      "cell_type": "markdown",
      "metadata": {
        "id": "5BijWcGrwsGv",
        "colab_type": "text"
      },
      "source": [
        "Our strategy is now restored back to its previous state, and ready to be used again. Let's see how it does.\n",
        "\n",
        "## Tuning Your Strategy\n",
        "\n",
        "Sometimes a trading strategy will require tuning a set of hyper-parameters, or features, on an environment to achieve maximum performance. In this case, each `TradingStrategy` provides an optionally implementable tune method.\n",
        "\n",
        "Tuning a model is similar to training a model, however in addition to adjusting and saving the weights and biases of the best performing model, the strategy also adjusts and persists the hyper-parameters that produced that model. "
      ]
    },
    {
      "cell_type": "code",
      "metadata": {
        "id": "7yL8uQLYxTPg",
        "colab_type": "code",
        "colab": {
          "base_uri": "https://localhost:8080/",
          "height": 540
        },
        "outputId": "8b8fcf5b-53ce-42fb-90f8-71be53f84af2"
      },
      "source": [
        "from tensortrade.environments import TradingEnvironment\n",
        "from tensortrade.exchanges.simulated import FBMExchange\n",
        "\n",
        "exchange = FBMExchange(timeframe='1h', base_instrument='BTC', feature_pipeline=feature_pipeline)\n",
        "environment = TradingEnvironment(exchange=exchange, \n",
        "                                 action_strategy=action_strategy, \n",
        "                                 reward_strategy=reward_strategy) \n",
        "new_strategy.environment = environment \n",
        "tuned_performance = new_strategy.tune(episodes=10)"
      ],
      "execution_count": 27,
      "outputs": [
        {
          "output_type": "stream",
          "text": [
            "/content/tensortrade/tensortrade/features/scalers/min_max_normalizer.py:75: SettingWithCopyWarning: \n",
            "A value is trying to be set on a copy of a slice from a DataFrame.\n",
            "Try using .loc[row_indexer,col_indexer] = value instead\n",
            "\n",
            "See the caveats in the documentation: http://pandas.pydata.org/pandas-docs/stable/user_guide/indexing.html#returning-a-view-versus-a-copy\n",
            "  X[column] = normalized_column\n",
            "/content/tensortrade/tensortrade/features/stationarity/fractional_difference.py:127: SettingWithCopyWarning: \n",
            "A value is trying to be set on a copy of a slice from a DataFrame.\n",
            "Try using .loc[row_indexer,col_indexer] = value instead\n",
            "\n",
            "See the caveats in the documentation: http://pandas.pydata.org/pandas-docs/stable/user_guide/indexing.html#returning-a-view-versus-a-copy\n",
            "  X[column] = diffed_series.fillna(method='bfill')\n"
          ],
          "name": "stderr"
        },
        {
          "output_type": "error",
          "ename": "NotImplementedError",
          "evalue": "ignored",
          "traceback": [
            "\u001b[0;31m---------------------------------------------------------------------------\u001b[0m",
            "\u001b[0;31mNotImplementedError\u001b[0m                       Traceback (most recent call last)",
            "\u001b[0;32m<ipython-input-27-4e7efc10a53c>\u001b[0m in \u001b[0;36m<module>\u001b[0;34m()\u001b[0m\n\u001b[1;32m      7\u001b[0m                                  reward_strategy=reward_strategy) \n\u001b[1;32m      8\u001b[0m \u001b[0mnew_strategy\u001b[0m\u001b[0;34m.\u001b[0m\u001b[0menvironment\u001b[0m \u001b[0;34m=\u001b[0m \u001b[0menvironment\u001b[0m\u001b[0;34m\u001b[0m\u001b[0;34m\u001b[0m\u001b[0m\n\u001b[0;32m----> 9\u001b[0;31m \u001b[0mtuned_performance\u001b[0m \u001b[0;34m=\u001b[0m \u001b[0mnew_strategy\u001b[0m\u001b[0;34m.\u001b[0m\u001b[0mtune\u001b[0m\u001b[0;34m(\u001b[0m\u001b[0mepisodes\u001b[0m\u001b[0;34m=\u001b[0m\u001b[0;36m10\u001b[0m\u001b[0;34m)\u001b[0m\u001b[0;34m\u001b[0m\u001b[0;34m\u001b[0m\u001b[0m\n\u001b[0m",
            "\u001b[0;32m/content/tensortrade/tensortrade/strategies/stable_baselines_strategy.py\u001b[0m in \u001b[0;36mtune\u001b[0;34m(self, steps, episodes, callback)\u001b[0m\n\u001b[1;32m     81\u001b[0m \u001b[0;34m\u001b[0m\u001b[0m\n\u001b[1;32m     82\u001b[0m     \u001b[0;32mdef\u001b[0m \u001b[0mtune\u001b[0m\u001b[0;34m(\u001b[0m\u001b[0mself\u001b[0m\u001b[0;34m,\u001b[0m \u001b[0msteps\u001b[0m\u001b[0;34m:\u001b[0m \u001b[0mint\u001b[0m \u001b[0;34m=\u001b[0m \u001b[0;32mNone\u001b[0m\u001b[0;34m,\u001b[0m \u001b[0mepisodes\u001b[0m\u001b[0;34m:\u001b[0m \u001b[0mint\u001b[0m \u001b[0;34m=\u001b[0m \u001b[0;32mNone\u001b[0m\u001b[0;34m,\u001b[0m \u001b[0mcallback\u001b[0m\u001b[0;34m:\u001b[0m \u001b[0mCallable\u001b[0m\u001b[0;34m[\u001b[0m\u001b[0;34m[\u001b[0m\u001b[0mpd\u001b[0m\u001b[0;34m.\u001b[0m\u001b[0mDataFrame\u001b[0m\u001b[0;34m]\u001b[0m\u001b[0;34m,\u001b[0m \u001b[0mbool\u001b[0m\u001b[0;34m]\u001b[0m \u001b[0;34m=\u001b[0m \u001b[0;32mNone\u001b[0m\u001b[0;34m)\u001b[0m \u001b[0;34m->\u001b[0m \u001b[0mpd\u001b[0m\u001b[0;34m.\u001b[0m\u001b[0mDataFrame\u001b[0m\u001b[0;34m:\u001b[0m\u001b[0;34m\u001b[0m\u001b[0;34m\u001b[0m\u001b[0m\n\u001b[0;32m---> 83\u001b[0;31m         \u001b[0;32mraise\u001b[0m \u001b[0mNotImplementedError\u001b[0m\u001b[0;34m\u001b[0m\u001b[0;34m\u001b[0m\u001b[0m\n\u001b[0m\u001b[1;32m     84\u001b[0m \u001b[0;34m\u001b[0m\u001b[0m\n\u001b[1;32m     85\u001b[0m     \u001b[0;32mdef\u001b[0m \u001b[0mrun\u001b[0m\u001b[0;34m(\u001b[0m\u001b[0mself\u001b[0m\u001b[0;34m,\u001b[0m \u001b[0msteps\u001b[0m\u001b[0;34m:\u001b[0m \u001b[0mint\u001b[0m \u001b[0;34m=\u001b[0m \u001b[0;32mNone\u001b[0m\u001b[0;34m,\u001b[0m \u001b[0mepisodes\u001b[0m\u001b[0;34m:\u001b[0m \u001b[0mint\u001b[0m \u001b[0;34m=\u001b[0m \u001b[0;32mNone\u001b[0m\u001b[0;34m,\u001b[0m \u001b[0mepisode_callback\u001b[0m\u001b[0;34m:\u001b[0m \u001b[0mCallable\u001b[0m\u001b[0;34m[\u001b[0m\u001b[0;34m[\u001b[0m\u001b[0mpd\u001b[0m\u001b[0;34m.\u001b[0m\u001b[0mDataFrame\u001b[0m\u001b[0;34m]\u001b[0m\u001b[0;34m,\u001b[0m \u001b[0mbool\u001b[0m\u001b[0;34m]\u001b[0m \u001b[0;34m=\u001b[0m \u001b[0;32mNone\u001b[0m\u001b[0;34m)\u001b[0m \u001b[0;34m->\u001b[0m \u001b[0mpd\u001b[0m\u001b[0;34m.\u001b[0m\u001b[0mDataFrame\u001b[0m\u001b[0;34m:\u001b[0m\u001b[0;34m\u001b[0m\u001b[0;34m\u001b[0m\u001b[0m\n",
            "\u001b[0;31mNotImplementedError\u001b[0m: "
          ]
        }
      ]
    },
    {
      "cell_type": "markdown",
      "metadata": {
        "id": "lvBJImN1wsG0",
        "colab_type": "text"
      },
      "source": [
        "In this case, the agent will be trained for 10 episodes, with a different set of hyper-parameters each episode. The best set will be saved within the strategy, and used any time strategy.run() is called thereafter.\n",
        "\n",
        "## Strategy Evaluation\n",
        "\n",
        "Now that we've tuned and trained our agent, it's time to see how well it performs. To evaluate our strategy's performance on unseen data, we will need to run it on a new environment backed by such data."
      ]
    },
    {
      "cell_type": "code",
      "metadata": {
        "id": "wHJxmivowsG5",
        "colab_type": "code",
        "outputId": "0b311338-62d1-4c9d-c63b-a5870f0b985b",
        "colab": {
          "base_uri": "https://localhost:8080/",
          "height": 292
        }
      },
      "source": [
        "import pandas as pd\n",
        "from tensortrade.environments import TradingEnvironment\n",
        "from tensortrade.exchanges.simulated import SimulatedExchange\n",
        "\n",
        "df = pd.read_csv('/content/tensortrade/examples/data/Coinbase_BTCUSD_d.csv', skiprows=1)\n",
        "exchange = SimulatedExchange(data_frame=df,\n",
        "                             feature_pipeline=feature_pipeline,\n",
        "                             base_instrument='USD',\n",
        "                             should_pretransform_obs=True)\n",
        "\n",
        "environment = TradingEnvironment(exchange=exchange,\n",
        "                                 action_strategy=action_strategy,\n",
        "                                 reward_strategy=reward_strategy)\n",
        "\n",
        "new_strategy.environment = environment\n",
        "\n",
        "test_performance = new_strategy.run(steps=2000)"
      ],
      "execution_count": 29,
      "outputs": [
        {
          "output_type": "stream",
          "text": [
            "/content/tensortrade/tensortrade/features/scalers/min_max_normalizer.py:75: SettingWithCopyWarning: \n",
            "A value is trying to be set on a copy of a slice from a DataFrame.\n",
            "Try using .loc[row_indexer,col_indexer] = value instead\n",
            "\n",
            "See the caveats in the documentation: http://pandas.pydata.org/pandas-docs/stable/user_guide/indexing.html#returning-a-view-versus-a-copy\n",
            "  X[column] = normalized_column\n",
            "/content/tensortrade/tensortrade/features/stationarity/fractional_difference.py:127: SettingWithCopyWarning: \n",
            "A value is trying to be set on a copy of a slice from a DataFrame.\n",
            "Try using .loc[row_indexer,col_indexer] = value instead\n",
            "\n",
            "See the caveats in the documentation: http://pandas.pydata.org/pandas-docs/stable/user_guide/indexing.html#returning-a-view-versus-a-copy\n",
            "  X[column] = diffed_series.fillna(method='bfill')\n"
          ],
          "name": "stderr"
        },
        {
          "output_type": "stream",
          "text": [
            "Finished running strategy.\n",
            "Total episodes: 1 (2000 timesteps).\n",
            "Average reward: -0.4893612746923733.\n"
          ],
          "name": "stdout"
        }
      ]
    },
    {
      "cell_type": "code",
      "metadata": {
        "id": "9_NCqq5SSyBG",
        "colab_type": "code",
        "outputId": "3c13513d-9110-4886-d40b-03d47a27e008",
        "colab": {
          "base_uri": "https://localhost:8080/",
          "height": 204
        }
      },
      "source": [
        "df.head()"
      ],
      "execution_count": 30,
      "outputs": [
        {
          "output_type": "execute_result",
          "data": {
            "text/html": [
              "<div>\n",
              "<style scoped>\n",
              "    .dataframe tbody tr th:only-of-type {\n",
              "        vertical-align: middle;\n",
              "    }\n",
              "\n",
              "    .dataframe tbody tr th {\n",
              "        vertical-align: top;\n",
              "    }\n",
              "\n",
              "    .dataframe thead th {\n",
              "        text-align: right;\n",
              "    }\n",
              "</style>\n",
              "<table border=\"1\" class=\"dataframe\">\n",
              "  <thead>\n",
              "    <tr style=\"text-align: right;\">\n",
              "      <th></th>\n",
              "      <th>date</th>\n",
              "      <th>symbol</th>\n",
              "      <th>open</th>\n",
              "      <th>high</th>\n",
              "      <th>low</th>\n",
              "      <th>close</th>\n",
              "      <th>volume_btc</th>\n",
              "      <th>volume</th>\n",
              "    </tr>\n",
              "  </thead>\n",
              "  <tbody>\n",
              "    <tr>\n",
              "      <th>0</th>\n",
              "      <td>2019-10-17</td>\n",
              "      <td>BTCUSD</td>\n",
              "      <td>7993.54</td>\n",
              "      <td>8070.00</td>\n",
              "      <td>7937.01</td>\n",
              "      <td>8034.32</td>\n",
              "      <td>1570.08</td>\n",
              "      <td>12537245.82</td>\n",
              "    </tr>\n",
              "    <tr>\n",
              "      <th>1</th>\n",
              "      <td>2019-10-16</td>\n",
              "      <td>BTCUSD</td>\n",
              "      <td>8162.44</td>\n",
              "      <td>8171.59</td>\n",
              "      <td>7908.86</td>\n",
              "      <td>7993.54</td>\n",
              "      <td>8123.72</td>\n",
              "      <td>65132771.81</td>\n",
              "    </tr>\n",
              "    <tr>\n",
              "      <th>2</th>\n",
              "      <td>2019-10-15</td>\n",
              "      <td>BTCUSD</td>\n",
              "      <td>8355.00</td>\n",
              "      <td>8420.00</td>\n",
              "      <td>8085.65</td>\n",
              "      <td>8162.44</td>\n",
              "      <td>7919.56</td>\n",
              "      <td>65109952.98</td>\n",
              "    </tr>\n",
              "    <tr>\n",
              "      <th>3</th>\n",
              "      <td>2019-10-14</td>\n",
              "      <td>BTCUSD</td>\n",
              "      <td>8282.97</td>\n",
              "      <td>8409.00</td>\n",
              "      <td>8215.66</td>\n",
              "      <td>8355.00</td>\n",
              "      <td>4401.82</td>\n",
              "      <td>36575829.05</td>\n",
              "    </tr>\n",
              "    <tr>\n",
              "      <th>4</th>\n",
              "      <td>2019-10-13</td>\n",
              "      <td>BTCUSD</td>\n",
              "      <td>8309.03</td>\n",
              "      <td>8469.02</td>\n",
              "      <td>8146.47</td>\n",
              "      <td>8282.97</td>\n",
              "      <td>5459.53</td>\n",
              "      <td>45492326.33</td>\n",
              "    </tr>\n",
              "  </tbody>\n",
              "</table>\n",
              "</div>"
            ],
            "text/plain": [
              "         date  symbol     open  ...    close  volume_btc       volume\n",
              "0  2019-10-17  BTCUSD  7993.54  ...  8034.32     1570.08  12537245.82\n",
              "1  2019-10-16  BTCUSD  8162.44  ...  7993.54     8123.72  65132771.81\n",
              "2  2019-10-15  BTCUSD  8355.00  ...  8162.44     7919.56  65109952.98\n",
              "3  2019-10-14  BTCUSD  8282.97  ...  8355.00     4401.82  36575829.05\n",
              "4  2019-10-13  BTCUSD  8309.03  ...  8282.97     5459.53  45492326.33\n",
              "\n",
              "[5 rows x 8 columns]"
            ]
          },
          "metadata": {
            "tags": []
          },
          "execution_count": 30
        }
      ]
    },
    {
      "cell_type": "code",
      "metadata": {
        "id": "w0X7OhFpwsHA",
        "colab_type": "code",
        "outputId": "74b89dc2-5687-4b48-8986-4a579f5881dd",
        "colab": {
          "base_uri": "https://localhost:8080/",
          "height": 286
        }
      },
      "source": [
        "%matplotlib inline\n",
        "\n",
        "test_performance.net_worth.plot()"
      ],
      "execution_count": 31,
      "outputs": [
        {
          "output_type": "execute_result",
          "data": {
            "text/plain": [
              "<matplotlib.axes._subplots.AxesSubplot at 0x7efc0e41f400>"
            ]
          },
          "metadata": {
            "tags": []
          },
          "execution_count": 31
        },
        {
          "output_type": "display_data",
          "data": {
            "image/png": "[encoded data removed]",
            "text/plain": [
              "<Figure size 432x288 with 1 Axes>"
            ]
          },
          "metadata": {
            "tags": []
          }
        }
      ]
    },
    {
      "cell_type": "markdown",
      "metadata": {
        "id": "yIivIOxCwsHK",
        "colab_type": "text"
      },
      "source": [
        "When complete, strategy.run returns a `Pandas.data_frame` of the agent's performance, including the net worth and balance of the agent at each time step.\n",
        "\n",
        "## Live Trading\n",
        "\n",
        "Once you've built a profitable trading strategy, trained an agent to trade it properly, and ensured its \"generalize-ability\" to new data sets, all there is left to do is profit. Using a live exchange such as `CCXTExchange`, you can plug your strategy in and let it run!\n",
        "\n",
        "While the gambler in you may enjoy starting a strategy and letting it run without bounds, the more risk averse of you can use a `trade_callback`, which will be called each time the strategy makes a trade. This callback function, similar to the episode callback, will pass in a data frame containing the agent's overall performance, and expects a `bool` in return. If `True`, the agent will continue trading, otherwise, the agent will stop and return its performance over the session."
      ]
    },
    {
      "cell_type": "code",
      "metadata": {
        "id": "bdf8H0tuwsHO",
        "colab_type": "code",
        "outputId": "566d72d8-8767-40a3-bf4b-814cce16261d",
        "colab": {
          "base_uri": "https://localhost:8080/",
          "height": 445
        }
      },
      "source": [
        "import ccxt\n",
        "from tensortrade.environments import TradingEnvironment\n",
        "from tensortrade.exchanges.live import CCXTExchange\n",
        "\n",
        "binance = ccxt.binance({\n",
        "    'apiKey': 'HfPX38sJ2aKewYDUJx6TaWrDhuT7rq426elO5Gbc55Dvg4klASEfm0aqcdl4Mpz6',\n",
        "    'secret': 'aGdMMaaol3GkyzDcrSEoc4aFlWG78qCxnGl3o22ub24u2scrZRcsIe2qn0kI82GQ',\n",
        "    'enableRateLimit': True,\n",
        "})\n",
        "\n",
        "exchange = CCXTExchange(exchange=binance,\n",
        "                        base_instrument='BNB',\n",
        "                        observation_type='ohlcv',\n",
        "                        timeframe='1h')\n",
        "\n",
        "btcusd_actions = DiscreteActionStrategy(n_actions=20, instrument_symbol='BNB/BTC')\n",
        "\n",
        "environment = TradingEnvironment(exchange=exchange,\n",
        "                                 feature_pipeline=feature_pipeline,\n",
        "                                 action_strategy=btcusd_actions,\n",
        "                                 reward_strategy=reward_strategy)\n",
        "\n",
        "strategy.environment = environment\n",
        "\n",
        "live_performance = strategy.run(steps=1)"
      ],
      "execution_count": 28,
      "outputs": [
        {
          "output_type": "error",
          "ename": "InvalidOrder",
          "evalue": "ignored",
          "traceback": [
            "\u001b[0;31m---------------------------------------------------------------------------\u001b[0m",
            "\u001b[0;31mHTTPError\u001b[0m                                 Traceback (most recent call last)",
            "\u001b[0;32m/usr/local/lib/python3.6/dist-packages/ccxt/base/exchange.py\u001b[0m in \u001b[0;36mfetch\u001b[0;34m(self, url, method, headers, body)\u001b[0m\n\u001b[1;32m    539\u001b[0m             \u001b[0mself\u001b[0m\u001b[0;34m.\u001b[0m\u001b[0mlogger\u001b[0m\u001b[0;34m.\u001b[0m\u001b[0mdebug\u001b[0m\u001b[0;34m(\u001b[0m\u001b[0;34m\"%s %s, Response: %s %s %s\"\u001b[0m\u001b[0;34m,\u001b[0m \u001b[0mmethod\u001b[0m\u001b[0;34m,\u001b[0m \u001b[0murl\u001b[0m\u001b[0;34m,\u001b[0m \u001b[0mhttp_status_code\u001b[0m\u001b[0;34m,\u001b[0m \u001b[0mheaders\u001b[0m\u001b[0;34m,\u001b[0m \u001b[0mhttp_response\u001b[0m\u001b[0;34m)\u001b[0m\u001b[0;34m\u001b[0m\u001b[0;34m\u001b[0m\u001b[0m\n\u001b[0;32m--> 540\u001b[0;31m             \u001b[0mresponse\u001b[0m\u001b[0;34m.\u001b[0m\u001b[0mraise_for_status\u001b[0m\u001b[0;34m(\u001b[0m\u001b[0;34m)\u001b[0m\u001b[0;34m\u001b[0m\u001b[0;34m\u001b[0m\u001b[0m\n\u001b[0m\u001b[1;32m    541\u001b[0m \u001b[0;34m\u001b[0m\u001b[0m\n",
            "\u001b[0;32m/usr/local/lib/python3.6/dist-packages/requests/models.py\u001b[0m in \u001b[0;36mraise_for_status\u001b[0;34m(self)\u001b[0m\n\u001b[1;32m    939\u001b[0m         \u001b[0;32mif\u001b[0m \u001b[0mhttp_error_msg\u001b[0m\u001b[0;34m:\u001b[0m\u001b[0;34m\u001b[0m\u001b[0;34m\u001b[0m\u001b[0m\n\u001b[0;32m--> 940\u001b[0;31m             \u001b[0;32mraise\u001b[0m \u001b[0mHTTPError\u001b[0m\u001b[0;34m(\u001b[0m\u001b[0mhttp_error_msg\u001b[0m\u001b[0;34m,\u001b[0m \u001b[0mresponse\u001b[0m\u001b[0;34m=\u001b[0m\u001b[0mself\u001b[0m\u001b[0;34m)\u001b[0m\u001b[0;34m\u001b[0m\u001b[0;34m\u001b[0m\u001b[0m\n\u001b[0m\u001b[1;32m    941\u001b[0m \u001b[0;34m\u001b[0m\u001b[0m\n",
            "\u001b[0;31mHTTPError\u001b[0m: 400 Client Error: Bad Request for url: https://api.binance.com/api/v3/order",
            "\nDuring handling of the above exception, another exception occurred:\n",
            "\u001b[0;31mInvalidOrder\u001b[0m                              Traceback (most recent call last)",
            "\u001b[0;32m<ipython-input-28-3d904bc48c58>\u001b[0m in \u001b[0;36m<module>\u001b[0;34m()\u001b[0m\n\u001b[1;32m     23\u001b[0m \u001b[0mstrategy\u001b[0m\u001b[0;34m.\u001b[0m\u001b[0menvironment\u001b[0m \u001b[0;34m=\u001b[0m \u001b[0menvironment\u001b[0m\u001b[0;34m\u001b[0m\u001b[0;34m\u001b[0m\u001b[0m\n\u001b[1;32m     24\u001b[0m \u001b[0;34m\u001b[0m\u001b[0m\n\u001b[0;32m---> 25\u001b[0;31m \u001b[0mlive_performance\u001b[0m \u001b[0;34m=\u001b[0m \u001b[0mstrategy\u001b[0m\u001b[0;34m.\u001b[0m\u001b[0mrun\u001b[0m\u001b[0;34m(\u001b[0m\u001b[0msteps\u001b[0m\u001b[0;34m=\u001b[0m\u001b[0;36m1\u001b[0m\u001b[0;34m)\u001b[0m\u001b[0;34m\u001b[0m\u001b[0;34m\u001b[0m\u001b[0m\n\u001b[0m",
            "\u001b[0;32m/content/tensortrade/tensortrade/strategies/stable_baselines_strategy.py\u001b[0m in \u001b[0;36mrun\u001b[0;34m(self, steps, episodes, episode_callback)\u001b[0m\n\u001b[1;32m     98\u001b[0m         \u001b[0;32mwhile\u001b[0m \u001b[0;34m(\u001b[0m\u001b[0msteps\u001b[0m \u001b[0;32mis\u001b[0m \u001b[0;32mnot\u001b[0m \u001b[0;32mNone\u001b[0m \u001b[0;32mand\u001b[0m \u001b[0;34m(\u001b[0m\u001b[0msteps\u001b[0m \u001b[0;34m==\u001b[0m \u001b[0;36m0\u001b[0m \u001b[0;32mor\u001b[0m \u001b[0msteps_completed\u001b[0m \u001b[0;34m<\u001b[0m \u001b[0msteps\u001b[0m\u001b[0;34m)\u001b[0m\u001b[0;34m)\u001b[0m \u001b[0;32mor\u001b[0m \u001b[0;34m(\u001b[0m\u001b[0mepisodes\u001b[0m \u001b[0;32mis\u001b[0m \u001b[0;32mnot\u001b[0m \u001b[0;32mNone\u001b[0m \u001b[0;32mand\u001b[0m \u001b[0mepisodes_completed\u001b[0m \u001b[0;34m<\u001b[0m \u001b[0mepisodes\u001b[0m\u001b[0;34m)\u001b[0m\u001b[0;34m:\u001b[0m\u001b[0;34m\u001b[0m\u001b[0;34m\u001b[0m\u001b[0m\n\u001b[1;32m     99\u001b[0m             \u001b[0mactions\u001b[0m\u001b[0;34m,\u001b[0m \u001b[0mstate\u001b[0m \u001b[0;34m=\u001b[0m \u001b[0mself\u001b[0m\u001b[0;34m.\u001b[0m\u001b[0m_agent\u001b[0m\u001b[0;34m.\u001b[0m\u001b[0mpredict\u001b[0m\u001b[0;34m(\u001b[0m\u001b[0mobs\u001b[0m\u001b[0;34m,\u001b[0m \u001b[0mstate\u001b[0m\u001b[0;34m=\u001b[0m\u001b[0mstate\u001b[0m\u001b[0;34m,\u001b[0m \u001b[0mmask\u001b[0m\u001b[0;34m=\u001b[0m\u001b[0mdones\u001b[0m\u001b[0;34m)\u001b[0m\u001b[0;34m\u001b[0m\u001b[0;34m\u001b[0m\u001b[0m\n\u001b[0;32m--> 100\u001b[0;31m             \u001b[0mobs\u001b[0m\u001b[0;34m,\u001b[0m \u001b[0mrewards\u001b[0m\u001b[0;34m,\u001b[0m \u001b[0mdones\u001b[0m\u001b[0;34m,\u001b[0m \u001b[0minfo\u001b[0m \u001b[0;34m=\u001b[0m \u001b[0mself\u001b[0m\u001b[0;34m.\u001b[0m\u001b[0m_environment\u001b[0m\u001b[0;34m.\u001b[0m\u001b[0mstep\u001b[0m\u001b[0;34m(\u001b[0m\u001b[0mactions\u001b[0m\u001b[0;34m)\u001b[0m\u001b[0;34m\u001b[0m\u001b[0;34m\u001b[0m\u001b[0m\n\u001b[0m\u001b[1;32m    101\u001b[0m \u001b[0;34m\u001b[0m\u001b[0m\n\u001b[1;32m    102\u001b[0m             \u001b[0msteps_completed\u001b[0m \u001b[0;34m+=\u001b[0m \u001b[0;36m1\u001b[0m\u001b[0;34m\u001b[0m\u001b[0;34m\u001b[0m\u001b[0m\n",
            "\u001b[0;32m/usr/local/lib/python3.6/dist-packages/stable_baselines/common/vec_env/base_vec_env.py\u001b[0m in \u001b[0;36mstep\u001b[0;34m(self, actions)\u001b[0m\n\u001b[1;32m    132\u001b[0m         \"\"\"\n\u001b[1;32m    133\u001b[0m         \u001b[0mself\u001b[0m\u001b[0;34m.\u001b[0m\u001b[0mstep_async\u001b[0m\u001b[0;34m(\u001b[0m\u001b[0mactions\u001b[0m\u001b[0;34m)\u001b[0m\u001b[0;34m\u001b[0m\u001b[0;34m\u001b[0m\u001b[0m\n\u001b[0;32m--> 134\u001b[0;31m         \u001b[0;32mreturn\u001b[0m \u001b[0mself\u001b[0m\u001b[0;34m.\u001b[0m\u001b[0mstep_wait\u001b[0m\u001b[0;34m(\u001b[0m\u001b[0;34m)\u001b[0m\u001b[0;34m\u001b[0m\u001b[0;34m\u001b[0m\u001b[0m\n\u001b[0m\u001b[1;32m    135\u001b[0m \u001b[0;34m\u001b[0m\u001b[0m\n\u001b[1;32m    136\u001b[0m     \u001b[0;32mdef\u001b[0m \u001b[0mget_images\u001b[0m\u001b[0;34m(\u001b[0m\u001b[0mself\u001b[0m\u001b[0;34m)\u001b[0m\u001b[0;34m:\u001b[0m\u001b[0;34m\u001b[0m\u001b[0;34m\u001b[0m\u001b[0m\n",
            "\u001b[0;32m/usr/local/lib/python3.6/dist-packages/stable_baselines/common/vec_env/dummy_vec_env.py\u001b[0m in \u001b[0;36mstep_wait\u001b[0;34m(self)\u001b[0m\n\u001b[1;32m     38\u001b[0m         \u001b[0;32mfor\u001b[0m \u001b[0menv_idx\u001b[0m \u001b[0;32min\u001b[0m \u001b[0mrange\u001b[0m\u001b[0;34m(\u001b[0m\u001b[0mself\u001b[0m\u001b[0;34m.\u001b[0m\u001b[0mnum_envs\u001b[0m\u001b[0;34m)\u001b[0m\u001b[0;34m:\u001b[0m\u001b[0;34m\u001b[0m\u001b[0;34m\u001b[0m\u001b[0m\n\u001b[1;32m     39\u001b[0m             \u001b[0mobs\u001b[0m\u001b[0;34m,\u001b[0m \u001b[0mself\u001b[0m\u001b[0;34m.\u001b[0m\u001b[0mbuf_rews\u001b[0m\u001b[0;34m[\u001b[0m\u001b[0menv_idx\u001b[0m\u001b[0;34m]\u001b[0m\u001b[0;34m,\u001b[0m \u001b[0mself\u001b[0m\u001b[0;34m.\u001b[0m\u001b[0mbuf_dones\u001b[0m\u001b[0;34m[\u001b[0m\u001b[0menv_idx\u001b[0m\u001b[0;34m]\u001b[0m\u001b[0;34m,\u001b[0m \u001b[0mself\u001b[0m\u001b[0;34m.\u001b[0m\u001b[0mbuf_infos\u001b[0m\u001b[0;34m[\u001b[0m\u001b[0menv_idx\u001b[0m\u001b[0;34m]\u001b[0m \u001b[0;34m=\u001b[0m\u001b[0;31m\\\u001b[0m\u001b[0;34m\u001b[0m\u001b[0;34m\u001b[0m\u001b[0m\n\u001b[0;32m---> 40\u001b[0;31m                 \u001b[0mself\u001b[0m\u001b[0;34m.\u001b[0m\u001b[0menvs\u001b[0m\u001b[0;34m[\u001b[0m\u001b[0menv_idx\u001b[0m\u001b[0;34m]\u001b[0m\u001b[0;34m.\u001b[0m\u001b[0mstep\u001b[0m\u001b[0;34m(\u001b[0m\u001b[0mself\u001b[0m\u001b[0;34m.\u001b[0m\u001b[0mactions\u001b[0m\u001b[0;34m[\u001b[0m\u001b[0menv_idx\u001b[0m\u001b[0;34m]\u001b[0m\u001b[0;34m)\u001b[0m\u001b[0;34m\u001b[0m\u001b[0;34m\u001b[0m\u001b[0m\n\u001b[0m\u001b[1;32m     41\u001b[0m             \u001b[0;32mif\u001b[0m \u001b[0mself\u001b[0m\u001b[0;34m.\u001b[0m\u001b[0mbuf_dones\u001b[0m\u001b[0;34m[\u001b[0m\u001b[0menv_idx\u001b[0m\u001b[0;34m]\u001b[0m\u001b[0;34m:\u001b[0m\u001b[0;34m\u001b[0m\u001b[0;34m\u001b[0m\u001b[0m\n\u001b[1;32m     42\u001b[0m                 \u001b[0;31m# save final observation where user can get it, then reset\u001b[0m\u001b[0;34m\u001b[0m\u001b[0;34m\u001b[0m\u001b[0;34m\u001b[0m\u001b[0m\n",
            "\u001b[0;32m/content/tensortrade/tensortrade/environments/trading_environment.py\u001b[0m in \u001b[0;36mstep\u001b[0;34m(self, action)\u001b[0m\n\u001b[1;32m    187\u001b[0m             \u001b[0minfo\u001b[0m \u001b[0;34m(\u001b[0m\u001b[0mdict\u001b[0m\u001b[0;34m)\u001b[0m\u001b[0;34m:\u001b[0m \u001b[0mAny\u001b[0m \u001b[0mauxiliary\u001b[0m\u001b[0;34m,\u001b[0m \u001b[0mdiagnostic\u001b[0m\u001b[0;34m,\u001b[0m \u001b[0;32mor\u001b[0m \u001b[0mdebugging\u001b[0m \u001b[0minformation\u001b[0m \u001b[0mto\u001b[0m \u001b[0moutput\u001b[0m\u001b[0;34m.\u001b[0m\u001b[0;34m\u001b[0m\u001b[0;34m\u001b[0m\u001b[0m\n\u001b[1;32m    188\u001b[0m         \"\"\"\n\u001b[0;32m--> 189\u001b[0;31m         \u001b[0mexecuted_trade\u001b[0m\u001b[0;34m,\u001b[0m \u001b[0mfilled_trade\u001b[0m \u001b[0;34m=\u001b[0m \u001b[0mself\u001b[0m\u001b[0;34m.\u001b[0m\u001b[0m_take_action\u001b[0m\u001b[0;34m(\u001b[0m\u001b[0maction\u001b[0m\u001b[0;34m)\u001b[0m\u001b[0;34m\u001b[0m\u001b[0;34m\u001b[0m\u001b[0m\n\u001b[0m\u001b[1;32m    190\u001b[0m \u001b[0;34m\u001b[0m\u001b[0m\n\u001b[1;32m    191\u001b[0m         \u001b[0mobservation\u001b[0m \u001b[0;34m=\u001b[0m \u001b[0mself\u001b[0m\u001b[0;34m.\u001b[0m\u001b[0m_next_observation\u001b[0m\u001b[0;34m(\u001b[0m\u001b[0mfilled_trade\u001b[0m\u001b[0;34m)\u001b[0m\u001b[0;34m\u001b[0m\u001b[0;34m\u001b[0m\u001b[0m\n",
            "\u001b[0;32m/content/tensortrade/tensortrade/environments/trading_environment.py\u001b[0m in \u001b[0;36m_take_action\u001b[0;34m(self, action)\u001b[0m\n\u001b[1;32m    122\u001b[0m         \u001b[0mexecuted_trade\u001b[0m \u001b[0;34m=\u001b[0m \u001b[0mself\u001b[0m\u001b[0;34m.\u001b[0m\u001b[0m_action_strategy\u001b[0m\u001b[0;34m.\u001b[0m\u001b[0mget_trade\u001b[0m\u001b[0;34m(\u001b[0m\u001b[0maction\u001b[0m\u001b[0;34m=\u001b[0m\u001b[0maction\u001b[0m\u001b[0;34m)\u001b[0m\u001b[0;34m\u001b[0m\u001b[0;34m\u001b[0m\u001b[0m\n\u001b[1;32m    123\u001b[0m \u001b[0;34m\u001b[0m\u001b[0m\n\u001b[0;32m--> 124\u001b[0;31m         \u001b[0mfilled_trade\u001b[0m \u001b[0;34m=\u001b[0m \u001b[0mself\u001b[0m\u001b[0;34m.\u001b[0m\u001b[0m_exchange\u001b[0m\u001b[0;34m.\u001b[0m\u001b[0mexecute_trade\u001b[0m\u001b[0;34m(\u001b[0m\u001b[0mexecuted_trade\u001b[0m\u001b[0;34m)\u001b[0m\u001b[0;34m\u001b[0m\u001b[0;34m\u001b[0m\u001b[0m\n\u001b[0m\u001b[1;32m    125\u001b[0m \u001b[0;34m\u001b[0m\u001b[0m\n\u001b[1;32m    126\u001b[0m         \u001b[0;32mreturn\u001b[0m \u001b[0mexecuted_trade\u001b[0m\u001b[0;34m,\u001b[0m \u001b[0mfilled_trade\u001b[0m\u001b[0;34m\u001b[0m\u001b[0;34m\u001b[0m\u001b[0m\n",
            "\u001b[0;32m/content/tensortrade/tensortrade/exchanges/live/ccxt_exchange.py\u001b[0m in \u001b[0;36mexecute_trade\u001b[0;34m(self, trade)\u001b[0m\n\u001b[1;32m    159\u001b[0m             \u001b[0morder\u001b[0m \u001b[0;34m=\u001b[0m \u001b[0mself\u001b[0m\u001b[0;34m.\u001b[0m\u001b[0m_exchange\u001b[0m\u001b[0;34m.\u001b[0m\u001b[0mcreate_limit_buy_order\u001b[0m\u001b[0;34m(\u001b[0m\u001b[0mtrade\u001b[0m\u001b[0;34m.\u001b[0m\u001b[0msymbol\u001b[0m\u001b[0;34m,\u001b[0m \u001b[0mtrade\u001b[0m\u001b[0;34m.\u001b[0m\u001b[0mamount\u001b[0m\u001b[0;34m,\u001b[0m \u001b[0mtrade\u001b[0m\u001b[0;34m.\u001b[0m\u001b[0mprice\u001b[0m\u001b[0;34m)\u001b[0m\u001b[0;34m\u001b[0m\u001b[0;34m\u001b[0m\u001b[0m\n\u001b[1;32m    160\u001b[0m         \u001b[0;32melif\u001b[0m \u001b[0mtrade\u001b[0m\u001b[0;34m.\u001b[0m\u001b[0mtrade_type\u001b[0m \u001b[0;34m==\u001b[0m \u001b[0mTradeType\u001b[0m\u001b[0;34m.\u001b[0m\u001b[0mMARKET_BUY\u001b[0m\u001b[0;34m:\u001b[0m\u001b[0;34m\u001b[0m\u001b[0;34m\u001b[0m\u001b[0m\n\u001b[0;32m--> 161\u001b[0;31m             \u001b[0morder\u001b[0m \u001b[0;34m=\u001b[0m \u001b[0mself\u001b[0m\u001b[0;34m.\u001b[0m\u001b[0m_exchange\u001b[0m\u001b[0;34m.\u001b[0m\u001b[0mcreate_market_buy_order\u001b[0m\u001b[0;34m(\u001b[0m\u001b[0mtrade\u001b[0m\u001b[0;34m.\u001b[0m\u001b[0msymbol\u001b[0m\u001b[0;34m,\u001b[0m \u001b[0mtrade\u001b[0m\u001b[0;34m.\u001b[0m\u001b[0mamount\u001b[0m\u001b[0;34m)\u001b[0m\u001b[0;34m\u001b[0m\u001b[0;34m\u001b[0m\u001b[0m\n\u001b[0m\u001b[1;32m    162\u001b[0m         \u001b[0;32melif\u001b[0m \u001b[0mtrade\u001b[0m\u001b[0;34m.\u001b[0m\u001b[0mtrade_type\u001b[0m \u001b[0;34m==\u001b[0m \u001b[0mTradeType\u001b[0m\u001b[0;34m.\u001b[0m\u001b[0mLIMIT_SELL\u001b[0m\u001b[0;34m:\u001b[0m\u001b[0;34m\u001b[0m\u001b[0;34m\u001b[0m\u001b[0m\n\u001b[1;32m    163\u001b[0m             \u001b[0morder\u001b[0m \u001b[0;34m=\u001b[0m \u001b[0mself\u001b[0m\u001b[0;34m.\u001b[0m\u001b[0m_exchange\u001b[0m\u001b[0;34m.\u001b[0m\u001b[0mcreate_limit_sell_order\u001b[0m\u001b[0;34m(\u001b[0m\u001b[0mtrade\u001b[0m\u001b[0;34m.\u001b[0m\u001b[0msymbol\u001b[0m\u001b[0;34m,\u001b[0m \u001b[0mtrade\u001b[0m\u001b[0;34m.\u001b[0m\u001b[0mamount\u001b[0m\u001b[0;34m,\u001b[0m \u001b[0mtrade\u001b[0m\u001b[0;34m.\u001b[0m\u001b[0mprice\u001b[0m\u001b[0;34m)\u001b[0m\u001b[0;34m\u001b[0m\u001b[0;34m\u001b[0m\u001b[0m\n",
            "\u001b[0;32m/usr/local/lib/python3.6/dist-packages/ccxt/base/exchange.py\u001b[0m in \u001b[0;36mcreate_market_buy_order\u001b[0;34m(self, symbol, amount, params)\u001b[0m\n\u001b[1;32m   1723\u001b[0m \u001b[0;34m\u001b[0m\u001b[0m\n\u001b[1;32m   1724\u001b[0m     \u001b[0;32mdef\u001b[0m \u001b[0mcreate_market_buy_order\u001b[0m\u001b[0;34m(\u001b[0m\u001b[0mself\u001b[0m\u001b[0;34m,\u001b[0m \u001b[0msymbol\u001b[0m\u001b[0;34m,\u001b[0m \u001b[0mamount\u001b[0m\u001b[0;34m,\u001b[0m \u001b[0mparams\u001b[0m\u001b[0;34m=\u001b[0m\u001b[0;34m{\u001b[0m\u001b[0;34m}\u001b[0m\u001b[0;34m)\u001b[0m\u001b[0;34m:\u001b[0m\u001b[0;34m\u001b[0m\u001b[0;34m\u001b[0m\u001b[0m\n\u001b[0;32m-> 1725\u001b[0;31m         \u001b[0;32mreturn\u001b[0m \u001b[0mself\u001b[0m\u001b[0;34m.\u001b[0m\u001b[0mcreate_order\u001b[0m\u001b[0;34m(\u001b[0m\u001b[0msymbol\u001b[0m\u001b[0;34m,\u001b[0m \u001b[0;34m'market'\u001b[0m\u001b[0;34m,\u001b[0m \u001b[0;34m'buy'\u001b[0m\u001b[0;34m,\u001b[0m \u001b[0mamount\u001b[0m\u001b[0;34m,\u001b[0m \u001b[0;32mNone\u001b[0m\u001b[0;34m,\u001b[0m \u001b[0mparams\u001b[0m\u001b[0;34m)\u001b[0m\u001b[0;34m\u001b[0m\u001b[0;34m\u001b[0m\u001b[0m\n\u001b[0m\u001b[1;32m   1726\u001b[0m \u001b[0;34m\u001b[0m\u001b[0m\n\u001b[1;32m   1727\u001b[0m     \u001b[0;32mdef\u001b[0m \u001b[0mcreate_market_sell_order\u001b[0m\u001b[0;34m(\u001b[0m\u001b[0mself\u001b[0m\u001b[0;34m,\u001b[0m \u001b[0msymbol\u001b[0m\u001b[0;34m,\u001b[0m \u001b[0mamount\u001b[0m\u001b[0;34m,\u001b[0m \u001b[0mparams\u001b[0m\u001b[0;34m=\u001b[0m\u001b[0;34m{\u001b[0m\u001b[0;34m}\u001b[0m\u001b[0;34m)\u001b[0m\u001b[0;34m:\u001b[0m\u001b[0;34m\u001b[0m\u001b[0;34m\u001b[0m\u001b[0m\n",
            "\u001b[0;32m/usr/local/lib/python3.6/dist-packages/ccxt/binance.py\u001b[0m in \u001b[0;36mcreate_order\u001b[0;34m(self, symbol, type, side, amount, price, params)\u001b[0m\n\u001b[1;32m    771\u001b[0m                 \u001b[0mparams\u001b[0m \u001b[0;34m=\u001b[0m \u001b[0mself\u001b[0m\u001b[0;34m.\u001b[0m\u001b[0momit\u001b[0m\u001b[0;34m(\u001b[0m\u001b[0mparams\u001b[0m\u001b[0;34m,\u001b[0m \u001b[0;34m'stopPrice'\u001b[0m\u001b[0;34m)\u001b[0m\u001b[0;34m\u001b[0m\u001b[0;34m\u001b[0m\u001b[0m\n\u001b[1;32m    772\u001b[0m                 \u001b[0mrequest\u001b[0m\u001b[0;34m[\u001b[0m\u001b[0;34m'stopPrice'\u001b[0m\u001b[0;34m]\u001b[0m \u001b[0;34m=\u001b[0m \u001b[0mself\u001b[0m\u001b[0;34m.\u001b[0m\u001b[0mprice_to_precision\u001b[0m\u001b[0;34m(\u001b[0m\u001b[0msymbol\u001b[0m\u001b[0;34m,\u001b[0m \u001b[0mstopPrice\u001b[0m\u001b[0;34m)\u001b[0m\u001b[0;34m\u001b[0m\u001b[0;34m\u001b[0m\u001b[0m\n\u001b[0;32m--> 773\u001b[0;31m         \u001b[0mresponse\u001b[0m \u001b[0;34m=\u001b[0m \u001b[0mgetattr\u001b[0m\u001b[0;34m(\u001b[0m\u001b[0mself\u001b[0m\u001b[0;34m,\u001b[0m \u001b[0mmethod\u001b[0m\u001b[0;34m)\u001b[0m\u001b[0;34m(\u001b[0m\u001b[0mself\u001b[0m\u001b[0;34m.\u001b[0m\u001b[0mextend\u001b[0m\u001b[0;34m(\u001b[0m\u001b[0mrequest\u001b[0m\u001b[0;34m,\u001b[0m \u001b[0mparams\u001b[0m\u001b[0;34m)\u001b[0m\u001b[0;34m)\u001b[0m\u001b[0;34m\u001b[0m\u001b[0;34m\u001b[0m\u001b[0m\n\u001b[0m\u001b[1;32m    774\u001b[0m         \u001b[0;32mreturn\u001b[0m \u001b[0mself\u001b[0m\u001b[0;34m.\u001b[0m\u001b[0mparse_order\u001b[0m\u001b[0;34m(\u001b[0m\u001b[0mresponse\u001b[0m\u001b[0;34m,\u001b[0m \u001b[0mmarket\u001b[0m\u001b[0;34m)\u001b[0m\u001b[0;34m\u001b[0m\u001b[0;34m\u001b[0m\u001b[0m\n\u001b[1;32m    775\u001b[0m \u001b[0;34m\u001b[0m\u001b[0m\n",
            "\u001b[0;32m/usr/local/lib/python3.6/dist-packages/ccxt/base/exchange.py\u001b[0m in \u001b[0;36minner\u001b[0;34m(_self, params)\u001b[0m\n\u001b[1;32m    434\u001b[0m                             \u001b[0;32mif\u001b[0m \u001b[0mparams\u001b[0m \u001b[0;32mis\u001b[0m \u001b[0;32mnot\u001b[0m \u001b[0;32mNone\u001b[0m\u001b[0;34m:\u001b[0m\u001b[0;34m\u001b[0m\u001b[0;34m\u001b[0m\u001b[0m\n\u001b[1;32m    435\u001b[0m                                 \u001b[0minner_kwargs\u001b[0m\u001b[0;34m[\u001b[0m\u001b[0;34m'params'\u001b[0m\u001b[0;34m]\u001b[0m \u001b[0;34m=\u001b[0m \u001b[0mparams\u001b[0m\u001b[0;34m\u001b[0m\u001b[0;34m\u001b[0m\u001b[0m\n\u001b[0;32m--> 436\u001b[0;31m                             \u001b[0;32mreturn\u001b[0m \u001b[0mentry\u001b[0m\u001b[0;34m(\u001b[0m\u001b[0m_self\u001b[0m\u001b[0;34m,\u001b[0m \u001b[0;34m**\u001b[0m\u001b[0minner_kwargs\u001b[0m\u001b[0;34m)\u001b[0m\u001b[0;34m\u001b[0m\u001b[0;34m\u001b[0m\u001b[0m\n\u001b[0m\u001b[1;32m    437\u001b[0m                         \u001b[0;32mreturn\u001b[0m \u001b[0minner\u001b[0m\u001b[0;34m\u001b[0m\u001b[0;34m\u001b[0m\u001b[0m\n\u001b[1;32m    438\u001b[0m                     \u001b[0mto_bind\u001b[0m \u001b[0;34m=\u001b[0m \u001b[0mpartialer\u001b[0m\u001b[0;34m(\u001b[0m\u001b[0;34m)\u001b[0m\u001b[0;34m\u001b[0m\u001b[0;34m\u001b[0m\u001b[0m\n",
            "\u001b[0;32m/usr/local/lib/python3.6/dist-packages/ccxt/binance.py\u001b[0m in \u001b[0;36mrequest\u001b[0;34m(self, path, api, method, params, headers, body)\u001b[0m\n\u001b[1;32m   1288\u001b[0m \u001b[0;34m\u001b[0m\u001b[0m\n\u001b[1;32m   1289\u001b[0m     \u001b[0;32mdef\u001b[0m \u001b[0mrequest\u001b[0m\u001b[0;34m(\u001b[0m\u001b[0mself\u001b[0m\u001b[0;34m,\u001b[0m \u001b[0mpath\u001b[0m\u001b[0;34m,\u001b[0m \u001b[0mapi\u001b[0m\u001b[0;34m=\u001b[0m\u001b[0;34m'public'\u001b[0m\u001b[0;34m,\u001b[0m \u001b[0mmethod\u001b[0m\u001b[0;34m=\u001b[0m\u001b[0;34m'GET'\u001b[0m\u001b[0;34m,\u001b[0m \u001b[0mparams\u001b[0m\u001b[0;34m=\u001b[0m\u001b[0;34m{\u001b[0m\u001b[0;34m}\u001b[0m\u001b[0;34m,\u001b[0m \u001b[0mheaders\u001b[0m\u001b[0;34m=\u001b[0m\u001b[0;32mNone\u001b[0m\u001b[0;34m,\u001b[0m \u001b[0mbody\u001b[0m\u001b[0;34m=\u001b[0m\u001b[0;32mNone\u001b[0m\u001b[0;34m)\u001b[0m\u001b[0;34m:\u001b[0m\u001b[0;34m\u001b[0m\u001b[0;34m\u001b[0m\u001b[0m\n\u001b[0;32m-> 1290\u001b[0;31m         \u001b[0mresponse\u001b[0m \u001b[0;34m=\u001b[0m \u001b[0mself\u001b[0m\u001b[0;34m.\u001b[0m\u001b[0mfetch2\u001b[0m\u001b[0;34m(\u001b[0m\u001b[0mpath\u001b[0m\u001b[0;34m,\u001b[0m \u001b[0mapi\u001b[0m\u001b[0;34m,\u001b[0m \u001b[0mmethod\u001b[0m\u001b[0;34m,\u001b[0m \u001b[0mparams\u001b[0m\u001b[0;34m,\u001b[0m \u001b[0mheaders\u001b[0m\u001b[0;34m,\u001b[0m \u001b[0mbody\u001b[0m\u001b[0;34m)\u001b[0m\u001b[0;34m\u001b[0m\u001b[0;34m\u001b[0m\u001b[0m\n\u001b[0m\u001b[1;32m   1291\u001b[0m         \u001b[0;31m# a workaround for {\"code\":-2015,\"msg\":\"Invalid API-key, IP, or permissions for action.\"}\u001b[0m\u001b[0;34m\u001b[0m\u001b[0;34m\u001b[0m\u001b[0;34m\u001b[0m\u001b[0m\n\u001b[1;32m   1292\u001b[0m         \u001b[0;32mif\u001b[0m \u001b[0;34m(\u001b[0m\u001b[0mapi\u001b[0m \u001b[0;34m==\u001b[0m \u001b[0;34m'private'\u001b[0m\u001b[0;34m)\u001b[0m \u001b[0;32mor\u001b[0m \u001b[0;34m(\u001b[0m\u001b[0mapi\u001b[0m \u001b[0;34m==\u001b[0m \u001b[0;34m'wapi'\u001b[0m\u001b[0;34m)\u001b[0m\u001b[0;34m:\u001b[0m\u001b[0;34m\u001b[0m\u001b[0;34m\u001b[0m\u001b[0m\n",
            "\u001b[0;32m/usr/local/lib/python3.6/dist-packages/ccxt/base/exchange.py\u001b[0m in \u001b[0;36mfetch2\u001b[0;34m(self, path, api, method, params, headers, body)\u001b[0m\n\u001b[1;32m    453\u001b[0m         \u001b[0mself\u001b[0m\u001b[0;34m.\u001b[0m\u001b[0mlastRestRequestTimestamp\u001b[0m \u001b[0;34m=\u001b[0m \u001b[0mself\u001b[0m\u001b[0;34m.\u001b[0m\u001b[0mmilliseconds\u001b[0m\u001b[0;34m(\u001b[0m\u001b[0;34m)\u001b[0m\u001b[0;34m\u001b[0m\u001b[0;34m\u001b[0m\u001b[0m\n\u001b[1;32m    454\u001b[0m         \u001b[0mrequest\u001b[0m \u001b[0;34m=\u001b[0m \u001b[0mself\u001b[0m\u001b[0;34m.\u001b[0m\u001b[0msign\u001b[0m\u001b[0;34m(\u001b[0m\u001b[0mpath\u001b[0m\u001b[0;34m,\u001b[0m \u001b[0mapi\u001b[0m\u001b[0;34m,\u001b[0m \u001b[0mmethod\u001b[0m\u001b[0;34m,\u001b[0m \u001b[0mparams\u001b[0m\u001b[0;34m,\u001b[0m \u001b[0mheaders\u001b[0m\u001b[0;34m,\u001b[0m \u001b[0mbody\u001b[0m\u001b[0;34m)\u001b[0m\u001b[0;34m\u001b[0m\u001b[0;34m\u001b[0m\u001b[0m\n\u001b[0;32m--> 455\u001b[0;31m         \u001b[0;32mreturn\u001b[0m \u001b[0mself\u001b[0m\u001b[0;34m.\u001b[0m\u001b[0mfetch\u001b[0m\u001b[0;34m(\u001b[0m\u001b[0mrequest\u001b[0m\u001b[0;34m[\u001b[0m\u001b[0;34m'url'\u001b[0m\u001b[0;34m]\u001b[0m\u001b[0;34m,\u001b[0m \u001b[0mrequest\u001b[0m\u001b[0;34m[\u001b[0m\u001b[0;34m'method'\u001b[0m\u001b[0;34m]\u001b[0m\u001b[0;34m,\u001b[0m \u001b[0mrequest\u001b[0m\u001b[0;34m[\u001b[0m\u001b[0;34m'headers'\u001b[0m\u001b[0;34m]\u001b[0m\u001b[0;34m,\u001b[0m \u001b[0mrequest\u001b[0m\u001b[0;34m[\u001b[0m\u001b[0;34m'body'\u001b[0m\u001b[0;34m]\u001b[0m\u001b[0;34m)\u001b[0m\u001b[0;34m\u001b[0m\u001b[0;34m\u001b[0m\u001b[0m\n\u001b[0m\u001b[1;32m    456\u001b[0m \u001b[0;34m\u001b[0m\u001b[0m\n\u001b[1;32m    457\u001b[0m     \u001b[0;32mdef\u001b[0m \u001b[0mrequest\u001b[0m\u001b[0;34m(\u001b[0m\u001b[0mself\u001b[0m\u001b[0;34m,\u001b[0m \u001b[0mpath\u001b[0m\u001b[0;34m,\u001b[0m \u001b[0mapi\u001b[0m\u001b[0;34m=\u001b[0m\u001b[0;34m'public'\u001b[0m\u001b[0;34m,\u001b[0m \u001b[0mmethod\u001b[0m\u001b[0;34m=\u001b[0m\u001b[0;34m'GET'\u001b[0m\u001b[0;34m,\u001b[0m \u001b[0mparams\u001b[0m\u001b[0;34m=\u001b[0m\u001b[0;34m{\u001b[0m\u001b[0;34m}\u001b[0m\u001b[0;34m,\u001b[0m \u001b[0mheaders\u001b[0m\u001b[0;34m=\u001b[0m\u001b[0;32mNone\u001b[0m\u001b[0;34m,\u001b[0m \u001b[0mbody\u001b[0m\u001b[0;34m=\u001b[0m\u001b[0;32mNone\u001b[0m\u001b[0;34m)\u001b[0m\u001b[0;34m:\u001b[0m\u001b[0;34m\u001b[0m\u001b[0;34m\u001b[0m\u001b[0m\n",
            "\u001b[0;32m/usr/local/lib/python3.6/dist-packages/ccxt/base/exchange.py\u001b[0m in \u001b[0;36mfetch\u001b[0;34m(self, url, method, headers, body)\u001b[0m\n\u001b[1;32m    550\u001b[0m \u001b[0;34m\u001b[0m\u001b[0m\n\u001b[1;32m    551\u001b[0m         \u001b[0;32mexcept\u001b[0m \u001b[0mHTTPError\u001b[0m \u001b[0;32mas\u001b[0m \u001b[0me\u001b[0m\u001b[0;34m:\u001b[0m\u001b[0;34m\u001b[0m\u001b[0;34m\u001b[0m\u001b[0m\n\u001b[0;32m--> 552\u001b[0;31m             \u001b[0mself\u001b[0m\u001b[0;34m.\u001b[0m\u001b[0mhandle_errors\u001b[0m\u001b[0;34m(\u001b[0m\u001b[0mhttp_status_code\u001b[0m\u001b[0;34m,\u001b[0m \u001b[0mhttp_status_text\u001b[0m\u001b[0;34m,\u001b[0m \u001b[0murl\u001b[0m\u001b[0;34m,\u001b[0m \u001b[0mmethod\u001b[0m\u001b[0;34m,\u001b[0m \u001b[0mheaders\u001b[0m\u001b[0;34m,\u001b[0m \u001b[0mhttp_response\u001b[0m\u001b[0;34m,\u001b[0m \u001b[0mjson_response\u001b[0m\u001b[0;34m,\u001b[0m \u001b[0mrequest_headers\u001b[0m\u001b[0;34m,\u001b[0m \u001b[0mrequest_body\u001b[0m\u001b[0;34m)\u001b[0m\u001b[0;34m\u001b[0m\u001b[0;34m\u001b[0m\u001b[0m\n\u001b[0m\u001b[1;32m    553\u001b[0m             \u001b[0mself\u001b[0m\u001b[0;34m.\u001b[0m\u001b[0mhandle_rest_errors\u001b[0m\u001b[0;34m(\u001b[0m\u001b[0mhttp_status_code\u001b[0m\u001b[0;34m,\u001b[0m \u001b[0mhttp_status_text\u001b[0m\u001b[0;34m,\u001b[0m \u001b[0mhttp_response\u001b[0m\u001b[0;34m,\u001b[0m \u001b[0murl\u001b[0m\u001b[0;34m,\u001b[0m \u001b[0mmethod\u001b[0m\u001b[0;34m)\u001b[0m\u001b[0;34m\u001b[0m\u001b[0;34m\u001b[0m\u001b[0m\n\u001b[1;32m    554\u001b[0m             \u001b[0;32mraise\u001b[0m \u001b[0mExchangeError\u001b[0m\u001b[0;34m(\u001b[0m\u001b[0mmethod\u001b[0m \u001b[0;34m+\u001b[0m \u001b[0;34m' '\u001b[0m \u001b[0;34m+\u001b[0m \u001b[0murl\u001b[0m\u001b[0;34m)\u001b[0m\u001b[0;34m\u001b[0m\u001b[0;34m\u001b[0m\u001b[0m\n",
            "\u001b[0;32m/usr/local/lib/python3.6/dist-packages/ccxt/binance.py\u001b[0m in \u001b[0;36mhandle_errors\u001b[0;34m(self, code, reason, url, method, headers, body, response, requestHeaders, requestBody)\u001b[0m\n\u001b[1;32m   1281\u001b[0m                         \u001b[0;32mif\u001b[0m \u001b[0;34m(\u001b[0m\u001b[0merror\u001b[0m \u001b[0;34m==\u001b[0m \u001b[0;34m'-2015'\u001b[0m\u001b[0;34m)\u001b[0m \u001b[0;32mand\u001b[0m \u001b[0mself\u001b[0m\u001b[0;34m.\u001b[0m\u001b[0moptions\u001b[0m\u001b[0;34m[\u001b[0m\u001b[0;34m'hasAlreadyAuthenticatedSuccessfully'\u001b[0m\u001b[0;34m]\u001b[0m\u001b[0;34m:\u001b[0m\u001b[0;34m\u001b[0m\u001b[0;34m\u001b[0m\u001b[0m\n\u001b[1;32m   1282\u001b[0m                             \u001b[0;32mraise\u001b[0m \u001b[0mDDoSProtection\u001b[0m\u001b[0;34m(\u001b[0m\u001b[0mself\u001b[0m\u001b[0;34m.\u001b[0m\u001b[0mid\u001b[0m \u001b[0;34m+\u001b[0m \u001b[0;34m' temporary banned: '\u001b[0m \u001b[0;34m+\u001b[0m \u001b[0mbody\u001b[0m\u001b[0;34m)\u001b[0m\u001b[0;34m\u001b[0m\u001b[0;34m\u001b[0m\u001b[0m\n\u001b[0;32m-> 1283\u001b[0;31m                         \u001b[0;32mraise\u001b[0m \u001b[0mexceptions\u001b[0m\u001b[0;34m[\u001b[0m\u001b[0merror\u001b[0m\u001b[0;34m]\u001b[0m\u001b[0;34m(\u001b[0m\u001b[0mself\u001b[0m\u001b[0;34m.\u001b[0m\u001b[0mid\u001b[0m \u001b[0;34m+\u001b[0m \u001b[0;34m' '\u001b[0m \u001b[0;34m+\u001b[0m \u001b[0mbody\u001b[0m\u001b[0;34m)\u001b[0m\u001b[0;34m\u001b[0m\u001b[0;34m\u001b[0m\u001b[0m\n\u001b[0m\u001b[1;32m   1284\u001b[0m                     \u001b[0;32melse\u001b[0m\u001b[0;34m:\u001b[0m\u001b[0;34m\u001b[0m\u001b[0;34m\u001b[0m\u001b[0m\n\u001b[1;32m   1285\u001b[0m                         \u001b[0;32mraise\u001b[0m \u001b[0mExchangeError\u001b[0m\u001b[0;34m(\u001b[0m\u001b[0mself\u001b[0m\u001b[0;34m.\u001b[0m\u001b[0mid\u001b[0m \u001b[0;34m+\u001b[0m \u001b[0;34m' '\u001b[0m \u001b[0;34m+\u001b[0m \u001b[0mbody\u001b[0m\u001b[0;34m)\u001b[0m\u001b[0;34m\u001b[0m\u001b[0;34m\u001b[0m\u001b[0m\n",
            "\u001b[0;31mInvalidOrder\u001b[0m: binance {\"code\":-1013,\"msg\":\"Invalid quantity.\"}"
          ]
        }
      ]
    },
    {
      "cell_type": "code",
      "metadata": {
        "id": "tw0BSsThwsHV",
        "colab_type": "code",
        "outputId": "4fa7ad51-ae1f-4627-d5e2-35a298bed736",
        "colab": {}
      },
      "source": [
        "live_performance"
      ],
      "execution_count": 0,
      "outputs": [
        {
          "output_type": "execute_result",
          "data": {
            "text/plain": [
              "{}"
            ]
          },
          "metadata": {
            "tags": []
          },
          "execution_count": 21
        }
      ]
    },
    {
      "cell_type": "markdown",
      "metadata": {
        "id": "iH55AobjwsHa",
        "colab_type": "text"
      },
      "source": [
        "_Passing `steps=0` instructs the strategy to run until otherwise stopped._"
      ]
    },
    {
      "cell_type": "code",
      "metadata": {
        "id": "PdL45iQYwsHc",
        "colab_type": "code",
        "colab": {}
      },
      "source": [
        ""
      ],
      "execution_count": 0,
      "outputs": []
    }
  ]
}